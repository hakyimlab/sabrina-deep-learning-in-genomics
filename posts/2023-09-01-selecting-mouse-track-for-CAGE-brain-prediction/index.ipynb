{
 "cells": [
  {
   "cell_type": "markdown",
   "metadata": {},
   "source": [
    "---\n",
    "title: Investigating the various CAGE brain tissue mouse tracks\n",
    "author: Sabrina Mi\n",
    "date: 9/1/2023\n",
    "description: I decided on using the CAGE:hippocampus mouse hippocampus track as a representative of brain tissue, as there is no equivalent CAGE:Brain track in mouse targets.\n",
    "---\n"
   ]
  },
  {
   "cell_type": "code",
   "execution_count": 26,
   "metadata": {},
   "outputs": [],
   "source": [
    "import pandas as pd\n",
    "import numpy as np\n",
    "import h5py"
   ]
  },
  {
   "cell_type": "code",
   "execution_count": 23,
   "metadata": {},
   "outputs": [
    {
     "data": {
      "text/html": [
       "<div>\n",
       "<style scoped>\n",
       "    .dataframe tbody tr th:only-of-type {\n",
       "        vertical-align: middle;\n",
       "    }\n",
       "\n",
       "    .dataframe tbody tr th {\n",
       "        vertical-align: top;\n",
       "    }\n",
       "\n",
       "    .dataframe thead th {\n",
       "        text-align: right;\n",
       "    }\n",
       "</style>\n",
       "<table border=\"1\" class=\"dataframe\">\n",
       "  <thead>\n",
       "    <tr style=\"text-align: right;\">\n",
       "      <th></th>\n",
       "      <th>index</th>\n",
       "      <th>genome</th>\n",
       "      <th>identifier</th>\n",
       "      <th>file</th>\n",
       "      <th>clip</th>\n",
       "      <th>scale</th>\n",
       "      <th>sum_stat</th>\n",
       "      <th>description</th>\n",
       "    </tr>\n",
       "  </thead>\n",
       "  <tbody>\n",
       "    <tr>\n",
       "      <th>1299</th>\n",
       "      <td>6612</td>\n",
       "      <td>1</td>\n",
       "      <td>CNhs10477</td>\n",
       "      <td>/home/drk/tillage/datasets/mouse/cage/fantom/C...</td>\n",
       "      <td>384</td>\n",
       "      <td>1</td>\n",
       "      <td>sum</td>\n",
       "      <td>CAGE:medulla oblongata, adult</td>\n",
       "    </tr>\n",
       "    <tr>\n",
       "      <th>1300</th>\n",
       "      <td>6613</td>\n",
       "      <td>1</td>\n",
       "      <td>CNhs10478</td>\n",
       "      <td>/home/drk/tillage/datasets/mouse/cage/fantom/C...</td>\n",
       "      <td>384</td>\n",
       "      <td>1</td>\n",
       "      <td>sum</td>\n",
       "      <td>CAGE:hippocampus, adult</td>\n",
       "    </tr>\n",
       "    <tr>\n",
       "      <th>1309</th>\n",
       "      <td>6622</td>\n",
       "      <td>1</td>\n",
       "      <td>CNhs10489</td>\n",
       "      <td>/home/drk/tillage/datasets/mouse/cage/fantom/C...</td>\n",
       "      <td>384</td>\n",
       "      <td>1</td>\n",
       "      <td>sum</td>\n",
       "      <td>CAGE:olfactory brain, adult</td>\n",
       "    </tr>\n",
       "    <tr>\n",
       "      <th>1314</th>\n",
       "      <td>6627</td>\n",
       "      <td>1</td>\n",
       "      <td>CNhs10494</td>\n",
       "      <td>/home/drk/tillage/datasets/mouse/cage/fantom/C...</td>\n",
       "      <td>384</td>\n",
       "      <td>1</td>\n",
       "      <td>sum</td>\n",
       "      <td>CAGE:cerebellum, adult</td>\n",
       "    </tr>\n",
       "  </tbody>\n",
       "</table>\n",
       "</div>"
      ],
      "text/plain": [
       "      index  genome identifier  \\\n",
       "1299   6612       1  CNhs10477   \n",
       "1300   6613       1  CNhs10478   \n",
       "1309   6622       1  CNhs10489   \n",
       "1314   6627       1  CNhs10494   \n",
       "\n",
       "                                                   file  clip  scale sum_stat  \\\n",
       "1299  /home/drk/tillage/datasets/mouse/cage/fantom/C...   384      1      sum   \n",
       "1300  /home/drk/tillage/datasets/mouse/cage/fantom/C...   384      1      sum   \n",
       "1309  /home/drk/tillage/datasets/mouse/cage/fantom/C...   384      1      sum   \n",
       "1314  /home/drk/tillage/datasets/mouse/cage/fantom/C...   384      1      sum   \n",
       "\n",
       "                        description  \n",
       "1299  CAGE:medulla oblongata, adult  \n",
       "1300        CAGE:hippocampus, adult  \n",
       "1309    CAGE:olfactory brain, adult  \n",
       "1314         CAGE:cerebellum, adult  "
      ]
     },
     "execution_count": 23,
     "metadata": {},
     "output_type": "execute_result"
    }
   ],
   "source": [
    "## subset to all brain-specific CAGE targets\n",
    "targets = pd.read_csv(\"https://raw.githubusercontent.com/calico/basenji/master/manuscripts/cross2020/targets_mouse.txt\", sep = \"\\t\")\n",
    "CAGE_targets = targets[targets['index'].isin([6612, 6613, 6622, 6627])]\n",
    "track_indices = list(CAGE_targets.index)\n",
    "CAGE_targets.head()"
   ]
  },
  {
   "cell_type": "code",
   "execution_count": 22,
   "metadata": {},
   "outputs": [
    {
     "name": "stderr",
     "output_type": "stream",
     "text": [
      "/tmp/ipykernel_120274/1359220184.py:3: DtypeWarning: Columns (0) have mixed types. Specify dtype option on import or set low_memory=False.\n",
      "  obs_gene_expr = pd.read_csv(gene_expr_bed, sep=\"\\t\", header=0, index_col='gene_id')\n",
      "/tmp/ipykernel_120274/1359220184.py:4: DtypeWarning: Columns (2) have mixed types. Specify dtype option on import or set low_memory=False.\n",
      "  annot_df = pd.read_csv(\"/home/s1mi/enformer_rat_data/annotation/rn7.gene.txt\", sep=\"\\t\", header= 0, index_col='geneId')\n"
     ]
    }
   ],
   "source": [
    "predictions_dir = \"/home/s1mi/Br_predictions/predictions_folder/personalized_Br_selected_genes/predictions_2023-09-01/enformer_predictions\"\n",
    "gene_expr_bed = \"/home/s1mi/enformer_rat_data/expression_data/Brain.rn7.expr.tpm.bed\"\n",
    "obs_gene_expr = pd.read_csv(gene_expr_bed, sep=\"\\t\", header=0, index_col='gene_id')\n",
    "annot_df = pd.read_csv(\"/home/s1mi/enformer_rat_data/annotation/rn7.gene.txt\", sep=\"\\t\", header= 0, index_col='geneId')\n",
    "gene_list = [\"ENSRNOG00000060185\", \"ENSRNOG00000022448\", \"ENSRNOG00000006331\", \"ENSRNOG00000000435\", \"ENSRNOG00000001336\", \"ENSRNOG00000016623\", \"ENSRNOG00000025324\", \"ENSRNOG00000012087\", \"ENSRNOG00000021663\", \"ENSRNOG00000012333\"]\n"
   ]
  },
  {
   "cell_type": "code",
   "execution_count": 4,
   "metadata": {},
   "outputs": [],
   "source": [
    "expr_dict = {}\n",
    "for gene in gene_list:\n",
    "    obs = obs_gene_expr.loc[gene][3:]\n",
    "    expr_dict[gene] = pd.DataFrame({\"observed\": obs})\n",
    "            "
   ]
  },
  {
   "cell_type": "code",
   "execution_count": null,
   "metadata": {},
   "outputs": [],
   "source": [
    "import os\n",
    "for gene in gene_list:\n",
    "    gene_annot = annot_df.loc[gene]\n",
    "    interval = f\"chr{gene_annot['chromosome']}_{gene_annot['tss']}_{gene_annot['tss']}\"\n",
    "    medulla_oblongata = []\n",
    "    hippocampus = []\n",
    "    olfactory_brain = []\n",
    "    cerebellum = []\n",
    "    for individual in expr_dict[gene].index:\n",
    "        haplo0 = h5py.File(f\"{predictions_dir}/{individual}/haplotype0/{interval}_predictions.h5\", \"r\")\n",
    "        predictions = haplo0[\"mouse\"][446:450, track_indices]\n",
    "        medulla_oblongata.append(np.average(predictions[:,0]))\n",
    "        hippocampus.append(np.average(predictions[:,1]))\n",
    "        olfactory_brain.append(np.average(predictions[:,2]))\n",
    "        cerebellum.append(np.average(predictions[:,3]))\n",
    "    expr_dict[gene][\"medulla oblongata\"] = medulla_oblongata\n",
    "    expr_dict[gene][\"hippocampus\"] = hippocampus\n",
    "    expr_dict[gene][\"olfactory brain\"] = olfactory_brain\n",
    "    expr_dict[gene][\"cerebellum\"] = cerebellum"
   ]
  },
  {
   "cell_type": "code",
   "execution_count": 131,
   "metadata": {},
   "outputs": [
    {
     "name": "stdout",
     "output_type": "stream",
     "text": [
      "                   medulla oblongata hippocampus olfactory brain cerebellum\n",
      "ENSRNOG00000060185          0.340841    0.339026        0.340439   0.338799\n",
      "ENSRNOG00000022448          0.176105    0.183011        0.179076   0.176374\n",
      "ENSRNOG00000006331          0.284351    0.326806        0.327064    0.32246\n",
      "ENSRNOG00000000435          0.212012    0.233529        0.171748   0.097784\n",
      "ENSRNOG00000001336          0.550703    0.540987         0.54114   0.551966\n",
      "ENSRNOG00000016623          0.060619    0.170785        0.153715  -0.109455\n",
      "ENSRNOG00000025324         -0.315003   -0.223645       -0.240727  -0.174633\n",
      "ENSRNOG00000012087          0.285358    0.309409        0.312098   0.312001\n",
      "ENSRNOG00000021663         -0.325343   -0.430207       -0.426303  -0.014811\n",
      "ENSRNOG00000012333         -0.081875    0.098419        0.077553   0.038098\n"
     ]
    }
   ],
   "source": [
    "corr_by_gene_and_track = pd.DataFrame(columns = [\"medulla oblongata\", \"hippocampus\", \"olfactory brain\", \"cerebellum\"], index = gene_list)\n",
    "\n",
    "for gene in gene_list:\n",
    "    corr_df = expr_dict[gene].corr()\n",
    "    corr_by_gene_and_track.loc[gene] = pd.to_numeric(corr_df.iloc[0,1:])\n",
    "print(corr_by_gene_and_track)"
   ]
  },
  {
   "cell_type": "markdown",
   "metadata": {},
   "source": [
    "Based off a row-wise look at the table, I've decided to use the CAGE:hippocampus mouse track as a representative of brain tissue."
   ]
  }
 ],
 "metadata": {
  "kernelspec": {
   "display_name": "base",
   "language": "python",
   "name": "base"
  },
  "language_info": {
   "codemirror_mode": {
    "name": "ipython",
    "version": 3
   },
   "file_extension": ".py",
   "mimetype": "text/x-python",
   "name": "python",
   "nbconvert_exporter": "python",
   "pygments_lexer": "ipython3",
   "version": "3.8.13"
  },
  "orig_nbformat": 4
 },
 "nbformat": 4,
 "nbformat_minor": 2
}
