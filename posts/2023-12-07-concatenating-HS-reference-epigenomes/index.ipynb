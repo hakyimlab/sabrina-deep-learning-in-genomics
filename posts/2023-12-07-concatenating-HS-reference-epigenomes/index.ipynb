{
 "cells": [
  {
   "cell_type": "markdown",
   "metadata": {},
   "source": [
    "---\n",
    "title: Concatenating HS Founder Epigenomes\n",
    "author: Sabrina Mi\n",
    "date: 12/6/2023\n",
    "---\n",
    "\n",
    "## Initialize Gene-Interval Mapping"
   ]
  },
  {
   "cell_type": "code",
   "execution_count": 1,
   "metadata": {},
   "outputs": [],
   "source": [
    "import pandas as pd\n",
    "import numpy as np\n",
    "import h5py\n",
    "import os"
   ]
  },
  {
   "cell_type": "code",
   "execution_count": 2,
   "metadata": {},
   "outputs": [],
   "source": [
    "\n",
    "with open(\"/home/s1mi/Github/deep-learning-in-genomics/posts/2023-11-07-HS-founder-epigenomes/Br_expressed_genes.txt\", \"r\") as f:\n",
    "    gene_list = f.read().splitlines()\n",
    "with open(\"/home/s1mi/Github/deep-learning-in-genomics/posts/2023-11-07-HS-founder-epigenomes/metadata/intervals.txt\", \"r\") as f:\n",
    "    intervals = f.read().splitlines()\n",
    "mapping = pd.DataFrame({\"gene\": gene_list, \"interval\": intervals})\n",
    "mapping['chromosome'] = mapping['interval'].str.split('_').str[0].str[3:]\n"
   ]
  },
  {
   "cell_type": "markdown",
   "metadata": {},
   "source": [
    "## Concatenate by Chromosome"
   ]
  },
  {
   "cell_type": "code",
   "execution_count": 3,
   "metadata": {},
   "outputs": [],
   "source": [
    "predictions_dir = \"/eagle/AIHPC4Edu/sabrina/Br_predictions/predictions_folder/HS_founders_genome_wide/predictions_2023-11-27/enformer_predictions\"\n",
    "output_dir = \"/eagle/AIHPC4Edu/sabrina/Br_predictions/HS_founder_epigenomes\"\n",
    "gene_dict = mapping.groupby('chromosome')['gene'].apply(list).to_dict()\n",
    "founders = ['ACI', 'BN', 'BUF', 'F344', 'M520', 'MR', 'WKY', 'WN']"
   ]
  },
  {
   "cell_type": "code",
   "execution_count": 4,
   "metadata": {},
   "outputs": [],
   "source": [
    "def concatenate_predictions(N, completed_genes):\n",
    "    for gene in gene_dict[N]: \n",
    "        if gene in completed_genes:\n",
    "            continue  \n",
    "        interval = mapping[mapping[\"gene\"] == gene]['interval'].item()\n",
    "        predictions = {\"human\": [], \"mouse\": []}\n",
    "        for individual in founders:\n",
    "            input_path = os.path.join(predictions_dir, individual, \"haplotype0\",f'{interval}_predictions.h5')\n",
    "            with h5py.File(input_path, \"r\") as input:\n",
    "                predictions[\"human\"].append(input[\"human\"][:])\n",
    "                predictions[\"mouse\"].append(input[\"mouse\"][:])       \n",
    "        with h5py.File(os.path.join(output_dir, \"human\", f\"chr{N}_genes.h5\"), \"a\") as output:\n",
    "            output[gene] = np.array(predictions[\"human\"])\n",
    "        with h5py.File(os.path.join(output_dir, \"mouse\", f\"chr{N}_genes.h5\"), \"a\") as output:\n",
    "            output[gene] = np.array(predictions[\"mouse\"])\n",
    "        completed_genes.append(gene)"
   ]
  },
  {
   "cell_type": "markdown",
   "metadata": {},
   "source": [
    "Writing to a single file case."
   ]
  },
  {
   "cell_type": "code",
   "execution_count": 4,
   "metadata": {},
   "outputs": [],
   "source": [
    "def concatenate_model(N, model):\n",
    "    with h5py.File(os.path.join(output_dir, model, f\"chr{N}_genes.h5\"), \"a\") as output:  \n",
    "        for gene in gene_dict[N]: \n",
    "            if gene in output.keys():\n",
    "                continue  \n",
    "            interval = mapping[mapping[\"gene\"] == gene]['interval'].item()\n",
    "            predictions = []\n",
    "            for individual in founders:\n",
    "                input_path = os.path.join(predictions_dir, individual, \"haplotype0\",f'{interval}_predictions.h5')\n",
    "                with h5py.File(input_path, \"r\") as input:\n",
    "                    predictions.append(input[model][:])\n",
    "            output[gene] = np.array(predictions)    \n"
   ]
  },
  {
   "cell_type": "code",
   "execution_count": 6,
   "metadata": {},
   "outputs": [],
   "source": [
    "with h5py.File(os.path.join(output_dir, \"human\", f\"chr20_genes.h5\"), \"r\") as output:  \n",
    "    completed_genes = list(output.keys())"
   ]
  },
  {
   "cell_type": "code",
   "execution_count": 8,
   "metadata": {},
   "outputs": [
    {
     "name": "stdout",
     "output_type": "stream",
     "text": [
      "chromosome 1\n",
      "chromosome 2\n",
      "chromosome 3\n",
      "chromosome 4\n",
      "chromosome 5\n",
      "chromosome 6\n",
      "chromosome 7\n",
      "chromosome 8\n",
      "chromosome 9\n",
      "chromosome 10\n",
      "chromosome 11\n",
      "chromosome 12\n",
      "chromosome 13\n",
      "chromosome 14\n",
      "chromosome 15\n",
      "chromosome 16\n",
      "chromosome 17\n",
      "chromosome 18\n",
      "chromosome 19\n",
      "chromosome 20\n"
     ]
    }
   ],
   "source": [
    "for N in range(1,21):\n",
    "    print(\"chromosome\", N)\n",
    "    concatenate_model(str(N), \"mouse\")"
   ]
  }
 ],
 "metadata": {
  "kernelspec": {
   "display_name": "base",
   "language": "python",
   "name": "base"
  },
  "language_info": {
   "codemirror_mode": {
    "name": "ipython",
    "version": 3
   },
   "file_extension": ".py",
   "mimetype": "text/x-python",
   "name": "python",
   "nbconvert_exporter": "python",
   "pygments_lexer": "ipython3",
   "version": "3.8.13"
  }
 },
 "nbformat": 4,
 "nbformat_minor": 2
}
