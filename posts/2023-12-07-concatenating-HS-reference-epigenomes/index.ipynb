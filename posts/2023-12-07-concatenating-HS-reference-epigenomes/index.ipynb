{
 "cells": [
  {
   "cell_type": "markdown",
   "metadata": {},
   "source": [
    "---\n",
    "title: Concatenating HS Founder Epigenomes\n",
    "author: Sabrina Mi\n",
    "date: 12/6/2023\n",
    "---\n",
    "\n",
    "## Initialize Gene-Interval Mapping"
   ]
  },
  {
   "cell_type": "code",
   "execution_count": 11,
   "metadata": {},
   "outputs": [],
   "source": [
    "import pandas as pd\n",
    "import numpy as np\n",
    "import h5py\n",
    "import os"
   ]
  },
  {
   "cell_type": "code",
   "execution_count": 12,
   "metadata": {},
   "outputs": [],
   "source": [
    "\n",
    "with open(\"/home/s1mi/Github/deep-learning-in-genomics/posts/2023-11-07-HS-founder-epigenomes/Br_expressed_genes.txt\", \"r\") as f:\n",
    "    gene_list = f.read().splitlines()\n",
    "with open(\"/home/s1mi/Github/deep-learning-in-genomics/posts/2023-11-07-HS-founder-epigenomes/metadata/intervals.txt\", \"r\") as f:\n",
    "    intervals = f.read().splitlines()\n",
    "mapping = pd.DataFrame({\"gene\": gene_list, \"interval\": intervals})\n",
    "mapping['chromosome'] = mapping['interval'].str.split('_').str[0].str[3:]\n"
   ]
  },
  {
   "cell_type": "markdown",
   "metadata": {},
   "source": [
    "## Concatenate by Chromosome"
   ]
  },
  {
   "cell_type": "code",
   "execution_count": 13,
   "metadata": {},
   "outputs": [],
   "source": [
    "predictions_dir = \"/eagle/AIHPC4Edu/sabrina/Br_predictions/predictions_folder/HS_founders_genome_wide/predictions_2023-11-27/enformer_predictions\"\n",
    "output_dir = \"/eagle/AIHPC4Edu/sabrina/Br_predictions/HS_founder_epigenomes\"\n",
    "gene_dict = mapping.groupby('chromosome')['gene'].apply(list).to_dict()\n",
    "founders = ['ACI', 'BN', 'BUF', 'F344', 'M520', 'MR', 'WKY', 'WN']"
   ]
  },
  {
   "cell_type": "code",
   "execution_count": 14,
   "metadata": {},
   "outputs": [],
   "source": [
    "def concatenate_predictions(N, completed_genes):\n",
    "    for gene in gene_dict[N]: \n",
    "        if gene in completed_genes:\n",
    "            continue  \n",
    "        interval = mapping[mapping[\"gene\"] == gene]['interval'].item()\n",
    "        predictions = {\"human\": [], \"mouse\": []}\n",
    "        for individual in founders:\n",
    "            input_path = os.path.join(predictions_dir, individual, \"haplotype0\",f'{interval}_predictions.h5')\n",
    "            with h5py.File(input_path, \"r\") as input:\n",
    "                predictions[\"human\"].append(input[\"human\"][:])\n",
    "                predictions[\"mouse\"].append(input[\"mouse\"][:])       \n",
    "        with h5py.File(os.path.join(output_dir, \"human\", f\"chr{N}_genes.h5\"), \"a\") as output:\n",
    "            output[gene] = np.array(predictions[\"human\"])\n",
    "        with h5py.File(os.path.join(output_dir, \"mouse\", f\"chr{N}_genes.h5\"), \"a\") as output:\n",
    "            output[gene] = np.array(predictions[\"mouse\"])\n",
    "        completed_genes.append(gene)"
   ]
  },
  {
   "cell_type": "markdown",
   "metadata": {},
   "source": [
    "Writing to a single file case."
   ]
  },
  {
   "cell_type": "code",
   "execution_count": 5,
   "metadata": {},
   "outputs": [],
   "source": [
    "def concatenate_model(N, model):\n",
    "    with h5py.File(os.path.join(output_dir, model, f\"chr{N}_genes.h5\"), \"a\") as output:  \n",
    "        for gene in gene_dict[N]: \n",
    "            if gene in output.keys():\n",
    "                continue  \n",
    "            interval = mapping[mapping[\"gene\"] == gene]['interval'].item()\n",
    "            predictions = []\n",
    "            for individual in founders:\n",
    "                input_path = os.path.join(predictions_dir, individual, \"haplotype0\",f'{interval}_predictions.h5')\n",
    "                with h5py.File(input_path, \"r\") as input:\n",
    "                    predictions.append(input[model][:])\n",
    "            output[gene] = np.array(predictions)    \n"
   ]
  },
  {
   "cell_type": "code",
   "execution_count": 19,
   "metadata": {},
   "outputs": [],
   "source": [
    "with h5py.File(os.path.join(output_dir, \"human\", f\"chr5_genes.h5\"), \"r\") as output:  \n",
    "    completed_genes = output.keys()"
   ]
  },
  {
   "cell_type": "code",
   "execution_count": 21,
   "metadata": {},
   "outputs": [
    {
     "name": "stdout",
     "output_type": "stream",
     "text": [
      "Chromosome 5\n"
     ]
    },
    {
     "name": "stdout",
     "output_type": "stream",
     "text": [
      "Chromosome 6\n"
     ]
    },
    {
     "ename": "KeyboardInterrupt",
     "evalue": "",
     "output_type": "error",
     "traceback": [
      "\u001b[0;31m---------------------------------------------------------------------------\u001b[0m",
      "\u001b[0;31mKeyboardInterrupt\u001b[0m                         Traceback (most recent call last)",
      "\u001b[1;32m/home/s1mi/Github/deep-learning-in-genomics/posts/2023-12-07-concatenating-HS-reference-epigenomes/index.ipynb Cell 10\u001b[0m line \u001b[0;36m3\n\u001b[1;32m      <a href='vscode-notebook-cell://ssh-remote%2Bpolaris/home/s1mi/Github/deep-learning-in-genomics/posts/2023-12-07-concatenating-HS-reference-epigenomes/index.ipynb#X13sdnNjb2RlLXJlbW90ZQ%3D%3D?line=0'>1</a>\u001b[0m \u001b[39mfor\u001b[39;00m N \u001b[39min\u001b[39;00m \u001b[39mrange\u001b[39m(\u001b[39m5\u001b[39m,\u001b[39m21\u001b[39m):\n\u001b[1;32m      <a href='vscode-notebook-cell://ssh-remote%2Bpolaris/home/s1mi/Github/deep-learning-in-genomics/posts/2023-12-07-concatenating-HS-reference-epigenomes/index.ipynb#X13sdnNjb2RlLXJlbW90ZQ%3D%3D?line=1'>2</a>\u001b[0m     \u001b[39mprint\u001b[39m(\u001b[39m\"\u001b[39m\u001b[39mChromosome\u001b[39m\u001b[39m\"\u001b[39m, N)\n\u001b[0;32m----> <a href='vscode-notebook-cell://ssh-remote%2Bpolaris/home/s1mi/Github/deep-learning-in-genomics/posts/2023-12-07-concatenating-HS-reference-epigenomes/index.ipynb#X13sdnNjb2RlLXJlbW90ZQ%3D%3D?line=2'>3</a>\u001b[0m     concatenate_model(\u001b[39mstr\u001b[39;49m(N), \u001b[39m\"\u001b[39;49m\u001b[39mhuman\u001b[39;49m\u001b[39m\"\u001b[39;49m)\n",
      "\u001b[1;32m/home/s1mi/Github/deep-learning-in-genomics/posts/2023-12-07-concatenating-HS-reference-epigenomes/index.ipynb Cell 10\u001b[0m line \u001b[0;36m1\n\u001b[1;32m      <a href='vscode-notebook-cell://ssh-remote%2Bpolaris/home/s1mi/Github/deep-learning-in-genomics/posts/2023-12-07-concatenating-HS-reference-epigenomes/index.ipynb#X13sdnNjb2RlLXJlbW90ZQ%3D%3D?line=8'>9</a>\u001b[0m     input_path \u001b[39m=\u001b[39m os\u001b[39m.\u001b[39mpath\u001b[39m.\u001b[39mjoin(predictions_dir, individual, \u001b[39m\"\u001b[39m\u001b[39mhaplotype0\u001b[39m\u001b[39m\"\u001b[39m,\u001b[39mf\u001b[39m\u001b[39m'\u001b[39m\u001b[39m{\u001b[39;00minterval\u001b[39m}\u001b[39;00m\u001b[39m_predictions.h5\u001b[39m\u001b[39m'\u001b[39m)\n\u001b[1;32m     <a href='vscode-notebook-cell://ssh-remote%2Bpolaris/home/s1mi/Github/deep-learning-in-genomics/posts/2023-12-07-concatenating-HS-reference-epigenomes/index.ipynb#X13sdnNjb2RlLXJlbW90ZQ%3D%3D?line=9'>10</a>\u001b[0m     \u001b[39mwith\u001b[39;00m h5py\u001b[39m.\u001b[39mFile(input_path, \u001b[39m\"\u001b[39m\u001b[39mr\u001b[39m\u001b[39m\"\u001b[39m) \u001b[39mas\u001b[39;00m \u001b[39minput\u001b[39m:\n\u001b[0;32m---> <a href='vscode-notebook-cell://ssh-remote%2Bpolaris/home/s1mi/Github/deep-learning-in-genomics/posts/2023-12-07-concatenating-HS-reference-epigenomes/index.ipynb#X13sdnNjb2RlLXJlbW90ZQ%3D%3D?line=10'>11</a>\u001b[0m         predictions\u001b[39m.\u001b[39mappend(\u001b[39minput\u001b[39;49m[model][:])\n\u001b[1;32m     <a href='vscode-notebook-cell://ssh-remote%2Bpolaris/home/s1mi/Github/deep-learning-in-genomics/posts/2023-12-07-concatenating-HS-reference-epigenomes/index.ipynb#X13sdnNjb2RlLXJlbW90ZQ%3D%3D?line=11'>12</a>\u001b[0m output[gene] \u001b[39m=\u001b[39m np\u001b[39m.\u001b[39marray(predictions)\n",
      "File \u001b[0;32mh5py/_objects.pyx:54\u001b[0m, in \u001b[0;36mh5py._objects.with_phil.wrapper\u001b[0;34m()\u001b[0m\n",
      "File \u001b[0;32mh5py/_objects.pyx:55\u001b[0m, in \u001b[0;36mh5py._objects.with_phil.wrapper\u001b[0;34m()\u001b[0m\n",
      "File \u001b[0;32m/soft/datascience/conda/2022-09-08/mconda3/lib/python3.8/site-packages/h5py/_hl/dataset.py:741\u001b[0m, in \u001b[0;36mDataset.__getitem__\u001b[0;34m(self, args, new_dtype)\u001b[0m\n\u001b[1;32m    739\u001b[0m \u001b[39mif\u001b[39;00m \u001b[39mself\u001b[39m\u001b[39m.\u001b[39m_fast_read_ok \u001b[39mand\u001b[39;00m (new_dtype \u001b[39mis\u001b[39;00m \u001b[39mNone\u001b[39;00m):\n\u001b[1;32m    740\u001b[0m     \u001b[39mtry\u001b[39;00m:\n\u001b[0;32m--> 741\u001b[0m         \u001b[39mreturn\u001b[39;00m \u001b[39mself\u001b[39;49m\u001b[39m.\u001b[39;49m_fast_reader\u001b[39m.\u001b[39;49mread(args)\n\u001b[1;32m    742\u001b[0m     \u001b[39mexcept\u001b[39;00m \u001b[39mTypeError\u001b[39;00m:\n\u001b[1;32m    743\u001b[0m         \u001b[39mpass\u001b[39;00m  \u001b[39m# Fall back to Python read pathway below\u001b[39;00m\n",
      "\u001b[0;31mKeyboardInterrupt\u001b[0m: "
     ]
    }
   ],
   "source": [
    "for N in range(5,21):\n",
    "    print(\"Chromosome\", N)\n",
    "    concatenate_model(str(N), \"human\")"
   ]
  },
  {
   "cell_type": "code",
   "execution_count": 17,
   "metadata": {},
   "outputs": [
    {
     "name": "stdout",
     "output_type": "stream",
     "text": [
      "Gene: ENSRNOG00000007189\n"
     ]
    },
    {
     "name": "stdout",
     "output_type": "stream",
     "text": [
      "Gene: ENSRNOG00000010162\n",
      "Gene: ENSRNOG00000010169\n"
     ]
    },
    {
     "ename": "KeyboardInterrupt",
     "evalue": "",
     "output_type": "error",
     "traceback": [
      "\u001b[0;31m---------------------------------------------------------------------------\u001b[0m",
      "\u001b[0;31mKeyboardInterrupt\u001b[0m                         Traceback (most recent call last)",
      "\u001b[1;32m/home/s1mi/Github/deep-learning-in-genomics/posts/2023-12-07-concatenating-HS-reference-epigenomes/index.ipynb Cell 11\u001b[0m line \u001b[0;36m1\n\u001b[1;32m     <a href='vscode-notebook-cell://ssh-remote%2Bpolaris/home/s1mi/Github/deep-learning-in-genomics/posts/2023-12-07-concatenating-HS-reference-epigenomes/index.ipynb#X15sdnNjb2RlLXJlbW90ZQ%3D%3D?line=9'>10</a>\u001b[0m \u001b[39m# tic = time.perf_counter()\u001b[39;00m\n\u001b[1;32m     <a href='vscode-notebook-cell://ssh-remote%2Bpolaris/home/s1mi/Github/deep-learning-in-genomics/posts/2023-12-07-concatenating-HS-reference-epigenomes/index.ipynb#X15sdnNjb2RlLXJlbW90ZQ%3D%3D?line=10'>11</a>\u001b[0m \u001b[39mwith\u001b[39;00m h5py\u001b[39m.\u001b[39mFile(input_path, \u001b[39m\"\u001b[39m\u001b[39mr\u001b[39m\u001b[39m\"\u001b[39m) \u001b[39mas\u001b[39;00m \u001b[39minput\u001b[39m:\n\u001b[0;32m---> <a href='vscode-notebook-cell://ssh-remote%2Bpolaris/home/s1mi/Github/deep-learning-in-genomics/posts/2023-12-07-concatenating-HS-reference-epigenomes/index.ipynb#X15sdnNjb2RlLXJlbW90ZQ%3D%3D?line=11'>12</a>\u001b[0m     predictions\u001b[39m.\u001b[39mappend(\u001b[39minput\u001b[39;49m[\u001b[39m\"\u001b[39;49m\u001b[39mhuman\u001b[39;49m\u001b[39m\"\u001b[39;49m][:])\n",
      "File \u001b[0;32mh5py/_objects.pyx:54\u001b[0m, in \u001b[0;36mh5py._objects.with_phil.wrapper\u001b[0;34m()\u001b[0m\n",
      "File \u001b[0;32mh5py/_objects.pyx:55\u001b[0m, in \u001b[0;36mh5py._objects.with_phil.wrapper\u001b[0;34m()\u001b[0m\n",
      "File \u001b[0;32m/soft/datascience/conda/2022-09-08/mconda3/lib/python3.8/site-packages/h5py/_hl/dataset.py:741\u001b[0m, in \u001b[0;36mDataset.__getitem__\u001b[0;34m(self, args, new_dtype)\u001b[0m\n\u001b[1;32m    739\u001b[0m \u001b[39mif\u001b[39;00m \u001b[39mself\u001b[39m\u001b[39m.\u001b[39m_fast_read_ok \u001b[39mand\u001b[39;00m (new_dtype \u001b[39mis\u001b[39;00m \u001b[39mNone\u001b[39;00m):\n\u001b[1;32m    740\u001b[0m     \u001b[39mtry\u001b[39;00m:\n\u001b[0;32m--> 741\u001b[0m         \u001b[39mreturn\u001b[39;00m \u001b[39mself\u001b[39;49m\u001b[39m.\u001b[39;49m_fast_reader\u001b[39m.\u001b[39;49mread(args)\n\u001b[1;32m    742\u001b[0m     \u001b[39mexcept\u001b[39;00m \u001b[39mTypeError\u001b[39;00m:\n\u001b[1;32m    743\u001b[0m         \u001b[39mpass\u001b[39;00m  \u001b[39m# Fall back to Python read pathway below\u001b[39;00m\n",
      "\u001b[0;31mKeyboardInterrupt\u001b[0m: "
     ]
    }
   ],
   "source": [
    "N=\"5\" \n",
    "for gene in gene_dict[N]: \n",
    "    if gene in output.keys():\n",
    "        continue  \n",
    "    interval = mapping[mapping[\"gene\"] == gene]['interval'].item()\n",
    "    predictions = []\n",
    "    print(\"Gene:\", gene)\n",
    "    for individual in founders:\n",
    "        input_path = os.path.join(predictions_dir, individual, \"haplotype0\",f'{interval}_predictions.h5')\n",
    "        # tic = time.perf_counter()\n",
    "        with h5py.File(input_path, \"r\") as input:\n",
    "            predictions.append(input[\"human\"][:])\n",
    "            # toc = time.perf_counter()\n",
    "        # print(individual, \"...\",toc - tic, \"seconds\")\n",
    "    # output[gene] = np.array(predictions)    "
   ]
  }
 ],
 "metadata": {
  "kernelspec": {
   "display_name": "base",
   "language": "python",
   "name": "base"
  },
  "language_info": {
   "codemirror_mode": {
    "name": "ipython",
    "version": 3
   },
   "file_extension": ".py",
   "mimetype": "text/x-python",
   "name": "python",
   "nbconvert_exporter": "python",
   "pygments_lexer": "ipython3",
   "version": "3.8.13"
  }
 },
 "nbformat": 4,
 "nbformat_minor": 2
}
