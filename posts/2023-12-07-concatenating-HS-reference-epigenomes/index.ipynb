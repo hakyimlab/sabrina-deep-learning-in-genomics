{
 "cells": [
  {
   "cell_type": "markdown",
   "metadata": {},
   "source": [
    "---\n",
    "title: Concatenating HS Founder Epigenomes\n",
    "author: Sabrina Mi\n",
    "date: 12/6/2023\n",
    "---\n",
    "\n",
    "## Initialize Gene-Interval Mapping"
   ]
  },
  {
   "cell_type": "code",
   "execution_count": 25,
   "metadata": {},
   "outputs": [],
   "source": [
    "import pandas as pd\n",
    "import h5py\n",
    "import os"
   ]
  },
  {
   "cell_type": "code",
   "execution_count": 40,
   "metadata": {},
   "outputs": [],
   "source": [
    "\n",
    "with open(\"/home/s1mi/Github/deep-learning-in-genomics/posts/2023-11-07-HS-founder-epigenomes/Br_expressed_genes.txt\", \"r\") as f:\n",
    "    gene_list = f.read().splitlines()\n",
    "with open(\"/home/s1mi/Github/deep-learning-in-genomics/posts/2023-11-07-HS-founder-epigenomes/metadata/intervals.txt\", \"r\") as f:\n",
    "    intervals = f.read().splitlines()\n",
    "mapping = pd.DataFrame({\"gene\": gene_list, \"interval\": intervals})\n",
    "mapping['chromosome'] = mapping['interval'].str.split('_').str[0].str[3:]\n"
   ]
  },
  {
   "cell_type": "markdown",
   "metadata": {},
   "source": [
    "## Concatenate by Chromosome"
   ]
  },
  {
   "cell_type": "code",
   "execution_count": 60,
   "metadata": {},
   "outputs": [],
   "source": [
    "predictions_dir = \"/eagle/AIHPC4Edu/sabrina/Br_predictions/predictions_folder/HS_founders_genome_wide/predictions_2023-11-27/enformer_predictions\"\n",
    "output_dir = \"/eagle/AIHPC4Edu/sabrina/Br_predictions/HS_founder_epigenomes\"\n",
    "gene_dict = mapping.groupby('chromosome')['gene'].apply(list).to_dict()\n",
    "founders = os.listdir(predictions_dir)"
   ]
  },
  {
   "cell_type": "code",
   "execution_count": 100,
   "metadata": {},
   "outputs": [],
   "source": [
    "for N in gene_dict.keys():\n",
    "    output_path = os.path.join(output_dir, \"human\", f\"chr{N}_genes.h5\")\n",
    "    with h5py.File(output_path, \"w\"):\n",
    "        pass\n",
    "    output_path = os.path.join(output_dir, \"mouse\", f\"chr{N}_genes.h5\")\n",
    "    with h5py.File(output_path, \"w\"):\n",
    "        pass\n"
   ]
  },
  {
   "cell_type": "code",
   "execution_count": 111,
   "metadata": {},
   "outputs": [],
   "source": [
    "def concatenate_predictions(N, completed):\n",
    "    for gene in gene_dict[N]:\n",
    "        if gene in completed:\n",
    "            continue\n",
    "        interval = mapping[mapping[\"gene\"] == gene]['interval'].item()\n",
    "        for individual in founders:\n",
    "            input_path = os.path.join(predictions_dir, individual, \"haplotype0\",f'{interval}_predictions.h5')\n",
    "            with h5py.File(input_path, \"r\") as input:\n",
    "                for model in input.keys():\n",
    "                    output_path = os.path.join(output_dir, model, f\"chr{N}_genes.h5\")\n",
    "                    with h5py.File(output_path, \"a\") as output:\n",
    "                        if gene not in output:\n",
    "                            gene_group = output.create_group(gene)\n",
    "                        else:\n",
    "                            gene_group = output[gene]\n",
    "                        if individual not in gene_group:\n",
    "                            gene_group.create_dataset(individual, data=input[model][:])\n",
    "        completed.append(gene)\n",
    "\n",
    "\n",
    "            "
   ]
  },
  {
   "cell_type": "code",
   "execution_count": 110,
   "metadata": {},
   "outputs": [
    {
     "name": "stdout",
     "output_type": "stream",
     "text": [
      "ENSRNOG00000026051 <HDF5 group \"/ENSRNOG00000026051\" (2 members)>\n",
      "ENSRNOG00000031607 <HDF5 group \"/ENSRNOG00000031607\" (8 members)>\n",
      "ENSRNOG00000026051 <HDF5 group \"/ENSRNOG00000026051\" (2 members)>\n",
      "ENSRNOG00000031607 <HDF5 group \"/ENSRNOG00000031607\" (8 members)>\n"
     ]
    }
   ],
   "source": [
    "output_path = os.path.join(output_dir, \"human\", f\"chr20_genes.h5\")\n",
    "with h5py.File(output_path, \"r\") as hf:\n",
    "    for key, value in hf.items():\n",
    "        print(key, value)\n",
    "output_path = os.path.join(output_dir, \"mouse\", f\"chr20_genes.h5\")\n",
    "with h5py.File(output_path, \"r\") as hf:\n",
    "    for key, value in hf.items():\n",
    "        print(key, value)"
   ]
  },
  {
   "cell_type": "code",
   "execution_count": 112,
   "metadata": {},
   "outputs": [],
   "source": [
    "completed_genes = []\n",
    "concatenate_predictions(\"20\", completed_genes)"
   ]
  }
 ],
 "metadata": {
  "kernelspec": {
   "display_name": "base",
   "language": "python",
   "name": "base"
  },
  "language_info": {
   "codemirror_mode": {
    "name": "ipython",
    "version": 3
   },
   "file_extension": ".py",
   "mimetype": "text/x-python",
   "name": "python",
   "nbconvert_exporter": "python",
   "pygments_lexer": "ipython3",
   "version": "3.8.13"
  }
 },
 "nbformat": 4,
 "nbformat_minor": 2
}
