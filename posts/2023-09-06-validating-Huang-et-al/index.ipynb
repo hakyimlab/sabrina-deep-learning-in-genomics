{
 "cells": [
  {
   "cell_type": "markdown",
   "metadata": {},
   "source": [
    "---\n",
    "title: Validating reference gene expression prediction\n",
    "author: Sabrina Mi\n",
    "date: 9/6/2023\n",
    "---\n",
    "\n",
    "We are trying to replicate the Enformer result's in [Personal transcriptome variation is poorly explained by current genomic deep learning models, Huang et al](https://www.biorxiv.org/content/10.1101/2023.06.30.547100v1). They reported a 0.57 correlation in reference prediction across all genes. They used median GEUVADIS LCL gene expression data for their comparison and quantified predicted gene expression using the average of 10 bin window around each gene's TSS on the CAGE:B lymphoblastoid cell line track. I performed a similar analysis of Enformer performance along the reference genome, but instead I used a 3 bin window around the TSS and the CAGE:Brain, adult track to compare to observed GTEx brain cortex gene expression. I found 0.54 between predicted and observed reference gene expression. \n",
    "\n",
    "### Libraries and Definitions"
   ]
  },
  {
   "cell_type": "code",
   "execution_count": 26,
   "metadata": {},
   "outputs": [],
   "source": [
    "import h5py\n",
    "import pandas as pd\n",
    "import numpy as np\n",
    "import matplotlib.pyplot as plt\n",
    "import scipy.stats\n",
    "\n",
    "enfref_dir = \"/grand/TFXcan/imlab/users/lvairus/reftile_project/enformer-reference-epigenome\"\n",
    "\n",
    "def query_epigenome(chr_num, center_bp, n_bins=3, tracks=-1):\n",
    "    \"\"\"\n",
    "    Parameters:\n",
    "        path_to_enfref (str): path to the directory containing the concatenated reference enformer files\n",
    "        chr_num (int/string): chromosome number\n",
    "        center_bp (int): center base pair position (1-indexed)\n",
    "        n_bins (int): number of bins to extract centered around center_bp (default: 896) \n",
    "            note: if the number of bins is even, the center bin will be in the second half of the array\n",
    "        tracks (int list): list of tracks to extract (default: all 5313 tracks)\n",
    "\n",
    "    Returns:\n",
    "        epigen (np.array): enformer predictions centered at center_bp of shape (n_bins, len(tracks))\n",
    "    \"\"\"\n",
    "\n",
    "    # from position choose center bin\n",
    "    center_bin = center_bp // 128\n",
    "    \n",
    "    half_bins = n_bins // 2\n",
    "    start_bin = center_bin - half_bins\n",
    "    end_bin = center_bin + half_bins\n",
    "    if n_bins % 2 != 0: # if n_bins is odd\n",
    "        end_bin += 1\n",
    "\n",
    "    with h5py.File(f\"{enfref_dir}/chr{chr_num}_cat.h5\", \"r\") as f:\n",
    "        # get tracks if list provided\n",
    "        if tracks == -1:\n",
    "            epigen = f[f'chr{chr_num}'][start_bin:end_bin, :] \n",
    "        else:\n",
    "            epigen = f[f'chr{chr_num}'][start_bin:end_bin, tracks] \n",
    "\n",
    "    return epigen"
   ]
  },
  {
   "cell_type": "markdown",
   "metadata": {},
   "source": [
    "### Query Enformer predicted gene expression"
   ]
  },
  {
   "cell_type": "code",
   "execution_count": null,
   "metadata": {},
   "outputs": [],
   "source": [
    "## Function to put CAGE predictions in list (in the same order as gene list by chromosome)\n",
    "for chr in chr_list:\n",
    "    gene_list = gene_dict[chr]\n",
    "    for gene in gene_list:\n",
    "        bins = query_epigenome(chr, hg38_annot.loc[gene]['transcription_start_site'], num_bins=10, tracks=[5110])\n",
    "        CAGE_predictions[chr].append(np.average(bins))"
   ]
  },
  {
   "cell_type": "markdown",
   "metadata": {},
   "source": [
    "### Calculate GEUVADIS reference gene expression"
   ]
  },
  {
   "cell_type": "code",
   "execution_count": 80,
   "metadata": {},
   "outputs": [
    {
     "data": {
      "text/html": [
       "<div>\n",
       "<style scoped>\n",
       "    .dataframe tbody tr th:only-of-type {\n",
       "        vertical-align: middle;\n",
       "    }\n",
       "\n",
       "    .dataframe tbody tr th {\n",
       "        vertical-align: top;\n",
       "    }\n",
       "\n",
       "    .dataframe thead th {\n",
       "        text-align: right;\n",
       "    }\n",
       "</style>\n",
       "<table border=\"1\" class=\"dataframe\">\n",
       "  <thead>\n",
       "    <tr style=\"text-align: right;\">\n",
       "      <th></th>\n",
       "      <th>TargetID</th>\n",
       "      <th>Gene_Symbol</th>\n",
       "      <th>Chr</th>\n",
       "      <th>Coord</th>\n",
       "      <th>HG00096</th>\n",
       "      <th>HG00097</th>\n",
       "      <th>HG00099</th>\n",
       "      <th>HG00100</th>\n",
       "      <th>HG00101</th>\n",
       "      <th>HG00102</th>\n",
       "      <th>...</th>\n",
       "      <th>NA20810</th>\n",
       "      <th>NA20811</th>\n",
       "      <th>NA20812</th>\n",
       "      <th>NA20813</th>\n",
       "      <th>NA20814</th>\n",
       "      <th>NA20815</th>\n",
       "      <th>NA20816</th>\n",
       "      <th>NA20819</th>\n",
       "      <th>NA20826</th>\n",
       "      <th>NA20828</th>\n",
       "    </tr>\n",
       "  </thead>\n",
       "  <tbody>\n",
       "    <tr>\n",
       "      <th>0</th>\n",
       "      <td>ENSG00000152931.6</td>\n",
       "      <td>ENSG00000152931.6</td>\n",
       "      <td>5</td>\n",
       "      <td>59783540</td>\n",
       "      <td>0.101858</td>\n",
       "      <td>0.078110</td>\n",
       "      <td>0.048981</td>\n",
       "      <td>0.118597</td>\n",
       "      <td>0.004035</td>\n",
       "      <td>0.010925</td>\n",
       "      <td>...</td>\n",
       "      <td>0.088601</td>\n",
       "      <td>0.240010</td>\n",
       "      <td>0.137175</td>\n",
       "      <td>0.148494</td>\n",
       "      <td>0.038643</td>\n",
       "      <td>0.088509</td>\n",
       "      <td>0.029204</td>\n",
       "      <td>0.024423</td>\n",
       "      <td>0.044816</td>\n",
       "      <td>0.139186</td>\n",
       "    </tr>\n",
       "    <tr>\n",
       "      <th>1</th>\n",
       "      <td>ENSG00000183696.9</td>\n",
       "      <td>ENSG00000183696.9</td>\n",
       "      <td>7</td>\n",
       "      <td>48128225</td>\n",
       "      <td>8.183805</td>\n",
       "      <td>5.686911</td>\n",
       "      <td>2.434653</td>\n",
       "      <td>3.830894</td>\n",
       "      <td>6.612288</td>\n",
       "      <td>4.709646</td>\n",
       "      <td>...</td>\n",
       "      <td>13.428205</td>\n",
       "      <td>6.094500</td>\n",
       "      <td>12.536000</td>\n",
       "      <td>2.217262</td>\n",
       "      <td>3.573394</td>\n",
       "      <td>7.583364</td>\n",
       "      <td>4.052882</td>\n",
       "      <td>1.570378</td>\n",
       "      <td>4.900372</td>\n",
       "      <td>6.737308</td>\n",
       "    </tr>\n",
       "    <tr>\n",
       "      <th>2</th>\n",
       "      <td>ENSG00000139269.2</td>\n",
       "      <td>ENSG00000139269.2</td>\n",
       "      <td>12</td>\n",
       "      <td>57846106</td>\n",
       "      <td>1.199910</td>\n",
       "      <td>1.573572</td>\n",
       "      <td>0.521616</td>\n",
       "      <td>1.447225</td>\n",
       "      <td>3.565791</td>\n",
       "      <td>1.982681</td>\n",
       "      <td>...</td>\n",
       "      <td>3.225880</td>\n",
       "      <td>1.996067</td>\n",
       "      <td>2.854923</td>\n",
       "      <td>2.267343</td>\n",
       "      <td>1.331201</td>\n",
       "      <td>2.187895</td>\n",
       "      <td>1.004250</td>\n",
       "      <td>3.003316</td>\n",
       "      <td>1.984362</td>\n",
       "      <td>1.684954</td>\n",
       "    </tr>\n",
       "    <tr>\n",
       "      <th>3</th>\n",
       "      <td>ENSG00000169129.8</td>\n",
       "      <td>ENSG00000169129.8</td>\n",
       "      <td>10</td>\n",
       "      <td>116164515</td>\n",
       "      <td>0.831940</td>\n",
       "      <td>0.069778</td>\n",
       "      <td>0.931086</td>\n",
       "      <td>0.620941</td>\n",
       "      <td>1.660668</td>\n",
       "      <td>0.570481</td>\n",
       "      <td>...</td>\n",
       "      <td>1.023381</td>\n",
       "      <td>1.127852</td>\n",
       "      <td>0.774409</td>\n",
       "      <td>1.495854</td>\n",
       "      <td>0.895342</td>\n",
       "      <td>1.513521</td>\n",
       "      <td>0.826377</td>\n",
       "      <td>1.021201</td>\n",
       "      <td>0.952502</td>\n",
       "      <td>0.740565</td>\n",
       "    </tr>\n",
       "    <tr>\n",
       "      <th>4</th>\n",
       "      <td>ENSG00000134602.11</td>\n",
       "      <td>ENSG00000134602.11</td>\n",
       "      <td>X</td>\n",
       "      <td>131157293</td>\n",
       "      <td>27.646422</td>\n",
       "      <td>24.395572</td>\n",
       "      <td>16.445374</td>\n",
       "      <td>24.806650</td>\n",
       "      <td>25.113349</td>\n",
       "      <td>19.233988</td>\n",
       "      <td>...</td>\n",
       "      <td>25.079490</td>\n",
       "      <td>28.725528</td>\n",
       "      <td>24.450520</td>\n",
       "      <td>27.264069</td>\n",
       "      <td>26.912814</td>\n",
       "      <td>29.509210</td>\n",
       "      <td>26.462331</td>\n",
       "      <td>25.624009</td>\n",
       "      <td>25.707741</td>\n",
       "      <td>22.824957</td>\n",
       "    </tr>\n",
       "  </tbody>\n",
       "</table>\n",
       "<p>5 rows × 466 columns</p>\n",
       "</div>"
      ],
      "text/plain": [
       "             TargetID         Gene_Symbol Chr      Coord    HG00096  \\\n",
       "0   ENSG00000152931.6   ENSG00000152931.6   5   59783540   0.101858   \n",
       "1   ENSG00000183696.9   ENSG00000183696.9   7   48128225   8.183805   \n",
       "2   ENSG00000139269.2   ENSG00000139269.2  12   57846106   1.199910   \n",
       "3   ENSG00000169129.8   ENSG00000169129.8  10  116164515   0.831940   \n",
       "4  ENSG00000134602.11  ENSG00000134602.11   X  131157293  27.646422   \n",
       "\n",
       "     HG00097    HG00099    HG00100    HG00101    HG00102  ...    NA20810  \\\n",
       "0   0.078110   0.048981   0.118597   0.004035   0.010925  ...   0.088601   \n",
       "1   5.686911   2.434653   3.830894   6.612288   4.709646  ...  13.428205   \n",
       "2   1.573572   0.521616   1.447225   3.565791   1.982681  ...   3.225880   \n",
       "3   0.069778   0.931086   0.620941   1.660668   0.570481  ...   1.023381   \n",
       "4  24.395572  16.445374  24.806650  25.113349  19.233988  ...  25.079490   \n",
       "\n",
       "     NA20811    NA20812    NA20813    NA20814    NA20815    NA20816  \\\n",
       "0   0.240010   0.137175   0.148494   0.038643   0.088509   0.029204   \n",
       "1   6.094500  12.536000   2.217262   3.573394   7.583364   4.052882   \n",
       "2   1.996067   2.854923   2.267343   1.331201   2.187895   1.004250   \n",
       "3   1.127852   0.774409   1.495854   0.895342   1.513521   0.826377   \n",
       "4  28.725528  24.450520  27.264069  26.912814  29.509210  26.462331   \n",
       "\n",
       "     NA20819    NA20826    NA20828  \n",
       "0   0.024423   0.044816   0.139186  \n",
       "1   1.570378   4.900372   6.737308  \n",
       "2   3.003316   1.984362   1.684954  \n",
       "3   1.021201   0.952502   0.740565  \n",
       "4  25.624009  25.707741  22.824957  \n",
       "\n",
       "[5 rows x 466 columns]"
      ]
     },
     "execution_count": 80,
     "metadata": {},
     "output_type": "execute_result"
    }
   ],
   "source": [
    "geuvadis_gex = pd.read_csv(\"/lus/grand/projects/TFXcan/imlab/data/1000G/expression/GD462.GeneQuantRPKM.50FN.samplename.resk10.txt.gz\", sep=\"\\t\")\n",
    "geuvadis_gex.head()"
   ]
  },
  {
   "cell_type": "code",
   "execution_count": 81,
   "metadata": {},
   "outputs": [],
   "source": [
    "geuvadis_gex['TargetID'] = geuvadis_gex['TargetID'].apply(lambda gene: gene.split('.')[0])\n",
    "geuvadis_gex.set_index('TargetID', inplace=True)\n",
    "# Calculate average gene expression\n",
    "geuvadis_mean_gex = geuvadis_gex.drop(columns=['Gene_Symbol', 'Chr', 'Coord']).mean(axis=1)\n",
    "geuvadis_mean_gex.name = 'geuvadis, mean'\n",
    "# Calculate median gene expression\n",
    "geuvadis_median_gex = geuvadis_gex.drop(columns=['Gene_Symbol', 'Chr', 'Coord']).median(axis=1)\n",
    "geuvadis_median_gex.name = 'geuvadis, median'"
   ]
  },
  {
   "cell_type": "markdown",
   "metadata": {},
   "source": [
    "## Split genes by chromosome"
   ]
  },
  {
   "cell_type": "code",
   "execution_count": 47,
   "metadata": {},
   "outputs": [],
   "source": [
    "## Subset annotation to GEUVADIS genes\n",
    "hg38_annot = pd.read_csv(\"/home/s1mi/enformer_rat_data/annotation/hg38.protein_coding_TSS.txt\", header=0, sep=\"\\t\")\n",
    "hg38_annot = hg38_annot[hg38_annot[\"ensembl_gene_id\"].isin(geuvadis_gex.index)]\n",
    "gene_dict = hg38_annot.groupby('chromosome_name')['ensembl_gene_id'].apply(list).to_dict()\n",
    "## Initialize CAGE predictions\n",
    "hg38_annot.set_index(\"ensembl_gene_id\", inplace=True)\n",
    "chr_list = [\"1\", \"2\", \"3\", \"4\", \"5\", \"6\", \"7\", \"8\", \"9\", \"10\", \"11\", \"12\", \"13\", \"14\", \"15\", \"16\", \"17\", \"18\", \"19\", \"20\", \"21\", \"22\", \"X\"]\n",
    "CAGE_predictions = {key: [] for key in chr_list}"
   ]
  },
  {
   "cell_type": "markdown",
   "metadata": {},
   "source": [
    "## Query Enformer predicted gene expression"
   ]
  },
  {
   "cell_type": "code",
   "execution_count": 56,
   "metadata": {},
   "outputs": [],
   "source": [
    "for chr in chr_list:\n",
    "    gene_list = gene_dict[chr]\n",
    "    for gene in gene_list:\n",
    "        bins = query_epigenome(chr, hg38_annot.loc[gene]['transcription_start_site'], tracks=[5110])\n",
    "        CAGE_predictions[chr].append(np.average(bins))\n",
    "    break"
   ]
  },
  {
   "cell_type": "markdown",
   "metadata": {},
   "source": [
    "### Plot correlation across genes"
   ]
  },
  {
   "cell_type": "code",
   "execution_count": 64,
   "metadata": {},
   "outputs": [],
   "source": [
    "merged_dict = {chr: pd.DataFrame(index=gene_dict[chr]) for chr in chr_list}\n",
    "for chr in chr_list:\n",
    "    merged_dict[chr]['enformer, 3 bin'] = CAGE_predictions[chr]"
   ]
  },
  {
   "cell_type": "code",
   "execution_count": 65,
   "metadata": {},
   "outputs": [],
   "source": [
    "for chr in chr_list:\n",
    "    merged_dict[chr] = merged_dict[chr].merge(geuvadis_mean_gex, left_index=True, right_index=True, how='inner').dropna()\n",
    "    merged_dict[chr] = merged_dict[chr].merge(geuvadis_median_gex, left_index=True, right_index=True, how='inner').dropna()"
   ]
  },
  {
   "cell_type": "code",
   "execution_count": 66,
   "metadata": {},
   "outputs": [],
   "source": [
    "all_genes = pd.concat(merged_dict.values())\n",
    "# #all_genes.to_csv(\"/home/s1mi/enformer_rat_data/output/hg38_predicted_vs_observed_expression_GEUVADIS.csv\")"
   ]
  },
  {
   "cell_type": "code",
   "execution_count": 72,
   "metadata": {},
   "outputs": [
    {
     "name": "stdout",
     "output_type": "stream",
     "text": [
      "Pearson Correlation across all GEUVADIS genes, 3 bin 0.20215477325106418\n",
      "Spearman Correlation across all GEUVADIS genes, 3 bin: 0.7688261493752583\n"
     ]
    }
   ],
   "source": [
    "#all_genes = pd.read_csv(\"/home/s1mi/enformer_rat_data/output/hg38_predicted_vs_observed_expression_GEUVADIS.csv\", index_col=0)\n",
    "print(\"Pearson Correlation across all GEUVADIS genes, 3 bin\", all_genes.corr(method = \"pearson\").iloc[0,1])\n",
    "corr = scipy.stats.spearmanr(all_genes[\"geuvadis\"], all_genes[\"enformer, 3 bin\"])[0]\n",
    "print(\"Spearman Correlation across all GEUVADIS genes, 3 bin:\", corr)"
   ]
  },
  {
   "cell_type": "code",
   "execution_count": 74,
   "metadata": {},
   "outputs": [
    {
     "data": {
      "image/png": "[encoded data removed]",
      "text/plain": [
       "<Figure size 640x480 with 1 Axes>"
      ]
     },
     "metadata": {},
     "output_type": "display_data"
    }
   ],
   "source": [
    "plt.scatter(all_genes['enformer, 3 bin'], all_genes['geuvadis'], label=f'Correlation: {corr:.2f}')\n",
    "plt.xlabel('observed')\n",
    "plt.ylabel('predicted')\n",
    "plt.title(\"hg38 prediction across genes\")\n",
    "plt.legend()\n",
    "plt.grid(True)\n",
    "plt.show()"
   ]
  },
  {
   "cell_type": "markdown",
   "metadata": {},
   "source": [
    "### Compare to 10 bin window predictions"
   ]
  },
  {
   "cell_type": "code",
   "execution_count": 75,
   "metadata": {},
   "outputs": [
    {
     "name": "stdout",
     "output_type": "stream",
     "text": [
      "Querying chromosome 1 genes..., 69.03840435994789 seconds\n",
      "Querying chromosome 2 genes..., 54.10317796189338 seconds\n",
      "Querying chromosome 3 genes..., 37.46441020199563 seconds\n",
      "Querying chromosome 4 genes..., 36.941509263939224 seconds\n",
      "Querying chromosome 5 genes..., 31.623387236963026 seconds\n",
      "Querying chromosome 6 genes..., 35.4050335889915 seconds\n",
      "Querying chromosome 7 genes..., 32.40155419590883 seconds\n",
      "Querying chromosome 8 genes..., 28.47602708893828 seconds\n",
      "Querying chromosome 9 genes..., 23.366629968048073 seconds\n",
      "Querying chromosome 10 genes..., 26.692642249981873 seconds\n",
      "Querying chromosome 11 genes..., 36.21240806707647 seconds\n",
      "Querying chromosome 12 genes..., 30.501199858961627 seconds\n",
      "Querying chromosome 13 genes..., 13.312637477065437 seconds\n",
      "Querying chromosome 14 genes..., 20.186696789925918 seconds\n",
      "Querying chromosome 15 genes..., 20.195753266918473 seconds\n",
      "Querying chromosome 16 genes..., 18.143485559965484 seconds\n",
      "Querying chromosome 17 genes..., 31.225896001094952 seconds\n",
      "Querying chromosome 18 genes..., 11.720560514018871 seconds\n",
      "Querying chromosome 19 genes..., 30.53011621395126 seconds\n",
      "Querying chromosome 20 genes..., 13.639970090938732 seconds\n",
      "Querying chromosome 21 genes..., 6.042895314982161 seconds\n",
      "Querying chromosome 22 genes..., 10.64532469806727 seconds\n",
      "Querying chromosome X genes..., 16.53738427697681 seconds\n"
     ]
    }
   ],
   "source": [
    "import time\n",
    "for chr in chr_list:\n",
    "    tic = time.perf_counter()\n",
    "    gene_list = merged_dict[chr].index\n",
    "    predictions = []\n",
    "    for gene in gene_list:\n",
    "        bins = query_epigenome(chr, hg38_annot.loc[gene]['transcription_start_site'], n_bins=10, tracks=[5110])\n",
    "        predictions.append(np.average(bins))\n",
    "    merged_dict[chr][\"enformer, 10 bin\"] = predictions\n",
    "    toc = time.perf_counter()\n",
    "    print(\"Querying chromosome\", chr, \"genes...,\", toc - tic, \"seconds\")"
   ]
  },
  {
   "cell_type": "code",
   "execution_count": 94,
   "metadata": {},
   "outputs": [],
   "source": [
    "all_genes = pd.concat(merged_dict.values())\n",
    "all_genes = all_genes[[\"geuvadis, mean\", \"geuvadis, median\", \"enformer, 3 bin\", \"enformer, 10 bin\"]]\n",
    "all_genes.to_csv(\"/home/s1mi/enformer_rat_data/output/hg38_predicted_vs_observed_expression_GEUVADIS.csv\")"
   ]
  },
  {
   "cell_type": "code",
   "execution_count": 90,
   "metadata": {},
   "outputs": [
    {
     "name": "stdout",
     "output_type": "stream",
     "text": [
      "Pearson Correlation\n"
     ]
    },
    {
     "data": {
      "text/html": [
       "<div>\n",
       "<style scoped>\n",
       "    .dataframe tbody tr th:only-of-type {\n",
       "        vertical-align: middle;\n",
       "    }\n",
       "\n",
       "    .dataframe tbody tr th {\n",
       "        vertical-align: top;\n",
       "    }\n",
       "\n",
       "    .dataframe thead th {\n",
       "        text-align: right;\n",
       "    }\n",
       "</style>\n",
       "<table border=\"1\" class=\"dataframe\">\n",
       "  <thead>\n",
       "    <tr style=\"text-align: right;\">\n",
       "      <th></th>\n",
       "      <th>geuvadis, mean</th>\n",
       "      <th>geuvadis, median</th>\n",
       "      <th>enformer, 3 bin</th>\n",
       "      <th>enformer, 10 bin</th>\n",
       "    </tr>\n",
       "  </thead>\n",
       "  <tbody>\n",
       "    <tr>\n",
       "      <th>geuvadis, mean</th>\n",
       "      <td>1.000000</td>\n",
       "      <td>0.999931</td>\n",
       "      <td>0.202155</td>\n",
       "      <td>0.193256</td>\n",
       "    </tr>\n",
       "    <tr>\n",
       "      <th>geuvadis, median</th>\n",
       "      <td>0.999931</td>\n",
       "      <td>1.000000</td>\n",
       "      <td>0.201489</td>\n",
       "      <td>0.192641</td>\n",
       "    </tr>\n",
       "    <tr>\n",
       "      <th>enformer, 3 bin</th>\n",
       "      <td>0.202155</td>\n",
       "      <td>0.201489</td>\n",
       "      <td>1.000000</td>\n",
       "      <td>0.923923</td>\n",
       "    </tr>\n",
       "    <tr>\n",
       "      <th>enformer, 10 bin</th>\n",
       "      <td>0.193256</td>\n",
       "      <td>0.192641</td>\n",
       "      <td>0.923923</td>\n",
       "      <td>1.000000</td>\n",
       "    </tr>\n",
       "  </tbody>\n",
       "</table>\n",
       "</div>"
      ],
      "text/plain": [
       "                  geuvadis, mean  geuvadis, median  enformer, 3 bin  \\\n",
       "geuvadis, mean          1.000000          0.999931         0.202155   \n",
       "geuvadis, median        0.999931          1.000000         0.201489   \n",
       "enformer, 3 bin         0.202155          0.201489         1.000000   \n",
       "enformer, 10 bin        0.193256          0.192641         0.923923   \n",
       "\n",
       "                  enformer, 10 bin  \n",
       "geuvadis, mean            0.193256  \n",
       "geuvadis, median          0.192641  \n",
       "enformer, 3 bin           0.923923  \n",
       "enformer, 10 bin          1.000000  "
      ]
     },
     "execution_count": 90,
     "metadata": {},
     "output_type": "execute_result"
    }
   ],
   "source": [
    "print(\"Pearson Correlation\")\n",
    "all_genes.corr(method = \"pearson\")"
   ]
  },
  {
   "cell_type": "code",
   "execution_count": 89,
   "metadata": {},
   "outputs": [
    {
     "name": "stdout",
     "output_type": "stream",
     "text": [
      "Spearman Correlation:\n"
     ]
    },
    {
     "data": {
      "text/html": [
       "<div>\n",
       "<style scoped>\n",
       "    .dataframe tbody tr th:only-of-type {\n",
       "        vertical-align: middle;\n",
       "    }\n",
       "\n",
       "    .dataframe tbody tr th {\n",
       "        vertical-align: top;\n",
       "    }\n",
       "\n",
       "    .dataframe thead th {\n",
       "        text-align: right;\n",
       "    }\n",
       "</style>\n",
       "<table border=\"1\" class=\"dataframe\">\n",
       "  <thead>\n",
       "    <tr style=\"text-align: right;\">\n",
       "      <th></th>\n",
       "      <th>geuvadis, mean</th>\n",
       "      <th>geuvadis, median</th>\n",
       "      <th>enformer, 3 bin</th>\n",
       "      <th>enformer, 10 bin</th>\n",
       "    </tr>\n",
       "  </thead>\n",
       "  <tbody>\n",
       "    <tr>\n",
       "      <th>geuvadis, mean</th>\n",
       "      <td>1.000000</td>\n",
       "      <td>0.999273</td>\n",
       "      <td>0.768826</td>\n",
       "      <td>0.759941</td>\n",
       "    </tr>\n",
       "    <tr>\n",
       "      <th>geuvadis, median</th>\n",
       "      <td>0.999273</td>\n",
       "      <td>1.000000</td>\n",
       "      <td>0.770554</td>\n",
       "      <td>0.761739</td>\n",
       "    </tr>\n",
       "    <tr>\n",
       "      <th>enformer, 3 bin</th>\n",
       "      <td>0.768826</td>\n",
       "      <td>0.770554</td>\n",
       "      <td>1.000000</td>\n",
       "      <td>0.963611</td>\n",
       "    </tr>\n",
       "    <tr>\n",
       "      <th>enformer, 10 bin</th>\n",
       "      <td>0.759941</td>\n",
       "      <td>0.761739</td>\n",
       "      <td>0.963611</td>\n",
       "      <td>1.000000</td>\n",
       "    </tr>\n",
       "  </tbody>\n",
       "</table>\n",
       "</div>"
      ],
      "text/plain": [
       "                  geuvadis, mean  geuvadis, median  enformer, 3 bin  \\\n",
       "geuvadis, mean          1.000000          0.999273         0.768826   \n",
       "geuvadis, median        0.999273          1.000000         0.770554   \n",
       "enformer, 3 bin         0.768826          0.770554         1.000000   \n",
       "enformer, 10 bin        0.759941          0.761739         0.963611   \n",
       "\n",
       "                  enformer, 10 bin  \n",
       "geuvadis, mean            0.759941  \n",
       "geuvadis, median          0.761739  \n",
       "enformer, 3 bin           0.963611  \n",
       "enformer, 10 bin          1.000000  "
      ]
     },
     "execution_count": 89,
     "metadata": {},
     "output_type": "execute_result"
    }
   ],
   "source": [
    "print(\"Spearman Correlation:\")\n",
    "all_genes.corr(method = \"spearman\")"
   ]
  },
  {
   "cell_type": "markdown",
   "metadata": {},
   "source": [
    "\n",
    "The highest correlation between observed and predicted expression in the 14,585 GEUVADIS genes is 0.77, by using a 3 bin average around the TSS for predicted reference and median gene expression across GEUVADIS individuals as observed reference. This is actually better than the reported 0.57 correlation by Huang et al, but I will run the original code to triple check.\n",
    "\n",
    "### Original Code\n",
    "\n",
    "I cloned [personalized-expression-benchmark](https://github.com/ni-lab/personalized-expression-benchmark.git).\n",
    "\n",
    "The first difference I noticed in their analysis is that they subset to 3259 genes in the GEUVADIS EUR dataset found to have at least one significant cis-eQTL."
   ]
  },
  {
   "cell_type": "markdown",
   "metadata": {},
   "source": [
    "### Original Code\n",
    "\n",
    "My only modification was hard-coding paths and removing the fasta folder argument in [`personalized-expression-benchmark/enformer/run_enformer_reference.py`](https://github.com/ni-lab/personalized-expression-benchmark/blob/main/enformer/run_enformer_reference.py)\n",
    "\n",
    "```\n",
    "module load conda\n",
    "conda activate ml-python\n",
    "cd /home/s1mi/Github/personalized-expression-benchmark\n",
    "\n",
    "python3 enformer/run_enformer_reference.py . data/gene_list.csv\n",
    "\n",
    "```"
   ]
  },
  {
   "cell_type": "code",
   "execution_count": 99,
   "metadata": {},
   "outputs": [],
   "source": [
    "output = pd.read_csv(\"/home/s1mi/Github/personalized-expression-benchmark/output/reference_predictions.csv\")\n",
    "merged_output = output.merge(geuvadis_median_gex, left_on=\"geneId\", right_index=True).drop(columns=[\"mean\", \"max\"])"
   ]
  },
  {
   "cell_type": "code",
   "execution_count": 102,
   "metadata": {},
   "outputs": [
    {
     "name": "stdout",
     "output_type": "stream",
     "text": [
      "Pearson Correlation:\n"
     ]
    },
    {
     "data": {
      "text/html": [
       "<div>\n",
       "<style scoped>\n",
       "    .dataframe tbody tr th:only-of-type {\n",
       "        vertical-align: middle;\n",
       "    }\n",
       "\n",
       "    .dataframe tbody tr th {\n",
       "        vertical-align: top;\n",
       "    }\n",
       "\n",
       "    .dataframe thead th {\n",
       "        text-align: right;\n",
       "    }\n",
       "</style>\n",
       "<table border=\"1\" class=\"dataframe\">\n",
       "  <thead>\n",
       "    <tr style=\"text-align: right;\">\n",
       "      <th></th>\n",
       "      <th>tss3</th>\n",
       "      <th>tss10</th>\n",
       "      <th>geuvadis, median</th>\n",
       "    </tr>\n",
       "  </thead>\n",
       "  <tbody>\n",
       "    <tr>\n",
       "      <th>tss3</th>\n",
       "      <td>1.000000</td>\n",
       "      <td>0.835206</td>\n",
       "      <td>0.197672</td>\n",
       "    </tr>\n",
       "    <tr>\n",
       "      <th>tss10</th>\n",
       "      <td>0.835206</td>\n",
       "      <td>1.000000</td>\n",
       "      <td>0.218041</td>\n",
       "    </tr>\n",
       "    <tr>\n",
       "      <th>geuvadis, median</th>\n",
       "      <td>0.197672</td>\n",
       "      <td>0.218041</td>\n",
       "      <td>1.000000</td>\n",
       "    </tr>\n",
       "  </tbody>\n",
       "</table>\n",
       "</div>"
      ],
      "text/plain": [
       "                      tss3     tss10  geuvadis, median\n",
       "tss3              1.000000  0.835206          0.197672\n",
       "tss10             0.835206  1.000000          0.218041\n",
       "geuvadis, median  0.197672  0.218041          1.000000"
      ]
     },
     "execution_count": 102,
     "metadata": {},
     "output_type": "execute_result"
    }
   ],
   "source": [
    "print(\"Pearson Correlation:\")\n",
    "merged_output.corr(method=\"pearson\")"
   ]
  },
  {
   "cell_type": "code",
   "execution_count": 103,
   "metadata": {},
   "outputs": [
    {
     "name": "stdout",
     "output_type": "stream",
     "text": [
      "Spearman Correlation:\n"
     ]
    },
    {
     "data": {
      "text/html": [
       "<div>\n",
       "<style scoped>\n",
       "    .dataframe tbody tr th:only-of-type {\n",
       "        vertical-align: middle;\n",
       "    }\n",
       "\n",
       "    .dataframe tbody tr th {\n",
       "        vertical-align: top;\n",
       "    }\n",
       "\n",
       "    .dataframe thead th {\n",
       "        text-align: right;\n",
       "    }\n",
       "</style>\n",
       "<table border=\"1\" class=\"dataframe\">\n",
       "  <thead>\n",
       "    <tr style=\"text-align: right;\">\n",
       "      <th></th>\n",
       "      <th>tss3</th>\n",
       "      <th>tss10</th>\n",
       "      <th>geuvadis, median</th>\n",
       "    </tr>\n",
       "  </thead>\n",
       "  <tbody>\n",
       "    <tr>\n",
       "      <th>tss3</th>\n",
       "      <td>1.000000</td>\n",
       "      <td>0.893283</td>\n",
       "      <td>0.501058</td>\n",
       "    </tr>\n",
       "    <tr>\n",
       "      <th>tss10</th>\n",
       "      <td>0.893283</td>\n",
       "      <td>1.000000</td>\n",
       "      <td>0.569476</td>\n",
       "    </tr>\n",
       "    <tr>\n",
       "      <th>geuvadis, median</th>\n",
       "      <td>0.501058</td>\n",
       "      <td>0.569476</td>\n",
       "      <td>1.000000</td>\n",
       "    </tr>\n",
       "  </tbody>\n",
       "</table>\n",
       "</div>"
      ],
      "text/plain": [
       "                      tss3     tss10  geuvadis, median\n",
       "tss3              1.000000  0.893283          0.501058\n",
       "tss10             0.893283  1.000000          0.569476\n",
       "geuvadis, median  0.501058  0.569476          1.000000"
      ]
     },
     "execution_count": 103,
     "metadata": {},
     "output_type": "execute_result"
    }
   ],
   "source": [
    "print(\"Spearman Correlation:\")\n",
    "merged_output.corr(method=\"spearman\")"
   ]
  },
  {
   "cell_type": "code",
   "execution_count": 106,
   "metadata": {},
   "outputs": [
    {
     "data": {
      "image/png": "[encoded data removed]",
      "text/plain": [
       "<Figure size 640x480 with 1 Axes>"
      ]
     },
     "metadata": {},
     "output_type": "display_data"
    }
   ],
   "source": [
    "corr = merged_output.corr(method=\"spearman\").iloc[1,2]\n",
    "plt.scatter(all_genes['enformer, 10 bin'], all_genes['geuvadis, median'], label=f'Correlation: {corr:.2f}')\n",
    "plt.xlabel('observed')\n",
    "plt.ylabel('predicted')\n",
    "plt.title(\"hg38 prediction across genes\")\n",
    "plt.legend()\n",
    "plt.grid(True)\n",
    "plt.show()"
   ]
  }
 ],
 "metadata": {
  "kernelspec": {
   "display_name": "base",
   "language": "python",
   "name": "base"
  },
  "language_info": {
   "codemirror_mode": {
    "name": "ipython",
    "version": 3
   },
   "file_extension": ".py",
   "mimetype": "text/x-python",
   "name": "python",
   "nbconvert_exporter": "python",
   "pygments_lexer": "ipython3",
   "version": "3.8.13"
  },
  "orig_nbformat": 4
 },
 "nbformat": 4,
 "nbformat_minor": 2
}
