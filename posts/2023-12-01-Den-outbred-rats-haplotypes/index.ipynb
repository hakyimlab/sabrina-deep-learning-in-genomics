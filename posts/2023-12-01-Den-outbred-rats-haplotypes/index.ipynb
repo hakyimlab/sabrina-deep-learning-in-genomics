{
 "cells": [
  {
   "cell_type": "markdown",
   "metadata": {},
   "source": [
    "---\n",
    "title: Exploring Den's haplotypes for 88 outbred rats\n",
    "author: Sabrina Mi\n",
    "date: 12/01/2023\n",
    "---\n",
    "\n",
    "Den's files are all on TSCC:\n",
    "\n",
    "1. Run qtl2-founder-haps: `/projects/ps-palmer/DenghuiChen/1U01DA051234/HS/eQTL/haplotypes_BiSNPs/code/run_qtl2_HaoChen.sh`\n",
    "2. Founder pair haplotypes: `/projects/ps-palmer/DenghuiChen/1U01DA051234/HS/eQTL/haplotypes_BiSNPs/qtl2_out/chr*_haplotype.parquet.gz`\n",
    "3. Single founder dosage: `/projects/ps-palmer/DenghuiChen/1U01DA051234/HS/eQTL/haplotypes_BiSNPs/qtl2_out/chr*_haplotype_collapsed.parquet.gz`"
   ]
  },
  {
   "cell_type": "code",
   "execution_count": 1,
   "metadata": {},
   "outputs": [],
   "source": [
    "import pyarrow.parquet as pq\n",
    "haplo_dir = '/Users/sabrinami/outbred_rats_qtl2_outputs'"
   ]
  },
  {
   "cell_type": "code",
   "execution_count": 2,
   "metadata": {},
   "outputs": [],
   "source": [
    "founder_pair = pq.read_table(f'{haplo_dir}/chr20_haplotype.parquet.gz')\n",
    "single_founder = pq.read_table(f'{haplo_dir}/chr20_haplotype_collapsed.parquet.gz')"
   ]
  }
 ],
 "metadata": {
  "kernelspec": {
   "display_name": "base",
   "language": "python",
   "name": "base"
  },
  "language_info": {
   "codemirror_mode": {
    "name": "ipython",
    "version": 3
   },
   "file_extension": ".py",
   "mimetype": "text/x-python",
   "name": "python",
   "nbconvert_exporter": "python",
   "pygments_lexer": "ipython3",
   "version": "3.10.10"
  }
 },
 "nbformat": 4,
 "nbformat_minor": 2
}
