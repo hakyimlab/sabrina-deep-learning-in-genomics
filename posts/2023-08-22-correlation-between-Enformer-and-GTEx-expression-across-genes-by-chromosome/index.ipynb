{
 "cells": [
  {
   "cell_type": "markdown",
   "metadata": {},
   "source": [
    "---\n",
    "title: Correlation between Enformer reference CAGE prediction and GTEx brain tissue expression across genes\n",
    "author: Sabrina Mi\n",
    "date: 8/22/23\n",
    "descriptions: We split genes by chromosome number to parallelize querying the predicted human reference epigenome for CAGE predictions, then compared to observed mean gene expression in GTEx individuals. The lowest correlation is 0.241 on chromosome 18 and the highest is 0.729 on chromosome 21. The correlation across all genes is 0.540.\n",
    "---\n",
    "\n",
    "## Collect predicted and observed reference gene expression for each chromosome"
   ]
  },
  {
   "cell_type": "code",
   "execution_count": 1,
   "metadata": {},
   "outputs": [],
   "source": [
    "import h5py\n",
    "import pandas as pd\n",
    "import numpy as np\n",
    "import parsl\n",
    "from parsl import python_app\n",
    "from parsl.configs.local_threads import config\n",
    "parsl.load(config)\n",
    "\n",
    "enfref_dir = \"/grand/TFXcan/imlab/users/lvairus/reftile_project/enformer-reference-epigenome\"\n",
    "\n",
    "def query_epigenome(chr_num, center_bp, num_bins=3, tracks=-1):\n",
    "    \"\"\"\n",
    "    Parameters:\n",
    "        path_to_enfref (str): path to the directory containing the concatenated reference enformer files\n",
    "        chr_num (int/string): chromosome number\n",
    "        center_bp (int): center base pair position (1-indexed)\n",
    "        num_bins (int): number of bins to extract centered around center_bp (default: 896) \n",
    "            note: if the number of bins is even, the center bin will be in the second half of the array\n",
    "        tracks (int list): list of tracks to extract (default: all 5313 tracks)\n",
    "\n",
    "    Returns:\n",
    "        epigen (np.array): enformer predictions centered at center_bp of shape (num_bins, len(tracks))\n",
    "    \"\"\"\n",
    "\n",
    "    # from position choose center bin\n",
    "    center_ind = center_bp - 1\n",
    "    center_bin = center_ind // 128\n",
    "    \n",
    "    half_bins = num_bins // 2\n",
    "    start_bin = center_bin - half_bins\n",
    "    end_bin = center_bin + half_bins\n",
    "    if num_bins % 2 != 0: # if num_bins is odd\n",
    "        end_bin += 1\n",
    "\n",
    "    with h5py.File(f\"{enfref_dir}/chr{chr_num}_cat.h5\", \"r\") as f:\n",
    "        # get tracks if list provided\n",
    "        if tracks == -1:\n",
    "            epigen = f[f'chr{chr_num}'][start_bin:end_bin, :] \n",
    "        else:\n",
    "            epigen = f[f'chr{chr_num}'][start_bin:end_bin, tracks] \n",
    "\n",
    "    return epigen"
   ]
  },
  {
   "cell_type": "code",
   "execution_count": 2,
   "metadata": {},
   "outputs": [],
   "source": [
    "## create lists of genes on each chromomsome\n",
    "hg38_annot = pd.read_csv(\"/home/s1mi/enformer_rat_data/annotation/hg38.protein_coding_TSS.txt\", header=0, sep=\"\\t\")\n",
    "gene_dict = hg38_annot.groupby('chromosome_name')['ensembl_gene_id'].apply(list).to_dict()"
   ]
  },
  {
   "cell_type": "code",
   "execution_count": 3,
   "metadata": {},
   "outputs": [],
   "source": [
    "## Initialize lists of CAGE predictions for each gene\n",
    "hg38_annot.set_index(\"ensembl_gene_id\", inplace=True)\n",
    "chr_list = [\"1\", \"2\", \"3\", \"4\", \"5\", \"6\", \"7\", \"8\", \"9\", \"10\", \"11\", \"12\", \"13\", \"14\", \"15\", \"16\", \"17\", \"18\", \"19\", \"20\", \"21\", \"22\", \"X\"]\n",
    "CAGE_predictions = {key: [] for key in chr_list}"
   ]
  },
  {
   "cell_type": "code",
   "execution_count": 4,
   "metadata": {},
   "outputs": [],
   "source": [
    "## Function to put CAGE predictions in list (in the same order as gene list by chromosome)\n",
    "@python_app\n",
    "def query_genes(chr):\n",
    "    gene_list = gene_dict[chr]\n",
    "    for gene in gene_list:\n",
    "        bins = query_epigenome(chr, hg38_annot.loc[gene]['transcription_start_site'], tracks=[4980])\n",
    "        CAGE_predictions[chr].append(np.average(bins))"
   ]
  },
  {
   "cell_type": "code",
   "execution_count": 5,
   "metadata": {},
   "outputs": [],
   "source": [
    "app_futures = []\n",
    "## Collect CAGE predictions in parallel across genes\n",
    "for chr in chr_list:\n",
    "    app_futures.append(query_genes(chr))\n",
    "## Wait for all chromosomes to finish\n",
    "exec_futures = [q.result() for q in app_futures]"
   ]
  },
  {
   "cell_type": "markdown",
   "metadata": {},
   "source": [
    "## Count missing genes in reference Enformer\n",
    "\n",
    "We are only missing TSS CAGE values for 12 genes, all on chromosome 12."
   ]
  },
  {
   "cell_type": "code",
   "execution_count": 8,
   "metadata": {},
   "outputs": [
    {
     "name": "stdout",
     "output_type": "stream",
     "text": [
      "Chromosome 12 missing 27 genes in the predicted human reference epigenome\n"
     ]
    }
   ],
   "source": [
    "for chr in chr_list:\n",
    "    n_missing = np.sum(np.isnan(np.array(CAGE_predictions[chr])))\n",
    "    if n_missing > 0:\n",
    "        print(\"Chromosome\", chr, \"missing\", n_missing, \"genes in the predicted human reference epigenome\")"
   ]
  },
  {
   "cell_type": "code",
   "execution_count": 9,
   "metadata": {},
   "outputs": [],
   "source": [
    "merged_dict = {chr: pd.DataFrame(index=gene_dict[chr]) for chr in chr_list}\n",
    "for chr in chr_list:\n",
    "    merged_dict[chr]['enformer'] = CAGE_predictions[chr]"
   ]
  },
  {
   "cell_type": "code",
   "execution_count": null,
   "metadata": {},
   "outputs": [],
   "source": [
    "all_predicted = pd.concat(merged_dict.values())\n",
    "all_predicted.to_csv(\"/home/s1mi/enformer_rat_data/output/hg38_predicted_expression.csv\")"
   ]
  },
  {
   "cell_type": "code",
   "execution_count": 10,
   "metadata": {},
   "outputs": [],
   "source": [
    "gtex_tpm = pd.read_csv(\"/home/s1mi/enformer_rat_data/expression_data/gene_tpm_2017-06-05_v8_brain_cortex.gct.gz\", header=2, sep=\"\\t\")\n",
    "gtex_tpm['Name'] = gtex_tpm['Name'].apply(lambda gene: gene.split('.')[0])\n",
    "gtex_tpm.set_index('Name', inplace=True)\n",
    "# Calculate average gene expression\n",
    "gtex_mean_tpm = gtex_tpm.drop(columns=['id', 'Description']).mean(axis=1)\n",
    "gtex_mean_tpm.name = 'gtex'"
   ]
  },
  {
   "cell_type": "code",
   "execution_count": 11,
   "metadata": {},
   "outputs": [
    {
     "name": "stdout",
     "output_type": "stream",
     "text": [
      "1977 genes on chromosome 1 to be used in correlation test\n",
      "1201 genes on chromosome 2 to be used in correlation test\n",
      "1031 genes on chromosome 3 to be used in correlation test\n",
      "738 genes on chromosome 4 to be used in correlation test\n",
      "858 genes on chromosome 5 to be used in correlation test\n",
      "996 genes on chromosome 6 to be used in correlation test\n",
      "878 genes on chromosome 7 to be used in correlation test\n",
      "662 genes on chromosome 8 to be used in correlation test\n",
      "748 genes on chromosome 9 to be used in correlation test\n",
      "707 genes on chromosome 10 to be used in correlation test\n",
      "1259 genes on chromosome 11 to be used in correlation test\n",
      "965 genes on chromosome 12 to be used in correlation test\n",
      "314 genes on chromosome 13 to be used in correlation test\n",
      "587 genes on chromosome 14 to be used in correlation test\n",
      "566 genes on chromosome 15 to be used in correlation test\n",
      "815 genes on chromosome 16 to be used in correlation test\n",
      "1133 genes on chromosome 17 to be used in correlation test\n",
      "259 genes on chromosome 18 to be used in correlation test\n",
      "1380 genes on chromosome 19 to be used in correlation test\n",
      "520 genes on chromosome 20 to be used in correlation test\n",
      "213 genes on chromosome 21 to be used in correlation test\n",
      "416 genes on chromosome 22 to be used in correlation test\n",
      "857 genes on chromosome X to be used in correlation test\n"
     ]
    }
   ],
   "source": [
    "for chr in chr_list:\n",
    "    gene_list = merged_dict[chr].index.intersection(gtex_tpm.index)\n",
    "    merged_dict[chr] = merged_dict[chr].loc[gene_list]\n",
    "    merged_dict[chr] = merged_dict[chr].merge(gtex_mean_tpm, left_index=True, right_index=True, how='inner').dropna()\n",
    "    print(merged_dict[chr].shape[0], \"genes on chromosome\", chr, \"to be used in correlation test\")"
   ]
  },
  {
   "cell_type": "code",
   "execution_count": 12,
   "metadata": {},
   "outputs": [
    {
     "name": "stdout",
     "output_type": "stream",
     "text": [
      "Chromosome 1 correlation: 0.6279205208330061\n",
      "Chromosome 2 correlation: 0.4577084823841293\n",
      "Chromosome 3 correlation: 0.5590473627720567\n",
      "Chromosome 4 correlation: 0.6622514111261547\n",
      "Chromosome 5 correlation: 0.5659772926746754\n",
      "Chromosome 6 correlation: 0.5405769582022613\n",
      "Chromosome 7 correlation: 0.4736588849210786\n",
      "Chromosome 8 correlation: 0.6197347486783672\n",
      "Chromosome 9 correlation: 0.6160610260212112\n",
      "Chromosome 10 correlation: 0.7113057334708601\n",
      "Chromosome 11 correlation: 0.5348642297249536\n",
      "Chromosome 12 correlation: 0.6363452896594721\n",
      "Chromosome 13 correlation: 0.4445465856319643\n",
      "Chromosome 14 correlation: 0.35533005480427243\n",
      "Chromosome 15 correlation: 0.664532588686653\n",
      "Chromosome 16 correlation: 0.6644114213442329\n",
      "Chromosome 17 correlation: 0.597201417137115\n",
      "Chromosome 18 correlation: 0.24144231917848386\n",
      "Chromosome 19 correlation: 0.5346556958916295\n",
      "Chromosome 20 correlation: 0.6870184790969254\n",
      "Chromosome 21 correlation: 0.7286380655413807\n",
      "Chromosome 22 correlation: 0.5212558005156317\n",
      "Chromosome X correlation: 0.560185751334359\n"
     ]
    }
   ],
   "source": [
    "for chr in chr_list:\n",
    "    print(\"Chromosome\", chr, \"correlation:\", merged_dict[chr].corr().iloc[0,1])"
   ]
  },
  {
   "cell_type": "code",
   "execution_count": 22,
   "metadata": {},
   "outputs": [
    {
     "name": "stdout",
     "output_type": "stream",
     "text": [
      "Correlation across all genes:\n"
     ]
    },
    {
     "data": {
      "text/html": [
       "<div>\n",
       "<style scoped>\n",
       "    .dataframe tbody tr th:only-of-type {\n",
       "        vertical-align: middle;\n",
       "    }\n",
       "\n",
       "    .dataframe tbody tr th {\n",
       "        vertical-align: top;\n",
       "    }\n",
       "\n",
       "    .dataframe thead th {\n",
       "        text-align: right;\n",
       "    }\n",
       "</style>\n",
       "<table border=\"1\" class=\"dataframe\">\n",
       "  <thead>\n",
       "    <tr style=\"text-align: right;\">\n",
       "      <th></th>\n",
       "      <th>enformer</th>\n",
       "      <th>gtex</th>\n",
       "    </tr>\n",
       "  </thead>\n",
       "  <tbody>\n",
       "    <tr>\n",
       "      <th>enformer</th>\n",
       "      <td>1.000000</td>\n",
       "      <td>0.539788</td>\n",
       "    </tr>\n",
       "    <tr>\n",
       "      <th>gtex</th>\n",
       "      <td>0.539788</td>\n",
       "      <td>1.000000</td>\n",
       "    </tr>\n",
       "  </tbody>\n",
       "</table>\n",
       "</div>"
      ],
      "text/plain": [
       "          enformer      gtex\n",
       "enformer  1.000000  0.539788\n",
       "gtex      0.539788  1.000000"
      ]
     },
     "execution_count": 22,
     "metadata": {},
     "output_type": "execute_result"
    }
   ],
   "source": [
    "all_genes = pd.concat(merged_dict.values())\n",
    "print(\"Correlation across all genes:\")\n",
    "all_genes.corr()"
   ]
  }
 ],
 "metadata": {
  "kernelspec": {
   "display_name": "ml-python",
   "language": "python",
   "name": "ml-python"
  },
  "language_info": {
   "codemirror_mode": {
    "name": "ipython",
    "version": 3
   },
   "file_extension": ".py",
   "mimetype": "text/x-python",
   "name": "python",
   "nbconvert_exporter": "python",
   "pygments_lexer": "ipython3",
   "version": "3.10.11"
  },
  "orig_nbformat": 4
 },
 "nbformat": 4,
 "nbformat_minor": 2
}
