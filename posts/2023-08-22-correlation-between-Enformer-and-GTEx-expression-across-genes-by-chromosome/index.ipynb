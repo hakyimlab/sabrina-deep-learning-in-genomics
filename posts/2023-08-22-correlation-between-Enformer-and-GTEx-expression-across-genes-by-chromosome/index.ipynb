{
 "cells": [
  {
   "cell_type": "markdown",
   "metadata": {},
   "source": [
    "---\n",
    "title: Correlation between Enformer reference CAGE prediction and GTEx brain tissue expression across genes\n",
    "author: Sabrina Mi\n",
    "date: 8/22/23\n",
    "descriptions: We have 0.54 pearson's correlation and 0.79 spearman's correlation across human genes.\n",
    "---\n",
    "\n",
    "## Collect predicted and observed reference gene expression for each chromosome"
   ]
  },
  {
   "cell_type": "code",
   "execution_count": 1,
   "metadata": {},
   "outputs": [],
   "source": [
    "import h5py\n",
    "import pandas as pd\n",
    "import numpy as np\n",
    "\n",
    "enfref_dir = \"/grand/TFXcan/imlab/users/lvairus/reftile_project/enformer-reference-epigenome\"\n",
    "\n",
    "def query_epigenome(chr_num, center_bp, num_bins=3, tracks=-1):\n",
    "    \"\"\"\n",
    "    Parameters:\n",
    "        path_to_enfref (str): path to the directory containing the concatenated reference enformer files\n",
    "        chr_num (int/string): chromosome number\n",
    "        center_bp (int): center base pair position (1-indexed)\n",
    "        num_bins (int): number of bins to extract centered around center_bp (default: 896) \n",
    "            note: if the number of bins is even, the center bin will be in the second half of the array\n",
    "        tracks (int list): list of tracks to extract (default: all 5313 tracks)\n",
    "\n",
    "    Returns:\n",
    "        epigen (np.array): enformer predictions centered at center_bp of shape (num_bins, len(tracks))\n",
    "    \"\"\"\n",
    "\n",
    "    # from position choose center bin\n",
    "    center_ind = center_bp - 1\n",
    "    center_bin = center_ind // 128\n",
    "    \n",
    "    half_bins = num_bins // 2\n",
    "    start_bin = center_bin - half_bins\n",
    "    end_bin = center_bin + half_bins\n",
    "    if num_bins % 2 != 0: # if num_bins is odd\n",
    "        end_bin += 1\n",
    "\n",
    "    with h5py.File(f\"{enfref_dir}/chr{chr_num}_cat.h5\", \"r\") as f:\n",
    "        # get tracks if list provided\n",
    "        if tracks == -1:\n",
    "            epigen = f[f'chr{chr_num}'][start_bin:end_bin, :] \n",
    "        else:\n",
    "            epigen = f[f'chr{chr_num}'][start_bin:end_bin, tracks] \n",
    "\n",
    "    return epigen"
   ]
  },
  {
   "cell_type": "code",
   "execution_count": 2,
   "metadata": {},
   "outputs": [],
   "source": [
    "## create lists of genes on each chromomsome\n",
    "hg38_annot = pd.read_csv(\"/home/s1mi/enformer_rat_data/annotation/hg38.protein_coding_TSS.txt\", header=0, sep=\"\\t\")\n",
    "gene_dict = hg38_annot.groupby('chromosome_name')['ensembl_gene_id'].apply(list).to_dict()"
   ]
  },
  {
   "cell_type": "code",
   "execution_count": 3,
   "metadata": {},
   "outputs": [],
   "source": [
    "## Initialize lists of CAGE predictions for each gene\n",
    "hg38_annot.set_index(\"ensembl_gene_id\", inplace=True)\n",
    "chr_list = [\"1\", \"2\", \"3\", \"4\", \"5\", \"6\", \"7\", \"8\", \"9\", \"10\", \"11\", \"12\", \"13\", \"14\", \"15\", \"16\", \"17\", \"18\", \"19\", \"20\", \"21\", \"22\", \"X\"]\n",
    "CAGE_predictions = {key: [] for key in chr_list}"
   ]
  },
  {
   "cell_type": "code",
   "execution_count": 4,
   "metadata": {},
   "outputs": [],
   "source": [
    "## Function to put CAGE predictions in list (in the same order as gene list by chromosome)\n",
    "def query_genes(chr):\n",
    "    gene_list = gene_dict[chr]\n",
    "    for gene in gene_list:\n",
    "        bins = query_epigenome(chr, hg38_annot.loc[gene]['transcription_start_site'], tracks=[4980])\n",
    "        CAGE_predictions[chr].append(np.average(bins))"
   ]
  },
  {
   "cell_type": "code",
   "execution_count": 5,
   "metadata": {},
   "outputs": [],
   "source": [
    "for chr in chr_list:\n",
    "    query_genes(chr)\n",
    "    print(\"Queried chromosome\", chr, \"...,\" len(CAGE_predictions[chr]), \"genes\")"
   ]
  },
  {
   "cell_type": "markdown",
   "metadata": {},
   "source": [
    "## Count missing genes in reference Enformer\n",
    "\n",
    "We are only missing TSS CAGE values for 12 genes, all on chromosome 12."
   ]
  },
  {
   "cell_type": "code",
   "execution_count": 8,
   "metadata": {},
   "outputs": [
    {
     "name": "stdout",
     "output_type": "stream",
     "text": [
      "Chromosome 12 missing 27 genes in the predicted human reference epigenome\n"
     ]
    }
   ],
   "source": [
    "for chr in chr_list:\n",
    "    n_missing = np.sum(np.isnan(np.array(CAGE_predictions[chr])))\n",
    "    if n_missing > 0:\n",
    "        print(\"Chromosome\", chr, \"missing\", n_missing, \"genes in the predicted human reference epigenome\")"
   ]
  },
  {
   "cell_type": "code",
   "execution_count": 9,
   "metadata": {},
   "outputs": [],
   "source": [
    "merged_dict = {chr: pd.DataFrame(index=gene_dict[chr]) for chr in chr_list}\n",
    "for chr in chr_list:\n",
    "    merged_dict[chr]['enformer'] = CAGE_predictions[chr]"
   ]
  },
  {
   "cell_type": "code",
   "execution_count": null,
   "metadata": {},
   "outputs": [],
   "source": [
    "all_predicted = pd.concat(merged_dict.values())\n",
    "all_predicted.to_csv(\"/home/s1mi/enformer_rat_data/output/hg38_predicted_expression.csv\")"
   ]
  },
  {
   "cell_type": "code",
   "execution_count": 2,
   "metadata": {},
   "outputs": [],
   "source": [
    "gtex_tpm = pd.read_csv(\"/home/s1mi/enformer_rat_data/expression_data/gene_tpm_2017-06-05_v8_brain_cortex.gct.gz\", header=2, sep=\"\\t\")\n",
    "gtex_tpm['Name'] = gtex_tpm['Name'].apply(lambda gene: gene.split('.')[0])\n",
    "gtex_tpm.set_index('Name', inplace=True)\n",
    "# Calculate average gene expression\n",
    "gtex_mean_tpm = gtex_tpm.drop(columns=['id', 'Description']).mean(axis=1)\n",
    "gtex_mean_tpm.name = 'gtex'"
   ]
  },
  {
   "cell_type": "code",
   "execution_count": null,
   "metadata": {},
   "outputs": [],
   "source": [
    "for chr in chr_list:\n",
    "    gene_list = merged_dict[chr].index.intersection(gtex_tpm.index)\n",
    "    merged_dict[chr] = merged_dict[chr].loc[gene_list]\n",
    "    merged_dict[chr] = merged_dict[chr].merge(gtex_mean_tpm, left_index=True, right_index=True, how='inner').dropna()\n",
    "    print(merged_dict[chr].shape[0], \"genes on chromosome\", chr, \"\\tCorrelation:\", merged_dict[chr].corr().iloc[0,1])"
   ]
  },
  {
   "cell_type": "code",
   "execution_count": 18,
   "metadata": {},
   "outputs": [],
   "source": [
    "import pandas as pd\n",
    "import matplotlib.pyplot as plt\n",
    "all_predicted = pd.read_csv(\"/home/s1mi/enformer_rat_data/output/hg38_predicted_expression.csv\", index_col = 0)\n",
    "all_genes = all_predicted.merge(gtex_mean_tpm, left_index=True, right_index=True, how=\"inner\")\n"
   ]
  },
  {
   "cell_type": "code",
   "execution_count": 20,
   "metadata": {},
   "outputs": [
    {
     "name": "stdout",
     "output_type": "stream",
     "text": [
      "Pearson Correlation:\n"
     ]
    },
    {
     "data": {
      "text/html": [
       "<div>\n",
       "<style scoped>\n",
       "    .dataframe tbody tr th:only-of-type {\n",
       "        vertical-align: middle;\n",
       "    }\n",
       "\n",
       "    .dataframe tbody tr th {\n",
       "        vertical-align: top;\n",
       "    }\n",
       "\n",
       "    .dataframe thead th {\n",
       "        text-align: right;\n",
       "    }\n",
       "</style>\n",
       "<table border=\"1\" class=\"dataframe\">\n",
       "  <thead>\n",
       "    <tr style=\"text-align: right;\">\n",
       "      <th></th>\n",
       "      <th>enformer</th>\n",
       "      <th>gtex</th>\n",
       "    </tr>\n",
       "  </thead>\n",
       "  <tbody>\n",
       "    <tr>\n",
       "      <th>enformer</th>\n",
       "      <td>1.000000</td>\n",
       "      <td>0.539788</td>\n",
       "    </tr>\n",
       "    <tr>\n",
       "      <th>gtex</th>\n",
       "      <td>0.539788</td>\n",
       "      <td>1.000000</td>\n",
       "    </tr>\n",
       "  </tbody>\n",
       "</table>\n",
       "</div>"
      ],
      "text/plain": [
       "          enformer      gtex\n",
       "enformer  1.000000  0.539788\n",
       "gtex      0.539788  1.000000"
      ]
     },
     "execution_count": 20,
     "metadata": {},
     "output_type": "execute_result"
    }
   ],
   "source": [
    "print(\"Pearson Correlation:\")\n",
    "all_genes.corr(method=\"pearson\")"
   ]
  },
  {
   "cell_type": "code",
   "execution_count": 21,
   "metadata": {},
   "outputs": [
    {
     "name": "stdout",
     "output_type": "stream",
     "text": [
      "Spearman Correlation:\n"
     ]
    },
    {
     "data": {
      "text/html": [
       "<div>\n",
       "<style scoped>\n",
       "    .dataframe tbody tr th:only-of-type {\n",
       "        vertical-align: middle;\n",
       "    }\n",
       "\n",
       "    .dataframe tbody tr th {\n",
       "        vertical-align: top;\n",
       "    }\n",
       "\n",
       "    .dataframe thead th {\n",
       "        text-align: right;\n",
       "    }\n",
       "</style>\n",
       "<table border=\"1\" class=\"dataframe\">\n",
       "  <thead>\n",
       "    <tr style=\"text-align: right;\">\n",
       "      <th></th>\n",
       "      <th>enformer</th>\n",
       "      <th>gtex</th>\n",
       "    </tr>\n",
       "  </thead>\n",
       "  <tbody>\n",
       "    <tr>\n",
       "      <th>enformer</th>\n",
       "      <td>1.000000</td>\n",
       "      <td>0.794341</td>\n",
       "    </tr>\n",
       "    <tr>\n",
       "      <th>gtex</th>\n",
       "      <td>0.794341</td>\n",
       "      <td>1.000000</td>\n",
       "    </tr>\n",
       "  </tbody>\n",
       "</table>\n",
       "</div>"
      ],
      "text/plain": [
       "          enformer      gtex\n",
       "enformer  1.000000  0.794341\n",
       "gtex      0.794341  1.000000"
      ]
     },
     "execution_count": 21,
     "metadata": {},
     "output_type": "execute_result"
    }
   ],
   "source": [
    "print(\"Spearman Correlation:\")\n",
    "all_genes.corr(method=\"spearman\")"
   ]
  },
  {
   "cell_type": "code",
   "execution_count": 22,
   "metadata": {},
   "outputs": [
    {
     "data": {
      "image/png": "[encoded data removed]",
      "text/plain": [
       "<Figure size 640x480 with 1 Axes>"
      ]
     },
     "metadata": {},
     "output_type": "display_data"
    }
   ],
   "source": [
    "corr = all_genes.corr(method=\"spearman\").iloc[0,1]\n",
    "plt.scatter(all_genes['enformer'], all_genes['gtex'], label=f'Correlation: {corr:.2f}')\n",
    "plt.xlabel('observed')\n",
    "plt.ylabel('predicted')\n",
    "plt.title(\"Enformer predictions across human genes\")\n",
    "plt.legend()\n",
    "plt.grid(True)\n",
    "plt.show()"
   ]
  }
 ],
 "metadata": {
  "kernelspec": {
   "display_name": "base",
   "language": "python",
   "name": "base"
  },
  "language_info": {
   "codemirror_mode": {
    "name": "ipython",
    "version": 3
   },
   "file_extension": ".py",
   "mimetype": "text/x-python",
   "name": "python",
   "nbconvert_exporter": "python",
   "pygments_lexer": "ipython3",
   "version": "3.8.13"
  },
  "orig_nbformat": 4
 },
 "nbformat": 4,
 "nbformat_minor": 2
}
