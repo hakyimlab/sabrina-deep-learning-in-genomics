{
 "cells": [
  {
   "cell_type": "markdown",
   "metadata": {},
   "source": [
    "---\n",
    "title: Running Enformer over reference genome\n",
    "description: We use all intervals along chromosomes 8 through 11\n",
    "author: Sabrina Mi\n",
    "date: 7/21/23\n",
    "---"
   ]
  },
  {
   "cell_type": "markdown",
   "metadata": {},
   "source": [
    "### Collect all intervals"
   ]
  },
  {
   "cell_type": "code",
   "execution_count": 1,
   "metadata": {},
   "outputs": [],
   "source": [
    "\n",
    "def write_intervals(chromosome, length):\n",
    "    start = 0\n",
    "    increment = 57344\n",
    "    end = 114688\n",
    "    with open(f\"metadata/chr{chromosome}_intervals.txt\", 'a') as f:\n",
    "        while end <= length:\n",
    "            f.write(f'\"chr{chromosome}_{start}_{end}\"\\n')\n",
    "            start += increment\n",
    "            end += increment\n",
    "        f.write(f'\"chr{chromosome}_{start}_{end}\"')\n"
   ]
  },
  {
   "cell_type": "code",
   "execution_count": 2,
   "metadata": {},
   "outputs": [],
   "source": [
    "write_intervals(chromosome = 5, length = 181538259)\n",
    "write_intervals(chromosome = 6, length = 170805979)\n",
    "write_intervals(chromosome = 7, length = 159345973)\n",
    "# write_intervals(chromosome = 8, length = 145138636)\n",
    "# write_intervals(chromosome = 9, length = 138394717)\n",
    "# write_intervals(chromosome = 10, length = 133797422)\n",
    "# write_intervals(chromosome = 11, length = 135086622)"
   ]
  }
 ],
 "metadata": {
  "kernelspec": {
   "display_name": "base",
   "language": "python",
   "name": "base"
  },
  "language_info": {
   "codemirror_mode": {
    "name": "ipython",
    "version": 3
   },
   "file_extension": ".py",
   "mimetype": "text/x-python",
   "name": "python",
   "nbconvert_exporter": "python",
   "pygments_lexer": "ipython3",
   "version": "3.8.13"
  },
  "orig_nbformat": 4
 },
 "nbformat": 4,
 "nbformat_minor": 2
}
