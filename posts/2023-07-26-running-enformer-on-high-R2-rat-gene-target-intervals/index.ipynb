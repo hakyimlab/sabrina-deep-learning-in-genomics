{
 "cells": [
  {
   "cell_type": "markdown",
   "metadata": {},
   "source": [
    "---\n",
    "title: Running Enformer pipeline on 3 well-predicted genes\n",
    "author: Sabrina Mi\n",
    "date: 7/26/23\n",
    "\n",
    "---\n",
    "\n",
    "\n",
    "\n",
    "### Select Well-Predicted Genes\n",
    "\n",
    "We used R2 values from [ElasticNet training](https://sabrina-mi.github.io/PTRS-Rat-Analysis/Br_EN_Validation)\n",
    "\n",
    "![Well-Predicted Genes](WellPredGenes.png)"
   ]
  },
  {
   "cell_type": "markdown",
   "metadata": {},
   "source": [
    "### Collect Gene Intervals"
   ]
  },
  {
   "cell_type": "code",
   "execution_count": 1,
   "metadata": {},
   "outputs": [
    {
     "name": "stdout",
     "output_type": "stream",
     "text": [
      "ENSRNOG00000001342\n",
      "ENSRNOG00000020624\n",
      "ENSRNOG00000058006\n",
      "ENSRNOG00000060045\n"
     ]
    },
    {
     "name": "stderr",
     "output_type": "stream",
     "text": [
      "/tmp/ipykernel_71445/1580764274.py:2: DtypeWarning: Columns (2) have mixed types. Specify dtype option on import or set low_memory=False.\n",
      "  gene_annot = pd.read_csv('/home/s1mi/enformer_rat_data/annotation/rn7.gene.txt', sep ='\\t',  index_col='geneId')\n"
     ]
    }
   ],
   "source": [
    "import pandas as pd\n",
    "gene_annot = pd.read_csv('/home/s1mi/enformer_rat_data/annotation/rn7.gene.txt', sep ='\\t',  index_col='geneId')\n",
    "gene_list = ['ENSRNOG00000001342', 'ENSRNOG00000020624', 'ENSRNOG00000058006', 'ENSRNOG00000060045']\n",
    "\n",
    "def write_intervals(gene_list, file):\n",
    "    with open(file, 'a') as f:\n",
    "        for gene in gene_list:\n",
    "            print(gene)\n",
    "            row = gene_annot.loc[gene]\n",
    "            interval = f\"chr{row['chromosome']}_{row['start']}_{row['end']}\"\n",
    "            f.write(interval + '\\n')\n",
    "\n",
    "write_intervals(gene_list, \"metadata/intervals.txt\")\n",
    "\n",
    "    "
   ]
  },
  {
   "cell_type": "markdown",
   "metadata": {},
   "source": [
    "### Concatenate h5 outputs"
   ]
  },
  {
   "cell_type": "code",
   "execution_count": 11,
   "metadata": {},
   "outputs": [],
   "source": [
    "predictions_dir=\"/home/s1mi/enformer_rat_pipeline/predictions_folder/personalized_enformer_minimal_some_regions/predictions_2023-07-26/enformer_predictions\"\n",
    "import os\n",
    "import h5py\n"
   ]
  },
  {
   "cell_type": "code",
   "execution_count": 12,
   "metadata": {},
   "outputs": [],
   "source": [
    "def concatenate_predictions(predictions_dir, output_path):\n",
    "    with h5py.File(output_path, \"w\") as output_file:\n",
    "        individuals = os.listdir(predictions_dir)\n",
    "        for individual in individuals:\n",
    "            group = output_file.create_group(individual)\n",
    "\n",
    "            dir = os.path.join(predictions_dir, individual, \"haplotype1\")\n",
    "            filenames = os.listdir(dir)\n",
    "\n",
    "            for file in filenames:\n",
    "                interval = file.replace(\"_predictions.h5\", \"\")\n",
    "                with h5py.File(os.path.join(dir, file), \"r\") as input_file:\n",
    "                    group.create_dataset(interval, data=input_file[interval][()], shape=(896,5313))\n",
    "            \n",
    "\n",
    "\n",
    "    "
   ]
  },
  {
   "cell_type": "code",
   "execution_count": 10,
   "metadata": {},
   "outputs": [],
   "source": [
    "concatenate_predictions(predictions_dir, \"/home/s1mi/enformer_rat_pipeline/Br_enformer_predictions.h5\")"
   ]
  },
  {
   "cell_type": "markdown",
   "metadata": {},
   "source": [
    "### Calculate predicted gene expression"
   ]
  },
  {
   "cell_type": "code",
   "execution_count": null,
   "metadata": {},
   "outputs": [],
   "source": [
    "def calculate_gene_expression(matrix, target_interval, tss):\n",
    "    window_coords = target_interval.resize(SEQUENCE_LENGTH)\n",
    "    low_range = window_coords.start\n",
    "    CAGE_predictions = matrix[:, 4980]\n",
    "    \n",
    "    bin_start = low_range + ((768 + 320) * 128)\n",
    "    count = -1\n",
    "    while bin_start < tss:\n",
    "      bin_start = bin_start + 128\n",
    "      count += 1\n",
    "    if count >= len(cage_predictions)-1:\n",
    "      continue\n",
    "    cage_preds = cage_predictions[count - 1] + cage_predictions[count] + cage_predictions[count + 1]\n"
   ]
  }
 ],
 "metadata": {
  "kernelspec": {
   "display_name": "ml-python",
   "language": "python",
   "name": "ml-python"
  },
  "language_info": {
   "codemirror_mode": {
    "name": "ipython",
    "version": 3
   },
   "file_extension": ".py",
   "mimetype": "text/x-python",
   "name": "python",
   "nbconvert_exporter": "python",
   "pygments_lexer": "ipython3",
   "version": "3.10.11"
  },
  "orig_nbformat": 4
 },
 "nbformat": 4,
 "nbformat_minor": 2
}
