{
 "cells": [
  {
   "cell_type": "markdown",
   "id": "79026aef",
   "metadata": {},
   "source": [
    "---\n",
    "title: Computing Haplotype for Probabilities 8K HS Rats\n",
    "author: Sabrina Mi\n",
    "date: 7/31/2025\n",
    "---\n",
    "# Preparing 8K rat genotypes with body lenght, BMI data\n",
    "\n",
    "## Write samples file\n",
    "\n",
    "First, we obtain a list of samples with body length and BMI data, then intersect with genotypes rats."
   ]
  },
  {
   "cell_type": "code",
   "execution_count": 5,
   "id": "1430c559",
   "metadata": {},
   "outputs": [
    {
     "name": "stderr",
     "output_type": "stream",
     "text": [
      "/tmp/ipykernel_46928/766119701.py:2: DtypeWarning: Columns (0) have mixed types. Specify dtype option on import or set low_memory=False.\n",
      "  all_pheno = pd.read_csv(\"/home/s1mi/enformer_rat_data/phenotypes/ALLTRAITSALLNORMALIZES_19jul24.csv\",\n"
     ]
    }
   ],
   "source": [
    "import pandas as pd\n",
    "all_pheno = pd.read_csv(\"/home/s1mi/enformer_rat_data/phenotypes/ALLTRAITSALLNORMALIZES_19jul24.csv\", \n",
    "                        usecols = ['rfid', 'dissection:regressedlr_length_w_tail_cm', 'dissection:regressedlr_bmi_w_tail'],\n",
    "                        index_col = 'rfid')\n",
    "all_pheno.columns = ['bodylen', 'bmi']\n",
    "pheno_rats = all_pheno[all_pheno['bodylen'].notna()].index\n"
   ]
  },
  {
   "cell_type": "code",
   "execution_count": null,
   "id": "c808c8e8",
   "metadata": {},
   "outputs": [],
   "source": [
    "import pysam\n",
    "vcf = pysam.VariantFile(\"/home/s1mi/enformer_rat_data/genotypes/ratgtex_v3_round10_5.rn7.vcf.gz\")\n",
    "geno_rats = list(vcf.header.samples)\n",
    "samples = pheno_rats.intersection(geno_rats)\n",
    "# with open(\"samples.txt\", \"w\") as f:\n",
    "    # f.write(\"\\n\".join(samples))\n"
   ]
  },
  {
   "cell_type": "markdown",
   "id": "aa0c82fc",
   "metadata": {},
   "source": [
    "\n",
    "I downloaded the [bed, bim, fam files](https://library.ucsd.edu/dc/object/bb5610743d), then filtered to the 8K rats with phenotype data.\n",
    "\n",
    "```\n",
    "curl -L -o bb5610743d.bed https://library.ucsd.edu/dc/object/bb5610743d/_2_1.bed/download\n",
    "```\n",
    "\n",
    "## Filter Samples\n",
    "\n",
    "```\n",
    "plink2 --bfile bb5610743d --keep-id samples.txt --export vcf bgz --out bodylen_bmi_8K_samples\n",
    "bcftools index -t bodylen_bmi_8K_samples.vcf.gz\n",
    "```\n",
    "\n",
    "## Split VCF\n",
    "```\n",
    "mkdir ~/enformer_rat_data/genotypes/bodylen_bmi_VCFs\n",
    "# Split VCF by chromosome\n",
    "vcf_in=bodylen_bmi_8K_samples.vcf.gz\n",
    "\n",
    "vcf_out_prefix=~/enformer_rat_data/genotypes/bodylen_bmi_VCFs/chr\n",
    "\n",
    "for i in {1..20}\n",
    "do\n",
    "    echo \"Working on chromosome ${i}...\"\n",
    "    bcftools view ${vcf_in} --regions ${i} -o ${vcf_out_prefix}${i}.vcf.gz -Oz\n",
    "done\n",
    "\n",
    "\n",
    "# Index VCFs\n",
    "for i in {1..20}\n",
    "do\n",
    "    echo \"Indexing chromosome ${i}...\"\n",
    "    bcftools index -t ${vcf_out_prefix}${i}.vcf.gz\n",
    "done\n",
    "```"
   ]
  },
  {
   "cell_type": "markdown",
   "id": "d54af00b",
   "metadata": {},
   "source": [
    "### Compute Haplotype Probabilities\n",
    "\n",
    "```\n",
    "conda activate genomics\n",
    "cd ~/Github/deep-learning-in-genomics/posts/2023-11-22-qtl2-founder-haps-pbs-job-array\n",
    "GENO_DIR=/Users/sabrinami/Desktop/HS_genotypes\n",
    "DATA_DIR=/Users/sabrinami/Desktop/qtl2_data\n",
    "for CHR in {1..20}\n",
    "do\n",
    "    python make_qtl2_inputs.py $GENO_DIR/bodylen_bmi_VCFs/chr${CHR}.vcf.gz $GENO_DIR/FounderVCFs/chr${CHR}.vcf.gz --working-dir $DATA_DIR/chr${CHR}_qtl2_founder_haps --gmap-dir $DATA_DIR/genetic_map\n",
    "done\n",
    "\n",
    "```"
   ]
  }
 ],
 "metadata": {
  "kernelspec": {
   "display_name": "ml-python",
   "language": "python",
   "name": "python3"
  },
  "language_info": {
   "codemirror_mode": {
    "name": "ipython",
    "version": 3
   },
   "file_extension": ".py",
   "mimetype": "text/x-python",
   "name": "python",
   "nbconvert_exporter": "python",
   "pygments_lexer": "ipython3",
   "version": "3.10.11"
  }
 },
 "nbformat": 4,
 "nbformat_minor": 5
}
