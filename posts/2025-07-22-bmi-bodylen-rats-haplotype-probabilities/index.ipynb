{
 "cells": [
  {
   "cell_type": "markdown",
   "id": "79026aef",
   "metadata": {},
   "source": [
    "# Preparing 8K rat genotypes with body lenght, BMI data\n",
    "\n",
    "## Write samples file\n",
    "\n",
    "First, we obtain a list of samples with body length and BMI data, then intersect with genotypes rats."
   ]
  },
  {
   "cell_type": "code",
   "execution_count": 5,
   "id": "1430c559",
   "metadata": {},
   "outputs": [
    {
     "name": "stderr",
     "output_type": "stream",
     "text": [
      "/tmp/ipykernel_46928/766119701.py:2: DtypeWarning: Columns (0) have mixed types. Specify dtype option on import or set low_memory=False.\n",
      "  all_pheno = pd.read_csv(\"/home/s1mi/enformer_rat_data/phenotypes/ALLTRAITSALLNORMALIZES_19jul24.csv\",\n"
     ]
    }
   ],
   "source": [
    "import pandas as pd\n",
    "all_pheno = pd.read_csv(\"/home/s1mi/enformer_rat_data/phenotypes/ALLTRAITSALLNORMALIZES_19jul24.csv\", \n",
    "                        usecols = ['rfid', 'dissection:regressedlr_length_w_tail_cm', 'dissection:regressedlr_bmi_w_tail'],\n",
    "                        index_col = 'rfid')\n",
    "all_pheno.columns = ['bodylen', 'bmi']\n",
    "pheno_rats = all_pheno[all_pheno['bodylen'].notna()].index\n"
   ]
  },
  {
   "cell_type": "code",
   "execution_count": null,
   "id": "c808c8e8",
   "metadata": {},
   "outputs": [],
   "source": [
    "import pysam\n",
    "vcf = pysam.VariantFile(\"/home/s1mi/enformer_rat_data/genotypes/ratgtex_v3_round10_5.rn7.vcf.gz\")\n",
    "geno_rats = list(vcf.header.samples)\n",
    "samples = pheno_rats.intersection(geno_rats)\n",
    "# with open(\"samples.txt\", \"w\") as f:\n",
    "    # f.write(\"\\n\".join(samples))\n"
   ]
  },
  {
   "cell_type": "markdown",
   "id": "aa0c82fc",
   "metadata": {},
   "source": [
    "\n",
    "I downloaded the [bed, bim, fam files](https://library.ucsd.edu/dc/object/bb5610743d), then filtered to the 8K rats with phenotype data.\n",
    "\n",
    "## Filter Samples\n",
    "\n",
    "```\n",
    "plink --bfile bb5610743d --keep-fam samples.txt --make-bed --out bodylen_bmi_8K_samples\n",
    "\n",
    "```\n",
    "\n",
    "## Convert NCBI RefSeq ID to chromosome numbers\n",
    "\n",
    "```\n",
    "bcftools annotate \\\n",
    "  --rename-chrs /home/s1mi/enformer_rat_data/annotation/mRatBN7.2_chromosome_names.txt \\\n",
    "  --threads 20 \\\n",
    "  -o /eagle/AIHPC4Edu/sabrina/scratch/ratgtex_v3_round10_5_annot.rn7.vcf \\\n",
    "  -Ov /home/s1mi/enformer_rat_data/genotypes/ratgtex_v3_round10_5.rn7.vcf.gz\n",
    "\n",
    "```\n",
    "\n",
    "## Replace Missing Genotypes with Reference Alleles\n",
    "\n",
    "```\n",
    "sed 's/\\.\\/\\./0\\/0/g' ratgtex_v3_round10_5_annot.rn7.vcf > ratgtex_v3_round10_5_no_missing.vcf\n",
    "```"
   ]
  },
  {
   "cell_type": "code",
   "execution_count": null,
   "id": "f02d3741",
   "metadata": {},
   "outputs": [],
   "source": []
  },
  {
   "cell_type": "markdown",
   "id": "d54af00b",
   "metadata": {},
   "source": [
    "### Compute Haplotype Probabilities\n",
    "\n",
    "```\n",
    "conda activate genomics\n",
    "cd Github/deep-learning-in-genomics/posts/2023-11-22-qtl2-founder-haps-pbs-job-array\n",
    "GENO_DIR=/Users/sabrinami/Desktop/Sabrina/2022-23/tutorials/enformer_pipeline_test/rn7_data\n",
    "DATA_DIR=/Users/sabrinami/Desktop/qtl2_data\n",
    "for CHR in {1..20}\n",
    "do\n",
    "    python make_qtl2_inputs.py $GENO_DIR/BrainVCFs/chr${CHR}.vcf.gz $GENO_DIR/FounderVCFs/chr${CHR}.vcf.gz --working-dir $DATA_DIR/chr${CHR}-qtl2-founder-haps --gmap-dir $DATA_DIR/genetic_map\n",
    "done\n",
    "\n",
    "```"
   ]
  }
 ],
 "metadata": {
  "kernelspec": {
   "display_name": "ml-python",
   "language": "python",
   "name": "python3"
  },
  "language_info": {
   "codemirror_mode": {
    "name": "ipython",
    "version": 3
   },
   "file_extension": ".py",
   "mimetype": "text/x-python",
   "name": "python",
   "nbconvert_exporter": "python",
   "pygments_lexer": "ipython3",
   "version": "3.10.11"
  }
 },
 "nbformat": 4,
 "nbformat_minor": 5
}
