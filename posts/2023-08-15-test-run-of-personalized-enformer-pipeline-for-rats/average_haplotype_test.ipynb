{
 "cells": [
  {
   "cell_type": "markdown",
   "metadata": {},
   "source": [
    "---\n",
    "title: Testing the Enformer pipeline's handling of unphased VCFs\n",
    "description: 'In the previous test, we added an option to read in unphased VCFs as if they were phased. It correctly ran Enformer on both \"haplotypes\", but to reduce number of runs, we implemented predictions on the mean haplotype for unphased VCFs. Now we check that the pipeline method returns the same results as original Enformer usage'\n",
    "author: Sabrina Mi\n",
    "date: 8/16/2023\n",
    "\n",
    "---\n",
    "\n",
    "\n",
    "### Read in h5 prediction file"
   ]
  },
  {
   "cell_type": "code",
   "execution_count": 2,
   "metadata": {},
   "outputs": [],
   "source": [
    "import numpy as np\n",
    "import h5py"
   ]
  },
  {
   "cell_type": "code",
   "execution_count": 24,
   "metadata": {},
   "outputs": [
    {
     "name": "stdout",
     "output_type": "stream",
     "text": [
      "[[0.23258275 0.2962714  0.52013165 ... 0.19615567 1.1101408  0.25560504]\n",
      " [0.15570731 0.20205402 0.3755348  ... 0.04365927 0.24989623 0.08517855]\n",
      " [0.1536611  0.21689793 0.4510562  ... 0.05227472 0.2147567  0.08478698]\n",
      " ...\n",
      " [0.1794057  0.22463816 0.29514343 ... 0.01105995 0.02652512 0.03385386]\n",
      " [0.1694869  0.20448665 0.26207498 ... 0.01688805 0.04071837 0.06028533]\n",
      " [0.15269741 0.20196484 0.22278813 ... 0.02438667 0.03900523 0.05988767]]\n"
     ]
    }
   ],
   "source": [
    "f = h5py.File(\"/Users/sabrinami/Desktop/2022-23/tutorials/enformer_pipeline_test/predictions_folder/personalized_enformer_rat_single_gene/predictions_2023-08-16/enformer_predictions/000789972A/haplotype0/chr20_12118762_12118762_predictions.h5\", \"r\")\n",
    "predictions1 = f['chr20_12118762_12118762'][()]\n",
    "print(predictions1)"
   ]
  },
  {
   "cell_type": "markdown",
   "metadata": {},
   "source": [
    "### Run non-pipeline Enformer"
   ]
  },
  {
   "cell_type": "code",
   "execution_count": 5,
   "metadata": {},
   "outputs": [],
   "source": [
    "import EnformerVCF\n",
    "import kipoiseq\n",
    "fasta_file = '/Users/sabrinami/Desktop/2022-23/tutorials/enformer_pipeline_test/rn7_data/reference_genome/rn7_genome.fasta'\n",
    "fasta_extractor = EnformerVCF.FastaStringExtractor(fasta_file)"
   ]
  },
  {
   "cell_type": "code",
   "execution_count": 7,
   "metadata": {},
   "outputs": [],
   "source": [
    "# read VCFs and encode haplotypes\n",
    "target_interval = kipoiseq.Interval(\"chr20\", 12118762, 12118762)\n",
    "chr20_vcf = EnformerVCF.read_vcf(\"/Users/sabrinami/enformer_rat_data/genotypes/BrainVCFs/chr20.vcf.gz\")\n",
    "haplo1, haplo2 = EnformerVCF.vcf_to_seq(target_interval, '000789972A', chr20_vcf, fasta_extractor)\n",
    "haplo1_enc = EnformerVCF.one_hot_encode(\"\".join(haplo1))[np.newaxis]\n",
    "haplo2_enc = EnformerVCF.one_hot_encode(\"\".join(haplo2))[np.newaxis]"
   ]
  },
  {
   "cell_type": "code",
   "execution_count": 21,
   "metadata": {},
   "outputs": [],
   "source": [
    "mean_haplo = (haplo1_enc + haplo2_enc) / 2\n",
    "predictions2 = EnformerVCF.model.predict_on_batch(mean_haplo)['human'][0]"
   ]
  },
  {
   "cell_type": "code",
   "execution_count": 25,
   "metadata": {},
   "outputs": [
    {
     "name": "stdout",
     "output_type": "stream",
     "text": [
      "There are 0 differences between the two matrices.\n"
     ]
    }
   ],
   "source": [
    "print(\"There are\", sum(sum(predictions1 != predictions2)), \"differences between the two matrices.\")"
   ]
  },
  {
   "cell_type": "markdown",
   "metadata": {},
   "source": [
    "It looks like our edits worked!"
   ]
  }
 ],
 "metadata": {
  "kernelspec": {
   "display_name": "tf",
   "language": "python",
   "name": "python3"
  },
  "language_info": {
   "codemirror_mode": {
    "name": "ipython",
    "version": 3
   },
   "file_extension": ".py",
   "mimetype": "text/x-python",
   "name": "python",
   "nbconvert_exporter": "python",
   "pygments_lexer": "ipython3",
   "version": "3.9.16"
  },
  "orig_nbformat": 4
 },
 "nbformat": 4,
 "nbformat_minor": 2
}
