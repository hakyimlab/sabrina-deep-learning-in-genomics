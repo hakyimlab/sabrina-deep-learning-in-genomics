{
 "cells": [
  {
   "cell_type": "markdown",
   "metadata": {},
   "source": [
    "---\n",
    "title: Running Enformer genome-wide on HS founder rats\n",
    "author: Sabrina Mi\n",
    "date: 11/7/2023\n",
    "---\n",
    "\n",
    "After subset to genes that were expressed in rat brain tissue, we end up with 23,867 genomic regions.\n"
   ]
  },
  {
   "cell_type": "code",
   "execution_count": null,
   "metadata": {},
   "outputs": [],
   "source": [
    "import pandas as pd\n",
    "rn7_reference_brain_gex = pd.read_csv(\"/home/s1mi/enformer_rat_data/output/rn7_reference_predicted_vs_observed_expression.csv\", index_col=0)\n",
    "gene_list = list(rn7_reference_brain_gex.index[rn7_reference_brain_gex['observed'] != 0])\n",
    "with open('Br_expressed_genes.txt', 'w') as f:\n",
    "    f.write(\"\\n\".join(gene_list))\n",
    "## write intervals.txt\n",
    "annot_df = pd.read_csv('/home/s1mi/enformer_rat_data/annotation/rn7.gene.txt', sep ='\\t',  index_col='geneId')\n",
    "\n",
    "def write_intervals(gene_list, file):\n",
    "    with open(file, 'w') as f:\n",
    "        for gene in gene_list:\n",
    "            gene_annot = annot_df.loc[gene]\n",
    "            tss = gene_annot['tss']\n",
    "            interval = f\"chr{gene_annot['chromosome']}_{tss}_{tss}\"\n",
    "            f.write(interval + '\\n')\n",
    "\n",
    "write_intervals(gene_list, \"metadata/intervals.txt\")\n"
   ]
  },
  {
   "cell_type": "markdown",
   "metadata": {},
   "source": [
    "### Run Pipeline\n",
    "\n",
    "```\n",
    "module load conda\n",
    "conda activate /lus/grand/projects/TFXcan/imlab/shared/software/conda_envs/enformer-predict-tools\n",
    "\n",
    "python /home/s1mi/Github/enformer_epigenome_pipeline/enformer_predict.py --parameters /home/s1mi/Github/deep-learning-in-genomics/posts/2023-11-07-HS-founder-epigenomes/founder_epigenome_config.json\n",
    "```"
   ]
  }
 ],
 "metadata": {
  "kernelspec": {
   "display_name": "base",
   "language": "python",
   "name": "base"
  },
  "language_info": {
   "codemirror_mode": {
    "name": "ipython",
    "version": 3
   },
   "file_extension": ".py",
   "mimetype": "text/x-python",
   "name": "python",
   "nbconvert_exporter": "python",
   "pygments_lexer": "ipython3",
   "version": "3.8.13"
  }
 },
 "nbformat": 4,
 "nbformat_minor": 2
}
