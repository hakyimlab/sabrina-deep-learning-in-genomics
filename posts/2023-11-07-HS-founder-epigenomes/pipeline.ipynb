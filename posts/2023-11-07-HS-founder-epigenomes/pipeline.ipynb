{
 "cells": [
  {
   "cell_type": "markdown",
   "metadata": {},
   "source": [
    "---\n",
    "title: Running Enformer genome-wide on HS founder rats\n",
    "author: Sabrina Mi\n",
    "date: 11/7/2023\n",
    "---\n",
    "\n",
    "After subset to genes that were expressed in rat brain tissue, we end up with 23,867 genomic regions.\n"
   ]
  },
  {
   "cell_type": "code",
   "execution_count": null,
   "metadata": {},
   "outputs": [],
   "source": [
    "import pandas as pd\n",
    "rn7_reference_brain_gex = pd.read_csv(\"/home/s1mi/enformer_rat_data/output/rn7_reference_predicted_vs_observed_expression.csv\", index_col=0)\n",
    "gene_list = list(rn7_reference_brain_gex.index[rn7_reference_brain_gex['observed'] != 0])\n",
    "with open('Br_expressed_genes.txt', 'w') as f:\n",
    "    f.write(\"\\n\".join(gene_list))\n",
    "## write intervals.txt\n",
    "annot_df = pd.read_csv('/home/s1mi/enformer_rat_data/annotation/rn7.gene.txt', sep ='\\t',  index_col='geneId')\n",
    "\n",
    "def write_intervals(gene_list, file):\n",
    "    with open(file, 'w') as f:\n",
    "        for gene in gene_list:\n",
    "            gene_annot = annot_df.loc[gene]\n",
    "            tss = gene_annot['tss']\n",
    "            interval = f\"chr{gene_annot['chromosome']}_{tss}_{tss}\"\n",
    "            f.write(interval + '\\n')\n",
    "\n",
    "write_intervals(gene_list, \"metadata/intervals.txt\")\n"
   ]
  },
  {
   "cell_type": "markdown",
   "metadata": {},
   "source": [
    "### Run Pipeline\n",
    "\n",
    "```\n",
    "module load conda\n",
    "conda activate enformer-predict-tools\n",
    "\n",
    "python /home/s1mi/Github/enformer_epigenome_pipeline/enformer_predict.py --parameters /home/s1mi/Github/deep-learning-in-genomics/posts/2023-11-07-HS-founder-epigenomes/founder_epigenome_config.json\n",
    "```\n",
    "\n",
    "## Check Predictions"
   ]
  },
  {
   "cell_type": "code",
   "execution_count": 4,
   "metadata": {},
   "outputs": [
    {
     "name": "stdout",
     "output_type": "stream",
     "text": [
      "human\n",
      "[[0.09566703 0.10165276 0.08404372 ... 0.00587161 0.06136435 0.04359803]\n",
      " [0.10662825 0.1139144  0.09694222 ... 0.00824633 0.07404334 0.06823193]\n",
      " [0.09993935 0.10983597 0.09347952 ... 0.00431036 0.06122369 0.04992136]\n",
      " ...\n",
      " [0.06703217 0.06465818 0.05357087 ... 0.01535742 0.05460119 0.04726781]\n",
      " [0.03674487 0.03669333 0.02561367 ... 0.00362175 0.01091049 0.00503846]\n",
      " [0.06257919 0.07025048 0.06735092 ... 0.00419223 0.00971855 0.00822341]]\n",
      "mouse\n",
      "[[0.09508593 0.04494116 0.08364319 ... 0.24798432 0.38567212 0.3783706 ]\n",
      " [0.09461962 0.05752731 0.08894978 ... 0.299645   0.44955045 0.44385162]\n",
      " [0.10998561 0.07225344 0.09443015 ... 0.2621954  0.35028058 0.3864176 ]\n",
      " ...\n",
      " [0.04612014 0.0642754  0.07402609 ... 0.4328676  1.1677598  0.7585961 ]\n",
      " [0.02304047 0.02882738 0.04057743 ... 0.13793258 0.27883688 0.23426382]\n",
      " [0.04535931 0.05920705 0.08596259 ... 0.24028273 0.40435565 0.40454867]]\n"
     ]
    }
   ],
   "source": [
    "import h5py\n",
    "h5_file = \"/eagle/AIHPC4Edu/sabrina/Br_predictions/predictions_folder/HS_founders_genome_wide/predictions_2023-11-27/enformer_predictions/BN/haplotype0/chr10_100115821_100115821_predictions.h5\"\n",
    "with h5py.File(h5_file, \"r\") as hf:\n",
    "    for key, value in hf.items():\n",
    "        print(key)\n",
    "        print(value[:])"
   ]
  }
 ],
 "metadata": {
  "kernelspec": {
   "display_name": "base",
   "language": "python",
   "name": "base"
  },
  "language_info": {
   "codemirror_mode": {
    "name": "ipython",
    "version": 3
   },
   "file_extension": ".py",
   "mimetype": "text/x-python",
   "name": "python",
   "nbconvert_exporter": "python",
   "pygments_lexer": "ipython3",
   "version": "3.8.13"
  }
 },
 "nbformat": 4,
 "nbformat_minor": 2
}
