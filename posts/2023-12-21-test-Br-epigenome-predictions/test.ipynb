{
 "cells": [
  {
   "cell_type": "markdown",
   "metadata": {},
   "source": [
    "---\n",
    "title: EpigenomeXcan Test\n",
    "date: 12/27/2023\n",
    "author: Sabrina Mi\n",
    "---\n"
   ]
  },
  {
   "cell_type": "code",
   "execution_count": 1,
   "metadata": {},
   "outputs": [
    {
     "name": "stderr",
     "output_type": "stream",
     "text": [
      "2024-01-01 00:07:28.645287: I tensorflow/core/platform/cpu_feature_guard.cc:193] This TensorFlow binary is optimized with oneAPI Deep Neural Network Library (oneDNN) to use the following CPU instructions in performance-critical operations:  SSE3 SSE4.1 SSE4.2 AVX AVX2 FMA\n",
      "To enable them in other operations, rebuild TensorFlow with the appropriate compiler flags.\n",
      "2024-01-01 00:07:32.645283: E tensorflow/stream_executor/cuda/cuda_blas.cc:2981] Unable to register cuBLAS factory: Attempting to register factory for plugin cuBLAS when one has already been registered\n"
     ]
    }
   ],
   "source": [
    "import numpy as np\n",
    "import h5py\n",
    "import tensorflow as tf\n",
    "import sqlite3\n",
    "import pandas as pd"
   ]
  },
  {
   "cell_type": "code",
   "execution_count": 2,
   "metadata": {},
   "outputs": [],
   "source": [
    "gene = \"ENSRNOG00000070168\"\n",
    "chr = \"chr1\"\n",
    "tss = 157231467\n",
    "start = tss-57344\n",
    "end = tss+57344\n",
    "sample = \"00078A02B6\""
   ]
  },
  {
   "cell_type": "code",
   "execution_count": 3,
   "metadata": {},
   "outputs": [],
   "source": [
    "columns = ['POS', 'ACI', 'BN', 'BUF', 'F344', 'M520', 'MR', 'WKY', 'WN']\n",
    "def query(cursor, sample, start, end):\n",
    "    # Execute SQL query\n",
    "    cursor.execute(f'SELECT * FROM `{sample}` WHERE POS BETWEEN {start} AND {end-1}')\n",
    "    # Fetch all rows\n",
    "    data = cursor.fetchall()\n",
    "    df = pd.DataFrame(data, columns=columns)\n",
    "    return df"
   ]
  },
  {
   "cell_type": "code",
   "execution_count": 4,
   "metadata": {},
   "outputs": [],
   "source": [
    "conn = sqlite3.connect(f\"/home/s1mi/Br_genotype_probabilities/{chr}_probabilities.db\")\n",
    "cursor = conn.cursor()\n",
    "prob = query(cursor, sample, start, end)"
   ]
  },
  {
   "cell_type": "code",
   "execution_count": 5,
   "metadata": {},
   "outputs": [],
   "source": [
    "pr_mean = prob.mean()[1:]\n",
    "pr_matrix = np.tile(pr_mean, (896,1))\n",
    "indices = (prob['POS'] - start) // 128\n",
    "pr_matrix[indices, :] = prob.iloc[:, 1:].values"
   ]
  },
  {
   "cell_type": "code",
   "execution_count": 6,
   "metadata": {},
   "outputs": [],
   "source": [
    "with h5py.File(f\"/eagle/AIHPC4Edu/sabrina/Br_predictions/HS_founder_epigenomes/human/{chr}_genes.h5\", \"r\") as hf:\n",
    "    matrix = hf[gene][:]\n"
   ]
  },
  {
   "cell_type": "code",
   "execution_count": 13,
   "metadata": {},
   "outputs": [],
   "source": [
    "ref_matrix = np.transpose(matrix, axes=(1, 0, 2))"
   ]
  },
  {
   "cell_type": "code",
   "execution_count": 27,
   "metadata": {},
   "outputs": [],
   "source": [
    "res_matrix = np.squeeze(pr_matrix[:, np.newaxis,:] @ ref_matrix, 1)"
   ]
  }
 ],
 "metadata": {
  "kernelspec": {
   "display_name": "base",
   "language": "python",
   "name": "base"
  },
  "language_info": {
   "codemirror_mode": {
    "name": "ipython",
    "version": 3
   },
   "file_extension": ".py",
   "mimetype": "text/x-python",
   "name": "python",
   "nbconvert_exporter": "python",
   "pygments_lexer": "ipython3",
   "version": "3.8.13"
  }
 },
 "nbformat": 4,
 "nbformat_minor": 2
}
