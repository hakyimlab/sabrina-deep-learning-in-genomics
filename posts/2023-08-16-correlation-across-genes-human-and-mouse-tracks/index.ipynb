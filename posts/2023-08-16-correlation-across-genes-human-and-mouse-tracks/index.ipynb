{
 "cells": [
  {
   "cell_type": "markdown",
   "metadata": {},
   "source": [
    "---\n",
    "title: Running Enformer across all rn7 genes (continued)\n",
    "author: Sabrina Mi\n",
    "description: We pick up where we left off last time with predicting epigenome across all genes, trying to run the Enformer pipeline on intervals we missed the first time because of batching issues. Additionally, we'll try using the added mouse head parameter\n",
    "date: 8/10/23\n",
    "---\n",
    "\n",
    "## Create list of regions to exclude\n",
    "\n",
    "We have predictions for 19,493 genes out of the 30,057 intervals supplied. We'll take those 19,493 intervals with successful predictions and put them file for the pipeline to exclude."
   ]
  },
  {
   "cell_type": "code",
   "execution_count": 8,
   "metadata": {},
   "outputs": [],
   "source": [
    "import os\n",
    "\n",
    "job_log_dir = \"/home/s1mi/Br_predictions/predictions_folder/reference_Br_all_genes/predictions_2023-08-18/job_logs\"\n",
    "predictions_dir = \"/home/s1mi/Br_predictions/predictions_folder/reference_Br_all_genes/predictions_2023-08-16/enformer_predictions/reference_Br/haplotype0\"\n"
   ]
  },
  {
   "cell_type": "code",
   "execution_count": 7,
   "metadata": {},
   "outputs": [],
   "source": [
    "\n",
    "predictions = os.listdir(predictions_dir)\n",
    "predicted_regions = [file.replace(\"_predictions.h5\",\"\") for file in predictions]\n",
    "with open(f\"{job_log_dir}/invalid_queries.csv\", \"w\") as file:\n",
    "    file.write(\"region\\n\")\n",
    "    file.write(\"\\n\".join(predicted_regions))\n"
   ]
  }
 ],
 "metadata": {
  "kernelspec": {
   "display_name": "base",
   "language": "python",
   "name": "base"
  },
  "language_info": {
   "codemirror_mode": {
    "name": "ipython",
    "version": 3
   },
   "file_extension": ".py",
   "mimetype": "text/x-python",
   "name": "python",
   "nbconvert_exporter": "python",
   "pygments_lexer": "ipython3",
   "version": "3.8.13"
  },
  "orig_nbformat": 4
 },
 "nbformat": 4,
 "nbformat_minor": 2
}
