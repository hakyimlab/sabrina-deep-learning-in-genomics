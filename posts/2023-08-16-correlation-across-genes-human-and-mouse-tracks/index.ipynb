{
 "cells": [
  {
   "cell_type": "markdown",
   "metadata": {},
   "source": [
    "---\n",
    "title: Running Enformer across all rn7 genes (continued)\n",
    "author: Sabrina Mi\n",
    "description: We pick up where we left off last time with predicting epigenome across all genes, trying to run the Enformer pipeline on intervals we missed the first time because of batching issues. Additionally, we'll try using the added mouse head parameter\n",
    "date: 8/10/23\n",
    "---\n",
    "\n",
    "We'll reuse the `intervals.txt` file that spanned all TSS in the rn7 genome.\n",
    "\n",
    "###"
   ]
  }
 ],
 "metadata": {
  "language_info": {
   "name": "python"
  },
  "orig_nbformat": 4
 },
 "nbformat": 4,
 "nbformat_minor": 2
}
