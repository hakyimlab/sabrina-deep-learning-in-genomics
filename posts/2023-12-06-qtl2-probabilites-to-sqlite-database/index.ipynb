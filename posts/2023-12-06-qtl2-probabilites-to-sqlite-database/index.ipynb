{
 "cells": [
  {
   "cell_type": "markdown",
   "metadata": {},
   "source": [
    "---\n",
    "title: Organizing founder haplotype probabilities into SQLite database\n",
    "author: Sabrina Mi\n",
    "date: 12/6/2023\n",
    "---\n",
    "\n",
    "We want to store the qtl2 outputs in a database that is easily queryable by sample ID and genomic region."
   ]
  },
  {
   "cell_type": "code",
   "execution_count": 22,
   "metadata": {},
   "outputs": [],
   "source": [
    "import os\n",
    "import pandas as pd\n",
    "import sqlite3\n",
    "import numpy as np\n",
    "probabilities_dir = '/home/s1mi/Br_genotype_probabilities'\n",
    "individuals = [d for d in os.listdir(probabilities_dir) if os.path.isdir(os.path.join(probabilities_dir, d))]"
   ]
  },
  {
   "cell_type": "code",
   "execution_count": 13,
   "metadata": {},
   "outputs": [],
   "source": [
    "# Function to read CSV files and create tables in SQLite database\n",
    "def create_sqlite_db(N):\n",
    "    # Connect to SQLite database\n",
    "    conn = sqlite3.connect(os.path.join(probabilities_dir, f'chr{N}_probabilities.db'))\n",
    "    \n",
    "    for individual in individuals:\n",
    "        check_query = f\"SELECT name FROM sqlite_master WHERE type='table' AND name='{individual}';\"\n",
    "        # Read the result of the query into a DataFrame\n",
    "        existing_table = pd.read_sql_query(check_query, conn)\n",
    "\n",
    "        # If the table doesn't exist, create table\n",
    "        if existing_table.empty:\n",
    "            prob_csv = os.path.join(probabilities_dir, individual, f'chr{N}_probabilities.csv')\n",
    "            df = pd.read_csv(prob_csv, index_col=0)\n",
    "            positions = df.index.str.replace(f\"chr{N}:\", \"\").astype(int) \n",
    "            df.insert(0, 'POS', positions)\n",
    "            df.to_sql(individual, conn, if_exists='replace', index=False)\n",
    "    # Commit changes and close connection\n",
    "    conn.commit()\n",
    "    conn.close()\n"
   ]
  },
  {
   "cell_type": "code",
   "execution_count": null,
   "metadata": {},
   "outputs": [],
   "source": [
    "for N in range(1,21):\n",
    "    print(\"Working on chromosome\", N)\n",
    "    create_sqlite_db(N)\n"
   ]
  },
  {
   "cell_type": "markdown",
   "metadata": {},
   "source": [
    "## Preview Database"
   ]
  },
  {
   "cell_type": "code",
   "execution_count": 17,
   "metadata": {},
   "outputs": [
    {
     "name": "stdout",
     "output_type": "stream",
     "text": [
      "Table: 00078A02B6\n",
      "(3201, 0.499262964281572, 1.88520490019066e-06, 0.162477747051664, 0.0129312367910615, 0.162477747062661, 0.162477747068122, 1.88520490019106e-06, 0.0003687873347151)\n",
      "(7226, 0.499997674934029, 4.75965339555511e-08, 0.162469115322473, 0.0125925304011694, 0.162469115333482, 0.162469115338949, 4.75965339555847e-08, 2.35347571803293e-06)\n",
      "(7266, 0.499999935708622, 3.16496421849708e-08, 0.162469769268664, 0.0125905455363656, 0.162469769279672, 0.162469769285139, 3.16496421849787e-08, 1.47622298115919e-07)\n",
      "Table: 00078A16DB\n",
      "(3201, 0.499262964281493, 1.88520490019009e-06, 0.162477747051738, 0.0129312367910557, 0.16247774706207, 0.162477747068565, 1.88520490019092e-06, 0.0003687873347151)\n",
      "(7226, 0.499997674934177, 4.75965339555652e-08, 0.162469115322621, 0.0125925304011694, 0.162469115332964, 0.162469115339466, 4.75965339555987e-08, 2.35347571803365e-06)\n",
      "(7266, 0.499999935708543, 3.16496421849658e-08, 0.162469769268737, 0.0125905455363599, 0.162469769279081, 0.162469769285583, 3.16496421849737e-08, 1.47622298115918e-07)\n",
      "Table: 000789FF72\n",
      "(3201, 0.0003664564160026, 1.85213961479645e-06, 0.324211104988895, 0.0254914257674219, 0.325349456441836, 0.324211105067843, 1.85213961479693e-06, 0.0003667470385653)\n",
      "(7226, 2.21861272689951e-08, 1.60772193495428e-10, 0.324559451115323, 0.0251804466288168, 0.325700315103997, 0.324559451194463, 1.60772193495378e-10, 3.13450143706256e-07)\n",
      "(7266, 9.90597147195846e-12, 1.42360488857325e-13, 0.324560774755233, 0.0251764992806042, 0.325701658830483, 0.324560774834422, 1.4236048885734499e-13, 2.92289221332857e-07)\n",
      "Table: 0007929C19\n",
      "(3201, 0.0003664564160031, 1.85213961479936e-06, 0.179968257973192, 0.459358312378058, 0.179968263935356, 0.179968257979997, 1.85213961479891e-06, 0.000366747038566)\n",
      "(7226, 2.21861272690162e-08, 1.60772193495526e-10, 0.179998235542256, 0.460004951434442, 0.179998241517562, 0.179998235549009, 1.60772193495612e-10, 3.13450143706583e-07)\n",
      "(7266, 9.905971471970129e-12, 1.42360488857486e-13, 0.179997013978896, 0.460008659782977, 0.179997019954297, 0.179997013985643, 1.42360488857615e-13, 2.92289221333234e-07)\n",
      "Table: 000789FF64\n",
      "(3201, 0.499262964281413, 1.88520490018993e-06, 0.162477747051369, 0.0129312367910499, 0.162477747062366, 0.162477747068565, 1.88520490019076e-06, 0.0003687873347151)\n",
      "(7226, 0.499997674934097, 4.75965339555576e-08, 0.162469115322252, 0.0125925304011637, 0.16246911533326, 0.162469115339466, 4.75965339555912e-08, 2.35347571803323e-06)\n",
      "(7266, 0.49999993570869, 3.16496421849751e-08, 0.162469769268442, 0.0125905455363599, 0.16246976927945, 0.162469769285657, 3.1649642184983e-08, 1.47622298115919e-07)\n"
     ]
    }
   ],
   "source": [
    "# Connect to the SQLite database\n",
    "conn = sqlite3.connect('/eagle/AIHPC4Edu/sabrina/Br_genotype_probabilities/chr20_probabilities.db')\n",
    "\n",
    "# Create a cursor object\n",
    "cursor = conn.cursor()\n",
    "\n",
    "query_tables = \"SELECT name FROM sqlite_master WHERE type='table';\"\n",
    "\n",
    "# Execute the query to get table names\n",
    "cursor.execute(query_tables)\n",
    "\n",
    "# Fetch all table names\n",
    "tables = cursor.fetchall()\n",
    "\n",
    "# Iterate through tables and print their data\n",
    "for table in tables[:5]:\n",
    "    table_name = table[0]\n",
    "    print(f\"Table: {table_name}\")\n",
    "    \n",
    "    # Query to fetch all data from the table\n",
    "    query_data = f\"SELECT * FROM `{table_name}` LIMIT 3;\"\n",
    "    cursor.execute(query_data)\n",
    "    \n",
    "    # Fetch all data from the table\n",
    "    table_data = cursor.fetchall()\n",
    "    \n",
    "    # Print the table's data\n",
    "    for row in table_data:\n",
    "        print(row)\n",
    "# Close the database connection\n",
    "conn.close()\n"
   ]
  },
  {
   "cell_type": "code",
   "execution_count": 29,
   "metadata": {},
   "outputs": [
    {
     "name": "stdout",
     "output_type": "stream",
     "text": [
      "{'00078A02B6':     POS       ACI            BN       BUF      F344      M520        MR  \\\n",
      "0  7226  0.499998  4.759653e-08  0.162469  0.012593  0.162469  0.162469   \n",
      "1  7266  0.500000  3.164964e-08  0.162470  0.012591  0.162470  0.162470   \n",
      "2  7269  0.500000  3.039399e-08  0.162470  0.012590  0.162470  0.162470   \n",
      "3  7341  0.500000  2.313504e-09  0.162471  0.012587  0.162471  0.162471   \n",
      "4  7581  0.500000  2.433167e-09  0.162475  0.012575  0.162475  0.162475   \n",
      "\n",
      "            WKY            WN  \n",
      "0  4.759653e-08  2.353476e-06  \n",
      "1  3.164964e-08  1.476223e-07  \n",
      "2  3.039399e-08  1.459054e-07  \n",
      "3  2.313504e-09  1.265991e-07  \n",
      "4  2.433167e-09  6.040197e-08  , '00078A16DB':     POS       ACI            BN       BUF      F344      M520        MR  \\\n",
      "0  7226  0.499998  4.759653e-08  0.162469  0.012593  0.162469  0.162469   \n",
      "1  7266  0.500000  3.164964e-08  0.162470  0.012591  0.162470  0.162470   \n",
      "2  7269  0.500000  3.039399e-08  0.162470  0.012590  0.162470  0.162470   \n",
      "3  7341  0.500000  2.313504e-09  0.162471  0.012587  0.162471  0.162471   \n",
      "4  7581  0.500000  2.433167e-09  0.162475  0.012575  0.162475  0.162475   \n",
      "\n",
      "            WKY            WN  \n",
      "0  4.759653e-08  2.353476e-06  \n",
      "1  3.164964e-08  1.476223e-07  \n",
      "2  3.039399e-08  1.459054e-07  \n",
      "3  2.313504e-09  1.265991e-07  \n",
      "4  2.433167e-09  6.040197e-08  , '000789FF72':     POS       ACI            BN       BUF      F344      M520        MR  \\\n",
      "0  7226  0.499998  4.759653e-08  0.162469  0.012593  0.162469  0.162469   \n",
      "1  7266  0.500000  3.164964e-08  0.162470  0.012591  0.162470  0.162470   \n",
      "2  7269  0.500000  3.039399e-08  0.162470  0.012590  0.162470  0.162470   \n",
      "3  7341  0.500000  2.313504e-09  0.162471  0.012587  0.162471  0.162471   \n",
      "4  7581  0.500000  2.433167e-09  0.162475  0.012575  0.162475  0.162475   \n",
      "\n",
      "            WKY            WN  \n",
      "0  4.759653e-08  2.353476e-06  \n",
      "1  3.164964e-08  1.476223e-07  \n",
      "2  3.039399e-08  1.459054e-07  \n",
      "3  2.313504e-09  1.265991e-07  \n",
      "4  2.433167e-09  6.040197e-08  }\n"
     ]
    }
   ],
   "source": [
    "interval = ('chr20', 7230- 512, 7230 + 512)\n",
    "probabilities = {}\n",
    "for individual in individuals[:3]:\n",
    "    db = os.path.join(probabilities_dir, f\"{interval[0]}_probabilities.db\")\n",
    "    conn = sqlite3.connect(db)\n",
    "    # Create a cursor object\n",
    "    cursor = conn.cursor()\n",
    "    # Parameterized query to select rows within the specified interval for the 'POS' column\n",
    "    query = f\"SELECT * FROM `{table_name}` WHERE POS BETWEEN {interval[1]} AND {interval[2]};\"\n",
    "    # Execute the query with the interval bounds as parameters\n",
    "    df = pd.read_sql_query(query, conn)\n",
    "    probabilities[individual] = df\n",
    "print(probabilities)\n",
    "    \n"
   ]
  }
 ],
 "metadata": {
  "kernelspec": {
   "display_name": "base",
   "language": "python",
   "name": "base"
  },
  "language_info": {
   "codemirror_mode": {
    "name": "ipython",
    "version": 3
   },
   "file_extension": ".py",
   "mimetype": "text/x-python",
   "name": "python",
   "nbconvert_exporter": "python",
   "pygments_lexer": "ipython3",
   "version": "3.8.13"
  }
 },
 "nbformat": 4,
 "nbformat_minor": 2
}
