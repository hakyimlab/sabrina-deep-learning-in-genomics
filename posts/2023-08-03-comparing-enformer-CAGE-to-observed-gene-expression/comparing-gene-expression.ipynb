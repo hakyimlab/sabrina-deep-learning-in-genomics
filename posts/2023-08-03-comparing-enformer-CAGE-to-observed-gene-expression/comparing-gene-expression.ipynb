{
 "cells": [
  {
   "cell_type": "markdown",
   "metadata": {},
   "source": [
    "---\n",
    "title: First attempt of comparing predicted vs observed gene expression\n",
    "description: In this run, we centered enformer predictions around start and end for each gene. The plots show no association, but we will continue to use this template for plotting CAGE expression as we refine our approach to choosing genes for examination.\n",
    "author: Sabrina Mi\n",
    "date: 8/3/23\n",
    "---"
   ]
  },
  {
   "cell_type": "code",
   "execution_count": 13,
   "metadata": {},
   "outputs": [
    {
     "name": "stderr",
     "output_type": "stream",
     "text": [
      "/tmp/ipykernel_156512/1612639889.py:5: DtypeWarning: Columns (0) have mixed types. Specify dtype option on import or set low_memory=False.\n",
      "  obs_gene_expr = pd.read_csv(gene_expr_bed, sep=\"\\t\", header=0, index_col='gene_id')\n"
     ]
    }
   ],
   "source": [
    "gene_expr_bed = \"/home/s1mi/enformer_rat_data/Brain.rn7.expr.tpm.bed\"\n",
    "\n",
    "import pandas as pd\n",
    "import numpy as np\n",
    "obs_gene_expr = pd.read_csv(gene_expr_bed, sep=\"\\t\", header=0, index_col='gene_id')"
   ]
  },
  {
   "cell_type": "code",
   "execution_count": 14,
   "metadata": {},
   "outputs": [],
   "source": [
    "gene_list = ['ENSRNOG00000001342', 'ENSRNOG00000020624', 'ENSRNOG00000058006', 'ENSRNOG00000060045']\n",
    "#print(obs_gene_expr.loc[gene_list])\n",
    "\n",
    "pred_vs_obs = {}\n",
    "for gene in gene_list:\n",
    "    obs = obs_gene_expr.loc[gene][3:]\n",
    "    pred_vs_obs[gene] = pd.DataFrame({\"observed\": obs, \"predicted\": np.zeros(obs.shape)})"
   ]
  },
  {
   "cell_type": "code",
   "execution_count": 12,
   "metadata": {},
   "outputs": [],
   "source": [
    "def compute_tss_bin(output_window_coords_resized, tss_position, output_length=114688, bin_length=128, rc=False):\n",
    "    '''\n",
    "    Computes the bin index of the enformer output bin containing the TSS\n",
    "    Inputs:\n",
    "    output_window_coords_resized: Kipoiseq interval for the output window of Enformer, should already be resized to the model output window size\n",
    "    tss_position: absolute location of TSS\n",
    "    output_length: Length of output window in base pairs\n",
    "    bin_size: Length of output bins in base pairs\n",
    "    Outputs:\n",
    "    tss_bin: Index of bin containing TSS\n",
    "    '''\n",
    "    try:\n",
    "        relative_position = int(tss_position) - int(output_window_coords_resized.start)\n",
    "    except:\n",
    "    # print(tss_position)\n",
    "    # print(output_window_coords_resized.start)\n",
    "        sys.exit()\n",
    "\n",
    "    if relative_position < 0 or relative_position > output_length:\n",
    "        # print(tss_position, \"appears to be out of bounds for output window: \",output_window_coords_resized)\n",
    "        return None \n",
    "    else:\n",
    "        center = relative_position // bin_length\n",
    "\n",
    "        \n",
    "        if rc:\n",
    "            number_of_bins = int(output_length/bin_length)\n",
    "            new_center = number_of_bins - 1 - center\n",
    "            # print(new_center)\n",
    "            return [new_center-1,new_center,new_center+1]\n",
    "        else:\n",
    "            # print(center)\n",
    "            return [center-1,center,center+1]"
   ]
  },
  {
   "cell_type": "code",
   "execution_count": 6,
   "metadata": {},
   "outputs": [
    {
     "name": "stdout",
     "output_type": "stream",
     "text": [
      "                            geneSymbol chromosome      start        end  \\\n",
      "geneId                                                                    \n",
      "ENSRNOG00000001342  ENSRNOG00000001342         12   33261476   33293932   \n",
      "ENSRNOG00000020624              Acadsb          1  186188987  186230379   \n",
      "ENSRNOG00000058006                Sncg         16    9700514    9705368   \n",
      "ENSRNOG00000060045               Pi4ka         11   83609069   83724080   \n",
      "\n",
      "                   strand        tss  \\\n",
      "geneId                                 \n",
      "ENSRNOG00000001342      -   33293932   \n",
      "ENSRNOG00000020624      +  186188987   \n",
      "ENSRNOG00000058006      -    9705368   \n",
      "ENSRNOG00000060045      +   83609069   \n",
      "\n",
      "                                                     description  hasEqtl  \\\n",
      "geneId                                                                      \n",
      "ENSRNOG00000001342     cilia and flagella associated protein 251     True   \n",
      "ENSRNOG00000020624  acyl-CoA dehydrogenase, short/branched chain     True   \n",
      "ENSRNOG00000058006                              synuclein, gamma     True   \n",
      "ENSRNOG00000060045           phosphatidylinositol 4-kinase alpha     True   \n",
      "\n",
      "                    expr_BLA  expr_Brain  ...  sqtl_BLA  sqtl_Brain  sqtl_Eye  \\\n",
      "geneId                                    ...                                   \n",
      "ENSRNOG00000001342      True        True  ...     False        True     False   \n",
      "ENSRNOG00000020624      True        True  ...      True        True     False   \n",
      "ENSRNOG00000058006      True        True  ...     False        True     False   \n",
      "ENSRNOG00000060045      True        True  ...     False       False     False   \n",
      "\n",
      "                    sqtl_IL  sqtl_LHb  sqtl_NAcc  sqtl_NAcc2  sqtl_OFC  \\\n",
      "geneId                                                                   \n",
      "ENSRNOG00000001342    False     False      False       False     False   \n",
      "ENSRNOG00000020624    False     False      False        True     False   \n",
      "ENSRNOG00000058006    False     False      False       False     False   \n",
      "ENSRNOG00000060045    False     False      False       False     False   \n",
      "\n",
      "                    sqtl_PL  sqtl_PL2  \n",
      "geneId                                 \n",
      "ENSRNOG00000001342    False     False  \n",
      "ENSRNOG00000020624    False      True  \n",
      "ENSRNOG00000058006    False     False  \n",
      "ENSRNOG00000060045    False     False  \n",
      "\n",
      "[4 rows x 68 columns]\n"
     ]
    },
    {
     "name": "stderr",
     "output_type": "stream",
     "text": [
      "/tmp/ipykernel_156512/3990301426.py:1: DtypeWarning: Columns (2) have mixed types. Specify dtype option on import or set low_memory=False.\n",
      "  annot_df = pd.read_csv(\"/home/s1mi/enformer_rat_data/rn7.gene.txt\", sep=\"\\t\", index_col='geneId')\n"
     ]
    }
   ],
   "source": [
    "annot_df = pd.read_csv(\"/home/s1mi/enformer_rat_data/rn7.gene.txt\", sep=\"\\t\", index_col='geneId')\n",
    "print(annot_df.loc[gene_list])"
   ]
  },
  {
   "cell_type": "code",
   "execution_count": 15,
   "metadata": {},
   "outputs": [
    {
     "name": "stdout",
     "output_type": "stream",
     "text": [
      "ENSRNOG00000001342\n",
      "[0.00573627 0.00507914 0.0072732  0.00559864 0.00767822]\n",
      "[0.00573627 0.00507914 0.0072732  0.00559864 0.00767822]\n",
      "[0.00573627 0.00507914 0.0072732  0.00559864 0.00767822]\n",
      "[0.00573627 0.00507914 0.0072732  0.00559864 0.00767822]\n",
      "[0.00573627 0.00507914 0.0072732  0.00559864 0.00767822]\n",
      "ENSRNOG00000020624\n",
      "[5.7827654  4.293017   7.8872423  0.10644712 0.05631344]\n",
      "[5.7819533  4.290507   7.8848658  0.10634203 0.05630142]\n",
      "[5.7827654  4.293017   7.8872423  0.10644712 0.05631344]\n",
      "[5.7827654  4.293017   7.8872423  0.10644712 0.05631344]\n",
      "[5.7827654  4.293017   7.8872423  0.10644712 0.05631344]\n",
      "ENSRNOG00000058006\n",
      "[1.4247483e+01 5.7383850e-02 1.2978141e-02 9.7031957e-03 1.5117653e-02]\n",
      "[1.42411528e+01 5.73353358e-02 1.29730888e-02 9.69883148e-03\n",
      " 1.51052885e-02]\n",
      "[1.4247483e+01 5.7383850e-02 1.2978141e-02 9.7031957e-03 1.5117653e-02]\n",
      "[1.4247483e+01 5.7383850e-02 1.2978141e-02 9.7031957e-03 1.5117653e-02]\n",
      "[1.4247483e+01 5.7383850e-02 1.2978141e-02 9.7031957e-03 1.5117653e-02]\n",
      "ENSRNOG00000060045\n",
      "Skipping ENSRNOG00000060045\n"
     ]
    }
   ],
   "source": [
    "import kipoiseq # for manipulating fasta files\n",
    "from kipoiseq import Interval # same as above, really\n",
    "import sys\n",
    "import h5py\n",
    "predictions_dir = \"/home/s1mi/enformer_rat_pipeline/predictions_folder/personalized_enformer_minimal_some_regions/predictions_2023-07-26/enformer_predictions\"\n",
    "\n",
    "\n",
    "for gene in gene_list:\n",
    "    print(gene)\n",
    "    gene_annot = annot_df.loc[gene]\n",
    "    interval_obj = Interval(\"chr\" + str(gene_annot['chromosome']), gene_annot['start'], gene_annot['end'])\n",
    "    tss_bins = compute_tss_bin(interval_obj.resize(114688), gene_annot['tss'])\n",
    "    if tss_bins is None:\n",
    "        print(\"Skipping\", gene)\n",
    "        continue\n",
    "    interval = f\"chr{gene_annot['chromosome']}_{gene_annot['start']}_{gene_annot['end']}\"\n",
    "    i=0\n",
    "    for individual in pred_vs_obs[gene].index:\n",
    "        predictions = h5py.File(f\"{predictions_dir}/{individual}/haplotype1/{interval}_predictions.h5\", \"r\")\n",
    "        matrix = predictions[interval][()]\n",
    "        extra_bins =  [tss_bins[0] - 1] + tss_bins + [tss_bins[2] + 1]\n",
    "        if i < 5:\n",
    "            print(matrix[extra_bins, 4980])\n",
    "            i += 1\n",
    "        pred_expr = np.average(matrix[tss_bins, 4980])\n",
    "        pred_vs_obs[gene].loc[individual, \"predicted\"] = pred_expr\n",
    "\n",
    "    \n"
   ]
  },
  {
   "cell_type": "code",
   "execution_count": 18,
   "metadata": {},
   "outputs": [
    {
     "name": "stdout",
     "output_type": "stream",
     "text": [
      "{'ENSRNOG00000001342':            observed  predicted\n",
      "000789972A     7.53   0.005984\n",
      "0007899884    11.35   0.005984\n",
      "000789FF64     9.33   0.005984\n",
      "00079298B1     9.88   0.005984\n",
      "00079299B5      9.9   0.005984\n",
      "...             ...        ...\n",
      "00079FF7D6     7.63   0.005984\n",
      "0007899826     2.83   0.005984\n",
      "0007929917     8.29   0.005984\n",
      "00077E82E3    10.05   0.005985\n",
      "00078A18A7     6.73   0.005984\n",
      "\n",
      "[340 rows x 2 columns], 'ENSRNOG00000020624':            observed  predicted\n",
      "000789972A    44.43   4.095569\n",
      "0007899884    50.12   4.093905\n",
      "000789FF64    62.47   4.095569\n",
      "00079298B1    64.97   4.095569\n",
      "00079299B5    57.53   4.095569\n",
      "...             ...        ...\n",
      "00079FF7D6     53.3   4.093905\n",
      "0007899826    52.88   4.093905\n",
      "0007929917    54.19   4.093905\n",
      "00077E82E3    74.91   4.095569\n",
      "00078A18A7     50.0   4.093905\n",
      "\n",
      "[340 rows x 2 columns], 'ENSRNOG00000058006':            observed  predicted\n",
      "000789972A    75.75   0.026688\n",
      "0007899884    98.29   0.026669\n",
      "000789FF64     26.2   0.026688\n",
      "00079298B1    91.46   0.026688\n",
      "00079299B5     34.1   0.026688\n",
      "...             ...        ...\n",
      "00079FF7D6    80.28   0.026669\n",
      "0007899826   133.57   0.026669\n",
      "0007929917    59.49   0.026669\n",
      "00077E82E3    43.07   0.026669\n",
      "00078A18A7    45.07   0.026669\n",
      "\n",
      "[340 rows x 2 columns], 'ENSRNOG00000060045':            observed  predicted\n",
      "000789972A    87.16        0.0\n",
      "0007899884     87.5        0.0\n",
      "000789FF64    94.36        0.0\n",
      "00079298B1    89.63        0.0\n",
      "00079299B5    87.33        0.0\n",
      "...             ...        ...\n",
      "00079FF7D6    94.34        0.0\n",
      "0007899826    85.75        0.0\n",
      "0007929917    80.93        0.0\n",
      "00077E82E3    80.16        0.0\n",
      "00078A18A7    79.55        0.0\n",
      "\n",
      "[340 rows x 2 columns]}\n"
     ]
    }
   ],
   "source": [
    "print(pred_vs_obs)"
   ]
  },
  {
   "cell_type": "code",
   "execution_count": 23,
   "metadata": {},
   "outputs": [
    {
     "name": "stdout",
     "output_type": "stream",
     "text": [
      "000789972A    44.43\n",
      "0007899884    50.12\n",
      "000789FF64    62.47\n",
      "00079298B1    64.97\n",
      "00079299B5    57.53\n",
      "              ...  \n",
      "00079FF7D6     53.3\n",
      "0007899826    52.88\n",
      "0007929917    54.19\n",
      "00077E82E3    74.91\n",
      "00078A18A7     50.0\n",
      "Name: observed, Length: 340, dtype: object\n"
     ]
    },
    {
     "data": {
      "image/png": "[encoded data removed]",
      "text/plain": [
       "<Figure size 640x480 with 1 Axes>"
      ]
     },
     "metadata": {},
     "output_type": "display_data"
    }
   ],
   "source": [
    "import matplotlib.pyplot as plt\n",
    "df = pred_vs_obs['ENSRNOG00000020624']\n",
    "print(df['observed'])\n",
    "\n",
    "from scipy.stats import zscore\n",
    "x = df['observed']\n",
    "y = df['predicted']\n",
    "# Create the dot plot\n",
    "plt.scatter(x, y, color='blue', marker='o', s=100)\n",
    "\n",
    "\n",
    "\n",
    "\n",
    "# Add labels and title\n",
    "plt.xlabel('Observed')\n",
    "plt.ylabel('Predicted')\n",
    "plt.title('Enformed Predicted vs Observed Gene Expression')\n",
    "\n",
    "# Show the plot\n",
    "plt.show()"
   ]
  },
  {
   "cell_type": "markdown",
   "metadata": {},
   "source": [
    "### How we could improve plots:\n",
    "\n",
    "* Use all 340 individuals (instead of the 80 that I moved to Box before polaris shut down)\n",
    "* Rerun predictions with sequences centered at TSS (instead of gene start and end)\n",
    "* The upside is that the Enformer predictions so far agree with basic expectations:\n",
    "    * There is variation in predicted gene expression between individuals (although slim)\n",
    "    * CAGE expression peaks around TSS and tapers off\n",
    "\n"
   ]
  },
  {
   "cell_type": "markdown",
   "metadata": {},
   "source": [
    "### Extra Plots"
   ]
  },
  {
   "cell_type": "code",
   "execution_count": 24,
   "metadata": {},
   "outputs": [],
   "source": [
    "# predixcan = '/Users/sabrinami/Library/CloudStorage/Box-Box/imlab-data/data-Github/rat-genomic-analysis/PTRS-Analysis/RatXcan/Results/Br_EN__predict.txt'\n",
    "# pred_gene_expr = pd.read_csv(predixcan, sep=\"\\t\", header=0, index_col='IID')\n",
    "# pred_gene_expr = pred_gene_expr.loc[individuals]\n",
    "\n"
   ]
  },
  {
   "cell_type": "code",
   "execution_count": 112,
   "metadata": {},
   "outputs": [
    {
     "name": "stdout",
     "output_type": "stream",
     "text": [
      "            ENSRNOG00000060045  predicted\n",
      "00077E90D8            1.286916   4.095569\n",
      "00078997FE            0.011189   4.095569\n",
      "00079FF7D6            2.644286   4.093905\n",
      "00078A1A62            0.009481   4.093905\n",
      "000792A3F9            2.646413   4.093905\n",
      "...                        ...        ...\n",
      "00078A072C            0.009487   4.093905\n",
      "000792A07E            1.288204   4.095264\n",
      "000792A420            1.370338   4.093905\n",
      "00078997BF            0.009408   4.093905\n",
      "00077E7666            0.010847   4.095569\n",
      "\n",
      "[80 rows x 2 columns]\n"
     ]
    }
   ],
   "source": [
    "print(pred_gene_expr[[gene]].join(df['predicted'], how='inner'))"
   ]
  },
  {
   "cell_type": "code",
   "execution_count": 25,
   "metadata": {},
   "outputs": [
    {
     "ename": "NameError",
     "evalue": "name 'pred_gene_expr' is not defined",
     "output_type": "error",
     "traceback": [
      "\u001b[0;31m---------------------------------------------------------------------------\u001b[0m",
      "\u001b[0;31mNameError\u001b[0m                                 Traceback (most recent call last)",
      "Cell \u001b[0;32mIn[25], line 3\u001b[0m\n\u001b[1;32m      1\u001b[0m gene \u001b[39m=\u001b[39m \u001b[39m'\u001b[39m\u001b[39mENSRNOG00000020624\u001b[39m\u001b[39m'\u001b[39m\n\u001b[1;32m      2\u001b[0m df \u001b[39m=\u001b[39m pred_vs_obs[gene]\n\u001b[0;32m----> 3\u001b[0m df \u001b[39m=\u001b[39m pred_gene_expr[[gene]]\u001b[39m.\u001b[39mjoin(df[\u001b[39m'\u001b[39m\u001b[39mpredicted\u001b[39m\u001b[39m'\u001b[39m], how \u001b[39m=\u001b[39m \u001b[39m'\u001b[39m\u001b[39minner\u001b[39m\u001b[39m'\u001b[39m)\n\u001b[1;32m      4\u001b[0m \u001b[39mprint\u001b[39m(df)\n\u001b[1;32m      6\u001b[0m \u001b[39mfrom\u001b[39;00m \u001b[39mscipy\u001b[39;00m\u001b[39m.\u001b[39;00m\u001b[39mstats\u001b[39;00m \u001b[39mimport\u001b[39;00m zscore\n",
      "\u001b[0;31mNameError\u001b[0m: name 'pred_gene_expr' is not defined"
     ]
    }
   ],
   "source": [
    "# gene = 'ENSRNOG00000020624'\n",
    "# df = pred_vs_obs[gene]\n",
    "# df = pred_gene_expr[[gene]].join(df['predicted'], how = 'inner')\n",
    "# print(df)\n",
    "\n",
    "# from scipy.stats import zscore\n",
    "# x = zscore(df[gene])\n",
    "# y = zscore(df['predicted'])\n",
    "# # Create the dot plot\n",
    "# plt.scatter(x, y, color='blue', marker='o', s=100)\n",
    "\n"
   ]
  },
  {
   "cell_type": "code",
   "execution_count": 26,
   "metadata": {},
   "outputs": [
    {
     "ename": "TypeError",
     "evalue": "loop of ufunc does not support argument 0 of type numpy.float64 which has no callable sqrt method",
     "output_type": "error",
     "traceback": [
      "\u001b[0;31m---------------------------------------------------------------------------\u001b[0m",
      "\u001b[0;31mAttributeError\u001b[0m                            Traceback (most recent call last)",
      "\u001b[0;31mAttributeError\u001b[0m: 'numpy.float64' object has no attribute 'sqrt'",
      "\nThe above exception was the direct cause of the following exception:\n",
      "\u001b[0;31mTypeError\u001b[0m                                 Traceback (most recent call last)",
      "Cell \u001b[0;32mIn[26], line 5\u001b[0m\n\u001b[1;32m      1\u001b[0m df \u001b[39m=\u001b[39m pred_vs_obs[\u001b[39m'\u001b[39m\u001b[39mENSRNOG00000001342\u001b[39m\u001b[39m'\u001b[39m]\n\u001b[1;32m      4\u001b[0m \u001b[39mfrom\u001b[39;00m \u001b[39mscipy\u001b[39;00m\u001b[39m.\u001b[39;00m\u001b[39mstats\u001b[39;00m \u001b[39mimport\u001b[39;00m zscore\n\u001b[0;32m----> 5\u001b[0m x \u001b[39m=\u001b[39m zscore(df[\u001b[39m'\u001b[39;49m\u001b[39mobserved\u001b[39;49m\u001b[39m'\u001b[39;49m])\n\u001b[1;32m      6\u001b[0m y \u001b[39m=\u001b[39m zscore(df[\u001b[39m'\u001b[39m\u001b[39mpredicted\u001b[39m\u001b[39m'\u001b[39m])\n\u001b[1;32m      7\u001b[0m \u001b[39m# Create the dot plot\u001b[39;00m\n",
      "File \u001b[0;32m~/.conda/envs/ml-python/lib/python3.10/site-packages/scipy/stats/_stats_py.py:2973\u001b[0m, in \u001b[0;36mzscore\u001b[0;34m(a, axis, ddof, nan_policy)\u001b[0m\n\u001b[1;32m   2891\u001b[0m \u001b[39mdef\u001b[39;00m \u001b[39mzscore\u001b[39m(a, axis\u001b[39m=\u001b[39m\u001b[39m0\u001b[39m, ddof\u001b[39m=\u001b[39m\u001b[39m0\u001b[39m, nan_policy\u001b[39m=\u001b[39m\u001b[39m'\u001b[39m\u001b[39mpropagate\u001b[39m\u001b[39m'\u001b[39m):\n\u001b[1;32m   2892\u001b[0m \u001b[39m    \u001b[39m\u001b[39m\"\"\"\u001b[39;00m\n\u001b[1;32m   2893\u001b[0m \u001b[39m    Compute the z score.\u001b[39;00m\n\u001b[1;32m   2894\u001b[0m \n\u001b[0;32m   (...)\u001b[0m\n\u001b[1;32m   2971\u001b[0m \u001b[39m           [-0.91611681, -0.89090508,  1.4983032 ,  0.88731639, -0.5785977 ]])\u001b[39;00m\n\u001b[1;32m   2972\u001b[0m \u001b[39m    \"\"\"\u001b[39;00m\n\u001b[0;32m-> 2973\u001b[0m     \u001b[39mreturn\u001b[39;00m zmap(a, a, axis\u001b[39m=\u001b[39;49maxis, ddof\u001b[39m=\u001b[39;49mddof, nan_policy\u001b[39m=\u001b[39;49mnan_policy)\n",
      "File \u001b[0;32m~/.conda/envs/ml-python/lib/python3.10/site-packages/scipy/stats/_stats_py.py:3138\u001b[0m, in \u001b[0;36mzmap\u001b[0;34m(scores, compare, axis, ddof, nan_policy)\u001b[0m\n\u001b[1;32m   3136\u001b[0m \u001b[39melse\u001b[39;00m:\n\u001b[1;32m   3137\u001b[0m     mn \u001b[39m=\u001b[39m a\u001b[39m.\u001b[39mmean(axis\u001b[39m=\u001b[39maxis, keepdims\u001b[39m=\u001b[39m\u001b[39mTrue\u001b[39;00m)\n\u001b[0;32m-> 3138\u001b[0m     std \u001b[39m=\u001b[39m a\u001b[39m.\u001b[39;49mstd(axis\u001b[39m=\u001b[39;49maxis, ddof\u001b[39m=\u001b[39;49mddof, keepdims\u001b[39m=\u001b[39;49m\u001b[39mTrue\u001b[39;49;00m)\n\u001b[1;32m   3139\u001b[0m     \u001b[39mif\u001b[39;00m axis \u001b[39mis\u001b[39;00m \u001b[39mNone\u001b[39;00m:\n\u001b[1;32m   3140\u001b[0m         isconst \u001b[39m=\u001b[39m (a\u001b[39m.\u001b[39mitem(\u001b[39m0\u001b[39m) \u001b[39m==\u001b[39m a)\u001b[39m.\u001b[39mall()\n",
      "File \u001b[0;32m~/.conda/envs/ml-python/lib/python3.10/site-packages/numpy/core/_methods.py:210\u001b[0m, in \u001b[0;36m_std\u001b[0;34m(a, axis, dtype, out, ddof, keepdims, where)\u001b[0m\n\u001b[1;32m    206\u001b[0m ret \u001b[39m=\u001b[39m _var(a, axis\u001b[39m=\u001b[39maxis, dtype\u001b[39m=\u001b[39mdtype, out\u001b[39m=\u001b[39mout, ddof\u001b[39m=\u001b[39mddof,\n\u001b[1;32m    207\u001b[0m            keepdims\u001b[39m=\u001b[39mkeepdims, where\u001b[39m=\u001b[39mwhere)\n\u001b[1;32m    209\u001b[0m \u001b[39mif\u001b[39;00m \u001b[39misinstance\u001b[39m(ret, mu\u001b[39m.\u001b[39mndarray):\n\u001b[0;32m--> 210\u001b[0m     ret \u001b[39m=\u001b[39m um\u001b[39m.\u001b[39;49msqrt(ret, out\u001b[39m=\u001b[39;49mret)\n\u001b[1;32m    211\u001b[0m \u001b[39melif\u001b[39;00m \u001b[39mhasattr\u001b[39m(ret, \u001b[39m'\u001b[39m\u001b[39mdtype\u001b[39m\u001b[39m'\u001b[39m):\n\u001b[1;32m    212\u001b[0m     ret \u001b[39m=\u001b[39m ret\u001b[39m.\u001b[39mdtype\u001b[39m.\u001b[39mtype(um\u001b[39m.\u001b[39msqrt(ret))\n",
      "\u001b[0;31mTypeError\u001b[0m: loop of ufunc does not support argument 0 of type numpy.float64 which has no callable sqrt method"
     ]
    }
   ],
   "source": [
    "df = pred_vs_obs['ENSRNOG00000001342']\n",
    "\n",
    "\n",
    "from scipy.stats import zscore\n",
    "x = zscore(df['observed'])\n",
    "y = zscore(df['predicted'])\n",
    "# Create the dot plot\n",
    "plt.scatter(x, y, color='blue', marker='o', s=100)\n",
    "\n",
    "\n",
    "\n",
    "\n",
    "# Add labels and title\n",
    "plt.xlabel('Observed')\n",
    "plt.ylabel('Predicted')\n",
    "plt.title('Enformed Predicted vs Observed Gene Expression')\n",
    "\n",
    "# Show the plot\n",
    "plt.show()"
   ]
  },
  {
   "cell_type": "code",
   "execution_count": 90,
   "metadata": {},
   "outputs": [
    {
     "data": {
      "image/png": "[encoded data removed]",
      "text/plain": [
       "<Figure size 640x480 with 1 Axes>"
      ]
     },
     "metadata": {},
     "output_type": "display_data"
    }
   ],
   "source": [
    "import matplotlib.pyplot as plt\n",
    "df = pred_vs_obs['ENSRNOG00000058006']\n",
    "\n",
    "\n",
    "from scipy.stats import zscore\n",
    "x = zscore(df['observed'])\n",
    "y = zscore(df['predicted'])\n",
    "# Create the dot plot\n",
    "plt.scatter(x, y, color='blue', marker='o', s=100)\n",
    "\n",
    "\n",
    "\n",
    "\n",
    "# Add labels and title\n",
    "plt.xlabel('Observed')\n",
    "plt.ylabel('Predicted')\n",
    "plt.title('Enformed Predicted vs Observed Gene Expression')\n",
    "\n",
    "# Show the plot\n",
    "plt.show()"
   ]
  }
 ],
 "metadata": {
  "kernelspec": {
   "display_name": "ml-python",
   "language": "python",
   "name": "ml-python"
  },
  "language_info": {
   "codemirror_mode": {
    "name": "ipython",
    "version": 3
   },
   "file_extension": ".py",
   "mimetype": "text/x-python",
   "name": "python",
   "nbconvert_exporter": "python",
   "pygments_lexer": "ipython3",
   "version": "3.10.11"
  },
  "orig_nbformat": 4
 },
 "nbformat": 4,
 "nbformat_minor": 2
}
