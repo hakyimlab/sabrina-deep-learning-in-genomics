{
 "cells": [
  {
   "cell_type": "markdown",
   "metadata": {},
   "source": [
    "---\n",
    "title: Correlation between human reference CAGE predictions to mean expression across GTEx genes\n",
    "author: Sabrina Mi\n",
    "date: 8/22/23\n",
    "---"
   ]
  },
  {
   "cell_type": "code",
   "execution_count": null,
   "metadata": {},
   "outputs": [],
   "source": [
    "hg38_annot = pd.read_csv(\"protein_coding_TSS.tsv\", header=0, sep=\"\\t\", index_col='ensembl_gene_id')\n",
    "gex_df = pd.DataFrame({\"enformer\": CAGE_predictions}, index=hg38_annot.index)\n",
    "gex_df.head()"
   ]
  },
  {
   "cell_type": "code",
   "execution_count": null,
   "metadata": {},
   "outputs": [],
   "source": [
    "gtex_tpm = pd.read_csv(\"gene_tpm_2017-06-05_v8_brain_cortex.gct.gz\", header=2, sep=\"\\t\")\n",
    "gtex_tpm['Name'] = gtex_tpm['Name'].apply(lambda gene: gene.split('.')[0])\n",
    "gtex_tpm.set_index('Name', inplace=True)"
   ]
  },
  {
   "cell_type": "code",
   "execution_count": null,
   "metadata": {},
   "outputs": [],
   "source": [
    "gene_list = gex_df.index.intersection(gtex_tpm.index)\n",
    "gtex_tpm = gtex_tpm.loc[gene_list]\n",
    "print(gtex_tpm.shape[0], \"genes in both GTEx and BioMart datasets\")"
   ]
  },
  {
   "cell_type": "code",
   "execution_count": null,
   "metadata": {},
   "outputs": [],
   "source": [
    "# Calculate average gene expression\n",
    "gtex_mean_tpm = gtex_tpm.drop(columns=['id', 'Description']).mean(axis=1)\n",
    "gtex_mean_tpm.name = 'gtex'"
   ]
  },
  {
   "cell_type": "code",
   "execution_count": null,
   "metadata": {},
   "outputs": [],
   "source": [
    "# Join observed gene expression with Enformer CAGE predicted\n",
    "gex_df = gex_df.merge(gtex_mean_tpm, left_index=True, right_index=True, how='inner').dropna()\n",
    "gex_df.head()\n"
   ]
  }
 ],
 "metadata": {
  "language_info": {
   "name": "python"
  },
  "orig_nbformat": 4
 },
 "nbformat": 4,
 "nbformat_minor": 2
}
