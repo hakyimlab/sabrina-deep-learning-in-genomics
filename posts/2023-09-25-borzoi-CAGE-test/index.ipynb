{
 "cells": [
  {
   "cell_type": "markdown",
   "metadata": {},
   "source": [
    "---\n",
    "title: Borzoi CAGE test\n",
    "author: Sabrina Mi\n",
    "date: 8/26/2023\n",
    "---"
   ]
  },
  {
   "cell_type": "code",
   "execution_count": 3,
   "metadata": {},
   "outputs": [],
   "source": [
    "import pandas as pd\n",
    "from scipy import stats\n",
    "annot_df = pd.read_csv(\"/home/s1mi/enformer_rat_data/annotation/hg38.gene.txt\", sep=\"\\t\")\n",
    "gene_list = pd.read_csv(\"/home/s1mi/enformer_rat_data/output/hg38_borzoi_across_genes.csv\", header=None)\n",
    "gene_list = gene_list.dropna()\n",
    "gene_df = gene_list.merge(annot_df, left_on= 0, right_on = \"ensembl_gene_id\")\n",
    "gene_df = gene_df[[\"ensembl_gene_id\", \"chromosome_name\", \"transcription_start_site\"]]\n",
    "gene_df.to_csv(\"gene_list.csv\", header=False, index=False)"
   ]
  },
  {
   "cell_type": "markdown",
   "metadata": {},
   "source": [
    "### Run Predictions\n",
    "\n",
    "I first started an interactive job, `qsub -I -A AIHPC4EDU -l walltime=1:30:00 -l filesystems=home:grand -q preemptable`"
   ]
  },
  {
   "cell_type": "markdown",
   "metadata": {},
   "source": [
    "```\n",
    "module load conda\n",
    "conda activate borzoi\n",
    "cd /home/s1mi/Github/deep-learning-in-genomics/posts/2023-09-25-borzoi-CAGE-test\n",
    "python borzoi_predict_CAGE.py --gene_df gene_list.csv --CAGE_tracks 610,611 \n",
    "```\n",
    "\n",
    "### Compare CAGE Tracks"
   ]
  },
  {
   "cell_type": "code",
   "execution_count": null,
   "metadata": {},
   "outputs": [],
   "source": [
    "import pandas \n",
    "predictions = \"gene_predictions.csv\""
   ]
  }
 ],
 "metadata": {
  "kernelspec": {
   "display_name": "base",
   "language": "python",
   "name": "base"
  },
  "language_info": {
   "codemirror_mode": {
    "name": "ipython",
    "version": 3
   },
   "file_extension": ".py",
   "mimetype": "text/x-python",
   "name": "python",
   "nbconvert_exporter": "python",
   "pygments_lexer": "ipython3",
   "version": "3.8.13"
  },
  "orig_nbformat": 4
 },
 "nbformat": 4,
 "nbformat_minor": 2
}
