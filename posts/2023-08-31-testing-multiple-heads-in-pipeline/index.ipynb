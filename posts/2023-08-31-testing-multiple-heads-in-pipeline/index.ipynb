{
 "cells": [
  {
   "cell_type": "markdown",
   "metadata": {},
   "source": [
    "---\n",
    "title: Testing the Enformer pipeline option to output both human and mouse head together\n",
    "author: Sabrina Mi\n",
    "date: 8/31/23\n",
    "---"
   ]
  },
  {
   "cell_type": "markdown",
   "metadata": {},
   "source": [
    "## Personalized Test\n",
    "\n",
    "We chose `ENSRNOG00000054549`, centered at the TSS chr20:12118762.\n",
    "\n",
    "```\n",
    "module load conda\n",
    "conda activate /lus/grand/projects/TFXcan/imlab/shared/software/conda_envs/enformer-predict-tools\n",
    "\n",
    "python /home/s1mi/Github/enformer_epigenome_pipeline/enformer_predict.py --parameters /home/s1mi/Github/deep-learning-in-genomics/posts/2023-08-31-testing-multiple-heads-in-pipeline/local_test_personalized.json\n",
    "\n",
    "```"
   ]
  },
  {
   "cell_type": "code",
   "execution_count": 3,
   "metadata": {},
   "outputs": [
    {
     "name": "stdout",
     "output_type": "stream",
     "text": [
      "(896, 5313) (896, 1643)\n"
     ]
    }
   ],
   "source": [
    "import h5py\n",
    "f = h5py.File(\"/home/s1mi/Br_predictions/predictions_folder/personalized_enformer_rat_single_gene/predictions_2023-09-01/enformer_predictions/000789972A/haplotype0/chr20_12118762_12118762_predictions.h5\", \"r\")\n",
    "human_prediction = f['human'][()]\n",
    "mouse_prediction = f['mouse'][()]\n",
    "print(human_prediction.shape, mouse_prediction.shape)"
   ]
  },
  {
   "cell_type": "markdown",
   "metadata": {},
   "source": [
    "## Reference Test\n",
    "\n",
    "```\n",
    "conda activate enformer-predict-tools\n",
    "\n",
    "python /Users/sabrinami/Github/enformer_epigenome_pipeline/enformer_predict.py --parameters /Users/sabrinami/Github/deep-learning-in-genomics/posts/2023-08-31-testing-multiple-heads-in-pipeline/local_test_reference.json\n",
    "\n",
    "```\n",
    "\n",
    "### Check Predictions"
   ]
  },
  {
   "cell_type": "code",
   "execution_count": 1,
   "metadata": {},
   "outputs": [
    {
     "name": "stdout",
     "output_type": "stream",
     "text": [
      "(896, 5313) (896, 1643)\n"
     ]
    }
   ],
   "source": [
    "import h5py\n",
    "f = h5py.File(\"/Users/sabrinami/Desktop/2022-23/tutorials/enformer_pipeline_test/predictions_folder/reference_enformer_rat_single_gene/predictions_2023-08-31/enformer_predictions/reference_enformer_rat/haplotype0/chr20_12118762_12118762_predictions.h5\", \"r\")\n",
    "human_predictions = f['human'][()]\n",
    "mouse_predictions = f['mouse'][()]\n",
    "print(human_predictions.shape, mouse_predictions.shape)"
   ]
  }
 ],
 "metadata": {
  "kernelspec": {
   "display_name": "base",
   "language": "python",
   "name": "base"
  },
  "language_info": {
   "codemirror_mode": {
    "name": "ipython",
    "version": 3
   },
   "file_extension": ".py",
   "mimetype": "text/x-python",
   "name": "python",
   "nbconvert_exporter": "python",
   "pygments_lexer": "ipython3",
   "version": "3.8.13"
  },
  "orig_nbformat": 4
 },
 "nbformat": 4,
 "nbformat_minor": 2
}
