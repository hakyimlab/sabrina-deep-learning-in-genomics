{
 "cells": [
  {
   "cell_type": "markdown",
   "metadata": {},
   "source": [
    "---\n",
    "title: Correlation between human reference CAGE predictions to mean expression across GTEx genes\n",
    "author: Sabrina Mi\n",
    "date: 8/22/23\n",
    "---\n",
    "\n",
    "We learned that pieces of the hg38 reference epigenome are missing, including all gene regions on chromosomes 5, 6, and 7, and a handful (27 out of 1018) on chromosome 12. Based off the genes we could query, the correlation between predicted expression from human reference genome and mean expression in GTEx brain cortex tissues is 0.536, which is too low, even when we consider the missing genes. \n",
    "\n",
    "We will definitely need to rerun Enformer on chromosomes 5-7, but I'm still stuck on how we'll debug the low correlation. I double checked that the fasta file and gene annotation were both in hg38."
   ]
  },
  {
   "cell_type": "code",
   "execution_count": 69,
   "metadata": {},
   "outputs": [],
   "source": [
    "import h5py\n",
    "import pandas as pd\n",
    "import numpy as np\n",
    "\n",
    "enfref_dir = \"/grand/TFXcan/imlab/users/lvairus/reftile_project/enformer-reference-epigenome\"\n",
    "\n",
    "def query_epigenome(chr_num, center_bp, num_bins=3, tracks=-1):\n",
    "    \"\"\"\n",
    "    Parameters:\n",
    "        path_to_enfref (str): path to the directory containing the concatenated reference enformer files\n",
    "        chr_num (int/string): chromosome number\n",
    "        center_bp (int): center base pair position (1-indexed)\n",
    "        num_bins (int): number of bins to extract centered around center_bp (default: 896) \n",
    "            note: if the number of bins is even, the center bin will be in the second half of the array\n",
    "        tracks (int list): list of tracks to extract (default: all 5313 tracks)\n",
    "\n",
    "    Returns:\n",
    "        epigen (np.array): enformer predictions centered at center_bp of shape (num_bins, len(tracks))\n",
    "    \"\"\"\n",
    "\n",
    "    # from position choose center bin\n",
    "    center_ind = center_bp - 1\n",
    "    center_bin = center_ind // 128\n",
    "    \n",
    "    half_bins = num_bins // 2\n",
    "    start_bin = center_bin - half_bins\n",
    "    end_bin = center_bin + half_bins\n",
    "    if num_bins % 2 != 0: # if num_bins is odd\n",
    "        end_bin += 1\n",
    "\n",
    "    with h5py.File(f\"{enfref_dir}/chr{chr_num}_cat.h5\", \"r\") as f:\n",
    "        # get tracks if list provided\n",
    "        if tracks == -1:\n",
    "            epigen = f[f'chr{chr_num}'][start_bin:end_bin, :] \n",
    "        else:\n",
    "            epigen = f[f'chr{chr_num}'][start_bin:end_bin, tracks] \n",
    "\n",
    "    return epigen"
   ]
  },
  {
   "cell_type": "code",
   "execution_count": 70,
   "metadata": {},
   "outputs": [
    {
     "data": {
      "text/html": [
       "<div>\n",
       "<style scoped>\n",
       "    .dataframe tbody tr th:only-of-type {\n",
       "        vertical-align: middle;\n",
       "    }\n",
       "\n",
       "    .dataframe tbody tr th {\n",
       "        vertical-align: top;\n",
       "    }\n",
       "\n",
       "    .dataframe thead th {\n",
       "        text-align: right;\n",
       "    }\n",
       "</style>\n",
       "<table border=\"1\" class=\"dataframe\">\n",
       "  <thead>\n",
       "    <tr style=\"text-align: right;\">\n",
       "      <th></th>\n",
       "      <th>external_gene_name</th>\n",
       "      <th>chromosome_name</th>\n",
       "      <th>transcription_start_site</th>\n",
       "    </tr>\n",
       "    <tr>\n",
       "      <th>ensembl_gene_id</th>\n",
       "      <th></th>\n",
       "      <th></th>\n",
       "      <th></th>\n",
       "    </tr>\n",
       "  </thead>\n",
       "  <tbody>\n",
       "    <tr>\n",
       "      <th>ENSG00000142611</th>\n",
       "      <td>PRDM16</td>\n",
       "      <td>1</td>\n",
       "      <td>3069203</td>\n",
       "    </tr>\n",
       "    <tr>\n",
       "      <th>ENSG00000157911</th>\n",
       "      <td>PEX10</td>\n",
       "      <td>1</td>\n",
       "      <td>2412564</td>\n",
       "    </tr>\n",
       "    <tr>\n",
       "      <th>ENSG00000142655</th>\n",
       "      <td>PEX14</td>\n",
       "      <td>1</td>\n",
       "      <td>10474950</td>\n",
       "    </tr>\n",
       "    <tr>\n",
       "      <th>ENSG00000149527</th>\n",
       "      <td>PLCH2</td>\n",
       "      <td>1</td>\n",
       "      <td>2476289</td>\n",
       "    </tr>\n",
       "    <tr>\n",
       "      <th>ENSG00000171621</th>\n",
       "      <td>SPSB1</td>\n",
       "      <td>1</td>\n",
       "      <td>9292894</td>\n",
       "    </tr>\n",
       "  </tbody>\n",
       "</table>\n",
       "</div>"
      ],
      "text/plain": [
       "                external_gene_name chromosome_name  transcription_start_site\n",
       "ensembl_gene_id                                                             \n",
       "ENSG00000142611             PRDM16               1                   3069203\n",
       "ENSG00000157911              PEX10               1                   2412564\n",
       "ENSG00000142655              PEX14               1                  10474950\n",
       "ENSG00000149527              PLCH2               1                   2476289\n",
       "ENSG00000171621              SPSB1               1                   9292894"
      ]
     },
     "execution_count": 70,
     "metadata": {},
     "output_type": "execute_result"
    }
   ],
   "source": [
    "hg38_annot = pd.read_csv(\"/home/s1mi/enformer_rat_data/annotation/hg38.protein_coding_TSS.txt\", header=0, sep=\"\\t\", index_col='ensembl_gene_id')\n",
    "hg38_annot.head()"
   ]
  },
  {
   "cell_type": "code",
   "execution_count": 83,
   "metadata": {},
   "outputs": [],
   "source": [
    "gene_list = hg38_annot[hg38_annot[\"chromosome_name\"] != \"Y\"].index\n",
    "CAGE_predictions = []\n",
    "invalid_queries = []\n",
    "for gene in gene_list:\n",
    "    chr = hg38_annot.loc[gene]['chromosome_name']\n",
    "    tss = hg38_annot.loc[gene]['transcription_start_site']\n",
    "    bins = query_epigenome(chr,tss, num_bins = 1, tracks=[4980])\n",
    "    if np.any(np.isnan(bins)):\n",
    "        invalid_queries.append(f\"{chr}:{tss}\")\n",
    "    CAGE_predictions.append(np.average(bins))"
   ]
  },
  {
   "cell_type": "code",
   "execution_count": 84,
   "metadata": {},
   "outputs": [
    {
     "name": "stdout",
     "output_type": "stream",
     "text": [
      "2849 out of 19625 TSS regions missing from reference epigenome\n"
     ]
    }
   ],
   "source": [
    "print(len(invalid_queries), \"out of\", len(CAGE_predictions), \"TSS regions missing from reference epigenome\")"
   ]
  },
  {
   "cell_type": "code",
   "execution_count": 85,
   "metadata": {},
   "outputs": [
    {
     "name": "stdout",
     "output_type": "stream",
     "text": [
      "Number of missing regions by chromosme:\n",
      "Counter({'6': 1031, '7': 919, '5': 872, '12': 27})\n"
     ]
    }
   ],
   "source": [
    "from collections import Counter\n",
    "print(\"Number of missing regions by chromosme:\")\n",
    "print(Counter(map(lambda x: x.split(\":\")[0], invalid_queries)))"
   ]
  },
  {
   "cell_type": "code",
   "execution_count": 90,
   "metadata": {},
   "outputs": [
    {
     "name": "stdout",
     "output_type": "stream",
     "text": [
      "Total number of genes on those chromosome:\n",
      "{'6': 1031, '7': 919, '5': 872, '12': 1018}\n"
     ]
    }
   ],
   "source": [
    "print(\"Total number of genes on those chromosome:\")\n",
    "print({key: Counter(hg38_annot['chromosome_name'])[key] for key in [\"6\", \"7\", \"5\", \"12\"]})"
   ]
  },
  {
   "cell_type": "code",
   "execution_count": 75,
   "metadata": {},
   "outputs": [
    {
     "data": {
      "text/html": [
       "<div>\n",
       "<style scoped>\n",
       "    .dataframe tbody tr th:only-of-type {\n",
       "        vertical-align: middle;\n",
       "    }\n",
       "\n",
       "    .dataframe tbody tr th {\n",
       "        vertical-align: top;\n",
       "    }\n",
       "\n",
       "    .dataframe thead th {\n",
       "        text-align: right;\n",
       "    }\n",
       "</style>\n",
       "<table border=\"1\" class=\"dataframe\">\n",
       "  <thead>\n",
       "    <tr style=\"text-align: right;\">\n",
       "      <th></th>\n",
       "      <th>enformer</th>\n",
       "    </tr>\n",
       "    <tr>\n",
       "      <th>ensembl_gene_id</th>\n",
       "      <th></th>\n",
       "    </tr>\n",
       "  </thead>\n",
       "  <tbody>\n",
       "    <tr>\n",
       "      <th>ENSG00000142611</th>\n",
       "      <td>4.474399</td>\n",
       "    </tr>\n",
       "    <tr>\n",
       "      <th>ENSG00000157911</th>\n",
       "      <td>6.886287</td>\n",
       "    </tr>\n",
       "    <tr>\n",
       "      <th>ENSG00000142655</th>\n",
       "      <td>21.222824</td>\n",
       "    </tr>\n",
       "    <tr>\n",
       "      <th>ENSG00000149527</th>\n",
       "      <td>0.027461</td>\n",
       "    </tr>\n",
       "    <tr>\n",
       "      <th>ENSG00000171621</th>\n",
       "      <td>10.673162</td>\n",
       "    </tr>\n",
       "  </tbody>\n",
       "</table>\n",
       "</div>"
      ],
      "text/plain": [
       "                  enformer\n",
       "ensembl_gene_id           \n",
       "ENSG00000142611   4.474399\n",
       "ENSG00000157911   6.886287\n",
       "ENSG00000142655  21.222824\n",
       "ENSG00000149527   0.027461\n",
       "ENSG00000171621  10.673162"
      ]
     },
     "execution_count": 75,
     "metadata": {},
     "output_type": "execute_result"
    }
   ],
   "source": [
    "gex_df = pd.DataFrame({\"enformer\": CAGE_predictions}, index=gene_list)\n",
    "gex_df.head()"
   ]
  },
  {
   "cell_type": "code",
   "execution_count": 76,
   "metadata": {},
   "outputs": [],
   "source": [
    "gtex_tpm = pd.read_csv(\"/home/s1mi/enformer_rat_data/expression_data/gene_tpm_2017-06-05_v8_brain_cortex.gct.gz\", header=2, sep=\"\\t\")\n",
    "gtex_tpm['Name'] = gtex_tpm['Name'].apply(lambda gene: gene.split('.')[0])\n",
    "gtex_tpm.set_index('Name', inplace=True)"
   ]
  },
  {
   "cell_type": "code",
   "execution_count": 77,
   "metadata": {},
   "outputs": [
    {
     "name": "stdout",
     "output_type": "stream",
     "text": [
      "19107 genes in both GTEx and BioMart datasets\n"
     ]
    }
   ],
   "source": [
    "gene_list = gex_df.index.intersection(gtex_tpm.index)\n",
    "gtex_tpm = gtex_tpm.loc[gene_list]\n",
    "print(gtex_tpm.shape[0], \"genes in both GTEx and BioMart datasets\")"
   ]
  },
  {
   "cell_type": "code",
   "execution_count": 80,
   "metadata": {},
   "outputs": [
    {
     "data": {
      "text/html": [
       "<div>\n",
       "<style scoped>\n",
       "    .dataframe tbody tr th:only-of-type {\n",
       "        vertical-align: middle;\n",
       "    }\n",
       "\n",
       "    .dataframe tbody tr th {\n",
       "        vertical-align: top;\n",
       "    }\n",
       "\n",
       "    .dataframe thead th {\n",
       "        text-align: right;\n",
       "    }\n",
       "</style>\n",
       "<table border=\"1\" class=\"dataframe\">\n",
       "  <thead>\n",
       "    <tr style=\"text-align: right;\">\n",
       "      <th></th>\n",
       "      <th>enformer</th>\n",
       "      <th>gtex</th>\n",
       "    </tr>\n",
       "  </thead>\n",
       "  <tbody>\n",
       "    <tr>\n",
       "      <th>ENSG00000000003</th>\n",
       "      <td>0.318157</td>\n",
       "      <td>4.587454</td>\n",
       "    </tr>\n",
       "    <tr>\n",
       "      <th>ENSG00000000005</th>\n",
       "      <td>2.456774</td>\n",
       "      <td>0.208880</td>\n",
       "    </tr>\n",
       "    <tr>\n",
       "      <th>ENSG00000000419</th>\n",
       "      <td>36.233582</td>\n",
       "      <td>26.515365</td>\n",
       "    </tr>\n",
       "    <tr>\n",
       "      <th>ENSG00000000457</th>\n",
       "      <td>6.147785</td>\n",
       "      <td>2.538695</td>\n",
       "    </tr>\n",
       "    <tr>\n",
       "      <th>ENSG00000000460</th>\n",
       "      <td>3.142622</td>\n",
       "      <td>0.840966</td>\n",
       "    </tr>\n",
       "  </tbody>\n",
       "</table>\n",
       "</div>"
      ],
      "text/plain": [
       "                  enformer       gtex\n",
       "ENSG00000000003   0.318157   4.587454\n",
       "ENSG00000000005   2.456774   0.208880\n",
       "ENSG00000000419  36.233582  26.515365\n",
       "ENSG00000000457   6.147785   2.538695\n",
       "ENSG00000000460   3.142622   0.840966"
      ]
     },
     "execution_count": 80,
     "metadata": {},
     "output_type": "execute_result"
    }
   ],
   "source": [
    "# Calculate average gene expression\n",
    "gtex_mean_tpm = gtex_tpm.drop(columns=['id', 'Description']).mean(axis=1)\n",
    "gtex_mean_tpm.name = 'gtex'\n",
    "# Join observed gene expression with Enformer CAGE predicted\n",
    "merged_gex_df = gex_df.merge(gtex_mean_tpm, left_index=True, right_index=True, how='inner').dropna()\n",
    "merged_gex_df.head()"
   ]
  },
  {
   "cell_type": "code",
   "execution_count": 81,
   "metadata": {},
   "outputs": [
    {
     "data": {
      "text/html": [
       "<div>\n",
       "<style scoped>\n",
       "    .dataframe tbody tr th:only-of-type {\n",
       "        vertical-align: middle;\n",
       "    }\n",
       "\n",
       "    .dataframe tbody tr th {\n",
       "        vertical-align: top;\n",
       "    }\n",
       "\n",
       "    .dataframe thead th {\n",
       "        text-align: right;\n",
       "    }\n",
       "</style>\n",
       "<table border=\"1\" class=\"dataframe\">\n",
       "  <thead>\n",
       "    <tr style=\"text-align: right;\">\n",
       "      <th></th>\n",
       "      <th>enformer</th>\n",
       "      <th>gtex</th>\n",
       "    </tr>\n",
       "  </thead>\n",
       "  <tbody>\n",
       "    <tr>\n",
       "      <th>enformer</th>\n",
       "      <td>1.000000</td>\n",
       "      <td>0.535759</td>\n",
       "    </tr>\n",
       "    <tr>\n",
       "      <th>gtex</th>\n",
       "      <td>0.535759</td>\n",
       "      <td>1.000000</td>\n",
       "    </tr>\n",
       "  </tbody>\n",
       "</table>\n",
       "</div>"
      ],
      "text/plain": [
       "          enformer      gtex\n",
       "enformer  1.000000  0.535759\n",
       "gtex      0.535759  1.000000"
      ]
     },
     "execution_count": 81,
     "metadata": {},
     "output_type": "execute_result"
    }
   ],
   "source": [
    "merged_gex_df.corr()"
   ]
  }
 ],
 "metadata": {
  "kernelspec": {
   "display_name": "base",
   "language": "python",
   "name": "base"
  },
  "language_info": {
   "codemirror_mode": {
    "name": "ipython",
    "version": 3
   },
   "file_extension": ".py",
   "mimetype": "text/x-python",
   "name": "python",
   "nbconvert_exporter": "python",
   "pygments_lexer": "ipython3",
   "version": "3.8.13"
  },
  "orig_nbformat": 4
 },
 "nbformat": 4,
 "nbformat_minor": 2
}
