{
 "cells": [
  {
   "cell_type": "markdown",
   "metadata": {},
   "source": [
    "---\n",
    "title: Comparing EpigenomeXcan and Enformer gene expression prediction performance \n",
    "author: Sabrina Mi\n",
    "date: 1/10/2024\n",
    "---"
   ]
  },
  {
   "cell_type": "code",
   "execution_count": 18,
   "metadata": {},
   "outputs": [],
   "source": [
    "import pandas as pd\n",
    "import numpy as np\n",
    "import h5py\n",
    "import os\n",
    "import time\n",
    "columns = ['POS', 'ACI', 'BN', 'BUF', 'F344', 'M520', 'MR', 'WKY', 'WN']"
   ]
  },
  {
   "cell_type": "code",
   "execution_count": 16,
   "metadata": {},
   "outputs": [],
   "source": [
    "pred_expr = pd.read_csv(\"/home/s1mi/enformer_rat_data/output/Br_human_predicted_expression.csv\", index_col=0)\n",
    "obs_expr = pd.read_csv(\"/home/s1mi/enformer_rat_data/output/Br_observed_expression.csv\", index_col=0)\n",
    "gene_list = list(pred_expr.columns)\n",
    "gene_annot = pd.read_csv(\"/eagle/AIHPC4Edu/sabrina/Br_predictions/HS_founder_epigenomes/gene_mapping.txt\")\n",
    "genes_df = gene_annot[gene_annot['gene'].isin(gene_list)]"
   ]
  },
  {
   "cell_type": "code",
   "execution_count": 24,
   "metadata": {},
   "outputs": [],
   "source": [
    "probabilities_dir = \"/home/s1mi/Br_genotype_probabilities\"\n",
    "reference_dir = \"/eagle/AIHPC4Edu/sabrina/Br_predictions/HS_founder_epigenomes/human\"\n",
    "# project_dir = \"/eagle/AIHPC4Edu/sabrina/Br_predictions/Br_epigenomes\""
   ]
  },
  {
   "cell_type": "code",
   "execution_count": 28,
   "metadata": {},
   "outputs": [],
   "source": [
    "def compute_epigenome(chr, gene, start, end, prob):\n",
    "    bins = np.linspace(start, end, 896)\n",
    "    scaled_prob = []\n",
    "    for column in columns[1:]: \n",
    "        scaled_prob.append(np.interp(bins, prob['POS'], prob[column]))\n",
    "    pr_matrix = np.transpose(np.array(scaled_prob))\n",
    "    with h5py.File(os.path.join(reference_dir, f\"{chr}_genes.h5\"), \"r\") as hf:\n",
    "        matrix = hf[gene][:]\n",
    "    ref_matrix = np.transpose(matrix, axes=(1, 0, 2))\n",
    "    output = np.squeeze(pr_matrix[:, np.newaxis,:] @ ref_matrix, 1)\n",
    "    return output\n",
    "    \n",
    "\n",
    "def run_predictions(chr, prob, gene_annot):\n",
    "    predictions = {}\n",
    "    # interp = interpolate.interp1d(np.array(prob['POS']), np.array(prob.drop(columns=['POS'])), axis = 0)\n",
    "    for index, row in gene_annot.iterrows():\n",
    "        gene = row['gene']\n",
    "        tss = row['tss']\n",
    "        start = tss - 57344\n",
    "        end = tss + 57344\n",
    "        # if (start >= prob.iloc[0,0] and end <= prob.iloc[-1,0]):\n",
    "        output = compute_epigenome(chr, gene, start, end, prob)\n",
    "        # Process genotype probabilities\n",
    "        predictions[gene] = output\n",
    "\n",
    "    return predictions"
   ]
  },
  {
   "cell_type": "code",
   "execution_count": 29,
   "metadata": {},
   "outputs": [
    {
     "ename": "KeyError",
     "evalue": "\"Unable to open object (object 'ENSRNOG00000016580' doesn't exist)\"",
     "output_type": "error",
     "traceback": [
      "\u001b[0;31m---------------------------------------------------------------------------\u001b[0m",
      "\u001b[0;31mKeyError\u001b[0m                                  Traceback (most recent call last)",
      "\u001b[1;32m/home/s1mi/Github/deep-learning-in-genomics/posts/2024-01-10-epigenomexcan-vs-enformer-significant-genes/index.ipynb Cell 6\u001b[0m line \u001b[0;36m6\n\u001b[1;32m      <a href='vscode-notebook-cell://ssh-remote%2Bpolaris/home/s1mi/Github/deep-learning-in-genomics/posts/2024-01-10-epigenomexcan-vs-enformer-significant-genes/index.ipynb#X11sdnNjb2RlLXJlbW90ZQ%3D%3D?line=3'>4</a>\u001b[0m \u001b[39mfor\u001b[39;00m individual \u001b[39min\u001b[39;00m pred_expr\u001b[39m.\u001b[39mindex:\n\u001b[1;32m      <a href='vscode-notebook-cell://ssh-remote%2Bpolaris/home/s1mi/Github/deep-learning-in-genomics/posts/2024-01-10-epigenomexcan-vs-enformer-significant-genes/index.ipynb#X11sdnNjb2RlLXJlbW90ZQ%3D%3D?line=4'>5</a>\u001b[0m     prob \u001b[39m=\u001b[39m pd\u001b[39m.\u001b[39mDataFrame(\u001b[39minput\u001b[39m[individual][:], columns\u001b[39m=\u001b[39mcolumns)\n\u001b[0;32m----> <a href='vscode-notebook-cell://ssh-remote%2Bpolaris/home/s1mi/Github/deep-learning-in-genomics/posts/2024-01-10-epigenomexcan-vs-enformer-significant-genes/index.ipynb#X11sdnNjb2RlLXJlbW90ZQ%3D%3D?line=5'>6</a>\u001b[0m     predictions \u001b[39m=\u001b[39m run_predictions(\u001b[39m'\u001b[39;49m\u001b[39mchr1\u001b[39;49m\u001b[39m'\u001b[39;49m, prob, genes_df)\n\u001b[1;32m      <a href='vscode-notebook-cell://ssh-remote%2Bpolaris/home/s1mi/Github/deep-learning-in-genomics/posts/2024-01-10-epigenomexcan-vs-enformer-significant-genes/index.ipynb#X11sdnNjb2RlLXJlbW90ZQ%3D%3D?line=6'>7</a>\u001b[0m     \u001b[39mprint\u001b[39m(predictions)\n\u001b[1;32m      <a href='vscode-notebook-cell://ssh-remote%2Bpolaris/home/s1mi/Github/deep-learning-in-genomics/posts/2024-01-10-epigenomexcan-vs-enformer-significant-genes/index.ipynb#X11sdnNjb2RlLXJlbW90ZQ%3D%3D?line=7'>8</a>\u001b[0m     \u001b[39mbreak\u001b[39;00m\n",
      "\u001b[1;32m/home/s1mi/Github/deep-learning-in-genomics/posts/2024-01-10-epigenomexcan-vs-enformer-significant-genes/index.ipynb Cell 6\u001b[0m line \u001b[0;36m2\n\u001b[1;32m     <a href='vscode-notebook-cell://ssh-remote%2Bpolaris/home/s1mi/Github/deep-learning-in-genomics/posts/2024-01-10-epigenomexcan-vs-enformer-significant-genes/index.ipynb#X11sdnNjb2RlLXJlbW90ZQ%3D%3D?line=20'>21</a>\u001b[0m end \u001b[39m=\u001b[39m tss \u001b[39m+\u001b[39m \u001b[39m57344\u001b[39m\n\u001b[1;32m     <a href='vscode-notebook-cell://ssh-remote%2Bpolaris/home/s1mi/Github/deep-learning-in-genomics/posts/2024-01-10-epigenomexcan-vs-enformer-significant-genes/index.ipynb#X11sdnNjb2RlLXJlbW90ZQ%3D%3D?line=21'>22</a>\u001b[0m \u001b[39m# if (start >= prob.iloc[0,0] and end <= prob.iloc[-1,0]):\u001b[39;00m\n\u001b[0;32m---> <a href='vscode-notebook-cell://ssh-remote%2Bpolaris/home/s1mi/Github/deep-learning-in-genomics/posts/2024-01-10-epigenomexcan-vs-enformer-significant-genes/index.ipynb#X11sdnNjb2RlLXJlbW90ZQ%3D%3D?line=22'>23</a>\u001b[0m output \u001b[39m=\u001b[39m compute_epigenome(\u001b[39mchr\u001b[39;49m, gene, start, end, prob)\n\u001b[1;32m     <a href='vscode-notebook-cell://ssh-remote%2Bpolaris/home/s1mi/Github/deep-learning-in-genomics/posts/2024-01-10-epigenomexcan-vs-enformer-significant-genes/index.ipynb#X11sdnNjb2RlLXJlbW90ZQ%3D%3D?line=23'>24</a>\u001b[0m \u001b[39m# Process genotype probabilities\u001b[39;00m\n\u001b[1;32m     <a href='vscode-notebook-cell://ssh-remote%2Bpolaris/home/s1mi/Github/deep-learning-in-genomics/posts/2024-01-10-epigenomexcan-vs-enformer-significant-genes/index.ipynb#X11sdnNjb2RlLXJlbW90ZQ%3D%3D?line=24'>25</a>\u001b[0m predictions[gene] \u001b[39m=\u001b[39m output\n",
      "\u001b[1;32m/home/s1mi/Github/deep-learning-in-genomics/posts/2024-01-10-epigenomexcan-vs-enformer-significant-genes/index.ipynb Cell 6\u001b[0m line \u001b[0;36m8\n\u001b[1;32m      <a href='vscode-notebook-cell://ssh-remote%2Bpolaris/home/s1mi/Github/deep-learning-in-genomics/posts/2024-01-10-epigenomexcan-vs-enformer-significant-genes/index.ipynb#X11sdnNjb2RlLXJlbW90ZQ%3D%3D?line=5'>6</a>\u001b[0m pr_matrix \u001b[39m=\u001b[39m np\u001b[39m.\u001b[39mtranspose(np\u001b[39m.\u001b[39marray(scaled_prob))\n\u001b[1;32m      <a href='vscode-notebook-cell://ssh-remote%2Bpolaris/home/s1mi/Github/deep-learning-in-genomics/posts/2024-01-10-epigenomexcan-vs-enformer-significant-genes/index.ipynb#X11sdnNjb2RlLXJlbW90ZQ%3D%3D?line=6'>7</a>\u001b[0m \u001b[39mwith\u001b[39;00m h5py\u001b[39m.\u001b[39mFile(os\u001b[39m.\u001b[39mpath\u001b[39m.\u001b[39mjoin(reference_dir, \u001b[39mf\u001b[39m\u001b[39m\"\u001b[39m\u001b[39m{\u001b[39;00m\u001b[39mchr\u001b[39m\u001b[39m}\u001b[39;00m\u001b[39m_genes.h5\u001b[39m\u001b[39m\"\u001b[39m), \u001b[39m\"\u001b[39m\u001b[39mr\u001b[39m\u001b[39m\"\u001b[39m) \u001b[39mas\u001b[39;00m hf:\n\u001b[0;32m----> <a href='vscode-notebook-cell://ssh-remote%2Bpolaris/home/s1mi/Github/deep-learning-in-genomics/posts/2024-01-10-epigenomexcan-vs-enformer-significant-genes/index.ipynb#X11sdnNjb2RlLXJlbW90ZQ%3D%3D?line=7'>8</a>\u001b[0m     matrix \u001b[39m=\u001b[39m hf[gene][:]\n\u001b[1;32m      <a href='vscode-notebook-cell://ssh-remote%2Bpolaris/home/s1mi/Github/deep-learning-in-genomics/posts/2024-01-10-epigenomexcan-vs-enformer-significant-genes/index.ipynb#X11sdnNjb2RlLXJlbW90ZQ%3D%3D?line=8'>9</a>\u001b[0m ref_matrix \u001b[39m=\u001b[39m np\u001b[39m.\u001b[39mtranspose(matrix, axes\u001b[39m=\u001b[39m(\u001b[39m1\u001b[39m, \u001b[39m0\u001b[39m, \u001b[39m2\u001b[39m))\n\u001b[1;32m     <a href='vscode-notebook-cell://ssh-remote%2Bpolaris/home/s1mi/Github/deep-learning-in-genomics/posts/2024-01-10-epigenomexcan-vs-enformer-significant-genes/index.ipynb#X11sdnNjb2RlLXJlbW90ZQ%3D%3D?line=9'>10</a>\u001b[0m output \u001b[39m=\u001b[39m np\u001b[39m.\u001b[39msqueeze(pr_matrix[:, np\u001b[39m.\u001b[39mnewaxis,:] \u001b[39m@\u001b[39m ref_matrix, \u001b[39m1\u001b[39m)\n",
      "File \u001b[0;32mh5py/_objects.pyx:54\u001b[0m, in \u001b[0;36mh5py._objects.with_phil.wrapper\u001b[0;34m()\u001b[0m\n",
      "File \u001b[0;32mh5py/_objects.pyx:55\u001b[0m, in \u001b[0;36mh5py._objects.with_phil.wrapper\u001b[0;34m()\u001b[0m\n",
      "File \u001b[0;32m/soft/datascience/conda/2022-09-08/mconda3/lib/python3.8/site-packages/h5py/_hl/group.py:328\u001b[0m, in \u001b[0;36mGroup.__getitem__\u001b[0;34m(self, name)\u001b[0m\n\u001b[1;32m    326\u001b[0m         \u001b[39mraise\u001b[39;00m \u001b[39mValueError\u001b[39;00m(\u001b[39m\"\u001b[39m\u001b[39mInvalid HDF5 object reference\u001b[39m\u001b[39m\"\u001b[39m)\n\u001b[1;32m    327\u001b[0m \u001b[39melif\u001b[39;00m \u001b[39misinstance\u001b[39m(name, (\u001b[39mbytes\u001b[39m, \u001b[39mstr\u001b[39m)):\n\u001b[0;32m--> 328\u001b[0m     oid \u001b[39m=\u001b[39m h5o\u001b[39m.\u001b[39;49mopen(\u001b[39mself\u001b[39;49m\u001b[39m.\u001b[39;49mid, \u001b[39mself\u001b[39;49m\u001b[39m.\u001b[39;49m_e(name), lapl\u001b[39m=\u001b[39;49m\u001b[39mself\u001b[39;49m\u001b[39m.\u001b[39;49m_lapl)\n\u001b[1;32m    329\u001b[0m \u001b[39melse\u001b[39;00m:\n\u001b[1;32m    330\u001b[0m     \u001b[39mraise\u001b[39;00m \u001b[39mTypeError\u001b[39;00m(\u001b[39m\"\u001b[39m\u001b[39mAccessing a group is done with bytes or str, \u001b[39m\u001b[39m\"\u001b[39m\n\u001b[1;32m    331\u001b[0m                     \u001b[39m\"\u001b[39m\u001b[39m not \u001b[39m\u001b[39m{}\u001b[39;00m\u001b[39m\"\u001b[39m\u001b[39m.\u001b[39mformat(\u001b[39mtype\u001b[39m(name)))\n",
      "File \u001b[0;32mh5py/_objects.pyx:54\u001b[0m, in \u001b[0;36mh5py._objects.with_phil.wrapper\u001b[0;34m()\u001b[0m\n",
      "File \u001b[0;32mh5py/_objects.pyx:55\u001b[0m, in \u001b[0;36mh5py._objects.with_phil.wrapper\u001b[0;34m()\u001b[0m\n",
      "File \u001b[0;32mh5py/h5o.pyx:190\u001b[0m, in \u001b[0;36mh5py.h5o.open\u001b[0;34m()\u001b[0m\n",
      "\u001b[0;31mKeyError\u001b[0m: \"Unable to open object (object 'ENSRNOG00000016580' doesn't exist)\""
     ]
    }
   ],
   "source": [
    "haplo_expr = pd.DataFrame(columns=pred_expr.columns, index=pred_expr.index)\n",
    "for chr, group in genes_df.groupby(\"chromosome\"):\n",
    "    with h5py.File(os.path.join(probabilities_dir, f\"{chr}_probabilities.h5\"), \"r\") as input:\n",
    "        for individual in pred_expr.index:\n",
    "            prob = pd.DataFrame(input[individual][:], columns=columns)\n",
    "            predictions = run_predictions('chr1', prob, genes_df)\n",
    "            print(predictions)\n",
    "            break\n",
    "    break"
   ]
  },
  {
   "cell_type": "code",
   "execution_count": null,
   "metadata": {},
   "outputs": [],
   "source": [
    "\n",
    "\n",
    "\n",
    "\n",
    "with h5py.File(os.path.join(probabilities_dir, f\"chr1_probabilities.h5\"), \"r\") as input:\n",
    "        output_dir = os.path.join(project_dir, '000789972A')\n",
    "        # if not os.path.isdir(output_dir):\n",
    "        #     os.makedirs(output_dir)\n",
    "        prob = pd.DataFrame(input['000789972A'][:], columns=columns)\n",
    "        predictions = run_predictions('chr1', prob, genes_df)\n",
    "        write_h5(os.path.join(output_dir, f\"{chr}_genes.h5\"), predictions) \n",
    "# print(f\"{chr}:\", len(group), \"genes...\", (end_time - start_time) // 60, \"minutes\")"
   ]
  }
 ],
 "metadata": {
  "kernelspec": {
   "display_name": "base",
   "language": "python",
   "name": "base"
  },
  "language_info": {
   "codemirror_mode": {
    "name": "ipython",
    "version": 3
   },
   "file_extension": ".py",
   "mimetype": "text/x-python",
   "name": "python",
   "nbconvert_exporter": "python",
   "pygments_lexer": "ipython3",
   "version": "3.8.13"
  }
 },
 "nbformat": 4,
 "nbformat_minor": 2
}
