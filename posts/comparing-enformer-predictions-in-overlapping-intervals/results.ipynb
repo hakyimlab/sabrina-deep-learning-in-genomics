{
 "cells": [
  {
   "cell_type": "markdown",
   "metadata": {},
   "source": [
    "### Check predictions for a single individual, region, and haplotype"
   ]
  },
  {
   "cell_type": "code",
   "execution_count": 1,
   "metadata": {},
   "outputs": [],
   "source": [
    "# Import Libraries\n",
    "import numpy as np\n",
    "import h5py"
   ]
  },
  {
   "cell_type": "code",
   "execution_count": 5,
   "metadata": {},
   "outputs": [
    {
     "data": {
      "text/plain": [
       "array([[1.2541825e-01, 1.9915380e-01, 1.5378954e-01, ..., 8.7608267e-03,\n",
       "        2.8164219e-02, 3.3774886e-02],\n",
       "       [5.5592204e-03, 8.4977224e-03, 8.1731612e-03, ..., 1.4041504e-03,\n",
       "        5.0366633e-03, 4.5777112e-03],\n",
       "       [1.8070938e-02, 2.4811333e-02, 2.0492842e-02, ..., 1.0022735e-02,\n",
       "        3.5357766e-02, 2.8489195e-02],\n",
       "       ...,\n",
       "       [4.7709393e-05, 6.7506859e-05, 5.9531834e-05, ..., 3.9953634e-04,\n",
       "        1.4891241e-03, 1.1986542e-03],\n",
       "       [4.6880776e-04, 6.4554013e-04, 5.7156256e-04, ..., 1.3358767e-04,\n",
       "        4.6027626e-04, 2.6385681e-04],\n",
       "       [7.9046481e-04, 1.1395547e-03, 9.8084495e-04, ..., 1.1925452e-03,\n",
       "        3.0541462e-03, 2.2076559e-03]], dtype=float32)"
      ]
     },
     "execution_count": 5,
     "metadata": {},
     "output_type": "execute_result"
    }
   ],
   "source": [
    "predictions_dir = \"/lus/grand/projects/TFXcan/imlab/users/sabrina/enformer_test/predictions_folder/reference_enformer_minimal_chr2_region/predictions_2023-07-20/enformer_predictions/reference_enformer_minimal/haplotype0/\"\n",
    "interval = \"chr2_96267973_96382661\"\n",
    "f = h5py.File(predictions_dir + interval +'_predictions.h5', 'r')\n",
    "f[interval][()]"
   ]
  }
 ],
 "metadata": {
  "kernelspec": {
   "display_name": "ml-python",
   "language": "python",
   "name": "ml-python"
  },
  "language_info": {
   "codemirror_mode": {
    "name": "ipython",
    "version": 3
   },
   "file_extension": ".py",
   "mimetype": "text/x-python",
   "name": "python",
   "nbconvert_exporter": "python",
   "pygments_lexer": "ipython3",
   "version": "3.10.11"
  },
  "orig_nbformat": 4
 },
 "nbformat": 4,
 "nbformat_minor": 2
}
