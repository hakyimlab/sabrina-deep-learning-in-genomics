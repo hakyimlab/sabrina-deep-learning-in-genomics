{
 "cells": [
  {
   "cell_type": "markdown",
   "metadata": {},
   "source": [
    "---\n",
    "title: Querying Human Reference Epigenome\n",
    "description: We first collected the TSS of all human genes where we have expression data for the orthologous rat gene. We used Laura's tools to query CAGE tracks from genome-wide Enformer predictions on the reference genome.\n",
    "date: 8/17/2023\n",
    "author: Sabrina Mi\n",
    "---\n",
    "\n",
    "## Setup"
   ]
  },
  {
   "cell_type": "code",
   "execution_count": 35,
   "metadata": {},
   "outputs": [],
   "source": [
    "import h5py\n",
    "import pandas as pd\n",
    "import numpy as np\n",
    "\n",
    "\n",
    "enfref_dir = \"/grand/TFXcan/imlab/users/lvairus/reftile_project/enformer-reference-epigenome\"\n",
    "\n",
    "def query_epigenome(chr_num, center_bp, num_bins=3, tracks=-1):\n",
    "    \"\"\"\n",
    "    Parameters:\n",
    "        path_to_enfref (str): path to the directory containing the concatenated reference enformer files\n",
    "        chr_num (int/string): chromosome number\n",
    "        center_bp (int): center base pair position (1-indexed)\n",
    "        num_bins (int): number of bins to extract centered around center_bp (default: 896) \n",
    "            note: if the number of bins is even, the center bin will be in the second half of the array\n",
    "        tracks (int list): list of tracks to extract (default: all 5313 tracks)\n",
    "\n",
    "    Returns:\n",
    "        epigen (np.array): enformer predictions centered at center_bp of shape (num_bins, len(tracks))\n",
    "    \"\"\"\n",
    "\n",
    "    # from position choose center bin\n",
    "    center_ind = center_bp - 1\n",
    "    center_bin = center_ind // 128\n",
    "    \n",
    "    half_bins = num_bins // 2\n",
    "    start_bin = center_bin - half_bins\n",
    "    end_bin = center_bin + half_bins\n",
    "    if num_bins % 2 != 0: # if num_bins is odd\n",
    "        end_bin += 1\n",
    "\n",
    "    with h5py.File(f\"{enfref_dir}/chr{chr_num}_cat.h5\", \"r\") as f:\n",
    "        # get tracks if list provided\n",
    "        if tracks == -1:\n",
    "            epigen = f[f'chr{chr_num}'][start_bin:end_bin, :] \n",
    "        else:\n",
    "            epigen = f[f'chr{chr_num}'][start_bin:end_bin, tracks] \n",
    "\n",
    "    return epigen"
   ]
  },
  {
   "cell_type": "markdown",
   "metadata": {},
   "source": [
    "## Collect TSS for all human genes\n",
    "\n",
    "We collected all protein-coding genes and their cannonical TSS using the biomaRt package.\n"
   ]
  },
  {
   "cell_type": "code",
   "execution_count": 49,
   "metadata": {},
   "outputs": [
    {
     "name": "stdout",
     "output_type": "stream",
     "text": [
      "19688 genes with TSS annotation\n"
     ]
    },
    {
     "data": {
      "text/html": [
       "<div>\n",
       "<style scoped>\n",
       "    .dataframe tbody tr th:only-of-type {\n",
       "        vertical-align: middle;\n",
       "    }\n",
       "\n",
       "    .dataframe tbody tr th {\n",
       "        vertical-align: top;\n",
       "    }\n",
       "\n",
       "    .dataframe thead th {\n",
       "        text-align: right;\n",
       "    }\n",
       "</style>\n",
       "<table border=\"1\" class=\"dataframe\">\n",
       "  <thead>\n",
       "    <tr style=\"text-align: right;\">\n",
       "      <th></th>\n",
       "      <th>external_gene_name</th>\n",
       "      <th>chromosome_name</th>\n",
       "      <th>transcription_start_site</th>\n",
       "    </tr>\n",
       "    <tr>\n",
       "      <th>ensembl_gene_id</th>\n",
       "      <th></th>\n",
       "      <th></th>\n",
       "      <th></th>\n",
       "    </tr>\n",
       "  </thead>\n",
       "  <tbody>\n",
       "    <tr>\n",
       "      <th>ENSG00000142611</th>\n",
       "      <td>PRDM16</td>\n",
       "      <td>1</td>\n",
       "      <td>3069203</td>\n",
       "    </tr>\n",
       "    <tr>\n",
       "      <th>ENSG00000157911</th>\n",
       "      <td>PEX10</td>\n",
       "      <td>1</td>\n",
       "      <td>2412564</td>\n",
       "    </tr>\n",
       "    <tr>\n",
       "      <th>ENSG00000142655</th>\n",
       "      <td>PEX14</td>\n",
       "      <td>1</td>\n",
       "      <td>10474950</td>\n",
       "    </tr>\n",
       "    <tr>\n",
       "      <th>ENSG00000149527</th>\n",
       "      <td>PLCH2</td>\n",
       "      <td>1</td>\n",
       "      <td>2476289</td>\n",
       "    </tr>\n",
       "    <tr>\n",
       "      <th>ENSG00000171621</th>\n",
       "      <td>SPSB1</td>\n",
       "      <td>1</td>\n",
       "      <td>9292894</td>\n",
       "    </tr>\n",
       "  </tbody>\n",
       "</table>\n",
       "</div>"
      ],
      "text/plain": [
       "                external_gene_name chromosome_name  transcription_start_site\n",
       "ensembl_gene_id                                                             \n",
       "ENSG00000142611             PRDM16               1                   3069203\n",
       "ENSG00000157911              PEX10               1                   2412564\n",
       "ENSG00000142655              PEX14               1                  10474950\n",
       "ENSG00000149527              PLCH2               1                   2476289\n",
       "ENSG00000171621              SPSB1               1                   9292894"
      ]
     },
     "execution_count": 49,
     "metadata": {},
     "output_type": "execute_result"
    }
   ],
   "source": [
    "\n",
    "hg38_annot = pd.read_csv(\"protein_coding_TSS.tsv\", header=0, sep=\"\\t\", index_col='ensembl_gene_id')\n",
    "print(hg38_annot.shape[0], \"genes with TSS annotation\")\n",
    "hg38_annot.head()"
   ]
  },
  {
   "cell_type": "markdown",
   "metadata": {},
   "source": [
    "We computed the predicted human reference epigenome by running Enformer on all intervals spanning the genome and concatenting the results. Now we extract the CAGE:Brain track at the bins where each gene's TSS fall in order to quantify relative expression across genes.  "
   ]
  },
  {
   "cell_type": "markdown",
   "metadata": {},
   "source": [
    "## Query reference epigenome at TSS"
   ]
  },
  {
   "cell_type": "code",
   "execution_count": 51,
   "metadata": {},
   "outputs": [],
   "source": [
    "def quantify_expression(gene):\n",
    "    chr = hg38_annot.loc[gene]['chromosome_name']\n",
    "    tss = hg38_annot.loc[gene]['transcription_start_site']\n",
    "    return np.average(query_epigenome(chr,tss, num_bins = 3, tracks=[4980]))"
   ]
  },
  {
   "cell_type": "code",
   "execution_count": 50,
   "metadata": {},
   "outputs": [],
   "source": [
    "CAGE_predictions = []\n",
    "for gene in hg38_annot.index:\n",
    "    CAGE_predictions.append(quantify_expression(gene))\n"
   ]
  },
  {
   "cell_type": "code",
   "execution_count": 92,
   "metadata": {},
   "outputs": [
    {
     "data": {
      "text/html": [
       "<div>\n",
       "<style scoped>\n",
       "    .dataframe tbody tr th:only-of-type {\n",
       "        vertical-align: middle;\n",
       "    }\n",
       "\n",
       "    .dataframe tbody tr th {\n",
       "        vertical-align: top;\n",
       "    }\n",
       "\n",
       "    .dataframe thead th {\n",
       "        text-align: right;\n",
       "    }\n",
       "</style>\n",
       "<table border=\"1\" class=\"dataframe\">\n",
       "  <thead>\n",
       "    <tr style=\"text-align: right;\">\n",
       "      <th></th>\n",
       "      <th>enformer</th>\n",
       "    </tr>\n",
       "    <tr>\n",
       "      <th>ensembl_gene_id</th>\n",
       "      <th></th>\n",
       "    </tr>\n",
       "  </thead>\n",
       "  <tbody>\n",
       "    <tr>\n",
       "      <th>ENSG00000142611</th>\n",
       "      <td>3.030580</td>\n",
       "    </tr>\n",
       "    <tr>\n",
       "      <th>ENSG00000157911</th>\n",
       "      <td>4.573285</td>\n",
       "    </tr>\n",
       "    <tr>\n",
       "      <th>ENSG00000142655</th>\n",
       "      <td>7.280577</td>\n",
       "    </tr>\n",
       "    <tr>\n",
       "      <th>ENSG00000149527</th>\n",
       "      <td>0.022155</td>\n",
       "    </tr>\n",
       "    <tr>\n",
       "      <th>ENSG00000171621</th>\n",
       "      <td>3.718518</td>\n",
       "    </tr>\n",
       "  </tbody>\n",
       "</table>\n",
       "</div>"
      ],
      "text/plain": [
       "                 enformer\n",
       "ensembl_gene_id          \n",
       "ENSG00000142611  3.030580\n",
       "ENSG00000157911  4.573285\n",
       "ENSG00000142655  7.280577\n",
       "ENSG00000149527  0.022155\n",
       "ENSG00000171621  3.718518"
      ]
     },
     "execution_count": 92,
     "metadata": {},
     "output_type": "execute_result"
    }
   ],
   "source": [
    "gex_df = pd.DataFrame({\"enformer\": CAGE_predictions}, index=hg38_annot.index)\n",
    "gex_df.head()"
   ]
  },
  {
   "cell_type": "markdown",
   "metadata": {},
   "source": [
    "## Join with gene expression in GTEx brain cortex tissue"
   ]
  },
  {
   "cell_type": "code",
   "execution_count": 93,
   "metadata": {},
   "outputs": [],
   "source": [
    "gtex_tpm = pd.read_csv(\"gene_tpm_2017-06-05_v8_brain_cortex.gct.gz\", header=2, sep=\"\\t\")\n",
    "gtex_tpm['Name'] = gtex_tpm['Name'].apply(lambda gene: gene.split('.')[0])\n",
    "gtex_tpm.set_index('Name', inplace=True)"
   ]
  },
  {
   "cell_type": "code",
   "execution_count": 94,
   "metadata": {},
   "outputs": [
    {
     "name": "stdout",
     "output_type": "stream",
     "text": [
      "19152 genes in both GTEx and BioMart datasets\n"
     ]
    }
   ],
   "source": [
    "gene_list = gex_df.index.intersection(gtex_tpm.index)\n",
    "gtex_tpm = gtex_tpm.loc[gene_list]\n",
    "print(gtex_tpm.shape[0], \"genes in both GTEx and BioMart datasets\")"
   ]
  },
  {
   "cell_type": "code",
   "execution_count": 95,
   "metadata": {},
   "outputs": [],
   "source": [
    "# Calculate average gene expression\n",
    "gtex_mean_tpm = gtex_tpm.drop(columns=['id', 'Description']).mean(axis=1)\n",
    "gtex_mean_tpm.name = 'gtex'"
   ]
  },
  {
   "cell_type": "code",
   "execution_count": 96,
   "metadata": {},
   "outputs": [
    {
     "data": {
      "text/html": [
       "<div>\n",
       "<style scoped>\n",
       "    .dataframe tbody tr th:only-of-type {\n",
       "        vertical-align: middle;\n",
       "    }\n",
       "\n",
       "    .dataframe tbody tr th {\n",
       "        vertical-align: top;\n",
       "    }\n",
       "\n",
       "    .dataframe thead th {\n",
       "        text-align: right;\n",
       "    }\n",
       "</style>\n",
       "<table border=\"1\" class=\"dataframe\">\n",
       "  <thead>\n",
       "    <tr style=\"text-align: right;\">\n",
       "      <th></th>\n",
       "      <th>enformer</th>\n",
       "      <th>gtex</th>\n",
       "    </tr>\n",
       "  </thead>\n",
       "  <tbody>\n",
       "    <tr>\n",
       "      <th>ENSG00000000003</th>\n",
       "      <td>7.037427</td>\n",
       "      <td>4.587454</td>\n",
       "    </tr>\n",
       "    <tr>\n",
       "      <th>ENSG00000000005</th>\n",
       "      <td>1.203017</td>\n",
       "      <td>0.208880</td>\n",
       "    </tr>\n",
       "    <tr>\n",
       "      <th>ENSG00000000419</th>\n",
       "      <td>12.208982</td>\n",
       "      <td>26.515365</td>\n",
       "    </tr>\n",
       "    <tr>\n",
       "      <th>ENSG00000000457</th>\n",
       "      <td>2.586245</td>\n",
       "      <td>2.538695</td>\n",
       "    </tr>\n",
       "    <tr>\n",
       "      <th>ENSG00000000460</th>\n",
       "      <td>1.595694</td>\n",
       "      <td>0.840966</td>\n",
       "    </tr>\n",
       "  </tbody>\n",
       "</table>\n",
       "</div>"
      ],
      "text/plain": [
       "                  enformer       gtex\n",
       "ENSG00000000003   7.037427   4.587454\n",
       "ENSG00000000005   1.203017   0.208880\n",
       "ENSG00000000419  12.208982  26.515365\n",
       "ENSG00000000457   2.586245   2.538695\n",
       "ENSG00000000460   1.595694   0.840966"
      ]
     },
     "execution_count": 96,
     "metadata": {},
     "output_type": "execute_result"
    }
   ],
   "source": [
    "# Join observed gene expression with Enformer CAGE predicted\n",
    "gex_df = gex_df.merge(gtex_mean_tpm, left_index=True, right_index=True, how='inner').dropna()\n",
    "gex_df.head()\n"
   ]
  }
 ],
 "metadata": {
  "kernelspec": {
   "display_name": "base",
   "language": "python",
   "name": "base"
  },
  "language_info": {
   "codemirror_mode": {
    "name": "ipython",
    "version": 3
   },
   "file_extension": ".py",
   "mimetype": "text/x-python",
   "name": "python",
   "nbconvert_exporter": "python",
   "pygments_lexer": "ipython3",
   "version": "3.8.13"
  },
  "orig_nbformat": 4
 },
 "nbformat": 4,
 "nbformat_minor": 2
}
