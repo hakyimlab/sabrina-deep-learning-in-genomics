{
 "cells": [
  {
   "cell_type": "markdown",
   "metadata": {},
   "source": [
    "---\n",
    "title: Querying Human Reference Epigenome\n",
    "description: We first collected the TSS of all human genes where we have expression data for the orthologous rat gene. We used Laura's tools to query CAGE tracks from genome-wide Enformer predictions on the reference genome.\n",
    "date: 8/17/2023\n",
    "author: Sabrina Mi\n",
    "---\n",
    "\n",
    "## Setup"
   ]
  },
  {
   "cell_type": "code",
   "execution_count": 5,
   "metadata": {},
   "outputs": [],
   "source": [
    "import h5py\n",
    "import pandas as pd\n",
    "import numpy as np\n",
    "from kipoiseq import Interval\n",
    "import matplotlib.pyplot as plt\n",
    "import seaborn as sns\n",
    "\n",
    "\n",
    "enfref_dir = \"/grand/TFXcan/imlab/users/lvairus/reftile_project/enformer-reference-epigenome\"\n",
    "\n",
    "def query_epigenome(chr_num, center_bp, num_bins=3, tracks=-1):\n",
    "    \"\"\"\n",
    "    Parameters:\n",
    "        path_to_enfref (str): path to the directory containing the concatenated reference enformer files\n",
    "        chr_num (int/string): chromosome number\n",
    "        center_bp (int): center base pair position (1-indexed)\n",
    "        num_bins (int): number of bins to extract centered around center_bp (default: 896) \n",
    "            note: if the number of bins is even, the center bin will be in the second half of the array\n",
    "        tracks (int list): list of tracks to extract (default: all 5313 tracks)\n",
    "\n",
    "    Returns:\n",
    "        epigen (np.array): enformer predictions centered at center_bp of shape (num_bins, len(tracks))\n",
    "    \"\"\"\n",
    "\n",
    "    # from position choose center bin\n",
    "    center_ind = center_bp - 1\n",
    "    center_bin = center_ind // 128\n",
    "    \n",
    "    half_bins = num_bins // 2\n",
    "    start_bin = center_bin - half_bins\n",
    "    end_bin = center_bin + half_bins\n",
    "    if num_bins % 2 != 0: # if num_bins is odd\n",
    "        end_bin += 1\n",
    "\n",
    "    with h5py.File(f\"{enfref_dir}/chr{chr_num}_cat.h5\", \"r\") as f:\n",
    "        # get tracks if list provided\n",
    "        if tracks == -1:\n",
    "            epigen = f[f'chr{chr_num}'][start_bin:end_bin, :] \n",
    "        else:\n",
    "            epigen = f[f'chr{chr_num}'][start_bin:end_bin, tracks] \n",
    "\n",
    "    return epigen"
   ]
  },
  {
   "cell_type": "markdown",
   "metadata": {},
   "source": [
    "## Collect TSS for all human genes\n",
    "\n",
    "We collected all protein-coding genes and their cannonical TSS using the biomaRt package.\n"
   ]
  },
  {
   "cell_type": "code",
   "execution_count": 10,
   "metadata": {},
   "outputs": [
    {
     "name": "stdout",
     "output_type": "stream",
     "text": [
      "19688 genes with TSS annotation\n"
     ]
    },
    {
     "data": {
      "text/html": [
       "<div>\n",
       "<style scoped>\n",
       "    .dataframe tbody tr th:only-of-type {\n",
       "        vertical-align: middle;\n",
       "    }\n",
       "\n",
       "    .dataframe tbody tr th {\n",
       "        vertical-align: top;\n",
       "    }\n",
       "\n",
       "    .dataframe thead th {\n",
       "        text-align: right;\n",
       "    }\n",
       "</style>\n",
       "<table border=\"1\" class=\"dataframe\">\n",
       "  <thead>\n",
       "    <tr style=\"text-align: right;\">\n",
       "      <th></th>\n",
       "      <th>external_gene_name</th>\n",
       "      <th>chromosome_name</th>\n",
       "      <th>transcription_start_site</th>\n",
       "    </tr>\n",
       "    <tr>\n",
       "      <th>ensembl_gene_id</th>\n",
       "      <th></th>\n",
       "      <th></th>\n",
       "      <th></th>\n",
       "    </tr>\n",
       "  </thead>\n",
       "  <tbody>\n",
       "    <tr>\n",
       "      <th>ENSG00000142611</th>\n",
       "      <td>PRDM16</td>\n",
       "      <td>1</td>\n",
       "      <td>3069203</td>\n",
       "    </tr>\n",
       "    <tr>\n",
       "      <th>ENSG00000157911</th>\n",
       "      <td>PEX10</td>\n",
       "      <td>1</td>\n",
       "      <td>2412564</td>\n",
       "    </tr>\n",
       "    <tr>\n",
       "      <th>ENSG00000142655</th>\n",
       "      <td>PEX14</td>\n",
       "      <td>1</td>\n",
       "      <td>10474950</td>\n",
       "    </tr>\n",
       "    <tr>\n",
       "      <th>ENSG00000149527</th>\n",
       "      <td>PLCH2</td>\n",
       "      <td>1</td>\n",
       "      <td>2476289</td>\n",
       "    </tr>\n",
       "    <tr>\n",
       "      <th>ENSG00000171621</th>\n",
       "      <td>SPSB1</td>\n",
       "      <td>1</td>\n",
       "      <td>9292894</td>\n",
       "    </tr>\n",
       "  </tbody>\n",
       "</table>\n",
       "</div>"
      ],
      "text/plain": [
       "                external_gene_name chromosome_name  transcription_start_site\n",
       "ensembl_gene_id                                                             \n",
       "ENSG00000142611             PRDM16               1                   3069203\n",
       "ENSG00000157911              PEX10               1                   2412564\n",
       "ENSG00000142655              PEX14               1                  10474950\n",
       "ENSG00000149527              PLCH2               1                   2476289\n",
       "ENSG00000171621              SPSB1               1                   9292894"
      ]
     },
     "execution_count": 10,
     "metadata": {},
     "output_type": "execute_result"
    }
   ],
   "source": [
    "\n",
    "hg38_annot = pd.read_csv(\"/home/s1mi/enformer_rat_data/annotation/hg38.protein_coding_TSS.txt\", header=0, sep=\"\\t\", index_col='ensembl_gene_id')\n",
    "print(hg38_annot.shape[0], \"genes with TSS annotation\")\n",
    "hg38_annot.head()"
   ]
  },
  {
   "cell_type": "markdown",
   "metadata": {},
   "source": [
    "We computed the predicted human reference epigenome by running Enformer on all intervals spanning the genome and concatenting the results. Now we extract the CAGE:Brain track at the bins where each gene's TSS fall in order to quantify relative expression across genes.  "
   ]
  },
  {
   "cell_type": "markdown",
   "metadata": {},
   "source": [
    "## Query reference epigenome at TSS\n",
    "\n",
    "I found that querying the epigenome at certain positions returned NA, so I investigated those positions further by querying a larger window and plotting the CAGE track 4980."
   ]
  },
  {
   "cell_type": "code",
   "execution_count": 3,
   "metadata": {},
   "outputs": [
    {
     "name": "stdout",
     "output_type": "stream",
     "text": [
      "Invalid query: ENSG00000173451 at 12:71664301\n"
     ]
    }
   ],
   "source": [
    "CAGE_predictions = []\n",
    "for gene in hg38_annot.index:\n",
    "    chr = hg38_annot.loc[gene]['chromosome_name']\n",
    "    tss = hg38_annot.loc[gene]['transcription_start_site']\n",
    "    bin = query_epigenome(chr,tss, num_bins = 1, tracks=[4980])\n",
    "    if np.isnan(bin):\n",
    "        print(\"Invalid query:\", gene, \"at\", f\"{chr}:{tss}\")\n",
    "        break\n",
    "    CAGE_predictions.append(bin)\n"
   ]
  },
  {
   "cell_type": "code",
   "execution_count": 4,
   "metadata": {},
   "outputs": [
    {
     "name": "stdout",
     "output_type": "stream",
     "text": [
      "matrix shape: (1041214, 5313)\n",
      "ENSG00000173451 TTS at bin 559877\n",
      "Number of NA along track: 448\n"
     ]
    }
   ],
   "source": [
    "with h5py.File(f\"{enfref_dir}/chr12_cat.h5\", \"r\") as f:\n",
    "    print(\"matrix shape:\", f['chr12'].shape)\n",
    "    center = 71664301//128\n",
    "    print(\"ENSG00000173451 TTS at bin\", center)\n",
    "    epigen = f['chr12'][center-448:center+448, 4980]\n",
    "    print(\"Number of NA along track:\", sum(np.isnan(epigen)))\n",
    "    \n"
   ]
  },
  {
   "cell_type": "markdown",
   "metadata": {},
   "source": [
    "We adapted a function from the Enformer usage notebook to plot a single track."
   ]
  },
  {
   "cell_type": "code",
   "execution_count": 6,
   "metadata": {},
   "outputs": [],
   "source": [
    "def plot_track(title, y, interval, height=1.5):\n",
    "  fig, ax = plt.subplots(figsize=(20, height))\n",
    "  ax.fill_between(np.linspace(interval.start, interval.end, num=len(y)), y)\n",
    "  ax.set_title(title)\n",
    "  sns.despine(top=True, right=True, bottom=True)\n",
    "  ax.set_xlabel(str(interval))\n",
    "  plt.tight_layout()"
   ]
  },
  {
   "cell_type": "code",
   "execution_count": 8,
   "metadata": {},
   "outputs": [
    {
     "data": {
      "image/png": "[encoded data removed]",
      "text/plain": [
       "<Figure size 2000x150 with 1 Axes>"
      ]
     },
     "metadata": {},
     "output_type": "display_data"
    }
   ],
   "source": [
    "tss = Interval('chr12', 71664301, 71664301)\n",
    "plot_track('CAGE:Brain, ENSG00000173451', epigen, tss.resize(114688))"
   ]
  }
 ],
 "metadata": {
  "kernelspec": {
   "display_name": "ml-python",
   "language": "python",
   "name": "ml-python"
  },
  "language_info": {
   "codemirror_mode": {
    "name": "ipython",
    "version": 3
   },
   "file_extension": ".py",
   "mimetype": "text/x-python",
   "name": "python",
   "nbconvert_exporter": "python",
   "pygments_lexer": "ipython3",
   "version": "3.10.11"
  },
  "orig_nbformat": 4
 },
 "nbformat": 4,
 "nbformat_minor": 2
}
