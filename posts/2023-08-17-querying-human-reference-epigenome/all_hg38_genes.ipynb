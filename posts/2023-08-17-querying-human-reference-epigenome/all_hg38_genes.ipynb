{
 "cells": [
  {
   "cell_type": "markdown",
   "metadata": {},
   "source": [
    "---\n",
    "title: Querying Human Reference Epigenome\n",
    "description: We first collected the TSS of all human genes where we have expression data for the orthologous rat gene. We used Laura's tools to query CAGE tracks from genome-wide Enformer predictions on the reference genome.\n",
    "date: 8/17/2023\n",
    "author: Sabrina Mi\n",
    "---\n",
    "\n",
    "## Setup"
   ]
  },
  {
   "cell_type": "code",
   "execution_count": 2,
   "metadata": {},
   "outputs": [],
   "source": [
    "import h5py\n",
    "import pandas as pd\n",
    "\n",
    "\n",
    "reference_dir = \"/grand/TFXcan/imlab/users/lvairus/reftile_project/enformer-reference-epigenome\"\n",
    "\n",
    "def query_epigenome(path_to_enfref, chr_num, center_bp, num_bins=896, tracks=-1):\n",
    "    \"\"\"\n",
    "    Parameters:\n",
    "        path_to_enfref (str): path to the directory containing the concatenated reference enformer files\n",
    "        chr_num (int/string): chromosome number\n",
    "        center_bp (int): center base pair position (1-indexed)\n",
    "        num_bins (int): number of bins to extract centered around center_bp (default: 896) \n",
    "            note: if the number of bins is even, the center bin will be in the second half of the array\n",
    "        tracks (int list): list of tracks to extract (default: all 5313 tracks)\n",
    "\n",
    "    Returns:\n",
    "        epigen (np.array): enformer predictions centered at center_bp of shape (num_bins, len(tracks))\n",
    "    \"\"\"\n",
    "\n",
    "    # from chr_num choose file\n",
    "    filename = f\"chr{chr_num}_cat.h5\"\n",
    "\n",
    "    # from position choose center bin\n",
    "    center_ind = center_bp - 1\n",
    "    center_bin = center_ind // 128\n",
    "    \n",
    "    # from bins choose number of bins\n",
    "    half_bins = num_bins // 2\n",
    "    start_bin = center_bin - half_bins\n",
    "    end_bin = center_bin + half_bins\n",
    "    if num_bins % 2 != 0: # if num_bins is odd\n",
    "        end_bin += 1\n",
    "\n",
    "    # get bins (with all tracks)\n",
    "    with h5py.File(f\"{path_to_enfref}/{filename}\", \"r\") as f:\n",
    "        epigen = f[f'chr{chr_num}'][()][start_bin:end_bin] # np.array (num_bins, 5313)\n",
    "\n",
    "    # get tracks if list provided\n",
    "    if tracks != -1:\n",
    "        epigen = epigen[:, tracks] # np.array (num_bins, len(tracks))\n",
    "\n",
    "    return epigen"
   ]
  },
  {
   "cell_type": "markdown",
   "metadata": {},
   "source": [
    "## Collect TSS"
   ]
  },
  {
   "cell_type": "code",
   "execution_count": 7,
   "metadata": {},
   "outputs": [],
   "source": [
    "rn7_gene_list = pd.read_csv(\"reference_epigenome_predicted_vs_observed.csv\", header=0, usecols=['gene_id'])\n",
    "ortho_genes = pd.read_csv(\"ortholog_genes_rats_humans.tsv\", header=0, sep=\"\\t\", usecols=['ensembl_gene_id', 'rnorvegicus_homolog_ensembl_gene'])\n"
   ]
  },
  {
   "cell_type": "code",
   "execution_count": null,
   "metadata": {},
   "outputs": [],
   "source": []
  }
 ],
 "metadata": {
  "kernelspec": {
   "display_name": "base",
   "language": "python",
   "name": "base"
  },
  "language_info": {
   "codemirror_mode": {
    "name": "ipython",
    "version": 3
   },
   "file_extension": ".py",
   "mimetype": "text/x-python",
   "name": "python",
   "nbconvert_exporter": "python",
   "pygments_lexer": "ipython3",
   "version": "3.8.13"
  },
  "orig_nbformat": 4
 },
 "nbformat": 4,
 "nbformat_minor": 2
}
