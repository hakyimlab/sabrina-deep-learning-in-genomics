{
 "cells": [
  {
   "cell_type": "markdown",
   "metadata": {},
   "source": [
    "---\n",
    "title: Querying Human Reference Epigenome\n",
    "description: We first collected the TSS of all human genes where we have expression data for the orthologous rat gene. We used Laura's tools to query CAGE tracks from genome-wide Enformer predictions on the reference genome.\n",
    "date: 8/17/2023\n",
    "author: Sabrina Mi\n",
    "---\n",
    "\n",
    "## Setup"
   ]
  },
  {
   "cell_type": "code",
   "execution_count": 1,
   "metadata": {},
   "outputs": [],
   "source": [
    "import h5py\n",
    "import pandas as pd\n",
    "\n",
    "\n",
    "reference_dir = \"/grand/TFXcan/imlab/users/lvairus/reftile_project/enformer-reference-epigenome\"\n",
    "\n",
    "def query_epigenome(path_to_enfref, chr_num, center_bp, num_bins=896, tracks=-1):\n",
    "    \"\"\"\n",
    "    Parameters:\n",
    "        path_to_enfref (str): path to the directory containing the concatenated reference enformer files\n",
    "        chr_num (int/string): chromosome number\n",
    "        center_bp (int): center base pair position (1-indexed)\n",
    "        num_bins (int): number of bins to extract centered around center_bp (default: 896) \n",
    "            note: if the number of bins is even, the center bin will be in the second half of the array\n",
    "        tracks (int list): list of tracks to extract (default: all 5313 tracks)\n",
    "\n",
    "    Returns:\n",
    "        epigen (np.array): enformer predictions centered at center_bp of shape (num_bins, len(tracks))\n",
    "    \"\"\"\n",
    "\n",
    "    # from chr_num choose file\n",
    "    filename = f\"chr{chr_num}_cat.h5\"\n",
    "\n",
    "    # from position choose center bin\n",
    "    center_ind = center_bp - 1\n",
    "    center_bin = center_ind // 128\n",
    "    \n",
    "    # from bins choose number of bins\n",
    "    half_bins = num_bins // 2\n",
    "    start_bin = center_bin - half_bins\n",
    "    end_bin = center_bin + half_bins\n",
    "    if num_bins % 2 != 0: # if num_bins is odd\n",
    "        end_bin += 1\n",
    "\n",
    "    # get bins (with all tracks)\n",
    "    with h5py.File(f\"{path_to_enfref}/{filename}\", \"r\") as f:\n",
    "        epigen = f[f'chr{chr_num}'][()][start_bin:end_bin] # np.array (num_bins, 5313)\n",
    "\n",
    "    # get tracks if list provided\n",
    "    if tracks != -1:\n",
    "        epigen = epigen[:, tracks] # np.array (num_bins, len(tracks))\n",
    "\n",
    "    return epigen"
   ]
  },
  {
   "cell_type": "markdown",
   "metadata": {},
   "source": [
    "## Collect TSS for all human genes\n",
    "\n",
    "We collected all protein-coding genes and their cannonical TSS using the biomaRt package.\n",
    "\n"
   ]
  },
  {
   "cell_type": "code",
   "execution_count": 7,
   "metadata": {},
   "outputs": [],
   "source": [
    "\n",
    "hg38_annot = pd.read_csv(\"protein_coding_TSS.tsv\", header=0, sep=\"\\t\", index_col='ensembl_gene_id')\n"
   ]
  },
  {
   "cell_type": "markdown",
   "metadata": {},
   "source": [
    "We computed the predicted human reference epigenome by running Enformer on all intervals spanning the genome and concatenting the results. Now we extract the CAGE:Brain track at the bins where each gene's TSS fall in order to quantify relative expression across genes.  "
   ]
  },
  {
   "cell_type": "code",
   "execution_count": 5,
   "metadata": {},
   "outputs": [
    {
     "name": "stdout",
     "output_type": "stream",
     "text": [
      "0        ENSG00000198888\n",
      "1        ENSG00000198763\n",
      "2        ENSG00000198804\n",
      "3        ENSG00000198712\n",
      "4        ENSG00000228253\n",
      "              ...       \n",
      "22772    ENSG00000181817\n",
      "22773    ENSG00000116885\n",
      "22774    ENSG00000116898\n",
      "22775    ENSG00000119535\n",
      "22776    ENSG00000142694\n",
      "Name: ensembl_gene_id, Length: 22777, dtype: object\n"
     ]
    }
   ],
   "source": [
    "gene = 'ENSG00000198888'\n",
    "def quantify_expression(gene):\n",
    "    print(gene)"
   ]
  },
  {
   "cell_type": "code",
   "execution_count": null,
   "metadata": {},
   "outputs": [],
   "source": [
    "quantify_expression(gene)"
   ]
  },
  {
   "cell_type": "code",
   "execution_count": null,
   "metadata": {},
   "outputs": [],
   "source": [
    "#rn7_gene_list = pd.read_csv(\"reference_epigenome_predicted_vs_observed.csv\", header=0, usecols=['gene_id'])\n",
    "#ortho_genes = pd.read_csv(\"ortholog_genes_rats_humans.tsv\", header=0, sep=\"\\t\", usecols=['ensembl_gene_id', 'rnorvegicus_homolog_ensembl_gene'])"
   ]
  }
 ],
 "metadata": {
  "kernelspec": {
   "display_name": "base",
   "language": "python",
   "name": "base"
  },
  "language_info": {
   "codemirror_mode": {
    "name": "ipython",
    "version": 3
   },
   "file_extension": ".py",
   "mimetype": "text/x-python",
   "name": "python",
   "nbconvert_exporter": "python",
   "pygments_lexer": "ipython3",
   "version": "3.8.13"
  },
  "orig_nbformat": 4
 },
 "nbformat": 4,
 "nbformat_minor": 2
}
