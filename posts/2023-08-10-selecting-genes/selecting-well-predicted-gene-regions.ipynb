{
 "cells": [
  {
   "cell_type": "markdown",
   "metadata": {},
   "source": [
    "---\n",
    "title: Selecting Rat genes for Enformer CAGE predictions\n",
    "description: We are looking for genes with (1) variation in observed gene expression across individuals, (2) high prediction performance in elastic net training, and (3) multiple causal variants.\n",
    "author: Sabrina Mi\n",
    "date: 8/10/23\n",
    "---"
   ]
  },
  {
   "cell_type": "markdown",
   "metadata": {},
   "source": [
    "## Calculate gene expression variance across individuals"
   ]
  },
  {
   "cell_type": "code",
   "execution_count": 32,
   "metadata": {},
   "outputs": [],
   "source": [
    "import pandas as pd\n",
    "import numpy as np"
   ]
  },
  {
   "cell_type": "code",
   "execution_count": 7,
   "metadata": {},
   "outputs": [
    {
     "name": "stderr",
     "output_type": "stream",
     "text": [
      "/tmp/ipykernel_123362/1386399847.py:2: DtypeWarning: Columns (0) have mixed types. Specify dtype option on import or set low_memory=False.\n",
      "  tpm = pd.read_csv(\"/home/s1mi/enformer_rat_data/Brain.rn7.expr.tpm.bed\", header = 0, sep=\"\\t\",  index_col= 'gene_id')\n",
      "/tmp/ipykernel_123362/1386399847.py:3: DtypeWarning: Columns (0) have mixed types. Specify dtype option on import or set low_memory=False.\n",
      "  iqn = pd.read_csv(\"/home/s1mi/enformer_rat_data/Brain.rn7.expr.iqn.bed\", header = 0, sep=\"\\t\",  index_col= 'gene_id')\n"
     ]
    }
   ],
   "source": [
    "## Read in expression data\n",
    "tpm = pd.read_csv(\"/home/s1mi/enformer_rat_data/Brain.rn7.expr.tpm.bed\", header = 0, sep=\"\\t\",  index_col= 'gene_id')\n",
    "iqn = pd.read_csv(\"/home/s1mi/enformer_rat_data/Brain.rn7.expr.iqn.bed\", header = 0, sep=\"\\t\",  index_col= 'gene_id')"
   ]
  },
  {
   "cell_type": "code",
   "execution_count": 33,
   "metadata": {},
   "outputs": [
    {
     "data": {
      "text/plain": [
       "1003.8945129200853"
      ]
     },
     "execution_count": 33,
     "metadata": {},
     "output_type": "execute_result"
    }
   ],
   "source": [
    "tpm_var = tpm.iloc[:, 3:].var(axis=1)\n",
    "np.average(tpm_var)"
   ]
  },
  {
   "cell_type": "code",
   "execution_count": 34,
   "metadata": {},
   "outputs": [
    {
     "data": {
      "text/plain": [
       "0.6306594759954833"
      ]
     },
     "execution_count": 34,
     "metadata": {},
     "output_type": "execute_result"
    }
   ],
   "source": [
    "iqn_var = iqn.iloc[:, 3:].var(axis=1)\n",
    "np.average(iqn_var)"
   ]
  },
  {
   "cell_type": "markdown",
   "metadata": {},
   "source": [
    "We first subset to genes in the top decile for both TPM and IQN variance."
   ]
  },
  {
   "cell_type": "code",
   "execution_count": 37,
   "metadata": {},
   "outputs": [
    {
     "name": "stdout",
     "output_type": "stream",
     "text": [
      "167 genes with high variance\n"
     ]
    }
   ],
   "source": [
    "tpm_threshold = tpm_var.quantile(0.9)\n",
    "iqn_threshold = iqn_var.quantile(0.9)\n",
    "high_tpm_var_genes = set(tpm[tpm_var> tpm_threshold].index)\n",
    "high_iqn_var_genes = set(iqn[iqn_var> iqn_threshold].index)\n",
    "high_var_genes = high_tpm_var_genes.intersection(high_iqn_var_genes)\n",
    "print(len(high_var_genes), \"genes with high variance\")"
   ]
  },
  {
   "cell_type": "markdown",
   "metadata": {},
   "source": []
  }
 ],
 "metadata": {
  "kernelspec": {
   "display_name": "base",
   "language": "python",
   "name": "base"
  },
  "language_info": {
   "codemirror_mode": {
    "name": "ipython",
    "version": 3
   },
   "file_extension": ".py",
   "mimetype": "text/x-python",
   "name": "python",
   "nbconvert_exporter": "python",
   "pygments_lexer": "ipython3",
   "version": "3.8.13"
  },
  "orig_nbformat": 4
 },
 "nbformat": 4,
 "nbformat_minor": 2
}
