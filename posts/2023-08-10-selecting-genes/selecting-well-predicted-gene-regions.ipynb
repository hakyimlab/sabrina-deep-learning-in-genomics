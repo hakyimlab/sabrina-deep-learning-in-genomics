{
 "cells": [
  {
   "cell_type": "markdown",
   "metadata": {},
   "source": [
    "---\n",
    "title: Selecting Rat genes for Enformer CAGE predictions\n",
    "description: We are looking for genes with (1) variation in observed gene expression across individuals, (2) high prediction performance in elastic net training, and (3) multiple causal variants.\n",
    "author: Sabrina Mi\n",
    "date: 8/10/23\n",
    "---"
   ]
  },
  {
   "cell_type": "markdown",
   "metadata": {},
   "source": [
    "## Calculate gene expression variance across individuals"
   ]
  },
  {
   "cell_type": "code",
   "execution_count": 2,
   "metadata": {},
   "outputs": [],
   "source": [
    "import pandas as pd\n",
    "import numpy as np"
   ]
  },
  {
   "cell_type": "code",
   "execution_count": 3,
   "metadata": {},
   "outputs": [
    {
     "name": "stderr",
     "output_type": "stream",
     "text": [
      "/tmp/ipykernel_238845/1386399847.py:2: DtypeWarning: Columns (0) have mixed types. Specify dtype option on import or set low_memory=False.\n",
      "  tpm = pd.read_csv(\"/home/s1mi/enformer_rat_data/Brain.rn7.expr.tpm.bed\", header = 0, sep=\"\\t\",  index_col= 'gene_id')\n",
      "/tmp/ipykernel_238845/1386399847.py:3: DtypeWarning: Columns (0) have mixed types. Specify dtype option on import or set low_memory=False.\n",
      "  iqn = pd.read_csv(\"/home/s1mi/enformer_rat_data/Brain.rn7.expr.iqn.bed\", header = 0, sep=\"\\t\",  index_col= 'gene_id')\n"
     ]
    }
   ],
   "source": [
    "## Read in expression data\n",
    "tpm = pd.read_csv(\"/home/s1mi/enformer_rat_data/Brain.rn7.expr.tpm.bed\", header = 0, sep=\"\\t\",  index_col= 'gene_id')\n",
    "iqn = pd.read_csv(\"/home/s1mi/enformer_rat_data/Brain.rn7.expr.iqn.bed\", header = 0, sep=\"\\t\",  index_col= 'gene_id')"
   ]
  },
  {
   "cell_type": "code",
   "execution_count": 6,
   "metadata": {},
   "outputs": [
    {
     "data": {
      "text/plain": [
       "1003.8945129200853"
      ]
     },
     "execution_count": 6,
     "metadata": {},
     "output_type": "execute_result"
    }
   ],
   "source": [
    "tpm_var = tpm.iloc[:, 3:].var(axis=1)\n",
    "np.average(tpm_var)"
   ]
  },
  {
   "cell_type": "code",
   "execution_count": 7,
   "metadata": {},
   "outputs": [
    {
     "data": {
      "text/plain": [
       "0.6306594759954833"
      ]
     },
     "execution_count": 7,
     "metadata": {},
     "output_type": "execute_result"
    }
   ],
   "source": [
    "iqn_var = iqn.iloc[:, 3:].var(axis=1)\n",
    "np.average(iqn_var)"
   ]
  },
  {
   "cell_type": "markdown",
   "metadata": {},
   "source": [
    "We first subset to genes in the top decile for both TPM and IQN variance."
   ]
  },
  {
   "cell_type": "code",
   "execution_count": 8,
   "metadata": {},
   "outputs": [
    {
     "name": "stdout",
     "output_type": "stream",
     "text": [
      "167 genes with high variance\n"
     ]
    }
   ],
   "source": [
    "tpm_threshold = tpm_var.quantile(0.9)\n",
    "iqn_threshold = iqn_var.quantile(0.9)\n",
    "high_tpm_var_genes = set(tpm[tpm_var> tpm_threshold].index)\n",
    "high_iqn_var_genes = set(iqn[iqn_var> iqn_threshold].index)\n",
    "high_var_genes = high_tpm_var_genes.intersection(high_iqn_var_genes)\n",
    "print(len(high_var_genes), \"genes with high variance\")"
   ]
  },
  {
   "cell_type": "markdown",
   "metadata": {},
   "source": [
    "## Count eQTLs"
   ]
  },
  {
   "cell_type": "code",
   "execution_count": 10,
   "metadata": {},
   "outputs": [
    {
     "data": {
      "text/html": [
       "<div>\n",
       "<style scoped>\n",
       "    .dataframe tbody tr th:only-of-type {\n",
       "        vertical-align: middle;\n",
       "    }\n",
       "\n",
       "    .dataframe tbody tr th {\n",
       "        vertical-align: top;\n",
       "    }\n",
       "\n",
       "    .dataframe thead th {\n",
       "        text-align: right;\n",
       "    }\n",
       "</style>\n",
       "<table border=\"1\" class=\"dataframe\">\n",
       "  <thead>\n",
       "    <tr style=\"text-align: right;\">\n",
       "      <th></th>\n",
       "      <th>gene_id</th>\n",
       "      <th>variant_id</th>\n",
       "      <th>tss_distance</th>\n",
       "      <th>af</th>\n",
       "      <th>ma_samples</th>\n",
       "      <th>ma_count</th>\n",
       "      <th>pval_nominal</th>\n",
       "      <th>slope</th>\n",
       "      <th>slope_se</th>\n",
       "      <th>pval_nominal_threshold</th>\n",
       "    </tr>\n",
       "  </thead>\n",
       "  <tbody>\n",
       "    <tr>\n",
       "      <th>0</th>\n",
       "      <td>ENSRNOG00000050129</td>\n",
       "      <td>chr1:2002359</td>\n",
       "      <td>695174</td>\n",
       "      <td>0.433432</td>\n",
       "      <td>223</td>\n",
       "      <td>294</td>\n",
       "      <td>0.0015</td>\n",
       "      <td>0.129848</td>\n",
       "      <td>0.04054</td>\n",
       "      <td>0.006989</td>\n",
       "    </tr>\n",
       "    <tr>\n",
       "      <th>1</th>\n",
       "      <td>ENSRNOG00000050129</td>\n",
       "      <td>chr1:2002361</td>\n",
       "      <td>695176</td>\n",
       "      <td>0.433432</td>\n",
       "      <td>223</td>\n",
       "      <td>294</td>\n",
       "      <td>0.0015</td>\n",
       "      <td>0.129848</td>\n",
       "      <td>0.04054</td>\n",
       "      <td>0.006989</td>\n",
       "    </tr>\n",
       "    <tr>\n",
       "      <th>2</th>\n",
       "      <td>ENSRNOG00000050129</td>\n",
       "      <td>chr1:2002408</td>\n",
       "      <td>695223</td>\n",
       "      <td>0.433432</td>\n",
       "      <td>223</td>\n",
       "      <td>294</td>\n",
       "      <td>0.0015</td>\n",
       "      <td>0.129848</td>\n",
       "      <td>0.04054</td>\n",
       "      <td>0.006989</td>\n",
       "    </tr>\n",
       "    <tr>\n",
       "      <th>3</th>\n",
       "      <td>ENSRNOG00000050129</td>\n",
       "      <td>chr1:2002450</td>\n",
       "      <td>695265</td>\n",
       "      <td>0.433432</td>\n",
       "      <td>223</td>\n",
       "      <td>294</td>\n",
       "      <td>0.0015</td>\n",
       "      <td>0.129848</td>\n",
       "      <td>0.04054</td>\n",
       "      <td>0.006989</td>\n",
       "    </tr>\n",
       "    <tr>\n",
       "      <th>4</th>\n",
       "      <td>ENSRNOG00000050129</td>\n",
       "      <td>chr1:2002464</td>\n",
       "      <td>695279</td>\n",
       "      <td>0.433432</td>\n",
       "      <td>223</td>\n",
       "      <td>294</td>\n",
       "      <td>0.0015</td>\n",
       "      <td>0.129848</td>\n",
       "      <td>0.04054</td>\n",
       "      <td>0.006989</td>\n",
       "    </tr>\n",
       "  </tbody>\n",
       "</table>\n",
       "</div>"
      ],
      "text/plain": [
       "              gene_id    variant_id  tss_distance        af  ma_samples  \\\n",
       "0  ENSRNOG00000050129  chr1:2002359        695174  0.433432         223   \n",
       "1  ENSRNOG00000050129  chr1:2002361        695176  0.433432         223   \n",
       "2  ENSRNOG00000050129  chr1:2002408        695223  0.433432         223   \n",
       "3  ENSRNOG00000050129  chr1:2002450        695265  0.433432         223   \n",
       "4  ENSRNOG00000050129  chr1:2002464        695279  0.433432         223   \n",
       "\n",
       "   ma_count  pval_nominal     slope  slope_se  pval_nominal_threshold  \n",
       "0       294        0.0015  0.129848   0.04054                0.006989  \n",
       "1       294        0.0015  0.129848   0.04054                0.006989  \n",
       "2       294        0.0015  0.129848   0.04054                0.006989  \n",
       "3       294        0.0015  0.129848   0.04054                0.006989  \n",
       "4       294        0.0015  0.129848   0.04054                0.006989  "
      ]
     },
     "execution_count": 10,
     "metadata": {},
     "output_type": "execute_result"
    }
   ],
   "source": [
    "eqtl = pd.read_csv(\"/home/s1mi/enformer_rat_data/annotation/Brain.rn7.cis_qtl_signif.txt\", sep=\"\\t\")\n",
    "eqtl.head()"
   ]
  },
  {
   "cell_type": "code",
   "execution_count": 11,
   "metadata": {},
   "outputs": [],
   "source": [
    "counts = eqtl['gene_id'].value_counts()"
   ]
  },
  {
   "cell_type": "code",
   "execution_count": 12,
   "metadata": {},
   "outputs": [
    {
     "data": {
      "text/plain": [
       "count    11238.000000\n",
       "mean      2312.935398\n",
       "std       1490.079008\n",
       "min          1.000000\n",
       "25%       1160.250000\n",
       "50%       2236.000000\n",
       "75%       3277.750000\n",
       "max      10799.000000\n",
       "Name: gene_id, dtype: float64"
      ]
     },
     "execution_count": 12,
     "metadata": {},
     "output_type": "execute_result"
    }
   ],
   "source": [
    "counts.describe()"
   ]
  },
  {
   "cell_type": "code",
   "execution_count": 13,
   "metadata": {},
   "outputs": [],
   "source": [
    "eqtl_threshold = counts.quantile(0.9)\n",
    "eqtl_genes = counts[counts > eqtl_threshold].index"
   ]
  },
  {
   "cell_type": "code",
   "execution_count": 14,
   "metadata": {},
   "outputs": [
    {
     "name": "stdout",
     "output_type": "stream",
     "text": [
      "Index(['ENSRNOG00000031024', 'ENSRNOG00000000451', 'ENSRNOG00000032708',\n",
      "       'ENSRNOG00000000455', 'ENSRNOG00000021507', 'ENSRNOG00000009389',\n",
      "       'ENSRNOG00000066838', 'ENSRNOG00000000432', 'ENSRNOG00000039396',\n",
      "       'ENSRNOG00000002232',\n",
      "       ...\n",
      "       'ENSRNOG00000016364', 'ENSRNOG00000008471', 'ENSRNOG00000043350',\n",
      "       'ENSRNOG00000012337', 'ENSRNOG00000005248', 'ENSRNOG00000068325',\n",
      "       'ENSRNOG00000012868', 'ENSRNOG00000068200', 'ENSRNOG00000005610',\n",
      "       'ENSRNOG00000008356'],\n",
      "      dtype='object', length=1124)\n"
     ]
    }
   ],
   "source": [
    "print(eqtl_genes)"
   ]
  },
  {
   "cell_type": "code",
   "execution_count": 15,
   "metadata": {},
   "outputs": [
    {
     "name": "stdout",
     "output_type": "stream",
     "text": [
      "17 candidate genes for enformer prediction experiments\n"
     ]
    }
   ],
   "source": [
    "gene_list = high_var_genes.intersection(set(eqtl_genes))\n",
    "print(len(gene_list), \"candidate genes for enformer prediction experiments\")"
   ]
  },
  {
   "cell_type": "markdown",
   "metadata": {},
   "source": [
    "## Check Elastic Net Prediction Performance\n",
    "\n",
    "Now that we have a manageable number of genes, we can individual check that these genes have sufficient prediction performance."
   ]
  },
  {
   "cell_type": "code",
   "execution_count": 18,
   "metadata": {},
   "outputs": [
    {
     "data": {
      "text/html": [
       "<div>\n",
       "<style scoped>\n",
       "    .dataframe tbody tr th:only-of-type {\n",
       "        vertical-align: middle;\n",
       "    }\n",
       "\n",
       "    .dataframe tbody tr th {\n",
       "        vertical-align: top;\n",
       "    }\n",
       "\n",
       "    .dataframe thead th {\n",
       "        text-align: right;\n",
       "    }\n",
       "</style>\n",
       "<table border=\"1\" class=\"dataframe\">\n",
       "  <thead>\n",
       "    <tr style=\"text-align: right;\">\n",
       "      <th></th>\n",
       "      <th>genename</th>\n",
       "      <th>pred.perf.R2</th>\n",
       "      <th>n.snps.in.model</th>\n",
       "      <th>pred.perf.pval</th>\n",
       "      <th>cor</th>\n",
       "      <th>pred.perf.qval</th>\n",
       "    </tr>\n",
       "    <tr>\n",
       "      <th>gene</th>\n",
       "      <th></th>\n",
       "      <th></th>\n",
       "      <th></th>\n",
       "      <th></th>\n",
       "      <th></th>\n",
       "      <th></th>\n",
       "    </tr>\n",
       "  </thead>\n",
       "  <tbody>\n",
       "    <tr>\n",
       "      <th>ENSRNOG00000009734</th>\n",
       "      <td>Akr1b8</td>\n",
       "      <td>0.050379</td>\n",
       "      <td>4</td>\n",
       "      <td>6.577101e-04</td>\n",
       "      <td>0.224453</td>\n",
       "      <td>4.811327e-04</td>\n",
       "    </tr>\n",
       "    <tr>\n",
       "      <th>ENSRNOG00000001311</th>\n",
       "      <td>Rab36</td>\n",
       "      <td>0.559618</td>\n",
       "      <td>2</td>\n",
       "      <td>6.036613e-42</td>\n",
       "      <td>0.748076</td>\n",
       "      <td>7.693936e-41</td>\n",
       "    </tr>\n",
       "    <tr>\n",
       "      <th>ENSRNOG00000010079</th>\n",
       "      <td>Ca3</td>\n",
       "      <td>0.003307</td>\n",
       "      <td>2</td>\n",
       "      <td>3.884876e-01</td>\n",
       "      <td>0.057507</td>\n",
       "      <td>1.439053e-01</td>\n",
       "    </tr>\n",
       "    <tr>\n",
       "      <th>ENSRNOG00000028436</th>\n",
       "      <td>Rprml</td>\n",
       "      <td>0.228241</td>\n",
       "      <td>3</td>\n",
       "      <td>2.407910e-14</td>\n",
       "      <td>0.477745</td>\n",
       "      <td>5.222104e-14</td>\n",
       "    </tr>\n",
       "    <tr>\n",
       "      <th>ENSRNOG00000032908</th>\n",
       "      <td>Acaa1a</td>\n",
       "      <td>0.548779</td>\n",
       "      <td>2</td>\n",
       "      <td>9.394297e-41</td>\n",
       "      <td>0.740796</td>\n",
       "      <td>1.111821e-39</td>\n",
       "    </tr>\n",
       "    <tr>\n",
       "      <th>ENSRNOG00000050647</th>\n",
       "      <td>Hspa1b</td>\n",
       "      <td>0.078443</td>\n",
       "      <td>6</td>\n",
       "      <td>1.847947e-05</td>\n",
       "      <td>0.280077</td>\n",
       "      <td>1.706734e-05</td>\n",
       "    </tr>\n",
       "    <tr>\n",
       "      <th>ENSRNOG00000012235</th>\n",
       "      <td>Ppp1r17</td>\n",
       "      <td>0.370200</td>\n",
       "      <td>2</td>\n",
       "      <td>2.229702e-24</td>\n",
       "      <td>0.608441</td>\n",
       "      <td>9.825564e-24</td>\n",
       "    </tr>\n",
       "    <tr>\n",
       "      <th>ENSRNOG00000048258</th>\n",
       "      <td>Cisd2</td>\n",
       "      <td>0.661901</td>\n",
       "      <td>2</td>\n",
       "      <td>6.783282e-55</td>\n",
       "      <td>0.813573</td>\n",
       "      <td>2.391336e-53</td>\n",
       "    </tr>\n",
       "    <tr>\n",
       "      <th>ENSRNOG00000054549</th>\n",
       "      <td>Lss</td>\n",
       "      <td>0.124023</td>\n",
       "      <td>3</td>\n",
       "      <td>4.970816e-08</td>\n",
       "      <td>0.352169</td>\n",
       "      <td>6.169430e-08</td>\n",
       "    </tr>\n",
       "    <tr>\n",
       "      <th>ENSRNOG00000004430</th>\n",
       "      <td>Cep131</td>\n",
       "      <td>0.650722</td>\n",
       "      <td>2</td>\n",
       "      <td>2.657264e-53</td>\n",
       "      <td>0.806673</td>\n",
       "      <td>8.153414e-52</td>\n",
       "    </tr>\n",
       "  </tbody>\n",
       "</table>\n",
       "</div>"
      ],
      "text/plain": [
       "                   genename  pred.perf.R2  n.snps.in.model  pred.perf.pval  \\\n",
       "gene                                                                         \n",
       "ENSRNOG00000009734   Akr1b8      0.050379                4    6.577101e-04   \n",
       "ENSRNOG00000001311    Rab36      0.559618                2    6.036613e-42   \n",
       "ENSRNOG00000010079      Ca3      0.003307                2    3.884876e-01   \n",
       "ENSRNOG00000028436    Rprml      0.228241                3    2.407910e-14   \n",
       "ENSRNOG00000032908   Acaa1a      0.548779                2    9.394297e-41   \n",
       "ENSRNOG00000050647   Hspa1b      0.078443                6    1.847947e-05   \n",
       "ENSRNOG00000012235  Ppp1r17      0.370200                2    2.229702e-24   \n",
       "ENSRNOG00000048258    Cisd2      0.661901                2    6.783282e-55   \n",
       "ENSRNOG00000054549      Lss      0.124023                3    4.970816e-08   \n",
       "ENSRNOG00000004430   Cep131      0.650722                2    2.657264e-53   \n",
       "\n",
       "                         cor  pred.perf.qval  \n",
       "gene                                          \n",
       "ENSRNOG00000009734  0.224453    4.811327e-04  \n",
       "ENSRNOG00000001311  0.748076    7.693936e-41  \n",
       "ENSRNOG00000010079  0.057507    1.439053e-01  \n",
       "ENSRNOG00000028436  0.477745    5.222104e-14  \n",
       "ENSRNOG00000032908  0.740796    1.111821e-39  \n",
       "ENSRNOG00000050647  0.280077    1.706734e-05  \n",
       "ENSRNOG00000012235  0.608441    9.825564e-24  \n",
       "ENSRNOG00000048258  0.813573    2.391336e-53  \n",
       "ENSRNOG00000054549  0.352169    6.169430e-08  \n",
       "ENSRNOG00000004430  0.806673    8.153414e-52  "
      ]
     },
     "execution_count": 18,
     "metadata": {},
     "output_type": "execute_result"
    }
   ],
   "source": [
    "model_genes = pd.read_csv(\"/home/s1mi/Github/deep-learning-in-genomics/posts/2023-08-08-running-enformer-on-rat-genes-at-TSS/highestR2genes.csv\", header=0, index_col=\"gene\")\n",
    "model_genes.loc[[gene for gene in gene_list if gene in model_genes.index]]"
   ]
  },
  {
   "cell_type": "markdown",
   "metadata": {},
   "source": [
    "All of the genes found in the model have positive correlation. For now, we will keep all 17 genes in our list to run Enformer on.\n",
    "\n",
    "\n",
    "## Run Pipeline\n",
    "\n",
    "### Write Metadata\n",
    "\n",
    "\n",
    "First, write our `metadata/intervals.txt` file with the 17 genes we have narrowed down to."
   ]
  },
  {
   "cell_type": "code",
   "execution_count": 19,
   "metadata": {},
   "outputs": [],
   "source": [
    "def write_intervals(gene_list, file):\n",
    "    with open(file, 'a') as f:\n",
    "        for gene in gene_list:\n",
    "            gene_annot = annot_df.loc[gene]\n",
    "            tss = gene_annot['tss']\n",
    "            interval = f\"chr{gene_annot['chromosome']}_{tss}_{tss}\"\n",
    "            f.write(interval + '\\n')"
   ]
  },
  {
   "cell_type": "code",
   "execution_count": 20,
   "metadata": {},
   "outputs": [
    {
     "name": "stderr",
     "output_type": "stream",
     "text": [
      "/tmp/ipykernel_238845/487979158.py:1: DtypeWarning: Columns (2) have mixed types. Specify dtype option on import or set low_memory=False.\n",
      "  annot_df = pd.read_csv('/home/s1mi/enformer_rat_data/rn7.gene.txt', sep ='\\t',  index_col='geneId')\n"
     ]
    }
   ],
   "source": [
    "annot_df = pd.read_csv('/home/s1mi/enformer_rat_data/annotation/rn7.gene.txt', sep ='\\t',  index_col='geneId')\n",
    "\n",
    "with open(\"gene_list.txt\", \"w\") as f:\n",
    "    f.write(\"\\n\".join(gene_list))\n",
    "write_intervals(gene_list, \"metadata/intervals.txt\")\n"
   ]
  },
  {
   "cell_type": "markdown",
   "metadata": {},
   "source": [
    "Use all 340 individuals:"
   ]
  },
  {
   "cell_type": "code",
   "execution_count": 15,
   "metadata": {},
   "outputs": [],
   "source": [
    "!bcftools query -l /home/s1mi/enformer_rat_data/Brain.rn7.vcf.gz > metadata/individuals.txt"
   ]
  },
  {
   "cell_type": "markdown",
   "metadata": {},
   "source": [
    "### Submit Jobs\n",
    "\n",
    "\n",
    "```\n",
    "module load conda\n",
    "\n",
    "conda activate /lus/grand/projects/TFXcan/imlab/shared/software/conda_envs/enformer-predict-tools\n",
    "\n",
    "cd /home/s1mi/Github/shared_pipelines/enformer_pipeline\n",
    "python3 scripts/enformer_predict.py --parameters /home/s1mi/Github/deep-learning-in-genomics/posts/2023-08-10-selecting-genes/personalized_config.json\n",
    "\n",
    "```"
   ]
  }
 ],
 "metadata": {
  "kernelspec": {
   "display_name": "base",
   "language": "python",
   "name": "base"
  },
  "language_info": {
   "codemirror_mode": {
    "name": "ipython",
    "version": 3
   },
   "file_extension": ".py",
   "mimetype": "text/x-python",
   "name": "python",
   "nbconvert_exporter": "python",
   "pygments_lexer": "ipython3",
   "version": "3.8.13"
  },
  "orig_nbformat": 4
 },
 "nbformat": 4,
 "nbformat_minor": 2
}
