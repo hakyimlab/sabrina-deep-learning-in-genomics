{
 "cells": [
  {
   "cell_type": "markdown",
   "metadata": {},
   "source": [
    "---\n",
    "title: Preparing pipeline inputs for Enformer predictions centered at canonical TSS\"\n",
    "date: 8/8/23\n",
    "author: Sabrina Mi\n",
    "---"
   ]
  },
  {
   "cell_type": "markdown",
   "metadata": {},
   "source": [
    "### Collect Gene Intervals"
   ]
  },
  {
   "cell_type": "code",
   "execution_count": 1,
   "metadata": {},
   "outputs": [],
   "source": [
    "import pandas as pd\n",
    "\n",
    "model_genes = pd.read_csv(\"highestR2genes.csv\", header=0)"
   ]
  },
  {
   "cell_type": "code",
   "execution_count": 2,
   "metadata": {},
   "outputs": [
    {
     "data": {
      "text/html": [
       "<div>\n",
       "<style scoped>\n",
       "    .dataframe tbody tr th:only-of-type {\n",
       "        vertical-align: middle;\n",
       "    }\n",
       "\n",
       "    .dataframe tbody tr th {\n",
       "        vertical-align: top;\n",
       "    }\n",
       "\n",
       "    .dataframe thead th {\n",
       "        text-align: right;\n",
       "    }\n",
       "</style>\n",
       "<table border=\"1\" class=\"dataframe\">\n",
       "  <thead>\n",
       "    <tr style=\"text-align: right;\">\n",
       "      <th></th>\n",
       "      <th>gene</th>\n",
       "      <th>genename</th>\n",
       "      <th>pred.perf.R2</th>\n",
       "      <th>n.snps.in.model</th>\n",
       "      <th>pred.perf.pval</th>\n",
       "      <th>cor</th>\n",
       "      <th>pred.perf.qval</th>\n",
       "    </tr>\n",
       "  </thead>\n",
       "  <tbody>\n",
       "    <tr>\n",
       "      <th>0</th>\n",
       "      <td>ENSRNOG00000040300</td>\n",
       "      <td>Raet1e</td>\n",
       "      <td>0.031794</td>\n",
       "      <td>2</td>\n",
       "      <td>0.007075</td>\n",
       "      <td>0.178309</td>\n",
       "      <td>0.004337</td>\n",
       "    </tr>\n",
       "    <tr>\n",
       "      <th>1</th>\n",
       "      <td>ENSRNOG00000050129</td>\n",
       "      <td>AABR07000137.1</td>\n",
       "      <td>0.038350</td>\n",
       "      <td>2</td>\n",
       "      <td>0.003047</td>\n",
       "      <td>0.195832</td>\n",
       "      <td>0.001993</td>\n",
       "    </tr>\n",
       "    <tr>\n",
       "      <th>2</th>\n",
       "      <td>ENSRNOG00000040316</td>\n",
       "      <td>AABR07000145.1</td>\n",
       "      <td>0.045013</td>\n",
       "      <td>2</td>\n",
       "      <td>0.001302</td>\n",
       "      <td>0.212163</td>\n",
       "      <td>0.000906</td>\n",
       "    </tr>\n",
       "    <tr>\n",
       "      <th>3</th>\n",
       "      <td>ENSRNOG00000023659</td>\n",
       "      <td>AABR07000147.1</td>\n",
       "      <td>0.000167</td>\n",
       "      <td>1</td>\n",
       "      <td>0.846322</td>\n",
       "      <td>-0.012935</td>\n",
       "      <td>0.261132</td>\n",
       "    </tr>\n",
       "    <tr>\n",
       "      <th>4</th>\n",
       "      <td>ENSRNOG00000029897</td>\n",
       "      <td>AABR07000156.1</td>\n",
       "      <td>0.000235</td>\n",
       "      <td>1</td>\n",
       "      <td>0.818475</td>\n",
       "      <td>-0.015317</td>\n",
       "      <td>0.255548</td>\n",
       "    </tr>\n",
       "  </tbody>\n",
       "</table>\n",
       "</div>"
      ],
      "text/plain": [
       "                 gene        genename  pred.perf.R2  n.snps.in.model  \\\n",
       "0  ENSRNOG00000040300          Raet1e      0.031794                2   \n",
       "1  ENSRNOG00000050129  AABR07000137.1      0.038350                2   \n",
       "2  ENSRNOG00000040316  AABR07000145.1      0.045013                2   \n",
       "3  ENSRNOG00000023659  AABR07000147.1      0.000167                1   \n",
       "4  ENSRNOG00000029897  AABR07000156.1      0.000235                1   \n",
       "\n",
       "   pred.perf.pval       cor  pred.perf.qval  \n",
       "0        0.007075  0.178309        0.004337  \n",
       "1        0.003047  0.195832        0.001993  \n",
       "2        0.001302  0.212163        0.000906  \n",
       "3        0.846322 -0.012935        0.261132  \n",
       "4        0.818475 -0.015317        0.255548  "
      ]
     },
     "execution_count": 2,
     "metadata": {},
     "output_type": "execute_result"
    }
   ],
   "source": [
    "model_genes.head()"
   ]
  }
 ],
 "metadata": {
  "kernelspec": {
   "display_name": "base",
   "language": "python",
   "name": "base"
  },
  "language_info": {
   "codemirror_mode": {
    "name": "ipython",
    "version": 3
   },
   "file_extension": ".py",
   "mimetype": "text/x-python",
   "name": "python",
   "nbconvert_exporter": "python",
   "pygments_lexer": "ipython3",
   "version": "3.8.13"
  },
  "orig_nbformat": 4
 },
 "nbformat": 4,
 "nbformat_minor": 2
}
