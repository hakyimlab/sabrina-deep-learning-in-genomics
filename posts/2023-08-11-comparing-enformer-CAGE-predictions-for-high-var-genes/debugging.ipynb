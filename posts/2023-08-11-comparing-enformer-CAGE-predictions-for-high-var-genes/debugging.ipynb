{
 "cells": [
  {
   "cell_type": "markdown",
   "metadata": {},
   "source": [
    "---\n",
    "title: Debugging Enformer predictions for eQTL genes\n",
    "description: Although we have picked genes with many linked variants, we are seeing no population variation in Enformer outputs. We'll take a closer look at the genetic variation around the TSS.\n",
    "author: Sabrina Mi\n",
    "date: 8/11/23\n",
    "\n",
    "---\n",
    "\n",
    "\n",
    "## Read Genotypes"
   ]
  },
  {
   "cell_type": "code",
   "execution_count": 3,
   "metadata": {},
   "outputs": [
    {
     "name": "stderr",
     "output_type": "stream",
     "text": [
      "/tmp/ipykernel_147902/538256472.py:4: DtypeWarning: Columns (2) have mixed types. Specify dtype option on import or set low_memory=False.\n",
      "  annot_df = pd.read_csv(\"/home/s1mi/enformer_rat_data/rn7.gene.txt\", sep=\"\\t\", index_col='geneId')\n"
     ]
    }
   ],
   "source": [
    "import pandas as pd\n",
    "import numpy as np\n",
    "\n",
    "annot_df = pd.read_csv(\"/home/s1mi/enformer_rat_data/annotation/rn7.gene.txt\", sep=\"\\t\", index_col='geneId')"
   ]
  },
  {
   "cell_type": "code",
   "execution_count": 6,
   "metadata": {},
   "outputs": [
    {
     "name": "stdout",
     "output_type": "stream",
     "text": [
      "geneSymbol         Lss\n",
      "chromosome          20\n",
      "start         12092774\n",
      "end           12118762\n",
      "strand               -\n",
      "tss           12118762\n",
      "Name: ENSRNOG00000054549, dtype: object\n"
     ]
    }
   ],
   "source": [
    "gene = 'ENSRNOG00000054549'\n",
    "gene_annot = annot_df.loc[gene][:6]\n",
    "print(gene_annot)\n"
   ]
  },
  {
   "cell_type": "code",
   "execution_count": null,
   "metadata": {},
   "outputs": [],
   "source": [
    "SEQUENCE_LENGTH = 393216"
   ]
  }
 ],
 "metadata": {
  "kernelspec": {
   "display_name": "base",
   "language": "python",
   "name": "base"
  },
  "language_info": {
   "codemirror_mode": {
    "name": "ipython",
    "version": 3
   },
   "file_extension": ".py",
   "mimetype": "text/x-python",
   "name": "python",
   "nbconvert_exporter": "python",
   "pygments_lexer": "ipython3",
   "version": "3.8.13"
  },
  "orig_nbformat": 4
 },
 "nbformat": 4,
 "nbformat_minor": 2
}
