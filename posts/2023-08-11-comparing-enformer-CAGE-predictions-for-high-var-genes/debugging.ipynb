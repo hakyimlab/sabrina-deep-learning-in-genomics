{
 "cells": [
  {
   "cell_type": "markdown",
   "metadata": {},
   "source": [
    "---\n",
    "title: Debugging Enformer predictions for eQTL genes\n",
    "description: Although we have picked genes with many linked variants, we are seeing no population variation in Enformer outputs. We'll take a closer look at the genetic variation around the TSS.\n",
    "author: Sabrina Mi\n",
    "date: 8/11/23\n",
    "\n",
    "---\n",
    "\n",
    "\n",
    "## Read Genotypes"
   ]
  },
  {
   "cell_type": "code",
   "execution_count": 3,
   "metadata": {},
   "outputs": [
    {
     "name": "stderr",
     "output_type": "stream",
     "text": [
      "/tmp/ipykernel_147902/538256472.py:4: DtypeWarning: Columns (2) have mixed types. Specify dtype option on import or set low_memory=False.\n",
      "  annot_df = pd.read_csv(\"/home/s1mi/enformer_rat_data/rn7.gene.txt\", sep=\"\\t\", index_col='geneId')\n"
     ]
    }
   ],
   "source": [
    "import pandas as pd\n",
    "import numpy as np\n",
    "\n",
    "annot_df = pd.read_csv(\"/home/s1mi/enformer_rat_data/annotation/rn7.gene.txt\", sep=\"\\t\", index_col='geneId')"
   ]
  },
  {
   "cell_type": "code",
   "execution_count": 10,
   "metadata": {},
   "outputs": [],
   "source": [
    "gene = 'ENSRNOG00000054549'\n",
    "gene_annot = annot_df.loc[gene][:6]\n",
    "chromosome = gene_annot['chromosome']\n",
    "tss = gene_annot['tss']\n",
    "start = max(0, tss - 196608)\n",
    "end = tss + 196608"
   ]
  },
  {
   "cell_type": "code",
   "execution_count": 19,
   "metadata": {},
   "outputs": [
    {
     "name": "stdout",
     "output_type": "stream",
     "text": [
      "Gene region: 20:11922154-12315370\n",
      "VCF file: /home/s1mi/enformer_rat_data/genotypes/BrainVCFs/chr20.vcf.gz\n",
      "Output VCF: /home/s1mi/enformer_rat_data/misc/ENSRNOG00000054549.vcf.gz\n"
     ]
    }
   ],
   "source": [
    "region = f\"{chromosome}:{start}-{end}\"\n",
    "print(\"Gene region:\", region)\n",
    "vcf_file = f\"/home/s1mi/enformer_rat_data/genotypes/BrainVCFs/chr{chromosome}.vcf.gz\"\n",
    "print(\"VCF file:\", vcf_file)\n",
    "output_file = f\"/home/s1mi/enformer_rat_data/misc/{gene}.vcf.gz\"\n",
    "print(\"Output VCF:\", output_file)\n"
   ]
  },
  {
   "cell_type": "code",
   "execution_count": 20,
   "metadata": {},
   "outputs": [],
   "source": [
    "!bcftools view {vcf_file} --regions {region}  -o {output_file} -Oz"
   ]
  },
  {
   "cell_type": "markdown",
   "metadata": {},
   "source": [
    "After a quick scroll through the VCF, there is too much genotype variation across the population to result in uniform Enformer predictions.\n"
   ]
  }
 ],
 "metadata": {
  "kernelspec": {
   "display_name": "base",
   "language": "python",
   "name": "base"
  },
  "language_info": {
   "codemirror_mode": {
    "name": "ipython",
    "version": 3
   },
   "file_extension": ".py",
   "mimetype": "text/x-python",
   "name": "python",
   "nbconvert_exporter": "python",
   "pygments_lexer": "ipython3",
   "version": "3.8.13"
  },
  "orig_nbformat": 4
 },
 "nbformat": 4,
 "nbformat_minor": 2
}
