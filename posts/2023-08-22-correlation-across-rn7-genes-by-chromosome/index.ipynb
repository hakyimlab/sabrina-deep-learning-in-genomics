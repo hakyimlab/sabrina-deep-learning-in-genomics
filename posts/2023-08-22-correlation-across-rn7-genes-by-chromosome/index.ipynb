{
 "cells": [
  {
   "cell_type": "markdown",
   "metadata": {},
   "source": [
    "---\n",
    "title: Correlation of Enformer CAGE predictions on rn7 reference genome and measured gene expression in Br rats\n",
    "author: Sabrina Mi\n",
    "date: 8/23/2023\n",
    "description: Correlation of predicted reference gene expression and Br mean gene expression is 0.45, with the chromosome with lowest correlation being 0.19 on chromosome 18 and the highest being 0.61 on chromosome 7. While this is reasonable compared to 0.54 correlation between Enformer predictions and GTEx observed expression across human genes, I believe the correlation across rat genes would be even higher if we used Br population data for the reference genome, as the Br population noticeably diverges from reference rats (many alternative homozygotes).\n",
    "\n",
    "---\n",
    "\n",
    "## Concatenate Predictions\n",
    "\n",
    "We start with concatenating our predictions into separate files by chromosome number, firstly because our predictions are currently split between two directories and secondly, by grouping intervals together by chromosome, we can parallelize computing gene expression."
   ]
  },
  {
   "cell_type": "code",
   "execution_count": 2,
   "metadata": {},
   "outputs": [
    {
     "data": {
      "text/plain": [
       "<parsl.dataflow.dflow.DataFlowKernel at 0x7ff1b2188070>"
      ]
     },
     "execution_count": 2,
     "metadata": {},
     "output_type": "execute_result"
    }
   ],
   "source": [
    "import glob\n",
    "import os\n",
    "import h5py\n",
    "import parsl\n",
    "from parsl import python_app\n",
    "from parsl.configs.local_threads import config\n",
    "parsl.load(config)\n"
   ]
  },
  {
   "cell_type": "code",
   "execution_count": 3,
   "metadata": {},
   "outputs": [],
   "source": [
    "output_dir = \"/home/s1mi/Br_predictions/predictions_folder/reference_Br_all_genes\"\n",
    "chr_list = [\"1\", \"2\", \"3\", \"4\", \"5\", \"6\", \"7\", \"8\", \"9\", \"10\", \"11\", \"12\", \"13\", \"14\", \"15\", \"16\", \"17\", \"18\", \"19\", \"20\", \"X\"]"
   ]
  },
  {
   "cell_type": "code",
   "execution_count": 4,
   "metadata": {},
   "outputs": [],
   "source": [
    "@python_app\n",
    "def concatenate_predictions_by_chromosome(predictions_dir, chr, output_dir):\n",
    "    output_path = os.path.join(output_dir, f\"chr{chr}_predictions.h5\")\n",
    "    with h5py.File(output_path, \"a\") as output_file:\n",
    "        files = glob.glob(f\"{predictions_dir}/chr{chr}*_predictions.h5\")\n",
    "        for file in files:\n",
    "            interval = os.path.basename(file).replace(\"_predictions.h5\", \"\")\n",
    "            with h5py.File(file, \"r\") as input_file:\n",
    "                output_file[interval] = input_file[interval][()]\n",
    "            "
   ]
  },
  {
   "cell_type": "code",
   "execution_count": 5,
   "metadata": {},
   "outputs": [],
   "source": [
    "## concatenate files in first prediction run\n",
    "predictions_dir = f\"{output_dir}/predictions_2023-08-16/enformer_predictions/reference_Br/haplotype0\"\n",
    "app_futures = []\n",
    "for chr in chr_list:\n",
    "    app_futures.append(concatenate_predictions_by_chromosome(predictions_dir, chr, output_dir))\n",
    "exec_futures = [q.result() for q in app_futures]"
   ]
  },
  {
   "cell_type": "code",
   "execution_count": 13,
   "metadata": {},
   "outputs": [
    {
     "name": "stdout",
     "output_type": "stream",
     "text": [
      "Second prediction folder done\n"
     ]
    }
   ],
   "source": [
    "## concatenate files in second prediction run\n",
    "predictions_dir = f\"{output_dir}/predictions_2023-08-29/enformer_predictions/reference_Br/haplotype0\"\n",
    "app_futures = []\n",
    "for chr in chr_list:\n",
    "    app_futures.append(concatenate_predictions_by_chromosome(predictions_dir, chr, output_dir))\n",
    "\n",
    "exec_futures = [q.result() for q in app_futures]"
   ]
  },
  {
   "cell_type": "markdown",
   "metadata": {},
   "source": [
    "## Compare Predicted and Observed"
   ]
  },
  {
   "cell_type": "code",
   "execution_count": 11,
   "metadata": {},
   "outputs": [
    {
     "data": {
      "text/plain": [
       "<parsl.dataflow.dflow.DataFlowKernel at 0x7f5325796800>"
      ]
     },
     "execution_count": 11,
     "metadata": {},
     "output_type": "execute_result"
    }
   ],
   "source": [
    "import h5py\n",
    "import pandas as pd\n",
    "import numpy as np\n",
    "import matplotlib.pyplot as plt\n",
    "import parsl\n",
    "from parsl import python_app\n",
    "from parsl.configs.local_threads import config\n",
    "parsl.load(config)"
   ]
  },
  {
   "cell_type": "code",
   "execution_count": 4,
   "metadata": {},
   "outputs": [
    {
     "name": "stderr",
     "output_type": "stream",
     "text": [
      "/tmp/ipykernel_89896/1953959868.py:3: DtypeWarning: Columns (2) have mixed types. Specify dtype option on import or set low_memory=False.\n",
      "  rn7_annot = pd.read_csv('/home/s1mi/enformer_rat_data/annotation/rn7.gene.txt', sep ='\\t')\n"
     ]
    }
   ],
   "source": [
    "project_dir = \"/home/s1mi/Br_predictions/predictions_folder/reference_Br_all_genes\"\n",
    "chr_list = [\"1\", \"2\", \"3\", \"4\", \"5\", \"6\", \"7\", \"8\", \"9\", \"10\", \"11\", \"12\", \"13\", \"14\", \"15\", \"16\", \"17\", \"18\", \"19\", \"20\", \"X\"]\n",
    "rn7_annot = pd.read_csv('/home/s1mi/enformer_rat_data/annotation/rn7.gene.txt', sep ='\\t')\n",
    "gene_dict = rn7_annot.groupby('chromosome')['geneId'].apply(list).to_dict()"
   ]
  },
  {
   "cell_type": "code",
   "execution_count": 5,
   "metadata": {},
   "outputs": [],
   "source": [
    "## filter genes to chr1-20 and X and make chr all strings\n",
    "gene_dict = {str(key): value for key, value in gene_dict.items() if str(key) in chr_list}"
   ]
  },
  {
   "cell_type": "code",
   "execution_count": 6,
   "metadata": {},
   "outputs": [
    {
     "name": "stderr",
     "output_type": "stream",
     "text": [
      "/tmp/ipykernel_89896/417279503.py:1: DtypeWarning: Columns (0) have mixed types. Specify dtype option on import or set low_memory=False.\n",
      "  tpm = pd.read_csv(\"/home/s1mi/enformer_rat_data/expression_data/Brain.rn7.expr.tpm.bed\", sep=\"\\t\", header=0, index_col='gene_id')\n"
     ]
    }
   ],
   "source": [
    "tpm = pd.read_csv(\"/home/s1mi/enformer_rat_data/expression_data/Brain.rn7.expr.tpm.bed\", sep=\"\\t\", header=0, index_col='gene_id')\n",
    "mean_tpm = tpm.iloc[:,3:].mean(axis=1)\n",
    "mean_tpm.name = 'observed'"
   ]
  },
  {
   "cell_type": "code",
   "execution_count": 15,
   "metadata": {},
   "outputs": [],
   "source": [
    "## Function to put CAGE predictions in list (in the same order as gene list by chromosome)\n",
    "@python_app\n",
    "def query_genes(chr):\n",
    "    gene_list = gene_dict[chr]\n",
    "    with h5py.File(f\"{project_dir}/chr{chr}_predictions.h5\", \"r\") as file:\n",
    "        for gene in gene_list:\n",
    "            interval = f\"chr{chr}_{rn7_annot.loc[gene]['tss']}_{rn7_annot.loc[gene]['tss']}\"\n",
    "            bins = file[interval][446:450, 4980]\n",
    "            CAGE_predictions[chr].append(np.average(bins))"
   ]
  },
  {
   "cell_type": "code",
   "execution_count": 19,
   "metadata": {},
   "outputs": [],
   "source": [
    "rn7_annot.set_index(\"geneId\", inplace=True)\n",
    "CAGE_predictions = {chr: [] for chr in chr_list}\n",
    "app_futures = []\n",
    "## Collect CAGE predictions in parallel across genes\n",
    "for chr in chr_list:\n",
    "    app_futures.append(query_genes(chr))\n",
    "## Wait for all chromosomes to finish\n",
    "exec_futures = [q.result() for q in app_futures]"
   ]
  },
  {
   "cell_type": "code",
   "execution_count": 21,
   "metadata": {},
   "outputs": [],
   "source": [
    "merged_dict = {}\n",
    "for chr in chr_list:\n",
    "    merged_dict[chr] = pd.DataFrame(index=gene_dict[chr])\n",
    "    merged_dict[chr]['predicted'] = CAGE_predictions[chr]\n",
    "    merged_dict[chr]['observed'] = mean_tpm.loc[gene_dict[chr]]"
   ]
  },
  {
   "cell_type": "code",
   "execution_count": 23,
   "metadata": {},
   "outputs": [],
   "source": [
    "all_genes = pd.concat(merged_dict.values())\n",
    "all_genes.to_csv(\"/home/s1mi/enformer_rat_data/output/rn7_reference_predicted_vs_observed_expression.csv\")"
   ]
  },
  {
   "cell_type": "code",
   "execution_count": 33,
   "metadata": {},
   "outputs": [
    {
     "name": "stdout",
     "output_type": "stream",
     "text": [
      "Correlation across all rn7 genes: 0.45259620551544333\n"
     ]
    },
    {
     "data": {
      "image/png": "[encoded data removed]",
      "text/plain": [
       "<Figure size 640x480 with 1 Axes>"
      ]
     },
     "metadata": {},
     "output_type": "display_data"
    }
   ],
   "source": [
    "corr = all_genes.corr().iloc[0,1]\n",
    "print(\"Correlation across all rn7 genes:\", corr)\n",
    "plt.scatter(all_genes['observed'], all_genes['predicted'], label=f'Correlation: {corr:.2f}')\n",
    "plt.xlabel('observed')\n",
    "plt.ylabel('predicted')\n",
    "plt.title(\"rn7 prediction across genes\")\n",
    "plt.legend()\n",
    "plt.grid(True)\n",
    "plt.show()"
   ]
  },
  {
   "cell_type": "code",
   "execution_count": 32,
   "metadata": {},
   "outputs": [
    {
     "name": "stdout",
     "output_type": "stream",
     "text": [
      "3953 genes on chromosome 1 \tcorrelation = 0.476354606549354\n",
      "2003 genes on chromosome 2 \tcorrelation = 0.5218130288311454\n",
      "2030 genes on chromosome 3 \tcorrelation = 0.4610018149991454\n",
      "1959 genes on chromosome 4 \tcorrelation = 0.5244393504977057\n",
      "1780 genes on chromosome 5 \tcorrelation = 0.22610655969051743\n",
      "1390 genes on chromosome 6 \tcorrelation = 0.5712413035540091\n",
      "1648 genes on chromosome 7 \tcorrelation = 0.6087498490236489\n",
      "1612 genes on chromosome 8 \tcorrelation = 0.4427092910204691\n",
      "1146 genes on chromosome 9 \tcorrelation = 0.5372756452275427\n",
      "2127 genes on chromosome 10 \tcorrelation = 0.5956000550961525\n",
      "832 genes on chromosome 11 \tcorrelation = 0.4791331079400649\n",
      "909 genes on chromosome 12 \tcorrelation = 0.585056162086108\n",
      "881 genes on chromosome 13 \tcorrelation = 0.47875298103605635\n",
      "989 genes on chromosome 14 \tcorrelation = 0.44209977697290426\n",
      "1000 genes on chromosome 15 \tcorrelation = 0.48793264345973547\n",
      "843 genes on chromosome 16 \tcorrelation = 0.5956281375952103\n",
      "620 genes on chromosome 17 \tcorrelation = 0.45611724657883396\n",
      "722 genes on chromosome 18 \tcorrelation = 0.1949450345152701\n",
      "750 genes on chromosome 19 \tcorrelation = 0.5805874016394145\n",
      "806 genes on chromosome 20 \tcorrelation = 0.43625318887442455\n",
      "1344 genes on chromosome X \tcorrelation = 0.32646076975552135\n"
     ]
    }
   ],
   "source": [
    "for chr in chr_list:\n",
    "    print(len(gene_dict[chr]), \"genes on chromosome\", chr, \"\\tcorrelation =\", merged_dict[chr].corr().iloc[0,1])"
   ]
  }
 ],
 "metadata": {
  "kernelspec": {
   "display_name": "ml-python",
   "language": "python",
   "name": "ml-python"
  },
  "language_info": {
   "codemirror_mode": {
    "name": "ipython",
    "version": 3
   },
   "file_extension": ".py",
   "mimetype": "text/x-python",
   "name": "python",
   "nbconvert_exporter": "python",
   "pygments_lexer": "ipython3",
   "version": "3.10.11"
  },
  "orig_nbformat": 4
 },
 "nbformat": 4,
 "nbformat_minor": 2
}
