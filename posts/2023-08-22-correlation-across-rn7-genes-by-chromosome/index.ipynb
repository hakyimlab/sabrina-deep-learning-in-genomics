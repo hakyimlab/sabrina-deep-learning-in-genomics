{
 "cells": [
  {
   "cell_type": "markdown",
   "metadata": {},
   "source": [
    "---\n",
    "title: Correlation of Enformer CAGE predictions on rn7 reference genome and measured gene expression in Br rats\n",
    "author: Sabrina Mi\n",
    "date: 8/23/2023\n",
    "\n",
    "---\n",
    "\n",
    "## Concatenate Predictions\n",
    "\n",
    "We start with concatenating our predictions into separate files by chromosome number, firstly because our predictions are currently split between two directories and secondly, by grouping intervals together by chromosome, we can parallelize computing gene expression."
   ]
  },
  {
   "cell_type": "code",
   "execution_count": 26,
   "metadata": {},
   "outputs": [
    {
     "ename": "RuntimeError",
     "evalue": "Config has already been loaded",
     "output_type": "error",
     "traceback": [
      "\u001b[0;31m---------------------------------------------------------------------------\u001b[0m",
      "\u001b[0;31mRuntimeError\u001b[0m                              Traceback (most recent call last)",
      "Cell \u001b[0;32mIn[26], line 7\u001b[0m\n\u001b[1;32m      5\u001b[0m \u001b[39mfrom\u001b[39;00m \u001b[39mparsl\u001b[39;00m \u001b[39mimport\u001b[39;00m python_app\n\u001b[1;32m      6\u001b[0m \u001b[39mfrom\u001b[39;00m \u001b[39mparsl\u001b[39;00m\u001b[39m.\u001b[39;00m\u001b[39mconfigs\u001b[39;00m\u001b[39m.\u001b[39;00m\u001b[39mlocal_threads\u001b[39;00m \u001b[39mimport\u001b[39;00m config\n\u001b[0;32m----> 7\u001b[0m parsl\u001b[39m.\u001b[39;49mload(config)\n",
      "File \u001b[0;32m~/.conda/envs/ml-python/lib/python3.10/site-packages/typeguard/__init__.py:1033\u001b[0m, in \u001b[0;36mtypechecked.<locals>.wrapper\u001b[0;34m(*args, **kwargs)\u001b[0m\n\u001b[1;32m   1031\u001b[0m memo \u001b[39m=\u001b[39m _CallMemo(python_func, _localns, args\u001b[39m=\u001b[39margs, kwargs\u001b[39m=\u001b[39mkwargs)\n\u001b[1;32m   1032\u001b[0m check_argument_types(memo)\n\u001b[0;32m-> 1033\u001b[0m retval \u001b[39m=\u001b[39m func(\u001b[39m*\u001b[39;49margs, \u001b[39m*\u001b[39;49m\u001b[39m*\u001b[39;49mkwargs)\n\u001b[1;32m   1034\u001b[0m \u001b[39mtry\u001b[39;00m:\n\u001b[1;32m   1035\u001b[0m     check_return_type(retval, memo)\n",
      "File \u001b[0;32m~/.conda/envs/ml-python/lib/python3.10/site-packages/parsl/dataflow/dflow.py:1423\u001b[0m, in \u001b[0;36mDataFlowKernelLoader.load\u001b[0;34m(cls, config)\u001b[0m\n\u001b[1;32m   1414\u001b[0m \u001b[39m\u001b[39m\u001b[39m\"\"\"Load a DataFlowKernel.\u001b[39;00m\n\u001b[1;32m   1415\u001b[0m \n\u001b[1;32m   1416\u001b[0m \u001b[39mArgs:\u001b[39;00m\n\u001b[0;32m   (...)\u001b[0m\n\u001b[1;32m   1420\u001b[0m \u001b[39m    - DataFlowKernel : The loaded DataFlowKernel object.\u001b[39;00m\n\u001b[1;32m   1421\u001b[0m \u001b[39m\"\"\"\u001b[39;00m\n\u001b[1;32m   1422\u001b[0m \u001b[39mif\u001b[39;00m \u001b[39mcls\u001b[39m\u001b[39m.\u001b[39m_dfk \u001b[39mis\u001b[39;00m \u001b[39mnot\u001b[39;00m \u001b[39mNone\u001b[39;00m:\n\u001b[0;32m-> 1423\u001b[0m     \u001b[39mraise\u001b[39;00m \u001b[39mRuntimeError\u001b[39;00m(\u001b[39m'\u001b[39m\u001b[39mConfig has already been loaded\u001b[39m\u001b[39m'\u001b[39m)\n\u001b[1;32m   1425\u001b[0m \u001b[39mif\u001b[39;00m config \u001b[39mis\u001b[39;00m \u001b[39mNone\u001b[39;00m:\n\u001b[1;32m   1426\u001b[0m     \u001b[39mcls\u001b[39m\u001b[39m.\u001b[39m_dfk \u001b[39m=\u001b[39m DataFlowKernel(Config())\n",
      "\u001b[0;31mRuntimeError\u001b[0m: Config has already been loaded"
     ]
    }
   ],
   "source": [
    "import glob\n",
    "import os\n",
    "import h5py\n",
    "import parsl\n",
    "from parsl import python_app\n",
    "from parsl.configs.local_threads import config\n",
    "parsl.load(config)\n"
   ]
  },
  {
   "cell_type": "code",
   "execution_count": 19,
   "metadata": {},
   "outputs": [],
   "source": [
    "# intervals = [file.replace(\"_predictions.h5\",\"\") for file in \n",
    "#              os.listdir(\"/home/s1mi/Br_predictions/predictions_folder/reference_Br_all_genes/predictions_2023-08-16/enformer_predictions/reference_Br/haplotype0\")]\n",
    "# intervals = intervals + [file.replace(\"_predictions.h5\",\"\") for file in \n",
    "#              os.listdir(\"/home/s1mi/Br_predictions/predictions_folder/reference_Br_all_genes/predictions_2023-08-29/enformer_predictions/reference_Br/haplotype0\")]\n",
    "                         "
   ]
  },
  {
   "cell_type": "code",
   "execution_count": 8,
   "metadata": {},
   "outputs": [],
   "source": [
    "output_dir = \"/home/s1mi/Br_predictions/predictions_folder/reference_Br_all_genes\"\n",
    "chr_list = [\"1\", \"2\", \"3\", \"4\", \"5\", \"6\", \"7\", \"8\", \"9\", \"10\", \"11\", \"12\", \"13\", \"14\", \"15\", \"16\", \"17\", \"18\", \"19\", \"20\", \"X\"]"
   ]
  },
  {
   "cell_type": "code",
   "execution_count": null,
   "metadata": {},
   "outputs": [],
   "source": [
    "## concatenate files in first prediction run\n",
    "predictions_dir = f\"{output_dir}/predictions_2023-08-16/enformer_predictions/reference_Br/haplotype0\"\n",
    "app_futures = []\n",
    "for chr in chr_list:\n",
    "    app_futures.append(concatenate_predictions_by_chromosome(predictions_dir, chr, output_dir))\n",
    "\n",
    "exec_futures = [q.result() for q in app_futures]\n",
    "print(\"First prediction folder done\")"
   ]
  },
  {
   "cell_type": "code",
   "execution_count": 27,
   "metadata": {},
   "outputs": [],
   "source": [
    "@python_app\n",
    "def concatenate_predictions_by_chromosome(predictions_dir, chr, output_dir):\n",
    "    output_path = os.path.join(output_dir, f\"chr{chr}_predictions.h5\")\n",
    "    with h5py.File(output_path, \"w\") as output_file:\n",
    "        files = glob.glob(f\"{predictions_dir}/chr{chr}*_predictions.h5\")\n",
    "        for file in files:\n",
    "            interval = os.path.basename(file).replace(\"_predictions.h5\", \"\")\n",
    "            with h5py.File(file, \"r\") as input_file:\n",
    "                output_file[interval] = input_file[interval][()]\n",
    "            "
   ]
  }
 ],
 "metadata": {
  "kernelspec": {
   "display_name": "ml-python",
   "language": "python",
   "name": "ml-python"
  },
  "language_info": {
   "codemirror_mode": {
    "name": "ipython",
    "version": 3
   },
   "file_extension": ".py",
   "mimetype": "text/x-python",
   "name": "python",
   "nbconvert_exporter": "python",
   "pygments_lexer": "ipython3",
   "version": "3.10.11"
  },
  "orig_nbformat": 4
 },
 "nbformat": 4,
 "nbformat_minor": 2
}
