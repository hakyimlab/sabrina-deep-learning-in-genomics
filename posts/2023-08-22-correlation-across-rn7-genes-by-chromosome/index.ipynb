{
 "cells": [
  {
   "cell_type": "markdown",
   "metadata": {},
   "source": [
    "---\n",
    "title: Correlation of Enformer CAGE predictions on rn7 reference genome and measured gene expression in Br rats by chromosome\n",
    "author: Sabrina Mi\n",
    "date: 8/23/2023\n",
    "description: We make a template for computing correlation between two columns grouped by category. We also learned that the correlation between predicted and observed reference gene expression varies widely by chromosome, with the lowest being 0.226 for chromosome 5, and the highest being 0.895 for chromosome Y.\n",
    "\n",
    "---"
   ]
  },
  {
   "cell_type": "code",
   "execution_count": 1,
   "metadata": {},
   "outputs": [],
   "source": [
    "import pandas as pd"
   ]
  },
  {
   "cell_type": "code",
   "execution_count": 2,
   "metadata": {},
   "outputs": [],
   "source": [
    "corr_df = pd.read_csv(\"/home/s1mi/enformer_rat_data/output/rn7_reference_predicted_vs_observed_gene_expression.csv\", header = 0)\n",
    "\n",
    "gene_dict = corr_df.groupby('chr')['gene_id'].apply(list).to_dict()\n",
    "corr_df.set_index('gene_id', inplace=True)"
   ]
  },
  {
   "cell_type": "code",
   "execution_count": 8,
   "metadata": {},
   "outputs": [
    {
     "name": "stdout",
     "output_type": "stream",
     "text": [
      "Chromosome 1 correlation: 0.4332344991649219\n",
      "Chromosome 12 correlation: 0.6223371189015416\n",
      "Chromosome 13 correlation: 0.47875298103605657\n",
      "Chromosome 14 correlation: 0.4418574220509124\n",
      "Chromosome 17 correlation: 0.508232166894913\n",
      "Chromosome 19 correlation: 0.5805874016394152\n",
      "Chromosome 2 correlation: 0.5214255605049084\n",
      "Chromosome 20 correlation: 0.6361443363364743\n",
      "Chromosome 3 correlation: 0.46132605944208854\n",
      "Chromosome 4 correlation: 0.5244393504977051\n",
      "Chromosome 5 correlation: 0.22608843633604256\n",
      "Chromosome 6 correlation: 0.5757699229647969\n",
      "Chromosome 9 correlation: 0.5372756452275411\n",
      "Chromosome X correlation: 0.3264607697555213\n",
      "Chromosome Y correlation: 0.894836988624044\n"
     ]
    }
   ],
   "source": [
    "chr_list = list(gene_dict.keys())\n",
    "corr_dict = {chr: pd.DataFrame() for chr in chr_list}\n",
    "for chr in chr_list:\n",
    "    gene_list = gene_dict[chr]\n",
    "    corr_dict[chr] = corr_df.loc[gene_list].drop(columns=['chr'])\n",
    "    print(\"Chromosome\", chr, \"correlation:\", corr_dict[chr].corr().iloc[0,1])"
   ]
  }
 ],
 "metadata": {
  "kernelspec": {
   "display_name": "base",
   "language": "python",
   "name": "base"
  },
  "language_info": {
   "codemirror_mode": {
    "name": "ipython",
    "version": 3
   },
   "file_extension": ".py",
   "mimetype": "text/x-python",
   "name": "python",
   "nbconvert_exporter": "python",
   "pygments_lexer": "ipython3",
   "version": "3.8.13"
  },
  "orig_nbformat": 4
 },
 "nbformat": 4,
 "nbformat_minor": 2
}
