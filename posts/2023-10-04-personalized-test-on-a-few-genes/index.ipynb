{
 "cells": [
  {
   "cell_type": "markdown",
   "metadata": {},
   "source": [
    "---\n",
    "title: Personalized Borzoi test on a few genes\n",
    "date: 10/4/2023\n",
    "author: Sabrina Mi\n",
    "---\n",
    "\n",
    "### Select Genes\n",
    "\n",
    "We want to pick a handful of human genes (with rat orthologs) used in the Enformer personalized runs (on rats) that will roughly have a similar distribution of Spearman correlations."
   ]
  },
  {
   "cell_type": "code",
   "execution_count": 8,
   "metadata": {},
   "outputs": [],
   "source": [
    "import pandas as pd\n",
    "import numpy as np"
   ]
  },
  {
   "cell_type": "code",
   "execution_count": 43,
   "metadata": {},
   "outputs": [],
   "source": [
    "rn7_gene_list = pd.read_csv(\"/home/s1mi/enformer_rat_data/output/Br_personalized_spearman_corr_human.csv\", index_col = 0)"
   ]
  },
  {
   "cell_type": "code",
   "execution_count": 33,
   "metadata": {},
   "outputs": [],
   "source": [
    "#| code-fold: true\n",
    "# Calculate mean and standard deviation\n",
    "mean = np.mean(gene_list['spearman r'])\n",
    "std_dev = np.std(gene_list['spearman r'])\n",
    "\n",
    "\n",
    "# Group the elements based on their distance from the mean\n",
    "df_1 = pd.DataFrame(columns=['gene', 'spearman r'])\n",
    "df_2 = pd.DataFrame(columns=['gene', 'spearman r'])\n",
    "df_3 = pd.DataFrame(columns=['gene', 'spearman r'])\n",
    "\n",
    "for gene, row in rn7_gene_list.iterrows():\n",
    "    deviation = abs(row['spearman r'] - mean)\n",
    "    df_row = pd.DataFrame({'gene': [gene], 'spearman r': row['spearman r']})\n",
    "    if deviation <= std_dev:\n",
    "        df_1 = pd.concat([df_1, df_row], ignore_index=True)\n",
    "    elif deviation <= 2 * std_dev:\n",
    "        df_2 = pd.concat([df_2, df_row], ignore_index=True)\n",
    "    else:\n",
    "        df_3 = pd.concat([df_3, df_row], ignore_index=True)\n"
   ]
  },
  {
   "cell_type": "code",
   "execution_count": 47,
   "metadata": {},
   "outputs": [],
   "source": [
    "rn7_hg38_ortho = pd.read_csv(\"/home/s1mi/enformer_rat_data/annotation/rn7_hg38.ortholog_genes.txt\", sep=\"\\t\", index_col=\"ensembl_gene_id\")\n",
    "hg38_annot = pd.read_csv(\"/home/s1mi/enformer_rat_data/annotation/hg38.gene.txt\", sep=\"\\t\")\n",
    "ortho_genes = list((rn7_gene_list.index).intersection(rn7_hg38_ortho.index))"
   ]
  },
  {
   "cell_type": "code",
   "execution_count": 50,
   "metadata": {},
   "outputs": [],
   "source": [
    "# select human gene from each standard deviation grouping\n",
    "df_1 = df_1[df_1['gene'].isin(ortho_genes)]\n",
    "df_2 = df_2[df_2['gene'].isin(ortho_genes)]\n",
    "df_3 = df_3[df_3['gene'].isin(ortho_genes)]\n",
    "test_genes = [df_1['gene'].sample().item(), df_2['gene'].sample().item(), df_3['gene'].sample().item()]"
   ]
  },
  {
   "cell_type": "code",
   "execution_count": 81,
   "metadata": {},
   "outputs": [],
   "source": [
    "hg38_gene_list = rn7_hg38_ortho['hsapiens_homolog_ensembl_gene'].loc[test_genes].to_list()\n",
    "hg38_gene_df = hg38_annot[hg38_annot['ensembl_gene_id'].isin(hg38_gene_list)]\n",
    "hg38_gene_df = hg38_gene_df[[\"ensembl_gene_id\", \"chromosome_name\", \"transcript_start\", \"transcript_end\"]]"
   ]
  },
  {
   "cell_type": "code",
   "execution_count": 86,
   "metadata": {},
   "outputs": [],
   "source": [
    "hg38_gene_df.to_csv(\"gene_list.csv\", index=False)"
   ]
  },
  {
   "cell_type": "markdown",
   "metadata": {},
   "source": [
    "### Write Individuals List\n",
    "\n",
    "There are 455 individuals in the GEUVADIS data with LCL gene expression data."
   ]
  },
  {
   "cell_type": "code",
   "execution_count": null,
   "metadata": {},
   "outputs": [],
   "source": [
    "import cyvcf2\n",
    "vcf_chr = cyvcf2.cyvcf2.VCF(\"/grand/TFXcan/imlab/data/1000G/vcf_snps_only/ALL.chr1.shapeit2_integrated_SNPs_v2a_27022019.GRCh38.phased.vcf.gz\")\n",
    "vcf_samples = vcf_chr.samples"
   ]
  },
  {
   "cell_type": "code",
   "execution_count": 9,
   "metadata": {},
   "outputs": [],
   "source": [
    "geuvadis_gex = pd.read_csv(\"/lus/grand/projects/TFXcan/imlab/data/1000G/expression/GD462.GeneQuantRPKM.50FN.samplename.resk10.txt.gz\", sep=\"\\t\")\n",
    "individuals = geuvadis_gex.columns[4:].tolist()\n",
    "samples = list(set(vcf_samples).intersection(individuals))\n",
    "with open(\"individuals.txt\", \"w\") as f:\n",
    "    f.write(\"\\n\".join(samples))"
   ]
  },
  {
   "cell_type": "markdown",
   "metadata": {},
   "source": [
    "### Run Predictions\n",
    "\n",
    "I started a pipeline for personalized prediction in this [notebook](https://sabrina-dl.hakyimlab.org/posts/2023-09-26-borzoi-personalized-test/geuvadis_personalized_test), and put it into a [python script](personalized_prediction.py).\n",
    "\n",
    "I submitted this as a [PBS job](borzoi_test_run.pbs), `qsub borzoi_test_run.pbs`.\n",
    "\n",
    "```\n",
    "module load conda\n",
    "conda activate borzoi\n",
    "cd /home/s1mi/Github/deep-learning-in-genomics/posts/2023-10-04-personalized-test-on-a-few-genes\n",
    "\n",
    "export LD_LIBRARY_PATH=/soft/compilers/cudatoolkit/cuda-11.8.0/extras/CUPTI/lib64:/soft/compilers/cudatoolkit/cuda-11.8.0/lib64:/soft/libraries/trt/TensorRT-8.5.2.2.Linux.x86_64-gnu.cuda-11.8.cudnn8.6/lib:/soft/libraries/nccl/nccl_2.16.2-1+cuda11.8_x86_64/lib:/soft/libraries/cudnn/cudnn-11-linux-x64-v8.6.0.163/lib:$LD_LIBRARY_PATH\n",
    "\n",
    "echo $LD_LIBRARY_PATH\n",
    "\n",
    "python3 personalized_prediction.py \\\n",
    "--gene_df gene_list.csv \\\n",
    "--fasta_file /home/s1mi/borzoi_tutorial/hg38.fa \\\n",
    "--vcf_dir /grand/TFXcan/imlab/data/1000G/vcf_snps_only \\\n",
    "--individuals_file individuals.txt \\\n",
    "--model_dir /home/s1mi/borzoi_tutorial \\\n",
    "--output_dir /grand/TFXcan/imlab/users/sabrina/borzoi-personalized-test\n",
    "\n",
    "```"
   ]
  },
  {
   "cell_type": "markdown",
   "metadata": {},
   "source": [
    "### Check Results\n",
    "\n",
    "Expand the code below for setting global variables and reading GEUVADIS data."
   ]
  },
  {
   "cell_type": "code",
   "execution_count": 1,
   "metadata": {},
   "outputs": [
    {
     "name": "stderr",
     "output_type": "stream",
     "text": [
      "2023-10-12 03:16:08.150141: I tensorflow/core/platform/cpu_feature_guard.cc:182] This TensorFlow binary is optimized to use available CPU instructions in performance-critical operations.\n",
      "To enable the following instructions: AVX2 FMA, in other operations, rebuild TensorFlow with the appropriate compiler flags.\n",
      "2023-10-12 03:16:11.340129: W tensorflow/compiler/tf2tensorrt/utils/py_utils.cc:38] TF-TRT Warning: Could not find TensorRT\n",
      "2023-10-12 03:16:16.242235: E tensorflow/compiler/xla/stream_executor/cuda/cuda_driver.cc:266] failed call to cuInit: CUDA_ERROR_NOT_INITIALIZED: initialization error\n",
      "2023-10-12 03:16:16.242438: I tensorflow/compiler/xla/stream_executor/cuda/cuda_diagnostics.cc:168] retrieving CUDA diagnostic information for host: polaris-login-02\n",
      "2023-10-12 03:16:16.242469: I tensorflow/compiler/xla/stream_executor/cuda/cuda_diagnostics.cc:175] hostname: polaris-login-02\n",
      "2023-10-12 03:16:16.243018: I tensorflow/compiler/xla/stream_executor/cuda/cuda_diagnostics.cc:199] libcuda reported version is: 470.103.4\n",
      "2023-10-12 03:16:16.243100: I tensorflow/compiler/xla/stream_executor/cuda/cuda_diagnostics.cc:203] kernel reported version is: 470.103.4\n",
      "2023-10-12 03:16:16.243112: I tensorflow/compiler/xla/stream_executor/cuda/cuda_diagnostics.cc:309] kernel version seems to match DSO: 470.103.4\n"
     ]
    }
   ],
   "source": [
    "#| code-fold: true\n",
    "#### LIBRARIES AND DEFINITIONS\n",
    "import pandas as pd\n",
    "import numpy as np\n",
    "import h5py\n",
    "import os\n",
    "predictions_dir = f\"/grand/TFXcan/imlab/users/sabrina/borzoi-personalized-test\"\n",
    "geuvadis_gex = pd.read_csv(\"/lus/grand/projects/TFXcan/imlab/data/1000G/expression/GD462.GeneQuantRPKM.50FN.samplename.resk10.txt.gz\", sep=\"\\t\")\n",
    "geuvadis_gex['TargetID'] = geuvadis_gex['TargetID'].apply(lambda gene: gene.split('.')[0])\n",
    "geuvadis_gex.set_index('TargetID', inplace=True)\n",
    "hg38_annot = pd.read_csv(\"/home/s1mi/enformer_rat_data/annotation/hg38.gene.txt\", sep=\"\\t\", index_col=\"ensembl_gene_id\")\n",
    "#### GET LIST OF GENES\n",
    "genes = pd.read_csv(\"gene_list.csv\")['ensembl_gene_id'].apply(lambda x: str(x)).to_list()\n",
    "#### GET LIST OF INDIVIDUALS\n",
    "with open(\"individuals.txt\", \"r\") as file:\n",
    "    individuals = file.read().splitlines()\n",
    "\n",
    "from borzoi_helpers import *\n",
    "from baskerville import gene as bgene\n",
    "prefix=\"/home/s1mi/borzoi_tutorial\"\n",
    "splice_df = pd.read_csv(f'{prefix}/gencode41_basic_protein_splice.csv.gz', sep='\\t', compression='gzip')\n",
    "transcriptome = bgene.Transcriptome(f'{prefix}/gencode41_basic_nort.gtf')\n",
    "\n",
    "targets_df = pd.read_csv(f'{prefix}/targets_human.txt', index_col=0, sep='\\t')\n",
    "target_index = targets_df.index\n",
    "\n",
    "\n",
    "#Create local index of strand_pair (relative to sliced targets)\n",
    "strand_pair = targets_df.strand_pair\n",
    "\n",
    "target_slice_dict = {ix : i for i, ix in enumerate(target_index.values.tolist())}\n",
    "slice_pair = np.array([\n",
    "    target_slice_dict[ix] if ix in target_slice_dict else ix for ix in strand_pair.values.tolist()\n",
    "], dtype='int32')"
   ]
  },
  {
   "cell_type": "markdown",
   "metadata": {},
   "source": [
    "We compare gene expression predictions derived from borzoi's CAGE and RNA tracks. The GEUVADIS dataset includes RNA-seq data collected from LCL samples. Borzoi was trained on \n",
    "ENCODE's CAGE:B lymphoblastoid cell line data (tracks 870, 871) as well as GTEx RNA-seq data from EBV-transformed lymphosites, however, it's unclear to me which track this fell under. My guess is that track 7531:GTEX-1I4MK-0002-SM-EZ6M9 is the best approximation for LCL tissue."
   ]
  },
  {
   "cell_type": "code",
   "execution_count": 3,
   "metadata": {},
   "outputs": [],
   "source": [
    "from borzoi_calculation_helpers import *\n",
    "def extract_RNA(ensembl_gene_id, seq_out_start, predictions, tracks, seq_out_len = 523264):\n",
    "    gene_keys = [gene_key for gene_key in transcriptome.genes.keys() if ensembl_gene_id in gene_key]\n",
    "    gene = transcriptome.genes[gene_keys[0]]\n",
    "    gene_slice = gene.output_slice(seq_out_start, seq_out_len, 32, False)\n",
    "    return expr_attr(predictions, tracks, gene_slice)"
   ]
  },
  {
   "cell_type": "code",
   "execution_count": 4,
   "metadata": {},
   "outputs": [],
   "source": [
    "def extract_CAGE(predictions, tss_bin, tracks):\n",
    "    return np.mean(predictions[:, tss_bin-1:tss_bin+2, tracks])"
   ]
  },
  {
   "cell_type": "code",
   "execution_count": 5,
   "metadata": {},
   "outputs": [
    {
     "name": "stdout",
     "output_type": "stream",
     "text": [
      "ENSG00000142949\n",
      "ENSG00000133247\n",
      "ENSG00000161011\n"
     ]
    }
   ],
   "source": [
    "seq_len = 524288\n",
    "seq_out_len = 523264\n",
    "expr_dict = {}\n",
    "for gene in genes:\n",
    "    print(gene)\n",
    "    chr = hg38_annot.loc[gene, 'chromosome_name']\n",
    "    interval_start = hg38_annot.loc[gene, 'transcript_start']\n",
    "    interval_end = hg38_annot.loc[gene, 'transcript_end']\n",
    "    tss = hg38_annot.loc[gene, 'transcription_start_site']\n",
    "    center = (interval_start + interval_end) // 2\n",
    "    start = center - seq_len // 2\n",
    "    end = center + seq_len // 2\n",
    "    seq_out_start = start + 512\n",
    "    tss_bin = (tss - seq_out_start) // 32\n",
    "    CAGE_predictions = []\n",
    "    RNA_predictions = []\n",
    "    for individual in individuals:\n",
    "        predictions_file = os.path.join(predictions_dir, individual, f'chr{chr}_{start}_{end}_predictions.h5')\n",
    "        if os.path.exists(predictions_file):\n",
    "            with h5py.File(predictions_file, \"r\") as hf:\n",
    "                haplo1 = hf['haplotype1'][:]\n",
    "                haplo2 = hf['haplotype2'][:]\n",
    "            CAGE_mean = (extract_CAGE(haplo1, tss_bin, [870,871]) + extract_CAGE(haplo2, tss_bin, [870,871])) / 2\n",
    "            RNA_mean = (extract_RNA(gene, seq_out_start, haplo1, [7531]) + extract_RNA(gene, seq_out_start, haplo2, [7531])) / 2\n",
    "            CAGE_predictions.append(CAGE_mean)\n",
    "            RNA_predictions.append(RNA_mean)\n",
    "        else:\n",
    "            CAGE_predictions.append(np.nan)\n",
    "            RNA_predictions.append(np.nan)\n",
    "    expr_dict[gene] = pd.DataFrame({'CAGE predicted': CAGE_predictions, \n",
    "                                    'RNA predicted': RNA_predictions}, index = individuals)\n",
    "      "
   ]
  },
  {
   "cell_type": "code",
   "execution_count": 34,
   "metadata": {},
   "outputs": [],
   "source": [
    "with h5py.File('/home/s1mi/enformer_rat_data/output/borzoi_personalized_predictions_test.h5', \"w\") as hf:\n",
    "    for key, value in expr_dict.items():\n",
    "        hf[key] = value\n"
   ]
  },
  {
   "cell_type": "code",
   "execution_count": 44,
   "metadata": {},
   "outputs": [],
   "source": [
    "with h5py.File('/home/s1mi/enformer_rat_data/output/borzoi_personalized_predictions_test.h5', 'r') as hf:\n",
    "    for key, value in hf.items():\n",
    "        expr_dict[key] = pd.DataFrame(value, index = individuals, columns = ['CAGE predicted', 'RNA predicted'])"
   ]
  },
  {
   "cell_type": "code",
   "execution_count": 45,
   "metadata": {},
   "outputs": [],
   "source": [
    "for gene in genes:\n",
    "    observed = pd.to_numeric(geuvadis_gex.loc[gene][individuals])\n",
    "    observed.name = 'observed'\n",
    "    expr_dict[gene] = expr_dict[gene].merge(observed, left_index = True, right_index = True)\n",
    "    #expr_dict[gene] = expr_dict[gene].apply(pd.to_numeric)"
   ]
  },
  {
   "cell_type": "markdown",
   "metadata": {},
   "source": [
    "#### Compare Predictions to Observed\n",
    "\n",
    "To add context to each gene, we'll first pull correlations from Enformer personalized prediction on rat orthologs.\n"
   ]
  },
  {
   "cell_type": "code",
   "execution_count": 61,
   "metadata": {},
   "outputs": [],
   "source": [
    "rn7_hg38_ortho = pd.read_csv(\"/home/s1mi/enformer_rat_data/annotation/rn7_hg38.ortholog_genes.txt\", sep=\"\\t\", index_col=\"hsapiens_homolog_ensembl_gene\")\n",
    "rn7_genes = rn7_hg38_ortho.loc[genes]['ensembl_gene_id'].to_list()\n",
    "rn7_spearman_corr = pd.read_csv(\"/home/s1mi/enformer_rat_data/output/Br_personalized_spearman_corr_human.csv\", index_col = 0)\n",
    "rn7_pearson_corr = pd.read_csv(\"/home/s1mi/enformer_rat_data/output/Br_personalized_pearson_corr_human.csv\", index_col = 0)\n"
   ]
  },
  {
   "cell_type": "markdown",
   "metadata": {},
   "source": [
    "**Br Rat Pearson Correlations**"
   ]
  },
  {
   "cell_type": "code",
   "execution_count": 63,
   "metadata": {},
   "outputs": [
    {
     "data": {
      "text/html": [
       "<div>\n",
       "<style scoped>\n",
       "    .dataframe tbody tr th:only-of-type {\n",
       "        vertical-align: middle;\n",
       "    }\n",
       "\n",
       "    .dataframe tbody tr th {\n",
       "        vertical-align: top;\n",
       "    }\n",
       "\n",
       "    .dataframe thead th {\n",
       "        text-align: right;\n",
       "    }\n",
       "</style>\n",
       "<table border=\"1\" class=\"dataframe\">\n",
       "  <thead>\n",
       "    <tr style=\"text-align: right;\">\n",
       "      <th></th>\n",
       "      <th>pearson r</th>\n",
       "      <th>pvalue</th>\n",
       "    </tr>\n",
       "  </thead>\n",
       "  <tbody>\n",
       "    <tr>\n",
       "      <th>ENSRNOG00000019977</th>\n",
       "      <td>-0.245970</td>\n",
       "      <td>4.443961e-06</td>\n",
       "    </tr>\n",
       "    <tr>\n",
       "      <th>ENSRNOG00000017508</th>\n",
       "      <td>0.033957</td>\n",
       "      <td>5.326182e-01</td>\n",
       "    </tr>\n",
       "    <tr>\n",
       "      <th>ENSRNOG00000003147</th>\n",
       "      <td>0.624152</td>\n",
       "      <td>4.101428e-38</td>\n",
       "    </tr>\n",
       "  </tbody>\n",
       "</table>\n",
       "</div>"
      ],
      "text/plain": [
       "                    pearson r        pvalue\n",
       "ENSRNOG00000019977  -0.245970  4.443961e-06\n",
       "ENSRNOG00000017508   0.033957  5.326182e-01\n",
       "ENSRNOG00000003147   0.624152  4.101428e-38"
      ]
     },
     "execution_count": 63,
     "metadata": {},
     "output_type": "execute_result"
    }
   ],
   "source": [
    "rn7_pearson_corr.loc[rn7_genes]"
   ]
  },
  {
   "cell_type": "markdown",
   "metadata": {},
   "source": [
    "**Br Rat Spearman Correlations**"
   ]
  },
  {
   "cell_type": "code",
   "execution_count": 65,
   "metadata": {},
   "outputs": [
    {
     "data": {
      "text/html": [
       "<div>\n",
       "<style scoped>\n",
       "    .dataframe tbody tr th:only-of-type {\n",
       "        vertical-align: middle;\n",
       "    }\n",
       "\n",
       "    .dataframe tbody tr th {\n",
       "        vertical-align: top;\n",
       "    }\n",
       "\n",
       "    .dataframe thead th {\n",
       "        text-align: right;\n",
       "    }\n",
       "</style>\n",
       "<table border=\"1\" class=\"dataframe\">\n",
       "  <thead>\n",
       "    <tr style=\"text-align: right;\">\n",
       "      <th></th>\n",
       "      <th>spearman r</th>\n",
       "      <th>pvalue</th>\n",
       "    </tr>\n",
       "  </thead>\n",
       "  <tbody>\n",
       "    <tr>\n",
       "      <th>ENSRNOG00000019977</th>\n",
       "      <td>-0.235618</td>\n",
       "      <td>1.130621e-05</td>\n",
       "    </tr>\n",
       "    <tr>\n",
       "      <th>ENSRNOG00000017508</th>\n",
       "      <td>0.012958</td>\n",
       "      <td>8.118338e-01</td>\n",
       "    </tr>\n",
       "    <tr>\n",
       "      <th>ENSRNOG00000003147</th>\n",
       "      <td>0.614930</td>\n",
       "      <td>9.560589e-37</td>\n",
       "    </tr>\n",
       "  </tbody>\n",
       "</table>\n",
       "</div>"
      ],
      "text/plain": [
       "                    spearman r        pvalue\n",
       "ENSRNOG00000019977   -0.235618  1.130621e-05\n",
       "ENSRNOG00000017508    0.012958  8.118338e-01\n",
       "ENSRNOG00000003147    0.614930  9.560589e-37"
      ]
     },
     "execution_count": 65,
     "metadata": {},
     "output_type": "execute_result"
    }
   ],
   "source": [
    "rn7_spearman_corr.loc[rn7_genes]"
   ]
  },
  {
   "cell_type": "markdown",
   "metadata": {},
   "source": [
    "**GEUVADIS Human Pearson Correlations**\n",
    "\n",
    "ENSG00000142949 (Enformer Rat R=-0.246): Both CAGE and RNA tracks predict in the correct direction of gene effect, but with reduced magnitude"
   ]
  },
  {
   "cell_type": "code",
   "execution_count": 49,
   "metadata": {},
   "outputs": [
    {
     "data": {
      "text/html": [
       "<div>\n",
       "<style scoped>\n",
       "    .dataframe tbody tr th:only-of-type {\n",
       "        vertical-align: middle;\n",
       "    }\n",
       "\n",
       "    .dataframe tbody tr th {\n",
       "        vertical-align: top;\n",
       "    }\n",
       "\n",
       "    .dataframe thead th {\n",
       "        text-align: right;\n",
       "    }\n",
       "</style>\n",
       "<table border=\"1\" class=\"dataframe\">\n",
       "  <thead>\n",
       "    <tr style=\"text-align: right;\">\n",
       "      <th></th>\n",
       "      <th>CAGE predicted</th>\n",
       "      <th>RNA predicted</th>\n",
       "      <th>observed</th>\n",
       "    </tr>\n",
       "  </thead>\n",
       "  <tbody>\n",
       "    <tr>\n",
       "      <th>CAGE predicted</th>\n",
       "      <td>1.000000</td>\n",
       "      <td>0.460416</td>\n",
       "      <td>0.086982</td>\n",
       "    </tr>\n",
       "    <tr>\n",
       "      <th>RNA predicted</th>\n",
       "      <td>0.460416</td>\n",
       "      <td>1.000000</td>\n",
       "      <td>0.073000</td>\n",
       "    </tr>\n",
       "    <tr>\n",
       "      <th>observed</th>\n",
       "      <td>0.086982</td>\n",
       "      <td>0.073000</td>\n",
       "      <td>1.000000</td>\n",
       "    </tr>\n",
       "  </tbody>\n",
       "</table>\n",
       "</div>"
      ],
      "text/plain": [
       "                CAGE predicted  RNA predicted  observed\n",
       "CAGE predicted        1.000000       0.460416  0.086982\n",
       "RNA predicted         0.460416       1.000000  0.073000\n",
       "observed              0.086982       0.073000  1.000000"
      ]
     },
     "execution_count": 49,
     "metadata": {},
     "output_type": "execute_result"
    }
   ],
   "source": [
    "expr_dict[genes[0]].corr(method='pearson')"
   ]
  },
  {
   "cell_type": "markdown",
   "metadata": {},
   "source": [
    "ENSG00000133247 (Enformer Rat R = 0.034): Borzoi performs weakly as well."
   ]
  },
  {
   "cell_type": "code",
   "execution_count": 50,
   "metadata": {},
   "outputs": [
    {
     "data": {
      "text/html": [
       "<div>\n",
       "<style scoped>\n",
       "    .dataframe tbody tr th:only-of-type {\n",
       "        vertical-align: middle;\n",
       "    }\n",
       "\n",
       "    .dataframe tbody tr th {\n",
       "        vertical-align: top;\n",
       "    }\n",
       "\n",
       "    .dataframe thead th {\n",
       "        text-align: right;\n",
       "    }\n",
       "</style>\n",
       "<table border=\"1\" class=\"dataframe\">\n",
       "  <thead>\n",
       "    <tr style=\"text-align: right;\">\n",
       "      <th></th>\n",
       "      <th>CAGE predicted</th>\n",
       "      <th>RNA predicted</th>\n",
       "      <th>observed</th>\n",
       "    </tr>\n",
       "  </thead>\n",
       "  <tbody>\n",
       "    <tr>\n",
       "      <th>CAGE predicted</th>\n",
       "      <td>1.000000</td>\n",
       "      <td>0.641555</td>\n",
       "      <td>-0.010348</td>\n",
       "    </tr>\n",
       "    <tr>\n",
       "      <th>RNA predicted</th>\n",
       "      <td>0.641555</td>\n",
       "      <td>1.000000</td>\n",
       "      <td>0.024595</td>\n",
       "    </tr>\n",
       "    <tr>\n",
       "      <th>observed</th>\n",
       "      <td>-0.010348</td>\n",
       "      <td>0.024595</td>\n",
       "      <td>1.000000</td>\n",
       "    </tr>\n",
       "  </tbody>\n",
       "</table>\n",
       "</div>"
      ],
      "text/plain": [
       "                CAGE predicted  RNA predicted  observed\n",
       "CAGE predicted        1.000000       0.641555 -0.010348\n",
       "RNA predicted         0.641555       1.000000  0.024595\n",
       "observed             -0.010348       0.024595  1.000000"
      ]
     },
     "execution_count": 50,
     "metadata": {},
     "output_type": "execute_result"
    }
   ],
   "source": [
    "expr_dict[genes[1]].corr(method='pearson')"
   ]
  },
  {
   "cell_type": "markdown",
   "metadata": {},
   "source": [
    "ENSG00000161011 (Enformer Rat R = 0.624): Borzoi underperforms in both tracks, I will need to debug."
   ]
  },
  {
   "cell_type": "code",
   "execution_count": 69,
   "metadata": {},
   "outputs": [
    {
     "data": {
      "text/html": [
       "<div>\n",
       "<style scoped>\n",
       "    .dataframe tbody tr th:only-of-type {\n",
       "        vertical-align: middle;\n",
       "    }\n",
       "\n",
       "    .dataframe tbody tr th {\n",
       "        vertical-align: top;\n",
       "    }\n",
       "\n",
       "    .dataframe thead th {\n",
       "        text-align: right;\n",
       "    }\n",
       "</style>\n",
       "<table border=\"1\" class=\"dataframe\">\n",
       "  <thead>\n",
       "    <tr style=\"text-align: right;\">\n",
       "      <th></th>\n",
       "      <th>CAGE predicted</th>\n",
       "      <th>RNA predicted</th>\n",
       "      <th>observed</th>\n",
       "    </tr>\n",
       "  </thead>\n",
       "  <tbody>\n",
       "    <tr>\n",
       "      <th>CAGE predicted</th>\n",
       "      <td>1.000000</td>\n",
       "      <td>0.18870</td>\n",
       "      <td>0.021334</td>\n",
       "    </tr>\n",
       "    <tr>\n",
       "      <th>RNA predicted</th>\n",
       "      <td>0.188700</td>\n",
       "      <td>1.00000</td>\n",
       "      <td>0.003480</td>\n",
       "    </tr>\n",
       "    <tr>\n",
       "      <th>observed</th>\n",
       "      <td>0.021334</td>\n",
       "      <td>0.00348</td>\n",
       "      <td>1.000000</td>\n",
       "    </tr>\n",
       "  </tbody>\n",
       "</table>\n",
       "</div>"
      ],
      "text/plain": [
       "                CAGE predicted  RNA predicted  observed\n",
       "CAGE predicted        1.000000        0.18870  0.021334\n",
       "RNA predicted         0.188700        1.00000  0.003480\n",
       "observed              0.021334        0.00348  1.000000"
      ]
     },
     "execution_count": 69,
     "metadata": {},
     "output_type": "execute_result"
    }
   ],
   "source": [
    "expr_dict[genes[2]].corr(method='pearson')"
   ]
  },
  {
   "cell_type": "markdown",
   "metadata": {},
   "source": [
    "**GEUVADIS Human Spearman Correlations**"
   ]
  },
  {
   "cell_type": "code",
   "execution_count": 70,
   "metadata": {},
   "outputs": [
    {
     "data": {
      "text/html": [
       "<div>\n",
       "<style scoped>\n",
       "    .dataframe tbody tr th:only-of-type {\n",
       "        vertical-align: middle;\n",
       "    }\n",
       "\n",
       "    .dataframe tbody tr th {\n",
       "        vertical-align: top;\n",
       "    }\n",
       "\n",
       "    .dataframe thead th {\n",
       "        text-align: right;\n",
       "    }\n",
       "</style>\n",
       "<table border=\"1\" class=\"dataframe\">\n",
       "  <thead>\n",
       "    <tr style=\"text-align: right;\">\n",
       "      <th></th>\n",
       "      <th>CAGE predicted</th>\n",
       "      <th>RNA predicted</th>\n",
       "      <th>observed</th>\n",
       "    </tr>\n",
       "  </thead>\n",
       "  <tbody>\n",
       "    <tr>\n",
       "      <th>CAGE predicted</th>\n",
       "      <td>1.000000</td>\n",
       "      <td>0.526191</td>\n",
       "      <td>0.071541</td>\n",
       "    </tr>\n",
       "    <tr>\n",
       "      <th>RNA predicted</th>\n",
       "      <td>0.526191</td>\n",
       "      <td>1.000000</td>\n",
       "      <td>0.085379</td>\n",
       "    </tr>\n",
       "    <tr>\n",
       "      <th>observed</th>\n",
       "      <td>0.071541</td>\n",
       "      <td>0.085379</td>\n",
       "      <td>1.000000</td>\n",
       "    </tr>\n",
       "  </tbody>\n",
       "</table>\n",
       "</div>"
      ],
      "text/plain": [
       "                CAGE predicted  RNA predicted  observed\n",
       "CAGE predicted        1.000000       0.526191  0.071541\n",
       "RNA predicted         0.526191       1.000000  0.085379\n",
       "observed              0.071541       0.085379  1.000000"
      ]
     },
     "execution_count": 70,
     "metadata": {},
     "output_type": "execute_result"
    }
   ],
   "source": [
    "expr_dict[genes[0]].corr(method='spearman')"
   ]
  },
  {
   "cell_type": "code",
   "execution_count": 71,
   "metadata": {},
   "outputs": [
    {
     "data": {
      "text/html": [
       "<div>\n",
       "<style scoped>\n",
       "    .dataframe tbody tr th:only-of-type {\n",
       "        vertical-align: middle;\n",
       "    }\n",
       "\n",
       "    .dataframe tbody tr th {\n",
       "        vertical-align: top;\n",
       "    }\n",
       "\n",
       "    .dataframe thead th {\n",
       "        text-align: right;\n",
       "    }\n",
       "</style>\n",
       "<table border=\"1\" class=\"dataframe\">\n",
       "  <thead>\n",
       "    <tr style=\"text-align: right;\">\n",
       "      <th></th>\n",
       "      <th>CAGE predicted</th>\n",
       "      <th>RNA predicted</th>\n",
       "      <th>observed</th>\n",
       "    </tr>\n",
       "  </thead>\n",
       "  <tbody>\n",
       "    <tr>\n",
       "      <th>CAGE predicted</th>\n",
       "      <td>1.000000</td>\n",
       "      <td>0.665929</td>\n",
       "      <td>0.00412</td>\n",
       "    </tr>\n",
       "    <tr>\n",
       "      <th>RNA predicted</th>\n",
       "      <td>0.665929</td>\n",
       "      <td>1.000000</td>\n",
       "      <td>0.02841</td>\n",
       "    </tr>\n",
       "    <tr>\n",
       "      <th>observed</th>\n",
       "      <td>0.004120</td>\n",
       "      <td>0.028410</td>\n",
       "      <td>1.00000</td>\n",
       "    </tr>\n",
       "  </tbody>\n",
       "</table>\n",
       "</div>"
      ],
      "text/plain": [
       "                CAGE predicted  RNA predicted  observed\n",
       "CAGE predicted        1.000000       0.665929   0.00412\n",
       "RNA predicted         0.665929       1.000000   0.02841\n",
       "observed              0.004120       0.028410   1.00000"
      ]
     },
     "execution_count": 71,
     "metadata": {},
     "output_type": "execute_result"
    }
   ],
   "source": [
    "expr_dict[genes[1]].corr(method='spearman')"
   ]
  },
  {
   "cell_type": "code",
   "execution_count": 72,
   "metadata": {},
   "outputs": [
    {
     "data": {
      "text/html": [
       "<div>\n",
       "<style scoped>\n",
       "    .dataframe tbody tr th:only-of-type {\n",
       "        vertical-align: middle;\n",
       "    }\n",
       "\n",
       "    .dataframe tbody tr th {\n",
       "        vertical-align: top;\n",
       "    }\n",
       "\n",
       "    .dataframe thead th {\n",
       "        text-align: right;\n",
       "    }\n",
       "</style>\n",
       "<table border=\"1\" class=\"dataframe\">\n",
       "  <thead>\n",
       "    <tr style=\"text-align: right;\">\n",
       "      <th></th>\n",
       "      <th>CAGE predicted</th>\n",
       "      <th>RNA predicted</th>\n",
       "      <th>observed</th>\n",
       "    </tr>\n",
       "  </thead>\n",
       "  <tbody>\n",
       "    <tr>\n",
       "      <th>CAGE predicted</th>\n",
       "      <td>1.000000</td>\n",
       "      <td>0.481421</td>\n",
       "      <td>0.022248</td>\n",
       "    </tr>\n",
       "    <tr>\n",
       "      <th>RNA predicted</th>\n",
       "      <td>0.481421</td>\n",
       "      <td>1.000000</td>\n",
       "      <td>0.029495</td>\n",
       "    </tr>\n",
       "    <tr>\n",
       "      <th>observed</th>\n",
       "      <td>0.022248</td>\n",
       "      <td>0.029495</td>\n",
       "      <td>1.000000</td>\n",
       "    </tr>\n",
       "  </tbody>\n",
       "</table>\n",
       "</div>"
      ],
      "text/plain": [
       "                CAGE predicted  RNA predicted  observed\n",
       "CAGE predicted        1.000000       0.481421  0.022248\n",
       "RNA predicted         0.481421       1.000000  0.029495\n",
       "observed              0.022248       0.029495  1.000000"
      ]
     },
     "execution_count": 72,
     "metadata": {},
     "output_type": "execute_result"
    }
   ],
   "source": [
    "expr_dict[genes[2]].corr(method='spearman')"
   ]
  },
  {
   "cell_type": "code",
   "execution_count": 13,
   "metadata": {},
   "outputs": [
    {
     "data": {
      "text/plain": [
       "{'ENSG00000142949':          CAGE predicted  RNA predicted\n",
       " NA20521       20.140625   30171.421875\n",
       " NA18934       20.171875   31623.371094\n",
       " HG00324       20.062500   31657.937500\n",
       " HG00103       20.281250   32049.599609\n",
       " NA20516       20.156250   31728.843750\n",
       " ...                 ...            ...\n",
       " HG00152       20.093750   30087.642578\n",
       " HG00351       20.218750   31902.732422\n",
       " HG00185       20.218750   31106.968750\n",
       " NA06994       20.250000   32102.337891\n",
       " NA12341       20.125000   31183.824219\n",
       " \n",
       " [455 rows x 2 columns],\n",
       " 'ENSG00000133247':          CAGE predicted  RNA predicted\n",
       " NA20521       22.968750   61911.656250\n",
       " NA18934       23.000000   62215.453125\n",
       " HG00324       22.859375   60991.593750\n",
       " HG00103       22.968750   61437.328125\n",
       " NA20516       22.906250   61042.312500\n",
       " ...                 ...            ...\n",
       " HG00152       22.843750   60993.703125\n",
       " HG00351       22.875000   61338.320312\n",
       " HG00185       22.968750   61601.574219\n",
       " NA06994       22.796875   61072.781250\n",
       " NA12341       22.875000   61673.406250\n",
       " \n",
       " [455 rows x 2 columns],\n",
       " 'ENSG00000161011':          CAGE predicted  RNA predicted\n",
       " NA20521        41.06250      6132596.0\n",
       " NA18934        41.00000      5838809.0\n",
       " HG00324        41.12500      5967448.0\n",
       " HG00103        40.96875      5852593.0\n",
       " NA20516        41.00000      5942520.0\n",
       " ...                 ...            ...\n",
       " HG00152        41.09375      6227792.5\n",
       " HG00351        41.12500      6053156.0\n",
       " HG00185        41.06250      6043781.0\n",
       " NA06994        41.06250      5897614.0\n",
       " NA12341        41.12500      6036931.0\n",
       " \n",
       " [455 rows x 2 columns]}"
      ]
     },
     "execution_count": 13,
     "metadata": {},
     "output_type": "execute_result"
    }
   ],
   "source": [
    "import matplotlib.pyplot as plt\n",
    "from scipy import stats\n",
    "import seaborn as sns\n",
    "colors = sns.color_palette(\"pastel\")\n",
    "def scatter_plot(x, y, xlabel, ylabel, title, corr):\n",
    "    plt.scatter(x, y, marker='o', color=colors[0], label=f\"Correlation: {corr:.3f}\")\n",
    "\n",
    "    # Add labels and title\n",
    "    plt.xlabel(xlabel)\n",
    "    plt.ylabel(ylabel)\n",
    "    plt.title(gene)\n",
    "\n",
    "    # Show the plot\n",
    "    plt.legend()\n",
    "    plt.show()\n",
    "\n",
    "\n",
    "\n",
    "def plot_spearman_corr(gene):\n",
    "    x = expr_dict[gene][\"observed\"]\n",
    "    y = expr_dict[gene][\"human predicted\"]\n",
    "    corr, pval = stats.spearmanr(x, y)\n",
    "    #plt.scatter(x, y, marker='o', color='blue', label=f\"Correlation: {corr:.3f}\\nP-value: {pval}\")\n",
    "    plt.scatter(stats.rankdata(x), stats.rankdata(y), marker='o', color=colors[1], label=f\"Correlation: {corr:.3f}\")\n",
    "\n",
    "    # Add labels and title\n",
    "    plt.xlabel('Observed Ranks')\n",
    "    plt.ylabel('Predicted Ranks')\n",
    "    plt.title(gene)\n",
    "\n",
    "    # Show the plot\n",
    "    plt.legend()\n",
    "    plt.show()"
   ]
  }
 ],
 "metadata": {
  "kernelspec": {
   "display_name": "borzoi",
   "language": "python",
   "name": "borzoi"
  },
  "language_info": {
   "codemirror_mode": {
    "name": "ipython",
    "version": 3
   },
   "file_extension": ".py",
   "mimetype": "text/x-python",
   "name": "python",
   "nbconvert_exporter": "python",
   "pygments_lexer": "ipython3",
   "version": "3.9.18"
  },
  "orig_nbformat": 4
 },
 "nbformat": 4,
 "nbformat_minor": 2
}
