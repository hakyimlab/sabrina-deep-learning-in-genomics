{
 "cells": [
  {
   "cell_type": "markdown",
   "metadata": {},
   "source": [
    "---\n",
    "title: Personalized Borzoi test on a few genes\n",
    "date: 10/4/2023\n",
    "author: Sabrina Mi\n",
    "---\n",
    "\n",
    "### Select Genes\n",
    "\n",
    "We want to pick a handful of human genes (with rat orthologs) used in the Enformer personalized runs (on rats) that will roughly have a similar distribution of Spearman correlations."
   ]
  },
  {
   "cell_type": "code",
   "execution_count": 8,
   "metadata": {},
   "outputs": [],
   "source": [
    "import pandas as pd\n",
    "import numpy as np"
   ]
  },
  {
   "cell_type": "code",
   "execution_count": 43,
   "metadata": {},
   "outputs": [],
   "source": [
    "rn7_gene_list = pd.read_csv(\"/home/s1mi/enformer_rat_data/output/Br_personalized_spearman_corr_human.csv\", index_col = 0)"
   ]
  },
  {
   "cell_type": "code",
   "execution_count": 33,
   "metadata": {},
   "outputs": [],
   "source": [
    "#| code-fold: true\n",
    "# Calculate mean and standard deviation\n",
    "mean = np.mean(gene_list['spearman r'])\n",
    "std_dev = np.std(gene_list['spearman r'])\n",
    "\n",
    "\n",
    "# Group the elements based on their distance from the mean\n",
    "df_1 = pd.DataFrame(columns=['gene', 'spearman r'])\n",
    "df_2 = pd.DataFrame(columns=['gene', 'spearman r'])\n",
    "df_3 = pd.DataFrame(columns=['gene', 'spearman r'])\n",
    "\n",
    "for gene, row in rn7_gene_list.iterrows():\n",
    "    deviation = abs(row['spearman r'] - mean)\n",
    "    df_row = pd.DataFrame({'gene': [gene], 'spearman r': row['spearman r']})\n",
    "    if deviation <= std_dev:\n",
    "        df_1 = pd.concat([df_1, df_row], ignore_index=True)\n",
    "    elif deviation <= 2 * std_dev:\n",
    "        df_2 = pd.concat([df_2, df_row], ignore_index=True)\n",
    "    else:\n",
    "        df_3 = pd.concat([df_3, df_row], ignore_index=True)\n"
   ]
  },
  {
   "cell_type": "code",
   "execution_count": 47,
   "metadata": {},
   "outputs": [],
   "source": [
    "rn7_hg38_ortho = pd.read_csv(\"/home/s1mi/enformer_rat_data/annotation/rn7_hg38.ortholog_genes.txt\", sep=\"\\t\", index_col=\"ensembl_gene_id\")\n",
    "hg38_annot = pd.read_csv(\"/home/s1mi/enformer_rat_data/annotation/hg38.gene.txt\", sep=\"\\t\")\n",
    "ortho_genes = list((rn7_gene_list.index).intersection(rn7_hg38_ortho.index))"
   ]
  },
  {
   "cell_type": "code",
   "execution_count": 50,
   "metadata": {},
   "outputs": [],
   "source": [
    "# select human gene from each standard deviation grouping\n",
    "df_1 = df_1[df_1['gene'].isin(ortho_genes)]\n",
    "df_2 = df_2[df_2['gene'].isin(ortho_genes)]\n",
    "df_3 = df_3[df_3['gene'].isin(ortho_genes)]\n",
    "test_genes = [df_1['gene'].sample().item(), df_2['gene'].sample().item(), df_3['gene'].sample().item()]"
   ]
  },
  {
   "cell_type": "code",
   "execution_count": 81,
   "metadata": {},
   "outputs": [],
   "source": [
    "hg38_gene_list = rn7_hg38_ortho['hsapiens_homolog_ensembl_gene'].loc[test_genes].to_list()\n",
    "hg38_gene_df = hg38_annot[hg38_annot['ensembl_gene_id'].isin(hg38_gene_list)]\n",
    "hg38_gene_df = hg38_gene_df[[\"ensembl_gene_id\", \"chromosome_name\", \"transcript_start\", \"transcript_end\"]]"
   ]
  },
  {
   "cell_type": "code",
   "execution_count": 86,
   "metadata": {},
   "outputs": [],
   "source": [
    "hg38_gene_df.to_csv(\"gene_list.csv\", index=False)"
   ]
  },
  {
   "cell_type": "markdown",
   "metadata": {},
   "source": [
    "### Write Individuals List\n",
    "\n",
    "There are 455 individuals in the GEUVADIS data with LCL gene expression data."
   ]
  },
  {
   "cell_type": "code",
   "execution_count": null,
   "metadata": {},
   "outputs": [],
   "source": [
    "import cyvcf2\n",
    "vcf_chr = cyvcf2.cyvcf2.VCF(\"/grand/TFXcan/imlab/data/1000G/vcf_snps_only/ALL.chr1.shapeit2_integrated_SNPs_v2a_27022019.GRCh38.phased.vcf.gz\")\n",
    "vcf_samples = vcf_chr.samples"
   ]
  },
  {
   "cell_type": "code",
   "execution_count": 9,
   "metadata": {},
   "outputs": [],
   "source": [
    "geuvadis_gex = pd.read_csv(\"/lus/grand/projects/TFXcan/imlab/data/1000G/expression/GD462.GeneQuantRPKM.50FN.samplename.resk10.txt.gz\", sep=\"\\t\")\n",
    "individuals = geuvadis_gex.columns[4:].tolist()\n",
    "samples = list(set(vcf_samples).intersection(individuals))\n",
    "with open(\"individuals.txt\", \"w\") as f:\n",
    "    f.write(\"\\n\".join(samples))"
   ]
  },
  {
   "cell_type": "markdown",
   "metadata": {},
   "source": [
    "### Run Predictions\n",
    "\n",
    "I started a pipeline for personalized prediction in this [notebook](https://sabrina-dl.hakyimlab.org/posts/2023-09-26-borzoi-personalized-test/geuvadis_personalized_test), and put it into a [python script](personalized_prediction.py).\n",
    "\n",
    "I submitted this as a [PBS job](borzoi_test_run.pbs), `qsub borzoi_test_run.pbs`.\n",
    "\n",
    "```\n",
    "module load conda\n",
    "conda activate borzoi\n",
    "cd /home/s1mi/Github/deep-learning-in-genomics/posts/2023-10-04-personalized-test-on-a-few-genes\n",
    "\n",
    "python3 personalized_prediction.py \\\n",
    "--gene_df gene_list.csv \\\n",
    "--fasta_file /home/s1mi/borzoi_tutorial/hg38.fa \\\n",
    "--vcf_dir /grand/TFXcan/imlab/data/1000G/vcf_snps_only \\\n",
    "--individuals_file individuals.txt \\\n",
    "--model_dir /home/s1mi/borzoi_tutorial \\\n",
    "--output_dir /grand/TFXcan/imlab/users/sabrina/borzoi-personalized-test\n",
    "\n",
    "```"
   ]
  },
  {
   "cell_type": "markdown",
   "metadata": {},
   "source": [
    "### Check Results"
   ]
  },
  {
   "cell_type": "code",
   "execution_count": 91,
   "metadata": {},
   "outputs": [
    {
     "name": "stdout",
     "output_type": "stream",
     "text": [
      "haplotype1\n",
      "<HDF5 dataset \"haplotype1\": shape (4, 16352, 7611), type \"<f2\">\n",
      "haplotype2\n",
      "<HDF5 dataset \"haplotype2\": shape (4, 16352, 7611), type \"<f2\">\n"
     ]
    }
   ],
   "source": [
    "import h5py\n",
    "with h5py.File(\"/grand/TFXcan/imlab/users/sabrina/borzoi-personalized-test/NA21144/chr1_43530883_43623666_predictions.h5\", \"r\") as hf:\n",
    "    for key, value in hf.items():\n",
    "        print(key)\n",
    "        print(value)"
   ]
  }
 ],
 "metadata": {
  "kernelspec": {
   "display_name": "imlabtools",
   "language": "python",
   "name": "imlabtools"
  },
  "language_info": {
   "codemirror_mode": {
    "name": "ipython",
    "version": 3
   },
   "file_extension": ".py",
   "mimetype": "text/x-python",
   "name": "python",
   "nbconvert_exporter": "python",
   "pygments_lexer": "ipython3",
   "version": "3.7.16"
  },
  "orig_nbformat": 4
 },
 "nbformat": 4,
 "nbformat_minor": 2
}
