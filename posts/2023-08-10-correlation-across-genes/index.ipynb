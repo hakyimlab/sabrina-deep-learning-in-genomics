{
 "cells": [
  {
   "cell_type": "markdown",
   "metadata": {},
   "source": [
    "---\n",
    "title: \"Correlation of Enformer CAGE predictions and observed expression across all rn7 genes\"\n",
    "author: \"Sabrina Mi\"\n",
    "description: \"We calculated correlation of 0.45 between Enformer predictions on rn7 reference genome and average gene expression in the Brain study.\"\n",
    "date: \"8/15/23\"\n",
    "---\n",
    "\n",
    "Our goal is to test whether Enformer can determine relative gene expression levels in rat Brain tissues. We used mean gene expression in Br rats as the ground truth, and predicted the CAGE Brain track at each gene's TSS. We found a correlation of 0.45, which we still need to compare to the same experiment with human data to determine whether this is high or low.\n",
    "\n",
    "## Reference Genome\n",
    "\n",
    "### Read in expression files"
   ]
  },
  {
   "cell_type": "code",
   "execution_count": 1,
   "metadata": {},
   "outputs": [],
   "source": [
    "import os\n",
    "import h5py\n",
    "import pandas as pd\n",
    "import numpy as np\n",
    "import matplotlib.pyplot as plt"
   ]
  },
  {
   "cell_type": "code",
   "execution_count": null,
   "metadata": {},
   "outputs": [],
   "source": [
    "tpm = pd.read_csv(\"/home/s1mi/enformer_rat_data/expression_data/Brain.rn7.expr.tpm.bed\", sep=\"\\t\", header=0, index_col='gene_id')\n",
    "tpm.head()"
   ]
  },
  {
   "cell_type": "markdown",
   "metadata": {},
   "source": [
    "### Calculate average gene expression"
   ]
  },
  {
   "cell_type": "code",
   "execution_count": 8,
   "metadata": {},
   "outputs": [
    {
     "name": "stdout",
     "output_type": "stream",
     "text": [
      "gene_id\n",
      "ENSRNOG00000065394    0.000000\n",
      "ENSRNOG00000065356    0.000000\n",
      "ENSRNOG00000070568    0.000912\n",
      "ENSRNOG00000065706    0.005029\n",
      "ENSRNOG00000069644    0.000265\n",
      "                        ...   \n",
      "ENSRNOG00000067420    0.000000\n",
      "ENSRNOG00000069298    0.000559\n",
      "ENSRNOG00000066131    0.000529\n",
      "ENSRNOG00000068239    0.000500\n",
      "ENSRNOG00000069552    0.001088\n",
      "Length: 30231, dtype: float64\n"
     ]
    }
   ],
   "source": [
    "mean_tpm = tpm.iloc[:,3:].mean(axis=1)\n",
    "print(mean_tpm)"
   ]
  },
  {
   "cell_type": "code",
   "execution_count": 9,
   "metadata": {},
   "outputs": [
    {
     "name": "stdout",
     "output_type": "stream",
     "text": [
      "gene_id\n",
      "ENSRNOG00000065394    0.000000\n",
      "ENSRNOG00000065356    0.000000\n",
      "ENSRNOG00000070568    0.052617\n",
      "ENSRNOG00000065706    0.022574\n",
      "ENSRNOG00000069644    0.011569\n",
      "                        ...   \n",
      "ENSRNOG00000067420    0.000000\n",
      "ENSRNOG00000069298    0.004439\n",
      "ENSRNOG00000066131    0.008208\n",
      "ENSRNOG00000068239    0.004439\n",
      "ENSRNOG00000069552    0.017464\n",
      "Length: 30231, dtype: float64\n"
     ]
    }
   ],
   "source": [
    "mean_iqn = iqn.iloc[:,3:].mean(axis=1)\n",
    "print(mean_iqn)"
   ]
  },
  {
   "cell_type": "code",
   "execution_count": 30,
   "metadata": {},
   "outputs": [
    {
     "data": {
      "text/html": [
       "<div>\n",
       "<style scoped>\n",
       "    .dataframe tbody tr th:only-of-type {\n",
       "        vertical-align: middle;\n",
       "    }\n",
       "\n",
       "    .dataframe tbody tr th {\n",
       "        vertical-align: top;\n",
       "    }\n",
       "\n",
       "    .dataframe thead th {\n",
       "        text-align: right;\n",
       "    }\n",
       "</style>\n",
       "<table border=\"1\" class=\"dataframe\">\n",
       "  <thead>\n",
       "    <tr style=\"text-align: right;\">\n",
       "      <th></th>\n",
       "      <th>tpm</th>\n",
       "      <th>iqn</th>\n",
       "      <th>predicted</th>\n",
       "      <th>chr</th>\n",
       "    </tr>\n",
       "    <tr>\n",
       "      <th>gene_id</th>\n",
       "      <th></th>\n",
       "      <th></th>\n",
       "      <th></th>\n",
       "      <th></th>\n",
       "    </tr>\n",
       "  </thead>\n",
       "  <tbody>\n",
       "    <tr>\n",
       "      <th>ENSRNOG00000065394</th>\n",
       "      <td>0.000000</td>\n",
       "      <td>0.000000</td>\n",
       "      <td>NaN</td>\n",
       "      <td>NaN</td>\n",
       "    </tr>\n",
       "    <tr>\n",
       "      <th>ENSRNOG00000065356</th>\n",
       "      <td>0.000000</td>\n",
       "      <td>0.000000</td>\n",
       "      <td>NaN</td>\n",
       "      <td>NaN</td>\n",
       "    </tr>\n",
       "    <tr>\n",
       "      <th>ENSRNOG00000070568</th>\n",
       "      <td>0.000912</td>\n",
       "      <td>0.052617</td>\n",
       "      <td>NaN</td>\n",
       "      <td>NaN</td>\n",
       "    </tr>\n",
       "    <tr>\n",
       "      <th>ENSRNOG00000065706</th>\n",
       "      <td>0.005029</td>\n",
       "      <td>0.022574</td>\n",
       "      <td>NaN</td>\n",
       "      <td>NaN</td>\n",
       "    </tr>\n",
       "    <tr>\n",
       "      <th>ENSRNOG00000069644</th>\n",
       "      <td>0.000265</td>\n",
       "      <td>0.011569</td>\n",
       "      <td>NaN</td>\n",
       "      <td>NaN</td>\n",
       "    </tr>\n",
       "  </tbody>\n",
       "</table>\n",
       "</div>"
      ],
      "text/plain": [
       "                         tpm       iqn  predicted  chr\n",
       "gene_id                                               \n",
       "ENSRNOG00000065394  0.000000  0.000000        NaN  NaN\n",
       "ENSRNOG00000065356  0.000000  0.000000        NaN  NaN\n",
       "ENSRNOG00000070568  0.000912  0.052617        NaN  NaN\n",
       "ENSRNOG00000065706  0.005029  0.022574        NaN  NaN\n",
       "ENSRNOG00000069644  0.000265  0.011569        NaN  NaN"
      ]
     },
     "execution_count": 30,
     "metadata": {},
     "output_type": "execute_result"
    }
   ],
   "source": [
    "## Put both means into dataframe\n",
    "corr_df = pd.DataFrame({'tpm': mean_tpm, 'iqn': mean_iqn, 'predicted': np.full(30231, np.nan), 'chr': np.full(30231, np.nan)})\n",
    "corr_df.head()"
   ]
  },
  {
   "cell_type": "markdown",
   "metadata": {},
   "source": [
    "### Calculate gene expression from Enformer predictions on reference genome"
   ]
  },
  {
   "cell_type": "code",
   "execution_count": 11,
   "metadata": {},
   "outputs": [
    {
     "name": "stderr",
     "output_type": "stream",
     "text": [
      "/tmp/ipykernel_36254/3273646084.py:3: DtypeWarning: Columns (2) have mixed types. Specify dtype option on import or set low_memory=False.\n",
      "  annot_df = pd.read_csv('/home/s1mi/enformer_rat_data/annotation/rn7.gene.txt', sep ='\\t',  index_col='geneId')\n"
     ]
    },
    {
     "data": {
      "text/html": [
       "<div>\n",
       "<style scoped>\n",
       "    .dataframe tbody tr th:only-of-type {\n",
       "        vertical-align: middle;\n",
       "    }\n",
       "\n",
       "    .dataframe tbody tr th {\n",
       "        vertical-align: top;\n",
       "    }\n",
       "\n",
       "    .dataframe thead th {\n",
       "        text-align: right;\n",
       "    }\n",
       "</style>\n",
       "<table border=\"1\" class=\"dataframe\">\n",
       "  <thead>\n",
       "    <tr style=\"text-align: right;\">\n",
       "      <th></th>\n",
       "      <th>geneSymbol</th>\n",
       "      <th>chromosome</th>\n",
       "      <th>start</th>\n",
       "      <th>end</th>\n",
       "      <th>strand</th>\n",
       "      <th>tss</th>\n",
       "      <th>description</th>\n",
       "      <th>hasEqtl</th>\n",
       "      <th>expr_BLA</th>\n",
       "      <th>expr_Brain</th>\n",
       "      <th>...</th>\n",
       "      <th>sqtl_BLA</th>\n",
       "      <th>sqtl_Brain</th>\n",
       "      <th>sqtl_Eye</th>\n",
       "      <th>sqtl_IL</th>\n",
       "      <th>sqtl_LHb</th>\n",
       "      <th>sqtl_NAcc</th>\n",
       "      <th>sqtl_NAcc2</th>\n",
       "      <th>sqtl_OFC</th>\n",
       "      <th>sqtl_PL</th>\n",
       "      <th>sqtl_PL2</th>\n",
       "    </tr>\n",
       "    <tr>\n",
       "      <th>geneId</th>\n",
       "      <th></th>\n",
       "      <th></th>\n",
       "      <th></th>\n",
       "      <th></th>\n",
       "      <th></th>\n",
       "      <th></th>\n",
       "      <th></th>\n",
       "      <th></th>\n",
       "      <th></th>\n",
       "      <th></th>\n",
       "      <th></th>\n",
       "      <th></th>\n",
       "      <th></th>\n",
       "      <th></th>\n",
       "      <th></th>\n",
       "      <th></th>\n",
       "      <th></th>\n",
       "      <th></th>\n",
       "      <th></th>\n",
       "      <th></th>\n",
       "      <th></th>\n",
       "    </tr>\n",
       "  </thead>\n",
       "  <tbody>\n",
       "    <tr>\n",
       "      <th>ENSRNOG00000066169</th>\n",
       "      <td>ENSRNOG00000066169</td>\n",
       "      <td>1</td>\n",
       "      <td>36112690</td>\n",
       "      <td>36122387</td>\n",
       "      <td>-</td>\n",
       "      <td>36122387</td>\n",
       "      <td>NaN</td>\n",
       "      <td>True</td>\n",
       "      <td>True</td>\n",
       "      <td>True</td>\n",
       "      <td>...</td>\n",
       "      <td>False</td>\n",
       "      <td>False</td>\n",
       "      <td>False</td>\n",
       "      <td>False</td>\n",
       "      <td>False</td>\n",
       "      <td>False</td>\n",
       "      <td>False</td>\n",
       "      <td>False</td>\n",
       "      <td>False</td>\n",
       "      <td>False</td>\n",
       "    </tr>\n",
       "    <tr>\n",
       "      <th>ENSRNOG00000070168</th>\n",
       "      <td>Olr56</td>\n",
       "      <td>1</td>\n",
       "      <td>157231467</td>\n",
       "      <td>157232417</td>\n",
       "      <td>+</td>\n",
       "      <td>157231467</td>\n",
       "      <td>olfactory receptor family 51 subfamily F membe...</td>\n",
       "      <td>True</td>\n",
       "      <td>False</td>\n",
       "      <td>True</td>\n",
       "      <td>...</td>\n",
       "      <td>False</td>\n",
       "      <td>False</td>\n",
       "      <td>False</td>\n",
       "      <td>False</td>\n",
       "      <td>False</td>\n",
       "      <td>False</td>\n",
       "      <td>False</td>\n",
       "      <td>False</td>\n",
       "      <td>False</td>\n",
       "      <td>False</td>\n",
       "    </tr>\n",
       "    <tr>\n",
       "      <th>ENSRNOG00000070901</th>\n",
       "      <td>Irgq</td>\n",
       "      <td>1</td>\n",
       "      <td>80123925</td>\n",
       "      <td>80131881</td>\n",
       "      <td>+</td>\n",
       "      <td>80123925</td>\n",
       "      <td>immunity-related GTPase Q</td>\n",
       "      <td>True</td>\n",
       "      <td>True</td>\n",
       "      <td>True</td>\n",
       "      <td>...</td>\n",
       "      <td>False</td>\n",
       "      <td>False</td>\n",
       "      <td>False</td>\n",
       "      <td>False</td>\n",
       "      <td>False</td>\n",
       "      <td>False</td>\n",
       "      <td>False</td>\n",
       "      <td>False</td>\n",
       "      <td>False</td>\n",
       "      <td>False</td>\n",
       "    </tr>\n",
       "  </tbody>\n",
       "</table>\n",
       "<p>3 rows × 68 columns</p>\n",
       "</div>"
      ],
      "text/plain": [
       "                            geneSymbol chromosome      start        end  \\\n",
       "geneId                                                                    \n",
       "ENSRNOG00000066169  ENSRNOG00000066169          1   36112690   36122387   \n",
       "ENSRNOG00000070168               Olr56          1  157231467  157232417   \n",
       "ENSRNOG00000070901                Irgq          1   80123925   80131881   \n",
       "\n",
       "                   strand        tss  \\\n",
       "geneId                                 \n",
       "ENSRNOG00000066169      -   36122387   \n",
       "ENSRNOG00000070168      +  157231467   \n",
       "ENSRNOG00000070901      +   80123925   \n",
       "\n",
       "                                                          description  \\\n",
       "geneId                                                                  \n",
       "ENSRNOG00000066169                                                NaN   \n",
       "ENSRNOG00000070168  olfactory receptor family 51 subfamily F membe...   \n",
       "ENSRNOG00000070901                          immunity-related GTPase Q   \n",
       "\n",
       "                    hasEqtl  expr_BLA  expr_Brain  ...  sqtl_BLA  sqtl_Brain  \\\n",
       "geneId                                             ...                         \n",
       "ENSRNOG00000066169     True      True        True  ...     False       False   \n",
       "ENSRNOG00000070168     True     False        True  ...     False       False   \n",
       "ENSRNOG00000070901     True      True        True  ...     False       False   \n",
       "\n",
       "                    sqtl_Eye  sqtl_IL  sqtl_LHb  sqtl_NAcc  sqtl_NAcc2  \\\n",
       "geneId                                                                   \n",
       "ENSRNOG00000066169     False    False     False      False       False   \n",
       "ENSRNOG00000070168     False    False     False      False       False   \n",
       "ENSRNOG00000070901     False    False     False      False       False   \n",
       "\n",
       "                    sqtl_OFC  sqtl_PL  sqtl_PL2  \n",
       "geneId                                           \n",
       "ENSRNOG00000066169     False    False     False  \n",
       "ENSRNOG00000070168     False    False     False  \n",
       "ENSRNOG00000070901     False    False     False  \n",
       "\n",
       "[3 rows x 68 columns]"
      ]
     },
     "execution_count": 11,
     "metadata": {},
     "output_type": "execute_result"
    }
   ],
   "source": [
    "reference_predictions=\"/home/s1mi/Br_predictions/predictions_folder/reference_Br_all_genes/predictions_2023-08-11/enformer_predictions/reference_Br/haplotype0\"\n",
    "\n",
    "annot_df = pd.read_csv('/home/s1mi/enformer_rat_data/annotation/rn7.gene.txt', sep ='\\t',  index_col='geneId')\n",
    "annot_df.head(3)"
   ]
  },
  {
   "cell_type": "code",
   "execution_count": 3,
   "metadata": {},
   "outputs": [
    {
     "name": "stdout",
     "output_type": "stream",
     "text": [
      "                         tpm  predicted  chr\n",
      "gene_id                                     \n",
      "ENSRNOG00000065394  0.000000   0.002946  1.0\n",
      "ENSRNOG00000065356  0.000000   0.004051  1.0\n",
      "ENSRNOG00000070568  0.000912   0.003553  1.0\n",
      "ENSRNOG00000065706  0.005029   0.005847  1.0\n",
      "ENSRNOG00000069644  0.000265   0.001334  1.0\n",
      "...                      ...        ...  ...\n",
      "ENSRNOG00000067420  0.000000   0.001928    Y\n",
      "ENSRNOG00000069298  0.000559   0.003280    Y\n",
      "ENSRNOG00000066131  0.000529   0.003569    Y\n",
      "ENSRNOG00000068239  0.000500   0.001887    Y\n",
      "ENSRNOG00000069552  0.001088   0.001822    Y\n",
      "\n",
      "[19493 rows x 3 columns]\n"
     ]
    }
   ],
   "source": [
    "# for gene in corr_df.index:\n",
    "#     gene_annot = annot_df.loc[gene]\n",
    "#     corr_df['chr'].loc[gene] = gene_annot['chromosome']\n",
    "#     interval = f\"chr{gene_annot['chromosome']}_{gene_annot['tss']}_{gene_annot['tss']}\"\n",
    "#     path = os.path.join(predictions_dir, f\"{interval}_predictions.h5\")\n",
    "#     if os.path.isfile(path):\n",
    "#         predictions = h5py.File(path, \"r\")\n",
    "#         pred_expr = np.average(predictions[interval][446:450, 4980])\n",
    "#         corr_df['predicted'].loc[gene] = pred_expr\n",
    "#     else:\n",
    "#         continue\n",
    "\n",
    "\n",
    "# corr_df.dropna().to_csv(\"reference_epigenome_predicted_vs_observed.csv\", index=True)\n",
    "\n",
    "corr_df = pd.read_csv(\"reference_epigenome_predicted_vs_observed.csv\", header = 0, index_col = 'gene_id')\n",
    "print(corr_df)"
   ]
  },
  {
   "cell_type": "markdown",
   "metadata": {},
   "source": [
    "I ran Enformer on roughly ~30,000 intervals, but it looks like we only have predictions for 2/3 of them. I'll investigate in another post."
   ]
  },
  {
   "cell_type": "code",
   "execution_count": 4,
   "metadata": {},
   "outputs": [
    {
     "data": {
      "image/png": "[encoded data removed]",
      "text/plain": [
       "<Figure size 640x480 with 1 Axes>"
      ]
     },
     "metadata": {},
     "output_type": "display_data"
    }
   ],
   "source": [
    "# Drop rows with NaN values\n",
    "corr_df = corr_df.dropna()\n",
    "\n",
    "# Create a scatter plot with colors based on column z\n",
    "plt.scatter(corr_df['tpm'], corr_df['predicted'])\n",
    "\n",
    "# Set labels and title\n",
    "plt.xlabel('Br Mean TPM Gene Expression')\n",
    "plt.ylabel('Predicted Rat Reference Gene Expression')\n",
    "plt.title('Predicted vs Observed Gene Expression')\n",
    "\n",
    "# Show the plot\n",
    "plt.show()\n"
   ]
  },
  {
   "cell_type": "code",
   "execution_count": 7,
   "metadata": {},
   "outputs": [
    {
     "data": {
      "text/html": [
       "<div>\n",
       "<style scoped>\n",
       "    .dataframe tbody tr th:only-of-type {\n",
       "        vertical-align: middle;\n",
       "    }\n",
       "\n",
       "    .dataframe tbody tr th {\n",
       "        vertical-align: top;\n",
       "    }\n",
       "\n",
       "    .dataframe thead th {\n",
       "        text-align: right;\n",
       "    }\n",
       "</style>\n",
       "<table border=\"1\" class=\"dataframe\">\n",
       "  <thead>\n",
       "    <tr style=\"text-align: right;\">\n",
       "      <th></th>\n",
       "      <th>tpm</th>\n",
       "      <th>predicted</th>\n",
       "    </tr>\n",
       "  </thead>\n",
       "  <tbody>\n",
       "    <tr>\n",
       "      <th>tpm</th>\n",
       "      <td>1.000000</td>\n",
       "      <td>0.433632</td>\n",
       "    </tr>\n",
       "    <tr>\n",
       "      <th>predicted</th>\n",
       "      <td>0.433632</td>\n",
       "      <td>1.000000</td>\n",
       "    </tr>\n",
       "  </tbody>\n",
       "</table>\n",
       "</div>"
      ],
      "text/plain": [
       "                tpm  predicted\n",
       "tpm        1.000000   0.433632\n",
       "predicted  0.433632   1.000000"
      ]
     },
     "execution_count": 7,
     "metadata": {},
     "output_type": "execute_result"
    }
   ],
   "source": [
    "corr_df[['tpm', 'predicted']].corr()"
   ]
  },
  {
   "cell_type": "markdown",
   "metadata": {},
   "source": [
    "The correlation between CAGE predictions and gene expression measured by relative abundance of transcripts is lower than we wanted. We'll compare it with average gene expression in human brain tissue. "
   ]
  },
  {
   "cell_type": "code",
   "execution_count": null,
   "metadata": {},
   "outputs": [],
   "source": [
    "gtex_tpm = pd.read_csv(\"gene_tpm_2017-06-05_v8_brain_cortex.gct.gz\", header=2, sep=\"\\t\")\n",
    "gtex_tpm.head()"
   ]
  },
  {
   "cell_type": "markdown",
   "metadata": {},
   "source": [
    "Lastly, we'll concatenate all the prediction matrices into one h5 file.\n",
    "\n",
    "## Concatenate Predictions"
   ]
  },
  {
   "cell_type": "code",
   "execution_count": 20,
   "metadata": {},
   "outputs": [],
   "source": [
    "def concatenate_predictions(predictions_dir, output_path):\n",
    "    with h5py.File(output_path, \"w\") as output_file:\n",
    "        files = os.listdir(predictions_dir)\n",
    "        for file in files:\n",
    "            interval = file.replace(\"_predictions.h5\", \"\")\n",
    "            with h5py.File(os.path.join(predictions_dir, file), \"r\") as input_file:\n",
    "                output_file.create_dataset(interval, data=input_file[interval][()], shape=(896,5313))"
   ]
  },
  {
   "cell_type": "code",
   "execution_count": 21,
   "metadata": {},
   "outputs": [],
   "source": [
    "concatenate_predictions(reference_predictions, \"/home/s1mi/Br_predictions/2023-08-16_predictions_some_missing_genes.h5\")"
   ]
  }
 ],
 "metadata": {
  "kernelspec": {
   "display_name": "base",
   "language": "python",
   "name": "base"
  },
  "language_info": {
   "codemirror_mode": {
    "name": "ipython",
    "version": 3
   },
   "file_extension": ".py",
   "mimetype": "text/x-python",
   "name": "python",
   "nbconvert_exporter": "python",
   "pygments_lexer": "ipython3",
   "version": "3.8.13"
  },
  "orig_nbformat": 4
 },
 "nbformat": 4,
 "nbformat_minor": 2
}
