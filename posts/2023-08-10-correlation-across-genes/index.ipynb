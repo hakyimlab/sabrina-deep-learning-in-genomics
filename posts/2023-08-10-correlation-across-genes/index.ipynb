{
 "cells": [
  {
   "cell_type": "markdown",
   "metadata": {},
   "source": [
    "---\n",
    "title: \"Correlation of Enformer CAGE predictions and observed expression across all rn7 genes\"\n",
    "author: \"Sabrina Mi\"\n",
    "description: \"We calculate correlation for two comparisons: (1) Enformer predictions on rn7 reference genome against average gene expression in the Brain study and (2) Enformer predictions for a small sample of rats against their individual gene expression.\"\n",
    "date: \"8/11/23\"\n",
    "---\n",
    "\n",
    "\n",
    "### Reference Genome"
   ]
  },
  {
   "cell_type": "code",
   "execution_count": 1,
   "metadata": {},
   "outputs": [],
   "source": [
    "predictions_dir=\"/home/s1mi/Br_predictions/predictions_folder/personalized_Br_selected_genes/predictions_2023-08-11/enformer_predictions\"\n",
    "import os\n",
    "import h5py\n",
    "import pandas as pd\n",
    "import numpy as np\n"
   ]
  },
  {
   "cell_type": "code",
   "execution_count": 3,
   "metadata": {},
   "outputs": [
    {
     "name": "stderr",
     "output_type": "stream",
     "text": [
      "/tmp/ipykernel_196040/1709712298.py:2: DtypeWarning: Columns (0) have mixed types. Specify dtype option on import or set low_memory=False.\n",
      "  obs_gene_expr = pd.read_csv(gene_expr_bed, sep=\"\\t\", header=0, index_col='gene_id')\n"
     ]
    }
   ],
   "source": [
    "gene_expr_bed = \"/home/s1mi/enformer_rat_data/Brain.rn7.expr.tpm.bed\"\n",
    "obs_gene_expr = pd.read_csv(gene_expr_bed, sep=\"\\t\", header=0, index_col='gene_id')\n"
   ]
  }
 ],
 "metadata": {
  "kernelspec": {
   "display_name": "base",
   "language": "python",
   "name": "base"
  },
  "language_info": {
   "codemirror_mode": {
    "name": "ipython",
    "version": 3
   },
   "file_extension": ".py",
   "mimetype": "text/x-python",
   "name": "python",
   "nbconvert_exporter": "python",
   "pygments_lexer": "ipython3",
   "version": "3.8.13"
  },
  "orig_nbformat": 4
 },
 "nbformat": 4,
 "nbformat_minor": 2
}
