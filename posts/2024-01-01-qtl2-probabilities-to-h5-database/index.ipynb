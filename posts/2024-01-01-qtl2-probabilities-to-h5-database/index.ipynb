{
 "cells": [
  {
   "cell_type": "code",
   "execution_count": 4,
   "metadata": {},
   "outputs": [],
   "source": [
    "import os\n",
    "import pandas as pd\n",
    "import h5py\n",
    "import numpy as np\n",
    "probabilities_dir = '/home/s1mi/Br_genotype_probabilities'\n",
    "with open(\"/home/s1mi/Github/deep-learning-in-genomics/posts/2023-11-02-Br-personalized-prediction-additional-genes/metadata/individuals.txt\", \"r\") as f:\n",
    "    individuals = f.read().splitlines()"
   ]
  },
  {
   "cell_type": "code",
   "execution_count": 5,
   "metadata": {},
   "outputs": [],
   "source": [
    "# Function to read CSV files and create tables in SQLite database\n",
    "def create_db(N):\n",
    "    # Connect to SQLite database\n",
    "    with h5py.File(os.path.join(probabilities_dir, f'chr{N}_probabilities.h5'), 'a') as hf:\n",
    "        for individual in individuals:\n",
    "            if individual in hf.keys():\n",
    "                continue\n",
    "            prob_csv = os.path.join(probabilities_dir, individual, f'chr{N}_probabilities.csv')\n",
    "            df = pd.read_csv(prob_csv, index_col=0)\n",
    "            positions = df.index.str.replace(f\"chr{N}:\", \"\").astype(int) \n",
    "            df.insert(0, 'POS', positions)\n",
    "            hf[individual] = df\n",
    "\n"
   ]
  },
  {
   "cell_type": "code",
   "execution_count": 7,
   "metadata": {},
   "outputs": [
    {
     "name": "stdout",
     "output_type": "stream",
     "text": [
      "Chromosome 10\n",
      "Chromosome 11\n"
     ]
    },
    {
     "ename": "BlockingIOError",
     "evalue": "[Errno 11] Unable to open file (unable to lock file, errno = 11, error message = 'Resource temporarily unavailable')",
     "output_type": "error",
     "traceback": [
      "\u001b[0;31m---------------------------------------------------------------------------\u001b[0m",
      "\u001b[0;31mBlockingIOError\u001b[0m                           Traceback (most recent call last)",
      "\u001b[1;32m/home/s1mi/Github/deep-learning-in-genomics/posts/2024-01-01-qtl2-probabilities-to-h5-database/index.ipynb Cell 3\u001b[0m line \u001b[0;36m3\n\u001b[1;32m      <a href='vscode-notebook-cell://ssh-remote%2Bpolaris/home/s1mi/Github/deep-learning-in-genomics/posts/2024-01-01-qtl2-probabilities-to-h5-database/index.ipynb#W2sdnNjb2RlLXJlbW90ZQ%3D%3D?line=0'>1</a>\u001b[0m \u001b[39mfor\u001b[39;00m N \u001b[39min\u001b[39;00m \u001b[39mrange\u001b[39m(\u001b[39m10\u001b[39m, \u001b[39m21\u001b[39m):\n\u001b[1;32m      <a href='vscode-notebook-cell://ssh-remote%2Bpolaris/home/s1mi/Github/deep-learning-in-genomics/posts/2024-01-01-qtl2-probabilities-to-h5-database/index.ipynb#W2sdnNjb2RlLXJlbW90ZQ%3D%3D?line=1'>2</a>\u001b[0m     \u001b[39mprint\u001b[39m(\u001b[39m\"\u001b[39m\u001b[39mChromosome\u001b[39m\u001b[39m\"\u001b[39m, N)\n\u001b[0;32m----> <a href='vscode-notebook-cell://ssh-remote%2Bpolaris/home/s1mi/Github/deep-learning-in-genomics/posts/2024-01-01-qtl2-probabilities-to-h5-database/index.ipynb#W2sdnNjb2RlLXJlbW90ZQ%3D%3D?line=2'>3</a>\u001b[0m     create_db(\u001b[39mstr\u001b[39;49m(N))\n",
      "\u001b[1;32m/home/s1mi/Github/deep-learning-in-genomics/posts/2024-01-01-qtl2-probabilities-to-h5-database/index.ipynb Cell 3\u001b[0m line \u001b[0;36m4\n\u001b[1;32m      <a href='vscode-notebook-cell://ssh-remote%2Bpolaris/home/s1mi/Github/deep-learning-in-genomics/posts/2024-01-01-qtl2-probabilities-to-h5-database/index.ipynb#W2sdnNjb2RlLXJlbW90ZQ%3D%3D?line=1'>2</a>\u001b[0m \u001b[39mdef\u001b[39;00m \u001b[39mcreate_db\u001b[39m(N):\n\u001b[1;32m      <a href='vscode-notebook-cell://ssh-remote%2Bpolaris/home/s1mi/Github/deep-learning-in-genomics/posts/2024-01-01-qtl2-probabilities-to-h5-database/index.ipynb#W2sdnNjb2RlLXJlbW90ZQ%3D%3D?line=2'>3</a>\u001b[0m     \u001b[39m# Connect to SQLite database\u001b[39;00m\n\u001b[0;32m----> <a href='vscode-notebook-cell://ssh-remote%2Bpolaris/home/s1mi/Github/deep-learning-in-genomics/posts/2024-01-01-qtl2-probabilities-to-h5-database/index.ipynb#W2sdnNjb2RlLXJlbW90ZQ%3D%3D?line=3'>4</a>\u001b[0m     \u001b[39mwith\u001b[39;00m h5py\u001b[39m.\u001b[39;49mFile(os\u001b[39m.\u001b[39;49mpath\u001b[39m.\u001b[39;49mjoin(probabilities_dir, \u001b[39mf\u001b[39;49m\u001b[39m'\u001b[39;49m\u001b[39mchr\u001b[39;49m\u001b[39m{\u001b[39;49;00mN\u001b[39m}\u001b[39;49;00m\u001b[39m_probabilities.h5\u001b[39;49m\u001b[39m'\u001b[39;49m), \u001b[39m'\u001b[39;49m\u001b[39ma\u001b[39;49m\u001b[39m'\u001b[39;49m) \u001b[39mas\u001b[39;00m hf:\n\u001b[1;32m      <a href='vscode-notebook-cell://ssh-remote%2Bpolaris/home/s1mi/Github/deep-learning-in-genomics/posts/2024-01-01-qtl2-probabilities-to-h5-database/index.ipynb#W2sdnNjb2RlLXJlbW90ZQ%3D%3D?line=4'>5</a>\u001b[0m         \u001b[39mfor\u001b[39;00m individual \u001b[39min\u001b[39;00m individuals:\n\u001b[1;32m      <a href='vscode-notebook-cell://ssh-remote%2Bpolaris/home/s1mi/Github/deep-learning-in-genomics/posts/2024-01-01-qtl2-probabilities-to-h5-database/index.ipynb#W2sdnNjb2RlLXJlbW90ZQ%3D%3D?line=5'>6</a>\u001b[0m             \u001b[39mif\u001b[39;00m individual \u001b[39min\u001b[39;00m hf\u001b[39m.\u001b[39mkeys():\n",
      "File \u001b[0;32m/soft/datascience/conda/2022-09-08/mconda3/lib/python3.8/site-packages/h5py/_hl/files.py:533\u001b[0m, in \u001b[0;36mFile.__init__\u001b[0;34m(self, name, mode, driver, libver, userblock_size, swmr, rdcc_nslots, rdcc_nbytes, rdcc_w0, track_order, fs_strategy, fs_persist, fs_threshold, fs_page_size, page_buf_size, min_meta_keep, min_raw_keep, locking, alignment_threshold, alignment_interval, **kwds)\u001b[0m\n\u001b[1;32m    525\u001b[0m     fapl \u001b[39m=\u001b[39m make_fapl(driver, libver, rdcc_nslots, rdcc_nbytes, rdcc_w0,\n\u001b[1;32m    526\u001b[0m                      locking, page_buf_size, min_meta_keep, min_raw_keep,\n\u001b[1;32m    527\u001b[0m                      alignment_threshold\u001b[39m=\u001b[39malignment_threshold,\n\u001b[1;32m    528\u001b[0m                      alignment_interval\u001b[39m=\u001b[39malignment_interval,\n\u001b[1;32m    529\u001b[0m                      \u001b[39m*\u001b[39m\u001b[39m*\u001b[39mkwds)\n\u001b[1;32m    530\u001b[0m     fcpl \u001b[39m=\u001b[39m make_fcpl(track_order\u001b[39m=\u001b[39mtrack_order, fs_strategy\u001b[39m=\u001b[39mfs_strategy,\n\u001b[1;32m    531\u001b[0m                      fs_persist\u001b[39m=\u001b[39mfs_persist, fs_threshold\u001b[39m=\u001b[39mfs_threshold,\n\u001b[1;32m    532\u001b[0m                      fs_page_size\u001b[39m=\u001b[39mfs_page_size)\n\u001b[0;32m--> 533\u001b[0m     fid \u001b[39m=\u001b[39m make_fid(name, mode, userblock_size, fapl, fcpl, swmr\u001b[39m=\u001b[39;49mswmr)\n\u001b[1;32m    535\u001b[0m \u001b[39mif\u001b[39;00m \u001b[39misinstance\u001b[39m(libver, \u001b[39mtuple\u001b[39m):\n\u001b[1;32m    536\u001b[0m     \u001b[39mself\u001b[39m\u001b[39m.\u001b[39m_libver \u001b[39m=\u001b[39m libver\n",
      "File \u001b[0;32m/soft/datascience/conda/2022-09-08/mconda3/lib/python3.8/site-packages/h5py/_hl/files.py:238\u001b[0m, in \u001b[0;36mmake_fid\u001b[0;34m(name, mode, userblock_size, fapl, fcpl, swmr)\u001b[0m\n\u001b[1;32m    233\u001b[0m \u001b[39melif\u001b[39;00m mode \u001b[39m==\u001b[39m \u001b[39m'\u001b[39m\u001b[39ma\u001b[39m\u001b[39m'\u001b[39m:\n\u001b[1;32m    234\u001b[0m     \u001b[39m# Open in append mode (read/write).\u001b[39;00m\n\u001b[1;32m    235\u001b[0m     \u001b[39m# If that fails, create a new file only if it won't clobber an\u001b[39;00m\n\u001b[1;32m    236\u001b[0m     \u001b[39m# existing one (ACC_EXCL)\u001b[39;00m\n\u001b[1;32m    237\u001b[0m     \u001b[39mtry\u001b[39;00m:\n\u001b[0;32m--> 238\u001b[0m         fid \u001b[39m=\u001b[39m h5f\u001b[39m.\u001b[39;49mopen(name, h5f\u001b[39m.\u001b[39;49mACC_RDWR, fapl\u001b[39m=\u001b[39;49mfapl)\n\u001b[1;32m    239\u001b[0m     \u001b[39m# Not all drivers raise FileNotFoundError (commented those that do not)\u001b[39;00m\n\u001b[1;32m    240\u001b[0m     \u001b[39mexcept\u001b[39;00m \u001b[39mFileNotFoundError\u001b[39;00m \u001b[39mif\u001b[39;00m fapl\u001b[39m.\u001b[39mget_driver() \u001b[39min\u001b[39;00m (\n\u001b[1;32m    241\u001b[0m         h5fd\u001b[39m.\u001b[39mSEC2,\n\u001b[1;32m    242\u001b[0m         h5fd\u001b[39m.\u001b[39mDIRECT \u001b[39mif\u001b[39;00m direct_vfd \u001b[39melse\u001b[39;00m \u001b[39m-\u001b[39m\u001b[39m1\u001b[39m,\n\u001b[0;32m   (...)\u001b[0m\n\u001b[1;32m    250\u001b[0m         h5fd\u001b[39m.\u001b[39mROS3D \u001b[39mif\u001b[39;00m ros3 \u001b[39melse\u001b[39;00m \u001b[39m-\u001b[39m\u001b[39m1\u001b[39m,\n\u001b[1;32m    251\u001b[0m     ) \u001b[39melse\u001b[39;00m \u001b[39mOSError\u001b[39;00m:\n",
      "File \u001b[0;32mh5py/_objects.pyx:54\u001b[0m, in \u001b[0;36mh5py._objects.with_phil.wrapper\u001b[0;34m()\u001b[0m\n",
      "File \u001b[0;32mh5py/_objects.pyx:55\u001b[0m, in \u001b[0;36mh5py._objects.with_phil.wrapper\u001b[0;34m()\u001b[0m\n",
      "File \u001b[0;32mh5py/h5f.pyx:106\u001b[0m, in \u001b[0;36mh5py.h5f.open\u001b[0;34m()\u001b[0m\n",
      "\u001b[0;31mBlockingIOError\u001b[0m: [Errno 11] Unable to open file (unable to lock file, errno = 11, error message = 'Resource temporarily unavailable')"
     ]
    }
   ],
   "source": [
    "for N in range(10, 21):\n",
    "    print(\"Chromosome\", N)\n",
    "    create_db(str(N))"
   ]
  }
 ],
 "metadata": {
  "kernelspec": {
   "display_name": "base",
   "language": "python",
   "name": "base"
  },
  "language_info": {
   "codemirror_mode": {
    "name": "ipython",
    "version": 3
   },
   "file_extension": ".py",
   "mimetype": "text/x-python",
   "name": "python",
   "nbconvert_exporter": "python",
   "pygments_lexer": "ipython3",
   "version": "3.8.13"
  }
 },
 "nbformat": 4,
 "nbformat_minor": 2
}
