{
 "cells": [
  {
   "cell_type": "markdown",
   "metadata": {},
   "source": [
    "---\n",
    "title: Organizing founder haplotype probabilities to h5 database\n",
    "author: Sabrina Mi\n",
    "date: 1/1/2024\n",
    "description: Querying regions from sqlite database was too slow, so I'm switching to h5 format\n",
    "---"
   ]
  },
  {
   "cell_type": "code",
   "execution_count": 4,
   "metadata": {},
   "outputs": [],
   "source": [
    "import os\n",
    "import pandas as pd \n",
    "import h5py\n",
    "import numpy as np\n",
    "probabilities_dir = '/home/s1mi/Br_genotype_probabilities'\n",
    "with open(\"/home/s1mi/Github/deep-learning-in-genomics/posts/2023-11-02-Br-personalized-prediction-additional-genes/metadata/individuals.txt\", \"r\") as f:\n",
    "    individuals = f.read().splitlines()"
   ]
  },
  {
   "cell_type": "code",
   "execution_count": 5,
   "metadata": {},
   "outputs": [],
   "source": [
    "# Function to read CSV files and create tables in SQLite database\n",
    "def create_db(N):\n",
    "    # Connect to SQLite database\n",
    "    with h5py.File(os.path.join(probabilities_dir, f'chr{N}_probabilities.h5'), 'a') as hf:\n",
    "        for individual in individuals:\n",
    "            if individual in hf.keys():\n",
    "                continue\n",
    "            prob_csv = os.path.join(probabilities_dir, individual, f'chr{N}_probabilities.csv')\n",
    "            df = pd.read_csv(prob_csv, index_col=0)\n",
    "            positions = df.index.str.replace(f\"chr{N}:\", \"\").astype(int) \n",
    "            df.insert(0, 'POS', positions)\n",
    "            hf[individual] = df\n",
    "\n"
   ]
  },
  {
   "cell_type": "code",
   "execution_count": null,
   "metadata": {},
   "outputs": [],
   "source": [
    "for N in range(10, 21):\n",
    "    print(\"Chromosome\", N)\n",
    "    create_db(str(N))"
   ]
  }
 ],
 "metadata": {
  "kernelspec": {
   "display_name": "base",
   "language": "python",
   "name": "base"
  },
  "language_info": {
   "codemirror_mode": {
    "name": "ipython",
    "version": 3
   },
   "file_extension": ".py",
   "mimetype": "text/x-python",
   "name": "python",
   "nbconvert_exporter": "python",
   "pygments_lexer": "ipython3",
   "version": "3.8.13"
  }
 },
 "nbformat": 4,
 "nbformat_minor": 2
}
