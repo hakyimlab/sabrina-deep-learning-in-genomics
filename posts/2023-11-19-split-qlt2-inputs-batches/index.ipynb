{
 "cells": [
  {
   "cell_type": "markdown",
   "metadata": {},
   "source": [
    "---\n",
    "title: Splitting chr20 Brain rats into batches for qtl2 analysis\n",
    "author: Sabrina Mi\n",
    "date: 11/19/2023\n",
    "---\n",
    "\n",
    "We'll split the 340 Br rats into batches of 10. The goal is to do this without creating a new VCF for each batchThe following code subsets the chr20 input files, specifically geno.csv and covar.csv files, that were generated with [qtl2-founder-haps code](https://sabrina-dl.hakyimlab.org/posts/2023-11-14-calculating-genotype-probabilities-by-chromosome/). I set up by copying over the other input files that should stay the same.\n",
    "\n",
    "```\n",
    "cd /Users/sabrinami/Desktop/qtl2_data\n",
    "mkdir tmp-chr20-qtl2-founder-haps\n",
    "cp chr20-qtl2-founder-haps/control.yaml tmp-chr20-qtl2-founder-haps/control.yaml\n",
    "cp chr20-qtl2-founder-haps/founder_geno.csv tmp-chr20-qtl2-founder-haps/founder_geno.csv\n",
    "cp chr20-qtl2-founder-haps/gmap.csv tmp-chr20-qtl2-founder-haps/gmap.csv\n",
    "cp chr20-qtl2-founder-haps/pmap.csv tmp-chr20-qtl2-founder-haps/pmap.csv\n",
    "```"
   ]
  },
  {
   "cell_type": "code",
   "execution_count": 22,
   "metadata": {},
   "outputs": [],
   "source": [
    "import pandas as pd\n",
    "import time\n",
    "import subprocess\n",
    "data_dir = '/Users/sabrinami/Desktop/qtl2_data/chr20-qtl2-founder-haps'\n",
    "tmp_dir = '/Users/sabrinami/Desktop/qtl2_data/tmp-chr20-qtl2-founder-haps'\n",
    "output_dir = '/Users/sabrinami/Desktop/qtl2_data/chr20-qtl2-outputs'\n",
    "geno = pd.read_csv(f'{data_dir}/geno.csv', index_col='id')\n",
    "batch_size = 10\n",
    "n_batches = len(geno.columns) // batch_size"
   ]
  },
  {
   "cell_type": "code",
   "execution_count": 23,
   "metadata": {},
   "outputs": [],
   "source": [
    "def qtl_command(output_file, n_cores=1):\n",
    "    cmd = (\n",
    "        'library(qtl2); '\n",
    "        f'cross <- read_cross2(\"{tmp_dir}/control.yaml\"); '\n",
    "        f'pr <- calc_genoprob(cross, error_prob = 0.01, cores = {n_cores}); '\n",
    "        f'pr <- genoprob_to_alleleprob(pr); saveRDS(pr, \"{output_file}\")'\n",
    "    )\n",
    "    return cmd"
   ]
  },
  {
   "cell_type": "code",
   "execution_count": 27,
   "metadata": {},
   "outputs": [
    {
     "name": "stdout",
     "output_type": "stream",
     "text": [
      "\n",
      "R version 4.2.2 (2022-10-31) -- \"Innocent and Trusting\"\n",
      "Copyright (C) 2022 The R Foundation for Statistical Computing\n",
      "Platform: x86_64-apple-darwin17.0 (64-bit)\n",
      "\n",
      "R is free software and comes with ABSOLUTELY NO WARRANTY.\n",
      "You are welcome to redistribute it under certain conditions.\n",
      "Type 'license()' or 'licence()' for distribution details.\n",
      "\n",
      "  Natural language support but running in an English locale\n",
      "\n",
      "R is a collaborative project with many contributors.\n",
      "Type 'contributors()' for more information and\n",
      "'citation()' on how to cite R or R packages in publications.\n",
      "\n",
      "Type 'demo()' for some demos, 'help()' for on-line help, or\n",
      "'help.start()' for an HTML browser interface to help.\n",
      "Type 'q()' to quit R.\n",
      "\n",
      "> library(qtl2); cross <- read_cross2(\"/Users/sabrinami/Desktop/qtl2_data/tmp-chr20-qtl2-founder-haps/control.yaml\"); pr <- calc_genoprob(cross, error_prob = 0.01, cores = 2); pr <- genoprob_to_alleleprob(pr); saveRDS(pr, \"/Users/sabrinami/Desktop/qtl2_data/chr20-qtl2-outputs/batch0_prob.rds\")\n"
     ]
    }
   ],
   "source": [
    "for i in range(n_batches):\n",
    "    tic = time.perf_counter()\n",
    "    geno_df = geno.iloc[:, i:i+batch_size]\n",
    "    samples = geno_df.columns.to_list()\n",
    "    covar_df = pd.DataFrame({'id': samples, 'generations': [90] *  len(samples)})\n",
    "    geno_df.to_csv(f'{tmp_dir}/geno.csv', index=True)\n",
    "    covar_df.to_csv(f'{tmp_dir}/covar.csv', index=False)\n",
    "    cmd = qtl_command(f'{output_dir}/batch{i}_prob.rds', n_cores = 2)\n",
    "    subprocess.run(f\"R -e '{cmd}'\", shell=True)\n",
    "    toc = time.perf_counter()\n",
    "    print(\"Batch:\", i+1, \"...\", (toc-tic)/60, \"minutes\")"
   ]
  }
 ],
 "metadata": {
  "kernelspec": {
   "display_name": "base",
   "language": "python",
   "name": "base"
  },
  "language_info": {
   "codemirror_mode": {
    "name": "ipython",
    "version": 3
   },
   "file_extension": ".py",
   "mimetype": "text/x-python",
   "name": "python",
   "nbconvert_exporter": "python",
   "pygments_lexer": "ipython3",
   "version": "3.10.10"
  }
 },
 "nbformat": 4,
 "nbformat_minor": 2
}
