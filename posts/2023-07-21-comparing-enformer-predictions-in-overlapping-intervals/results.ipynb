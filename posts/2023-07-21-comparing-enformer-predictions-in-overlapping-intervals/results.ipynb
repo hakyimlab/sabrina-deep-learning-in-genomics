{
 "cells": [
  {
   "cell_type": "markdown",
   "metadata": {},
   "source": [
    "---\n",
    "title: \"Comparing Enformer results on an arbitrary interval in different positions relative to window coordinates\"\n",
    "author: \"Sabrina Mi\"\n",
    "date: 7/21/23\n",
    "---\n",
    "\n",
    "### Check predictions for a single individual, region, and haplotype"
   ]
  },
  {
   "cell_type": "code",
   "execution_count": 14,
   "metadata": {},
   "outputs": [],
   "source": [
    "# Import Libraries\n",
    "import numpy as np\n",
    "import h5py"
   ]
  },
  {
   "cell_type": "code",
   "execution_count": 12,
   "metadata": {},
   "outputs": [],
   "source": [
    "with open(\"metadata/intervals.txt\", \"r\") as f:\n",
    "    lines = f.readlines()\n",
    "    intervals = [line.strip().strip('\"') for line in lines]\n",
    "\n",
    "predictions_dir = \"/lus/grand/projects/TFXcan/imlab/users/sabrina/enformer_test/predictions_folder/reference_enformer_minimal_chr2_region/predictions_2023-07-20/enformer_predictions/reference_enformer_minimal/haplotype0/\""
   ]
  },
  {
   "cell_type": "code",
   "execution_count": null,
   "metadata": {},
   "outputs": [],
   "source": [
    "predictions = {}\n",
    "for interval in intervals:\n",
    "        f = h5py.File(predictions_dir + interval +'_predictions.h5', 'r')\n",
    "        predictions[interval] = f[interval][()]"
   ]
  }
 ],
 "metadata": {
  "kernelspec": {
   "display_name": "base",
   "language": "python",
   "name": "base"
  },
  "language_info": {
   "codemirror_mode": {
    "name": "ipython",
    "version": 3
   },
   "file_extension": ".py",
   "mimetype": "text/x-python",
   "name": "python",
   "nbconvert_exporter": "python",
   "pygments_lexer": "ipython3",
   "version": "3.8.13"
  },
  "orig_nbformat": 4
 },
 "nbformat": 4,
 "nbformat_minor": 2
}
