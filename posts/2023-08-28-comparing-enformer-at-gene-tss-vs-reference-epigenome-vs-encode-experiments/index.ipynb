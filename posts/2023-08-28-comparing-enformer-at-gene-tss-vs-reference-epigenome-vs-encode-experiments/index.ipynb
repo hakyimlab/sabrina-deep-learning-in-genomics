{
 "cells": [
  {
   "cell_type": "markdown",
   "metadata": {},
   "source": [
    "---\n",
    "title: Comparing the predicted reference epigenome to Enformer runs centered at the TSS and ground truth\n",
    "author: Sabrina Mi\n",
    "date: 8/28/2023\n",
    "---\n",
    "\n",
    "We are trying to debug low correlation values between predicted reference CAGE values and reference observed gene expression. We'll start by selecting 10 genes."
   ]
  },
  {
   "cell_type": "code",
   "execution_count": 7,
   "metadata": {},
   "outputs": [],
   "source": [
    "import pandas as pd\n",
    "annot_df = pd.read_csv(\"/Users/sabrinami/Github/deep-learning-in-genomics/posts/2023-08-18-gene-annotation-query-example-hg38/protein_coding_TSS.tsv\", sep=\"\\t\")\n",
    "genes = annot_df.sample(n=10)"
   ]
  },
  {
   "cell_type": "code",
   "execution_count": 8,
   "metadata": {},
   "outputs": [
    {
     "name": "stdout",
     "output_type": "stream",
     "text": [
      "['chrX_73079512_73079512', 'chr12_7018476_7018476', 'chr3_114294028_114294028', 'chr19_36528271_36528271', 'chr13_52642431_52642431', 'chr7_135148072_135148072', 'chr2_241102287_241102287', 'chr17_82371765_82371765', 'chr2_55050451_55050451', 'chr1_235649784_235649784']\n"
     ]
    }
   ],
   "source": [
    "intervals = [f\"chr{row['chromosome_name']}_{row['transcription_start_site']}_{row['transcription_start_site']}\" \n",
    "            for _, row in genes.iterrows()]\n",
    "print(intervals)\n",
    "with open(\"metadata/intervals.txt\", \"w\") as file:\n",
    "    file.write(\"\\n\".join(intervals))"
   ]
  }
 ],
 "metadata": {
  "kernelspec": {
   "display_name": "base",
   "language": "python",
   "name": "python3"
  },
  "language_info": {
   "codemirror_mode": {
    "name": "ipython",
    "version": 3
   },
   "file_extension": ".py",
   "mimetype": "text/x-python",
   "name": "python",
   "nbconvert_exporter": "python",
   "pygments_lexer": "ipython3",
   "version": "3.10.10"
  },
  "orig_nbformat": 4
 },
 "nbformat": 4,
 "nbformat_minor": 2
}
