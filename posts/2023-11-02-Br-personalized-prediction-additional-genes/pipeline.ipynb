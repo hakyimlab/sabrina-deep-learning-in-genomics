{
 "cells": [
  {
   "cell_type": "markdown",
   "metadata": {},
   "source": [
    "---\n",
    "title: Running personalized Enformer pipeline on Br (round 2)\n",
    "date: 11/02/2023\n",
    "author: Sabrina Mi\n",
    "---\n",
    "\n",
    "## Selecting Genes\n",
    "\n",
    "We selected 868 genes in the first round, we are aiming to double the gene set."
   ]
  },
  {
   "cell_type": "code",
   "execution_count": 1,
   "metadata": {},
   "outputs": [],
   "source": [
    "import pandas as pd\n",
    "import numpy as np"
   ]
  },
  {
   "cell_type": "code",
   "execution_count": 2,
   "metadata": {},
   "outputs": [
    {
     "name": "stderr",
     "output_type": "stream",
     "text": [
      "/tmp/ipykernel_79532/161308317.py:1: DtypeWarning: Columns (0) have mixed types. Specify dtype option on import or set low_memory=False.\n",
      "  tpm = pd.read_csv(\"/home/s1mi/enformer_rat_data/expression_data/Brain.rn7.expr.tpm.bed\", header = 0, sep=\"\\t\",  index_col= 'gene_id')\n"
     ]
    }
   ],
   "source": [
    "tpm = pd.read_csv(\"/home/s1mi/enformer_rat_data/expression_data/Brain.rn7.expr.tpm.bed\", header = 0, sep=\"\\t\",  index_col= 'gene_id')\n",
    "tpm_var = tpm.iloc[:, 3:].var(axis=1)\n",
    "tpm_threshold = tpm_var.quantile(0.75)\n",
    "## subset of genes with high observed expression variation\n",
    "high_tpm_var_genes = set(tpm[tpm_var> tpm_threshold].index)"
   ]
  },
  {
   "cell_type": "code",
   "execution_count": 3,
   "metadata": {},
   "outputs": [
    {
     "data": {
      "text/plain": [
       "count    11238.000000\n",
       "mean      2312.935398\n",
       "std       1490.079008\n",
       "min          1.000000\n",
       "25%       1160.250000\n",
       "50%       2236.000000\n",
       "75%       3277.750000\n",
       "max      10799.000000\n",
       "Name: gene_id, dtype: float64"
      ]
     },
     "execution_count": 3,
     "metadata": {},
     "output_type": "execute_result"
    }
   ],
   "source": [
    "eqtl = pd.read_csv(\"/home/s1mi/enformer_rat_data/annotation/Brain.rn7.cis_qtl_signif.txt\", sep=\"\\t\")\n",
    "counts = eqtl['gene_id'].value_counts()\n",
    "counts.describe()"
   ]
  },
  {
   "cell_type": "code",
   "execution_count": 4,
   "metadata": {},
   "outputs": [],
   "source": [
    "eqtl_threshold = counts.quantile(0.75)\n",
    "eqtl_genes = counts[counts > eqtl_threshold].index"
   ]
  },
  {
   "cell_type": "code",
   "execution_count": 5,
   "metadata": {},
   "outputs": [
    {
     "name": "stdout",
     "output_type": "stream",
     "text": [
      "1358 candidate genes for enformer prediction experiments\n"
     ]
    }
   ],
   "source": [
    "gene_list = high_tpm_var_genes.intersection(set(eqtl_genes))\n",
    "print(len(gene_list), \"candidate genes for enformer prediction experiments\")"
   ]
  },
  {
   "cell_type": "code",
   "execution_count": 10,
   "metadata": {},
   "outputs": [],
   "source": [
    "with open(\"/home/s1mi/Github/deep-learning-in-genomics/posts/2023-08-31-Br-personalized-prediction-on-more-genes/gene_list.txt\", \"r\") as f:\n",
    "    completed_genes = f.read().splitlines()\n",
    "remaining_genes = [gene for gene in gene_list if gene not in completed_genes]\n",
    "with open(\"gene_list_2.txt\", \"w\") as f:\n",
    "    f.write(\"\\n\".join(remaining_genes))"
   ]
  },
  {
   "cell_type": "markdown",
   "metadata": {},
   "source": [
    "## Run the Pipeline\n",
    "\n",
    "### Write Metadata\n"
   ]
  },
  {
   "cell_type": "code",
   "execution_count": 11,
   "metadata": {},
   "outputs": [
    {
     "name": "stderr",
     "output_type": "stream",
     "text": [
      "/tmp/ipykernel_79532/1904099158.py:2: DtypeWarning: Columns (2) have mixed types. Specify dtype option on import or set low_memory=False.\n",
      "  annot_df = pd.read_csv('/home/s1mi/enformer_rat_data/annotation/rn7.gene.txt', sep ='\\t',  index_col='geneId')\n"
     ]
    }
   ],
   "source": [
    "## write intervals.txt\n",
    "annot_df = pd.read_csv('/home/s1mi/enformer_rat_data/annotation/rn7.gene.txt', sep ='\\t',  index_col='geneId')\n",
    "\n",
    "def write_intervals(gene_list, file):\n",
    "    with open(file, 'w') as f:\n",
    "        for gene in gene_list:\n",
    "            gene_annot = annot_df.loc[gene]\n",
    "            tss = gene_annot['tss']\n",
    "            interval = f\"chr{gene_annot['chromosome']}_{tss}_{tss}\"\n",
    "            f.write(interval + '\\n')\n",
    "\n",
    "write_intervals(remaining_genes, \"metadata/intervals.txt\")"
   ]
  },
  {
   "cell_type": "markdown",
   "metadata": {},
   "source": [
    "\n",
    "```\n",
    "mkdir metadata\n",
    "cp ~/Github/deep-learning-in-genomics/posts/2023-08-31-Br-personalized-prediction-on-more-genes/metadata/individuals.txt metadata\n",
    "cp ~/Github/deep-learning-in-genomics/posts/2023-08-31-Br-personalized-prediction-on-more-genes/personalized_config.json .\n",
    "```\n",
    "\n",
    "(Replace every string `2023-08-31-Br-personalized-prediction-on-more-genes` with `2023-11-02-Br-personalized-prediction-additional-genes`)\n",
    "\n",
    "### Submit Jobs\n",
    "\n",
    "```\n",
    "module load conda\n",
    "conda activate /lus/grand/projects/TFXcan/imlab/shared/software/conda_envs/enformer-predict-tools\n",
    "\n",
    "python /home/s1mi/Github/enformer_epigenome_pipeline/enformer_predict.py --parameters /home/s1mi/Github/deep-learning-in-genomics/posts/2023-08-31-Br-personalized-prediction-on-more-genes/personalized_config.json\n",
    "\n",
    "\n",
    "```"
   ]
  },
  {
   "cell_type": "markdown",
   "metadata": {},
   "source": [
    "### Submit Jobs\n",
    "\n",
    "```\n",
    "module load conda\n",
    "conda activate /lus/grand/projects/TFXcan/imlab/shared/software/conda_envs/enformer-predict-tools\n",
    "\n",
    "python /home/s1mi/Github/enformer_epigenome_pipeline/enformer_predict.py --parameters /home/s1mi/Github/deep-learning-in-genomics/posts/2023-08-31-Br-personalized-prediction-on-more-genes/personalized_config.json\n",
    "\n",
    "```"
   ]
  }
 ],
 "metadata": {
  "kernelspec": {
   "display_name": "base",
   "language": "python",
   "name": "base"
  },
  "language_info": {
   "codemirror_mode": {
    "name": "ipython",
    "version": 3
   },
   "file_extension": ".py",
   "mimetype": "text/x-python",
   "name": "python",
   "nbconvert_exporter": "python",
   "pygments_lexer": "ipython3",
   "version": "3.8.13"
  },
  "orig_nbformat": 4
 },
 "nbformat": 4,
 "nbformat_minor": 2
}
