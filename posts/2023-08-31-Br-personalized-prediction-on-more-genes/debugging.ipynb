{
 "cells": [
  {
   "cell_type": "markdown",
   "metadata": {},
   "source": [
    "---\n",
    "title: Rerunning Enformer pipeline on missing individuals, intervals\n",
    "date: 9/2/2023\n",
    "author: Sabrina Mi\n",
    "---\n",
    "\n",
    "### Split by Number Missing"
   ]
  },
  {
   "cell_type": "code",
   "execution_count": 23,
   "metadata": {},
   "outputs": [],
   "source": [
    "import os\n",
    "import pandas as pd"
   ]
  },
  {
   "cell_type": "code",
   "execution_count": 266,
   "metadata": {},
   "outputs": [],
   "source": [
    "predictions_dir = \"/home/s1mi/Br_predictions/predictions_folder/personalized_Br_selected_genes/predictions_2023-09-02/enformer_predictions\"\n",
    "successful_predictions = {}\n",
    "for individual in os.listdir(predictions_dir):\n",
    "    n_intervals = len(os.listdir(os.path.join(predictions_dir, individual, \"haplotype0\")))\n",
    "    if n_intervals < 868:\n",
    "        if n_intervals not in successful_predictions.keys():\n",
    "            successful_predictions[n_intervals] = [individual]\n",
    "        else:\n",
    "            successful_predictions[n_intervals].append(individual)\n",
    "for n_intervals in successful_predictions.keys():\n",
    "    print(\"n individuals with\", n_intervals, \"predictions:\", len(successful_predictions[n_intervals]))\n",
    "\n"
   ]
  },
  {
   "cell_type": "code",
   "execution_count": 257,
   "metadata": {},
   "outputs": [],
   "source": [
    "with open(\"metadata/intervals.txt\", \"r\") as f:\n",
    "    all_intervals = f.read().splitlines()"
   ]
  },
  {
   "cell_type": "markdown",
   "metadata": {},
   "source": [
    "## Write Metadata"
   ]
  },
  {
   "cell_type": "code",
   "execution_count": 258,
   "metadata": {},
   "outputs": [],
   "source": [
    "for index, n_intervals in enumerate(successful_predictions.keys()):\n",
    "    individuals = successful_predictions[n_intervals]\n",
    "    with open(f\"metadata/individuals{index}.txt\", \"w\") as f:\n",
    "        f.write(\"\\n\".join(individuals))\n",
    "    individual = individuals[0]\n",
    "    files = os.listdir(os.path.join(predictions_dir, individual, \"haplotype0\"))\n",
    "    intervals = [file.replace(\"_predictions.h5\", \"\") for file in files]\n",
    "    missing_intervals = [interval for interval in all_intervals if interval not in intervals]\n",
    "    with open(f\"metadata/intervals{index}.txt\", \"w\") as f:\n",
    "        f.write(\"\\n\".join(missing_intervals))"
   ]
  },
  {
   "cell_type": "markdown",
   "metadata": {},
   "source": [
    "## Write Config Files"
   ]
  },
  {
   "cell_type": "code",
   "execution_count": 259,
   "metadata": {},
   "outputs": [],
   "source": [
    "import json\n",
    "\n",
    "with open(\"personalized_config.json\", \"r\") as input_json:\n",
    "    parameters = json.load(input_json)\n",
    "\n",
    "for index, n_intervals in enumerate(successful_predictions.keys()):\n",
    "    parameters[\"individuals\"] = f\"/home/s1mi/Github/deep-learning-in-genomics/posts/2023-08-31-Br-personalized-prediction-on-more-genes/metadata/individuals{index}.txt\"\n",
    "    parameters[\"interval_list_file\"] = f\"/home/s1mi/Github/deep-learning-in-genomics/posts/2023-08-31-Br-personalized-prediction-on-more-genes/metadata/intervals{index}.txt\"\n",
    "    parameters[\"n_individuals\"] = len(successful_predictions[n_intervals])\n",
    "    parameters[\"batch_individuals\"] = 5\n",
    "    parameters[\"n_regions\"] = 868 - n_intervals\n",
    "    parameters[\"batch_regions\"] = 5\n",
    "    parameters[\"date\"] = \"2023-09-02\"\n",
    "    parameters[\"parsl_parameters\"][\"walltime\"] = \"00:30:00\"\n",
    "    with open(f\"personalized_config{index}.json\", \"w\") as output_json:\n",
    "        json.dump(parameters, output_json, indent=2)\n"
   ]
  },
  {
   "cell_type": "markdown",
   "metadata": {},
   "source": [
    "## Run Pipeline\n",
    "\n",
    "```\n",
    "module load conda\n",
    "conda activate /lus/grand/projects/TFXcan/imlab/shared/software/conda_envs/enformer-predict-tools\n",
    "\n",
    "for i in {0..2}; do\n",
    "    python /home/s1mi/Github/enformer_epigenome_pipeline/enformer_predict.py --parameters /home/s1mi/Github/deep-learning-in-genomics/posts/2023-08-31-Br-personalized-prediction-on-more-genes/personalized_config${i}.json &\n",
    "    sleep 20\n",
    "done\n",
    "```\n"
   ]
  }
 ],
 "metadata": {
  "kernelspec": {
   "display_name": "base",
   "language": "python",
   "name": "base"
  },
  "language_info": {
   "codemirror_mode": {
    "name": "ipython",
    "version": 3
   },
   "file_extension": ".py",
   "mimetype": "text/x-python",
   "name": "python",
   "nbconvert_exporter": "python",
   "pygments_lexer": "ipython3",
   "version": "3.8.13"
  },
  "orig_nbformat": 4
 },
 "nbformat": 4,
 "nbformat_minor": 2
}
