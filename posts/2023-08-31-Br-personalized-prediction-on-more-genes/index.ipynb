{
 "cells": [
  {
   "cell_type": "markdown",
   "metadata": {},
   "source": [
    "---\n",
    "title: Personalized Prediction Correlations for  868 rn7 genes\n",
    "date: 9/1/23\n",
    "author: Sabrina Mi\n",
    "---\n",
    "\n",
    "We ran the personalized Enformer pipeline 868 genes for high variation in Br rats and number of eQTLs. There are too many predictions to concatenate iteratively, so I wrote [collect_predictions.py](collect_predictions.py) to parallelize in a submitted job. \n",
    "\n",
    "Note: This script appends predictions to the h5 in parallel, I first initialized the h5 file with individuals list to be paired with all gene expression datasets."
   ]
  },
  {
   "cell_type": "code",
   "execution_count": null,
   "metadata": {},
   "outputs": [],
   "source": [
    "import h5py\n",
    "import pandas as pd\n",
    "project_dir = \"/home/s1mi/Br_predictions/predictions_folder/personalized_Br_selected_genes\"\n",
    "\n",
    "obs_gene_expr = pd.read_csv(\"/home/s1mi/enformer_rat_data/expression_data/Brain.rn7.expr.tpm.bed\", sep=\"\\t\", nrows=1)\n",
    "with h5py.File(f\"{project_dir}/selected_genes_mouse_and_human_predictions.h5\", \"w\") as file:\n",
    "    file.attrs[\"index\"] = obs_gene_expr.columns.to_list()[4:]"
   ]
  },
  {
   "cell_type": "markdown",
   "metadata": {},
   "source": [
    "## Read Processed Predictions"
   ]
  },
  {
   "cell_type": "code",
   "execution_count": 6,
   "metadata": {},
   "outputs": [],
   "source": [
    "import h5py\n",
    "import pandas as pd\n",
    "project_dir = \"/home/s1mi/Br_predictions/predictions_folder/personalized_Br_selected_genes\"\n",
    "expr_dict = {}\n",
    "with h5py.File(f\"{project_dir}/selected_genes_mouse_and_human_predictions.h5\", \"r\") as file:\n",
    "    index = file.attrs[\"index\"]\n",
    "    for gene in file.keys():\n",
    "        matrix = file[gene][:]\n",
    "        expr_dict[gene] = pd.DataFrame(matrix, index = index, columns = [\"observed\", \"human predicted\", \"mouse predicted\"])"
   ]
  },
  {
   "cell_type": "code",
   "execution_count": null,
   "metadata": {},
   "outputs": [],
   "source": [
    "corr_by_gene_and_track = pd.DataFrame(columns = [\"human\", \"mouse\"], index = gene_list)\n",
    "for gene in gene_list:\n",
    "    corr_df = expr_dict[gene].corr()\n",
    "    corr_by_gene_and_track.loc[gene] = pd.to_numeric(corr_df.iloc[0,1])"
   ]
  }
 ],
 "metadata": {
  "kernelspec": {
   "display_name": "base",
   "language": "python",
   "name": "base"
  },
  "language_info": {
   "codemirror_mode": {
    "name": "ipython",
    "version": 3
   },
   "file_extension": ".py",
   "mimetype": "text/x-python",
   "name": "python",
   "nbconvert_exporter": "python",
   "pygments_lexer": "ipython3",
   "version": "3.8.13"
  },
  "orig_nbformat": 4
 },
 "nbformat": 4,
 "nbformat_minor": 2
}
