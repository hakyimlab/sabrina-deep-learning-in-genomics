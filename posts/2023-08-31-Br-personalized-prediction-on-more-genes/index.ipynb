{
 "cells": [
  {
   "cell_type": "markdown",
   "metadata": {},
   "source": [
    "---\n",
    "title: Personalized Prediction Correlations for  868 rn7 genes\n",
    "date: 9/1/23\n",
    "author: Sabrina Mi\n",
    "---\n",
    "\n",
    "We ran the personalized Enformer pipeline 868 genes for high variation in Br rats and number of eQTLs. There are too many predictions to concatenate iteratively, so I wrote [collect_predictions.py](collect_predictions.py) to parallelize in a submitted job. \n",
    "\n",
    "Note: This script appends predictions to the h5 in parallel, I first initialized the h5 file with individuals list to be paired with all gene expression datasets."
   ]
  },
  {
   "cell_type": "code",
   "execution_count": null,
   "metadata": {},
   "outputs": [],
   "source": [
    "import h5py\n",
    "import pandas as pd\n",
    "project_dir = \"/home/s1mi/Br_predictions/predictions_folder/personalized_Br_selected_genes\"\n",
    "\n",
    "obs_gene_expr = pd.read_csv(\"/home/s1mi/enformer_rat_data/expression_data/Brain.rn7.expr.tpm.bed\", sep=\"\\t\", nrows=1)\n",
    "with h5py.File(f\"{project_dir}/selected_genes_mouse_and_human_predictions.h5\", \"w\") as file:\n",
    "    file.attrs[\"index\"] = obs_gene_expr.columns.to_list()[4:]"
   ]
  },
  {
   "cell_type": "markdown",
   "metadata": {},
   "source": [
    "After my parsl job was stuck in the queue for two days, I decided to forgo parsl and append the predictions from the login node. This took many interrupted attempts, but was sadly the better option. The non-parallelized code is below:"
   ]
  },
  {
   "cell_type": "code",
   "execution_count": 7,
   "metadata": {},
   "outputs": [
    {
     "name": "stderr",
     "output_type": "stream",
     "text": [
      "/tmp/ipykernel_60829/393879907.py:7: DtypeWarning: Columns (0) have mixed types. Specify dtype option on import or set low_memory=False.\n",
      "  obs_gene_expr = pd.read_csv(\"/home/s1mi/enformer_rat_data/expression_data/Brain.rn7.expr.tpm.bed\", sep=\"\\t\", header=0, index_col='gene_id')\n",
      "/tmp/ipykernel_60829/393879907.py:8: DtypeWarning: Columns (2) have mixed types. Specify dtype option on import or set low_memory=False.\n",
      "  annot_df = pd.read_csv(\"/home/s1mi/enformer_rat_data/annotation/rn7.gene.txt\", sep=\"\\t\", header= 0, index_col='geneId')\n"
     ]
    },
    {
     "name": "stdout",
     "output_type": "stream",
     "text": [
      "868 genes with enformer predictions\n"
     ]
    },
    {
     "ename": "KeyboardInterrupt",
     "evalue": "",
     "output_type": "error",
     "traceback": [
      "\u001b[0;31m---------------------------------------------------------------------------\u001b[0m",
      "\u001b[0;31mKeyboardInterrupt\u001b[0m                         Traceback (most recent call last)",
      "\u001b[1;32m/home/s1mi/Github/deep-learning-in-genomics/posts/2023-08-31-Br-personalized-prediction-on-more-genes/index.ipynb Cell 4\u001b[0m in \u001b[0;36m4\n\u001b[1;32m     <a href='vscode-notebook-cell://ssh-remote%2Bpolaris/home/s1mi/Github/deep-learning-in-genomics/posts/2023-08-31-Br-personalized-prediction-on-more-genes/index.ipynb#X12sdnNjb2RlLXJlbW90ZQ%3D%3D?line=40'>41</a>\u001b[0m \u001b[39m#### JOIN CONCURRENTLY ACROSS GENES\u001b[39;00m\n\u001b[1;32m     <a href='vscode-notebook-cell://ssh-remote%2Bpolaris/home/s1mi/Github/deep-learning-in-genomics/posts/2023-08-31-Br-personalized-prediction-on-more-genes/index.ipynb#X12sdnNjb2RlLXJlbW90ZQ%3D%3D?line=41'>42</a>\u001b[0m \u001b[39mfor\u001b[39;00m gene \u001b[39min\u001b[39;00m gene_list:\n\u001b[0;32m---> <a href='vscode-notebook-cell://ssh-remote%2Bpolaris/home/s1mi/Github/deep-learning-in-genomics/posts/2023-08-31-Br-personalized-prediction-on-more-genes/index.ipynb#X12sdnNjb2RlLXJlbW90ZQ%3D%3D?line=42'>43</a>\u001b[0m     collect_predictions(gene)\n\u001b[1;32m     <a href='vscode-notebook-cell://ssh-remote%2Bpolaris/home/s1mi/Github/deep-learning-in-genomics/posts/2023-08-31-Br-personalized-prediction-on-more-genes/index.ipynb#X12sdnNjb2RlLXJlbW90ZQ%3D%3D?line=43'>44</a>\u001b[0m \u001b[39mprint\u001b[39m(\u001b[39m\"\u001b[39m\u001b[39mFinished writing expression matrices for\u001b[39m\u001b[39m\"\u001b[39m, \u001b[39mlen\u001b[39m(gene), \u001b[39m\"\u001b[39m\u001b[39mgenes\u001b[39m\u001b[39m\"\u001b[39m)\n",
      "\u001b[1;32m/home/s1mi/Github/deep-learning-in-genomics/posts/2023-08-31-Br-personalized-prediction-on-more-genes/index.ipynb Cell 4\u001b[0m in \u001b[0;36m2\n\u001b[1;32m     <a href='vscode-notebook-cell://ssh-remote%2Bpolaris/home/s1mi/Github/deep-learning-in-genomics/posts/2023-08-31-Br-personalized-prediction-on-more-genes/index.ipynb#X12sdnNjb2RlLXJlbW90ZQ%3D%3D?line=25'>26</a>\u001b[0m mouse_predicted \u001b[39m=\u001b[39m []\n\u001b[1;32m     <a href='vscode-notebook-cell://ssh-remote%2Bpolaris/home/s1mi/Github/deep-learning-in-genomics/posts/2023-08-31-Br-personalized-prediction-on-more-genes/index.ipynb#X12sdnNjb2RlLXJlbW90ZQ%3D%3D?line=26'>27</a>\u001b[0m \u001b[39mfor\u001b[39;00m individual \u001b[39min\u001b[39;00m expr_df\u001b[39m.\u001b[39mindex:\n\u001b[0;32m---> <a href='vscode-notebook-cell://ssh-remote%2Bpolaris/home/s1mi/Github/deep-learning-in-genomics/posts/2023-08-31-Br-personalized-prediction-on-more-genes/index.ipynb#X12sdnNjb2RlLXJlbW90ZQ%3D%3D?line=27'>28</a>\u001b[0m     \u001b[39mwith\u001b[39;00m h5py\u001b[39m.\u001b[39;49mFile(\u001b[39mf\u001b[39;49m\u001b[39m\"\u001b[39;49m\u001b[39m{\u001b[39;49;00mpredictions_dir\u001b[39m}\u001b[39;49;00m\u001b[39m/\u001b[39;49m\u001b[39m{\u001b[39;49;00mindividual\u001b[39m}\u001b[39;49;00m\u001b[39m/haplotype0/\u001b[39;49m\u001b[39m{\u001b[39;49;00minterval\u001b[39m}\u001b[39;49;00m\u001b[39m_predictions.h5\u001b[39;49m\u001b[39m\"\u001b[39;49m, \u001b[39m\"\u001b[39;49m\u001b[39mr\u001b[39;49m\u001b[39m\"\u001b[39;49m) \u001b[39mas\u001b[39;00m input_file:\n\u001b[1;32m     <a href='vscode-notebook-cell://ssh-remote%2Bpolaris/home/s1mi/Github/deep-learning-in-genomics/posts/2023-08-31-Br-personalized-prediction-on-more-genes/index.ipynb#X12sdnNjb2RlLXJlbW90ZQ%3D%3D?line=28'>29</a>\u001b[0m         human_prediction \u001b[39m=\u001b[39m input_file[\u001b[39m\"\u001b[39m\u001b[39mhuman\u001b[39m\u001b[39m\"\u001b[39m][\u001b[39m446\u001b[39m:\u001b[39m450\u001b[39m, \u001b[39m4980\u001b[39m]\n\u001b[1;32m     <a href='vscode-notebook-cell://ssh-remote%2Bpolaris/home/s1mi/Github/deep-learning-in-genomics/posts/2023-08-31-Br-personalized-prediction-on-more-genes/index.ipynb#X12sdnNjb2RlLXJlbW90ZQ%3D%3D?line=29'>30</a>\u001b[0m         mouse_prediction \u001b[39m=\u001b[39m input_file[\u001b[39m\"\u001b[39m\u001b[39mmouse\u001b[39m\u001b[39m\"\u001b[39m][\u001b[39m446\u001b[39m:\u001b[39m450\u001b[39m, \u001b[39m1300\u001b[39m]\n",
      "File \u001b[0;32m/soft/datascience/conda/2022-09-08/mconda3/lib/python3.8/site-packages/h5py/_hl/files.py:533\u001b[0m, in \u001b[0;36mFile.__init__\u001b[0;34m(self, name, mode, driver, libver, userblock_size, swmr, rdcc_nslots, rdcc_nbytes, rdcc_w0, track_order, fs_strategy, fs_persist, fs_threshold, fs_page_size, page_buf_size, min_meta_keep, min_raw_keep, locking, alignment_threshold, alignment_interval, **kwds)\u001b[0m\n\u001b[1;32m    525\u001b[0m     fapl \u001b[39m=\u001b[39m make_fapl(driver, libver, rdcc_nslots, rdcc_nbytes, rdcc_w0,\n\u001b[1;32m    526\u001b[0m                      locking, page_buf_size, min_meta_keep, min_raw_keep,\n\u001b[1;32m    527\u001b[0m                      alignment_threshold\u001b[39m=\u001b[39malignment_threshold,\n\u001b[1;32m    528\u001b[0m                      alignment_interval\u001b[39m=\u001b[39malignment_interval,\n\u001b[1;32m    529\u001b[0m                      \u001b[39m*\u001b[39m\u001b[39m*\u001b[39mkwds)\n\u001b[1;32m    530\u001b[0m     fcpl \u001b[39m=\u001b[39m make_fcpl(track_order\u001b[39m=\u001b[39mtrack_order, fs_strategy\u001b[39m=\u001b[39mfs_strategy,\n\u001b[1;32m    531\u001b[0m                      fs_persist\u001b[39m=\u001b[39mfs_persist, fs_threshold\u001b[39m=\u001b[39mfs_threshold,\n\u001b[1;32m    532\u001b[0m                      fs_page_size\u001b[39m=\u001b[39mfs_page_size)\n\u001b[0;32m--> 533\u001b[0m     fid \u001b[39m=\u001b[39m make_fid(name, mode, userblock_size, fapl, fcpl, swmr\u001b[39m=\u001b[39;49mswmr)\n\u001b[1;32m    535\u001b[0m \u001b[39mif\u001b[39;00m \u001b[39misinstance\u001b[39m(libver, \u001b[39mtuple\u001b[39m):\n\u001b[1;32m    536\u001b[0m     \u001b[39mself\u001b[39m\u001b[39m.\u001b[39m_libver \u001b[39m=\u001b[39m libver\n",
      "File \u001b[0;32m/soft/datascience/conda/2022-09-08/mconda3/lib/python3.8/site-packages/h5py/_hl/files.py:226\u001b[0m, in \u001b[0;36mmake_fid\u001b[0;34m(name, mode, userblock_size, fapl, fcpl, swmr)\u001b[0m\n\u001b[1;32m    224\u001b[0m     \u001b[39mif\u001b[39;00m swmr \u001b[39mand\u001b[39;00m swmr_support:\n\u001b[1;32m    225\u001b[0m         flags \u001b[39m|\u001b[39m\u001b[39m=\u001b[39m h5f\u001b[39m.\u001b[39mACC_SWMR_READ\n\u001b[0;32m--> 226\u001b[0m     fid \u001b[39m=\u001b[39m h5f\u001b[39m.\u001b[39;49mopen(name, flags, fapl\u001b[39m=\u001b[39;49mfapl)\n\u001b[1;32m    227\u001b[0m \u001b[39melif\u001b[39;00m mode \u001b[39m==\u001b[39m \u001b[39m'\u001b[39m\u001b[39mr+\u001b[39m\u001b[39m'\u001b[39m:\n\u001b[1;32m    228\u001b[0m     fid \u001b[39m=\u001b[39m h5f\u001b[39m.\u001b[39mopen(name, h5f\u001b[39m.\u001b[39mACC_RDWR, fapl\u001b[39m=\u001b[39mfapl)\n",
      "File \u001b[0;32mh5py/_objects.pyx:54\u001b[0m, in \u001b[0;36mh5py._objects.with_phil.wrapper\u001b[0;34m()\u001b[0m\n",
      "File \u001b[0;32mh5py/_objects.pyx:55\u001b[0m, in \u001b[0;36mh5py._objects.with_phil.wrapper\u001b[0;34m()\u001b[0m\n",
      "File \u001b[0;32mh5py/h5f.pyx:106\u001b[0m, in \u001b[0;36mh5py.h5f.open\u001b[0;34m()\u001b[0m\n",
      "File \u001b[0;32mh5py/h5g.pyx:271\u001b[0m, in \u001b[0;36mh5py.h5g.GroupID.__init__\u001b[0;34m()\u001b[0m\n",
      "File \u001b[0;32mh5py/h5g.pyx:272\u001b[0m, in \u001b[0;36mh5py.h5g.GroupID.__init__\u001b[0;34m()\u001b[0m\n",
      "File \u001b[0;32m<frozen importlib._bootstrap>:389\u001b[0m, in \u001b[0;36mparent\u001b[0;34m(self)\u001b[0m\n",
      "\u001b[0;31mKeyboardInterrupt\u001b[0m: "
     ]
    }
   ],
   "source": [
    "#### LIBRARIES AND DEFINITIONS\n",
    "import pandas as pd\n",
    "import numpy as np\n",
    "import h5py\n",
    "project_dir = \"/home/s1mi/Br_predictions/predictions_folder/personalized_Br_selected_genes\"\n",
    "predictions_dir = f\"{project_dir}/predictions_2023-09-02/enformer_predictions\"\n",
    "obs_gene_expr = pd.read_csv(\"/home/s1mi/enformer_rat_data/expression_data/Brain.rn7.expr.tpm.bed\", sep=\"\\t\", header=0, index_col='gene_id')\n",
    "annot_df = pd.read_csv(\"/home/s1mi/enformer_rat_data/annotation/rn7.gene.txt\", sep=\"\\t\", header= 0, index_col='geneId')\n",
    "#### GET LIST OF GENES\n",
    "with open(f\"gene_list.txt\", \"r\") as file:\n",
    "    gene_list = file.read().splitlines()\n",
    "print(len(gene_list), \"genes with enformer predictions\")\n",
    "\n",
    "#### JOIN WITH ENFORMER PREDICTIONS FUNCTION\n",
    "def collect_predictions(gene):\n",
    "\n",
    "    with h5py.File(f\"{project_dir}/selected_genes_mouse_and_human_predictions.h5\", \"a\") as output_file:\n",
    "        if gene not in output_file.keys():\n",
    "            ### INITIALIZE EXPRESSION MATRIX WITH OBSERVED DATA\n",
    "            expr_df = pd.DataFrame({\"observed\": obs_gene_expr.loc[gene][3:].astype(\"float32\")})    \n",
    "\n",
    "            ### READ PREDICTIONS\n",
    "            gene_annot = annot_df.loc[gene]\n",
    "            interval = f\"chr{gene_annot['chromosome']}_{gene_annot['tss']}_{gene_annot['tss']}\"\n",
    "            human_predicted = []\n",
    "            mouse_predicted = []\n",
    "            for individual in expr_df.index:\n",
    "                with h5py.File(f\"{predictions_dir}/{individual}/haplotype0/{interval}_predictions.h5\", \"r\") as input_file:\n",
    "                    human_prediction = input_file[\"human\"][446:450, 4980]\n",
    "                    mouse_prediction = input_file[\"mouse\"][446:450, 1300]\n",
    "                    human_predicted.append(np.average(human_prediction))\n",
    "                    mouse_predicted.append(np.average(mouse_prediction))\n",
    "            \n",
    "            ### JOIN IN DATAFRAME\n",
    "            expr_df[\"human predicted\"] = human_predicted\n",
    "            expr_df[\"mouse predicted\"] = mouse_predicted\n",
    "            ### WRITE TO h5\n",
    "            output_file[gene] = expr_df\n",
    "\n",
    "\n",
    "#### JOIN CONCURRENTLY ACROSS GENES\n",
    "for gene in gene_list:\n",
    "    collect_predictions(gene)\n",
    "print(\"Finished writing expression matrices for\", len(gene), \"genes\")"
   ]
  },
  {
   "cell_type": "markdown",
   "metadata": {},
   "source": [
    "## Read Processed Predictions"
   ]
  },
  {
   "cell_type": "code",
   "execution_count": 6,
   "metadata": {},
   "outputs": [],
   "source": [
    "import h5py\n",
    "import pandas as pd\n",
    "project_dir = \"/home/s1mi/Br_predictions/predictions_folder/personalized_Br_selected_genes\"\n",
    "expr_dict = {}\n",
    "with h5py.File(f\"{project_dir}/selected_genes_mouse_and_human_predictions.h5\", \"r\") as file:\n",
    "    index = file.attrs[\"index\"]\n",
    "    for gene in file.keys():\n",
    "        matrix = file[gene][:]\n",
    "        expr_dict[gene] = pd.DataFrame(matrix, index = index, columns = [\"observed\", \"human predicted\", \"mouse predicted\"])"
   ]
  },
  {
   "cell_type": "code",
   "execution_count": null,
   "metadata": {},
   "outputs": [],
   "source": [
    "corr_by_gene_and_track = pd.DataFrame(columns = [\"human\", \"mouse\"], index = gene_list)\n",
    "for gene in gene_list:\n",
    "    corr_df = expr_dict[gene].corr()\n",
    "    corr_by_gene_and_track.loc[gene] = pd.to_numeric(corr_df.iloc[0,1])"
   ]
  }
 ],
 "metadata": {
  "kernelspec": {
   "display_name": "base",
   "language": "python",
   "name": "base"
  },
  "language_info": {
   "codemirror_mode": {
    "name": "ipython",
    "version": 3
   },
   "file_extension": ".py",
   "mimetype": "text/x-python",
   "name": "python",
   "nbconvert_exporter": "python",
   "pygments_lexer": "ipython3",
   "version": "3.8.13"
  },
  "orig_nbformat": 4
 },
 "nbformat": 4,
 "nbformat_minor": 2
}
