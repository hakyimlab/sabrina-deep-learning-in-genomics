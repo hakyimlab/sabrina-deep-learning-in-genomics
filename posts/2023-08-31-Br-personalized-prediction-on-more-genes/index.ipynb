{
 "cells": [
  {
   "cell_type": "markdown",
   "metadata": {},
   "source": [
    "---\n",
    "title: Personalized prediction correlations for rn7 candidate genes\n",
    "date: 9/1/23\n",
    "author: Sabrina Mi\n",
    "---\n",
    "\n",
    "We ran the personalized Enformer pipeline 868 genes for high variation in Br rats and number of eQTLs.\n",
    "\n"
   ]
  },
  {
   "cell_type": "code",
   "execution_count": 1,
   "metadata": {},
   "outputs": [],
   "source": [
    "import pandas as pd\n",
    "import numpy as np\n",
    "import matplotlib.pyplot as plt\n",
    "import h5py"
   ]
  },
  {
   "cell_type": "code",
   "execution_count": 5,
   "metadata": {},
   "outputs": [],
   "source": [
    "with open(\"gene_list.txt\", \"r\") as file:\n",
    "    gene_list = file.read().splitlines()"
   ]
  },
  {
   "cell_type": "code",
   "execution_count": 18,
   "metadata": {},
   "outputs": [
    {
     "name": "stderr",
     "output_type": "stream",
     "text": [
      "/tmp/ipykernel_144779/3167660153.py:3: DtypeWarning: Columns (0) have mixed types. Specify dtype option on import or set low_memory=False.\n",
      "  obs_gene_expr = pd.read_csv(gene_expr_bed, sep=\"\\t\", header=0, index_col='gene_id')\n",
      "/tmp/ipykernel_144779/3167660153.py:4: DtypeWarning: Columns (2) have mixed types. Specify dtype option on import or set low_memory=False.\n",
      "  annot_df = pd.read_csv(\"/home/s1mi/enformer_rat_data/annotation/rn7.gene.txt\", sep=\"\\t\", header= 0, index_col='geneId')\n"
     ]
    }
   ],
   "source": [
    "predictions_dir = \"/home/s1mi/Br_predictions/predictions_folder/personalized_Br_selected_genes/predictions_2023-09-01/enformer_predictions\"\n",
    "gene_expr_bed = \"/home/s1mi/enformer_rat_data/expression_data/Brain.rn7.expr.tpm.bed\"\n",
    "obs_gene_expr = pd.read_csv(gene_expr_bed, sep=\"\\t\", header=0, index_col='gene_id')\n",
    "annot_df = pd.read_csv(\"/home/s1mi/enformer_rat_data/annotation/rn7.gene.txt\", sep=\"\\t\", header= 0, index_col='geneId')"
   ]
  },
  {
   "cell_type": "code",
   "execution_count": 11,
   "metadata": {},
   "outputs": [],
   "source": [
    "expr_dict = {}\n",
    "for gene in gene_list:\n",
    "    obs = obs_gene_expr.loc[gene][3:]\n",
    "    expr_dict[gene] = pd.DataFrame({\"observed\": obs})"
   ]
  },
  {
   "cell_type": "code",
   "execution_count": null,
   "metadata": {},
   "outputs": [],
   "source": [
    "for gene in gene_list:\n",
    "    gene_annot = annot_df.loc[gene]\n",
    "    interval = f\"chr{gene_annot['chromosome']}_{gene_annot['tss']}_{gene_annot['tss']}\"\n",
    "    human_predicted = []\n",
    "    mouse_predicted = []\n",
    "    for individual in expr_dict[gene].index:\n",
    "        haplo0 = h5py.File(f\"{predictions_dir}/{individual}/haplotype0/{interval}_predictions.h5\", \"r\")\n",
    "        human_prediction = haplo0[\"human\"][446:450, 4980]\n",
    "        mouse_prediction = haplo0[\"mouse\"][446:450, 1300]\n",
    "        human_predicted.append(np.average(human_prediction))\n",
    "        mouse_predicted.append(np.average(mouse_prediction))\n",
    "    expr_dict[gene][\"human predicted\"] = human_predicted\n",
    "    expr_dict[gene][\"mouse predicted\"] = mouse_predicted"
   ]
  }
 ],
 "metadata": {
  "kernelspec": {
   "display_name": "base",
   "language": "python",
   "name": "base"
  },
  "language_info": {
   "codemirror_mode": {
    "name": "ipython",
    "version": 3
   },
   "file_extension": ".py",
   "mimetype": "text/x-python",
   "name": "python",
   "nbconvert_exporter": "python",
   "pygments_lexer": "ipython3",
   "version": "3.8.13"
  },
  "orig_nbformat": 4
 },
 "nbformat": 4,
 "nbformat_minor": 2
}
