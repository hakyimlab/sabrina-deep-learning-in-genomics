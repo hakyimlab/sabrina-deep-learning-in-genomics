{
 "cells": [
  {
   "cell_type": "markdown",
   "metadata": {},
   "source": [
    "---\n",
    "title: Calculating Br rat haplotype probabilities from HS founders\n",
    "date: 11/8/2023\n",
    "author: Sabrina\n",
    "---\n",
    "\n",
    "I am using Dan Munro's scripts to compute probabilities across the 8 founders per locus per individual. His code uses the R qtl2 package.\n",
    "\n",
    "Github: [https://github.com/daniel-munro/qtl2-founder-haps/tree/main](https://github.com/daniel-munro/qtl2-founder-haps/tree/main)\n",
    "\n",
    "The `genetic_map` subdirectory contains genetic mapping files from the older build rn6. I downloaded rn7 genetic markers from his preprint, [A revamped rat reference genome improves the discovery of genetic diversity in laboratory rats](https://www.biorxiv.org/content/10.1101/2023.04.13.536694v2.article-info), [Supplementary Table S2](https://www.biorxiv.org/content/biorxiv/early/2023/09/29/2023.04.13.536694/DC2/embed/media-2.xlsx?download=true).\n",
    "\n",
    "I first saved Table S2 as a CSV, then split it by chromosome."
   ]
  },
  {
   "cell_type": "markdown",
   "metadata": {},
   "source": [
    "## Write Genetic Mapping Files"
   ]
  },
  {
   "cell_type": "code",
   "execution_count": 1,
   "metadata": {},
   "outputs": [],
   "source": [
    "import pandas as pd\n",
    "import gzip\n",
    "\n",
    "# Read the original CSV file\n",
    "df = pd.read_csv('/Users/sabrinami/Desktop/MAP.csv')\n",
    "for name, group in df.groupby('CHR'):\n",
    "    map = group[['POS', 'CHR','cM']]\n",
    "    map.to_csv(f'/Users/sabrinami/Github/qtl2-founder-haps/rn7_genetic_map/MAP4chr{name}.txt.gz', sep=' ', index=False, header=False, compression='gzip')"
   ]
  },
  {
   "cell_type": "markdown",
   "metadata": {},
   "source": [
    "## Process VCFs\n",
    "\n",
    "I need to filter out X and Y chromosomes, along with small formatting changes.\n",
    "\n",
    "**Br Rats**\n",
    "```\n",
    "cd ~/Desktop/Sabrina/2022-23/tutorials/enformer_pipeline_test/rn7_data\n",
    "wget https://ratgtex.org/data/geno/genotypes/Brain.rn7.vcf.gz\n",
    "gunzip genotypes/Brain.rn7.vcf.gz\n",
    "awk '{if($0 !~ /^#/) print \"chr\"$0; else print $0}' genotypes/Brain.rn7.vcf > output.vcf\n",
    "bgzip output.vcf\n",
    "bcftools index -t output.vcf.gz\n",
    "bcftools view -i 'CHROM!=\"chrX\" && CHROM!=\"chrY\"' output.vcf.gz -o filtered.Brain.rn7.vcf.gz -Oz\n",
    "bcftools index -t filtered.Brain.rn7.vcf.gz\n",
    "\n",
    "```\n",
    "\n",
    "**Founder Rats**\n",
    "\n",
    "Most of the processing is documented [here](https://sabrina-dl.hakyimlab.org/posts/2023-09-12-processing-hs-founder-rat-genotypes/), I only needed to filter out X and Y chromosomes.\n",
    "\n",
    "```\n",
    "bcftools view -i 'CHROM!=\"chrX\" && CHROM!=\"chrY\"' Palmer_HS_founders_mRatBN7_biallelic_snps.vcf.gz -o Palmer_HS_founders_mRatBN7_filtered.vcf.gz -Oz\n",
    "bcftools index -t Palmer_HS_founders_mRatBN7_filtered.vcf.gz\n",
    "\n",
    "```\n",
    "\n",
    "## Run Python Code"
   ]
  },
  {
   "cell_type": "markdown",
   "metadata": {},
   "source": [
    "```\n",
    "conda activate genomics\n",
    "cd ~/Github/qtl2-founder-haps\n",
    "DATA_DIR=~/Desktop/Sabrina/2022-23/tutorials/enformer_pipeline_test/rn7_data\n",
    "python qtl2-founder-haps.py $DATA_DIR/filtered.Brain.rn7.vcf.gz $DATA_DIR/Palmer_HS_founders_mRatBN7_filtered.vcf.gz probs.rds --gmap-dir rn7_genetic_map\n",
    "\n",
    "```\n",
    "\n",
    "The `make_qtl_inputs` function in line 160 of `qtl2-founder-haps.py` writes input files for the R package qtl2, specifically the `calc_genoprob` function that computes haplotype probabilities for each individual at each loci. I was able to run through the `make_qtl_inputs` locally, but the process was killed during the R computations:\n",
    "\n",
    "```\n",
    "> library(qtl2); cross <- read_cross2(\"tmp-qtl2-founder-haps/control.yaml\"); pr <- calc_genoprob(cross, error_prob = 0.01, cores = 1); pr <- genoprob_to_alleleprob(pr); saveRDS(pr, \"probs.rds\")\n",
    "Error: vector memory exhausted (limit reached?)\n",
    "Execution halted\n",
    "\n",
    "```\n",
    "\n",
    "I copied over the input files in `~/Github/qtl2-founder-haps/tmp-qtl2-founder-haps` to polaris and started an interactive job: `qsub -I -A AIHPC4EDU -l select=1:ncpus=64 -l walltime=2:00:00 -l filesystems=home -q preemptable`\n",
    "\n",
    "```\n",
    "cd ~/Github/qtl2-founder-haps/tmp-qtl2-founder-haps\n",
    "module load conda\n",
    "conda activate genomics\n",
    "```\n",
    "Then in R:\n",
    "\n",
    "```\n",
    "library(qtl2)\n",
    "cross <- read_cross2(\"control.yaml\")\n",
    "pr <- calc_genoprob(cross, error_prob = 0.01, cores = 64)\n",
    "pr <- genoprob_to_alleleprob(pr)\n",
    "saveRDS(pr, \"~/Github/qtl2-founder-haps/probs.rds\")\n",
    "\n",
    "```\n",
    "\n",
    "**Debugging:** I am stuck at the step calling `calc_genoprob`; after 25 minutes of running, the process gets killed.\n",
    "\n",
    "![R on Polaris Compute Node with 64 CPUs](polaris_calc_genoprob_bug.png)\n",
    "\n",
    "\n"
   ]
  }
 ],
 "metadata": {
  "kernelspec": {
   "display_name": "base",
   "language": "python",
   "name": "base"
  },
  "language_info": {
   "codemirror_mode": {
    "name": "ipython",
    "version": 3
   },
   "file_extension": ".py",
   "mimetype": "text/x-python",
   "name": "python",
   "nbconvert_exporter": "python",
   "pygments_lexer": "ipython3",
   "version": "3.10.10"
  }
 },
 "nbformat": 4,
 "nbformat_minor": 2
}
