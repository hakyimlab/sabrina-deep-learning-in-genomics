{
 "cells": [
  {
   "cell_type": "markdown",
   "metadata": {},
   "source": [
    "---\n",
    "title: Calculating Br rat haplotype probabilities from HS founders\n",
    "date: 11/8/2023\n",
    "author: Sabrina\n",
    "---\n",
    "\n",
    "I am using Dan Munro's scripts to compute probabilities across the 8 founders per locus per individual. His code uses the R qtl2 package.\n",
    "\n",
    "Github: [https://github.com/daniel-munro/qtl2-founder-haps/tree/main](https://github.com/daniel-munro/qtl2-founder-haps/tree/main)\n",
    "\n",
    "The `genetic_map` subdirectory contains genetic mapping files from the older build rn6. I downloaded rn7 genetic markers from his preprint, [A revamped rat reference genome improves the discovery of genetic diversity in laboratory rats](https://www.biorxiv.org/content/10.1101/2023.04.13.536694v2.article-info), [Supplementary Table S2](https://www.biorxiv.org/content/biorxiv/early/2023/09/29/2023.04.13.536694/DC2/embed/media-2.xlsx?download=true).\n",
    "\n",
    "I first saved Table S2 as a CSV, then split it by chromosome."
   ]
  },
  {
   "cell_type": "code",
   "execution_count": 4,
   "metadata": {},
   "outputs": [],
   "source": [
    "import pandas as pd\n",
    "import gzip\n",
    "\n",
    "# Read the original CSV file\n",
    "df = pd.read_csv('/home/s1mi/rn7_genetic_map/MAP.csv')\n",
    "for name, group in df.groupby('CHR'):\n",
    "    map = group[['POS', 'CHR','cM']]\n",
    "    map.to_csv(f'/home/s1mi/rn7_genetic_map/MAP4chr{name}.txt.gz', sep=' ', index=False, header=False, compression='gzip')"
   ]
  },
  {
   "cell_type": "markdown",
   "metadata": {},
   "source": [
    "I am currently trying to install dependencies pysam and qtl2 package in R."
   ]
  }
 ],
 "metadata": {
  "kernelspec": {
   "display_name": "borzoi",
   "language": "python",
   "name": "borzoi"
  },
  "language_info": {
   "codemirror_mode": {
    "name": "ipython",
    "version": 3
   },
   "file_extension": ".py",
   "mimetype": "text/x-python",
   "name": "python",
   "nbconvert_exporter": "python",
   "pygments_lexer": "ipython3",
   "version": "3.9.18"
  }
 },
 "nbformat": 4,
 "nbformat_minor": 2
}
