{
 "cells": [
  {
   "cell_type": "markdown",
   "metadata": {},
   "source": [
    "---\n",
    "title: Comparing Uniform Haplotype Enformer gene expression prediction performance \n",
    "author: Sabrina Mi\n",
    "date: 1/24/2024\n",
    "---\n",
    "\n",
    "## Setup"
   ]
  },
  {
   "cell_type": "code",
   "execution_count": 5,
   "metadata": {},
   "outputs": [
    {
     "name": "stderr",
     "output_type": "stream",
     "text": [
      "2024-02-08 04:28:02.993273: I tensorflow/core/platform/cpu_feature_guard.cc:193] This TensorFlow binary is optimized with oneAPI Deep Neural Network Library (oneDNN) to use the following CPU instructions in performance-critical operations:  AVX2 FMA\n",
      "To enable them in other operations, rebuild TensorFlow with the appropriate compiler flags.\n",
      "2024-02-08 04:28:08.883423: W tensorflow/compiler/xla/stream_executor/platform/default/dso_loader.cc:64] Could not load dynamic library 'libnvinfer.so.7'; dlerror: libnvinfer.so.7: cannot open shared object file: No such file or directory; LD_LIBRARY_PATH: /soft/compilers/cudatoolkit/cuda-11.8.0/extras/CUPTI/lib64:/soft/compilers/cudatoolkit/cuda-11.8.0/lib64:/soft/libraries/trt/TensorRT-8.5.2.2.Linux.x86_64-gnu.cuda-11.8.cudnn8.6/lib:/soft/libraries/nccl/nccl_2.16.2-1+cuda11.8_x86_64/lib:/soft/libraries/cudnn/cudnn-11-linux-x64-v8.6.0.163/lib:/soft/compilers/cudatoolkit/cuda-11.8.0/extras/CUPTI/lib64:/soft/compilers/cudatoolkit/cuda-11.8.0/lib64:/soft/libraries/trt/TensorRT-8.5.2.2.Linux.x86_64-gnu.cuda-11.8.cudnn8.6/lib:/soft/libraries/nccl/nccl_2.16.2-1+cuda11.8_x86_64/lib:/soft/libraries/cudnn/cudnn-11-linux-x64-v8.6.0.163/lib:/opt/cray/libfabric/1.15.2.0/lib64:/opt/cray/pe/papi/7.0.0.1/lib64:/opt/nvidia/hpc_sdk/Linux_x86_64/22.11/comm_libs/nvshmem/lib:/opt/nvidia/hpc_sdk/Linux_x86_64/22.11/comm_libs/nccl/lib:/opt/nvidia/hpc_sdk/Linux_x86_64/22.11/math_libs/lib64:/opt/nvidia/hpc_sdk/Linux_x86_64/22.11/compilers/lib:/opt/nvidia/hpc_sdk/Linux_x86_64/22.11/compilers/extras/qd/lib:/opt/nvidia/hpc_sdk/Linux_x86_64/22.11/cuda/extras/CUPTI/lib64:/opt/nvidia/hpc_sdk/Linux_x86_64/22.11/cuda/lib64:/dbhome/db2cat/sqllib/lib64:/dbhome/db2cat/sqllib/lib64/gskit:/dbhome/db2cat/sqllib/lib32\n",
      "2024-02-08 04:28:08.884830: W tensorflow/compiler/xla/stream_executor/platform/default/dso_loader.cc:64] Could not load dynamic library 'libnvinfer_plugin.so.7'; dlerror: libnvinfer_plugin.so.7: cannot open shared object file: No such file or directory; LD_LIBRARY_PATH: /soft/compilers/cudatoolkit/cuda-11.8.0/extras/CUPTI/lib64:/soft/compilers/cudatoolkit/cuda-11.8.0/lib64:/soft/libraries/trt/TensorRT-8.5.2.2.Linux.x86_64-gnu.cuda-11.8.cudnn8.6/lib:/soft/libraries/nccl/nccl_2.16.2-1+cuda11.8_x86_64/lib:/soft/libraries/cudnn/cudnn-11-linux-x64-v8.6.0.163/lib:/soft/compilers/cudatoolkit/cuda-11.8.0/extras/CUPTI/lib64:/soft/compilers/cudatoolkit/cuda-11.8.0/lib64:/soft/libraries/trt/TensorRT-8.5.2.2.Linux.x86_64-gnu.cuda-11.8.cudnn8.6/lib:/soft/libraries/nccl/nccl_2.16.2-1+cuda11.8_x86_64/lib:/soft/libraries/cudnn/cudnn-11-linux-x64-v8.6.0.163/lib:/opt/cray/libfabric/1.15.2.0/lib64:/opt/cray/pe/papi/7.0.0.1/lib64:/opt/nvidia/hpc_sdk/Linux_x86_64/22.11/comm_libs/nvshmem/lib:/opt/nvidia/hpc_sdk/Linux_x86_64/22.11/comm_libs/nccl/lib:/opt/nvidia/hpc_sdk/Linux_x86_64/22.11/math_libs/lib64:/opt/nvidia/hpc_sdk/Linux_x86_64/22.11/compilers/lib:/opt/nvidia/hpc_sdk/Linux_x86_64/22.11/compilers/extras/qd/lib:/opt/nvidia/hpc_sdk/Linux_x86_64/22.11/cuda/extras/CUPTI/lib64:/opt/nvidia/hpc_sdk/Linux_x86_64/22.11/cuda/lib64:/dbhome/db2cat/sqllib/lib64:/dbhome/db2cat/sqllib/lib64/gskit:/dbhome/db2cat/sqllib/lib32\n",
      "2024-02-08 04:28:08.884850: W tensorflow/compiler/tf2tensorrt/utils/py_utils.cc:38] TF-TRT Warning: Cannot dlopen some TensorRT libraries. If you would like to use Nvidia GPU with TensorRT, please make sure the missing libraries mentioned above are installed properly.\n"
     ]
    }
   ],
   "source": [
    "import pandas as pd\n",
    "import numpy as np\n",
    "import tensorflow as tf\n",
    "import h5py\n",
    "import os\n",
    "import time\n",
    "columns = ['POS', 'ACI', 'BN', 'BUF', 'F344', 'M520', 'MR', 'WKY', 'WN']"
   ]
  },
  {
   "cell_type": "code",
   "execution_count": 6,
   "metadata": {},
   "outputs": [],
   "source": [
    "pred_expr = pd.read_csv(\"/home/s1mi/enformer_rat_data/output/Br_human_predicted_expression.csv\", index_col=0)\n",
    "individuals = list(pred_expr.index)\n",
    "gene_annot = pd.read_csv(\"/eagle/AIHPC4Edu/sabrina/Br_predictions/HS_founder_epigenomes/gene_mapping.txt\")\n",
    "genes_df = gene_annot[gene_annot['gene'].isin(pred_expr.columns)]"
   ]
  },
  {
   "cell_type": "code",
   "execution_count": 7,
   "metadata": {},
   "outputs": [],
   "source": [
    "probabilities_dir = \"/eagle/AIHPC4Edu/sabrina/Br_genotype_probabilities\"\n",
    "reference_dir = \"/eagle/AIHPC4Edu/sabrina/Br_predictions/HS_founder_epigenomes/human\"\n",
    "output_dir = \"/eagle/AIHPC4Edu/sabrina/Br_prediction_from_founders_v2\"\n",
    "run_dir = \"/home/s1mi/Github/deep-learning-in-genomics/posts/2024-01-10-epigenomexcan-vs-enformer-significant-genes\""
   ]
  },
  {
   "cell_type": "code",
   "execution_count": 100,
   "metadata": {},
   "outputs": [],
   "source": [
    "def run_sample_predictions(prob, reference_file, gene_annot):\n",
    "    predictions = []\n",
    "    for index, row in gene_annot.iterrows():\n",
    "        gene = row['gene']\n",
    "        tss = row['tss']\n",
    "        start = tss - 256\n",
    "        end = tss + 256\n",
    "        indices = (prob['POS'] >= start) & (prob['POS'] <= end)\n",
    "        # if there are no snps within 256 bp of the tss\n",
    "        if (sum(indices) == 0):\n",
    "            end_index = (prob['POS'] > tss).idxmax()\n",
    "            pr = prob.iloc[[end_index-1,end_index],:]\n",
    "        # otherwise average haplotype probabilities in region\n",
    "        else:\n",
    "            pr = prob[(prob['POS'] >= start) & (prob['POS'] <= end)]\n",
    "        pr = pr.drop(columns='POS').mean(axis=0).values\n",
    "        with h5py.File(reference_file, \"r\") as hf:\n",
    "            ref_matrix = hf[gene][:, 446:450, 4980]\n",
    "        output = pr @ ref_matrix\n",
    "        predictions.append(np.average(output))\n",
    "    return predictions"
   ]
  },
  {
   "cell_type": "markdown",
   "metadata": {},
   "source": [
    "### Compute Haplotype-Combination Gene Expression"
   ]
  },
  {
   "cell_type": "code",
   "execution_count": null,
   "metadata": {},
   "outputs": [],
   "source": [
    "# Split into batches by chromosome\n",
    "for chr, group in genes_df.groupby(\"chromosome\"):\n",
    "    print(f\"{chr}: {len(group)} genes\")\n",
    "    reference_file = os.path.join(reference_dir, f\"{chr}_genes.h5\")\n",
    "    probabilities_file = os.path.join(probabilities_dir, f\"{chr}_probabilities.h5\")\n",
    "    output_file = os.path.join(output_dir, f\"{chr}_selected_genes.csv\")\n",
    "    # If individual has gene expression data, remove from list\n",
    "    if os.path.exists(output_file):\n",
    "        haplo_expr = pd.read_csv(output_file, index_col=0)\n",
    "        completed_individuals = haplo_expr.dropna().index\n",
    "        individuals = pred_expr.index.difference(completed_individuals)\n",
    "    else:\n",
    "        haplo_expr = pd.DataFrame(columns=group['gene'], index=pred_expr.index)\n",
    "        individuals = haplo_expr.index\n",
    "    with h5py.File(os.path.join(probabilities_dir, f\"{chr}_probabilities.h5\"), \"r\") as input:\n",
    "        tic = time.perf_counter()\n",
    "        for index, individual in enumerate(individuals):\n",
    "            prob = pd.DataFrame(input[individual][:], columns=columns)\n",
    "            predictions = run_sample_predictions(prob, reference_file, group)\n",
    "            haplo_expr.loc[individual] = predictions\n",
    "            if ((index + 1) % 20 == 0):\n",
    "                toc = time.perf_counter()\n",
    "                print(f\"Batch {(index + 1)//20}: {(toc - tic)/60} minutes\")\n",
    "                haplo_expr.to_csv(output_file)\n",
    "    haplo_expr.to_csv(output_file)\n"
   ]
  },
  {
   "cell_type": "markdown",
   "metadata": {},
   "source": [
    "## Analysis\n",
    "\n",
    "**Import Libraries**"
   ]
  },
  {
   "cell_type": "code",
   "execution_count": 102,
   "metadata": {},
   "outputs": [],
   "source": [
    "import pandas as pd\n",
    "import numpy as np\n",
    "import os\n",
    "from scipy import stats\n",
    "import matplotlib.pyplot as plt\n",
    "import statsmodels.api as sm\n",
    "import seaborn as sns\n",
    "colors = sns.color_palette(\"pastel\")"
   ]
  },
  {
   "cell_type": "markdown",
   "metadata": {},
   "source": [
    "**Reformat Data**"
   ]
  },
  {
   "cell_type": "code",
   "execution_count": 103,
   "metadata": {},
   "outputs": [
    {
     "name": "stderr",
     "output_type": "stream",
     "text": [
      "/tmp/ipykernel_144042/3001682009.py:2: DtypeWarning: Columns (0) have mixed types. Specify dtype option on import or set low_memory=False.\n",
      "  tpm = pd.read_csv(\"/home/s1mi/enformer_rat_data/expression_data/Brain.rn7.expr.tpm.bed\", sep=\"\\t\", header=0, index_col='gene_id')\n"
     ]
    }
   ],
   "source": [
    "# read observed, Enformer predicted expression and cross-population correlation by gene\n",
    "tpm = pd.read_csv(\"/home/s1mi/enformer_rat_data/expression_data/Brain.rn7.expr.tpm.bed\", sep=\"\\t\", header=0, index_col='gene_id')\n",
    "pred_expr = pd.read_csv(\"/home/s1mi/enformer_rat_data/output/Br_human_predicted_expression.csv\", index_col=0)\n",
    "cors = pd.read_csv(\"/home/s1mi/enformer_rat_data/output/Br_personalized_pearson_corr_human.csv\", index_col = 0)"
   ]
  },
  {
   "cell_type": "code",
   "execution_count": 108,
   "metadata": {},
   "outputs": [],
   "source": [
    "output_dir = \"/eagle/AIHPC4Edu/sabrina/Br_prediction_from_founders_v2\"\n",
    "outputs = []\n",
    "for file in os.listdir(output_dir):\n",
    "    df = pd.read_csv(os.path.join(output_dir, file), index_col=0)\n",
    "    outputs.append(df)\n",
    "haplo_expr = pd.concat(outputs, axis=1)"
   ]
  },
  {
   "cell_type": "code",
   "execution_count": 109,
   "metadata": {},
   "outputs": [],
   "source": [
    "# subset to genes with fast enformer predictions\n",
    "gene_list = haplo_expr.columns.intersection(cors.index)\n",
    "cors = cors.loc[gene_list]\n",
    "obs_expr = tpm.loc[gene_list].drop(columns=[\"#chr\", \"start\", \"end\"]).transpose()\n",
    "pred_expr = pred_expr[gene_list]\n",
    "haplo_expr = haplo_expr[gene_list]"
   ]
  },
  {
   "cell_type": "markdown",
   "metadata": {},
   "source": [
    "## Evaluating Mean Haplotype Probability Enformer against Enformer"
   ]
  },
  {
   "cell_type": "code",
   "execution_count": 110,
   "metadata": {},
   "outputs": [
    {
     "data": {
      "image/png": "[encoded data removed]",
      "text/plain": [
       "<Figure size 640x480 with 1 Axes>"
      ]
     },
     "metadata": {},
     "output_type": "display_data"
    }
   ],
   "source": [
    "output_cors = pd.DataFrame(columns = [\"r\", \"pval\"], index = gene_list)\n",
    "for gene in gene_list:\n",
    "    individuals = haplo_expr[gene].dropna().index\n",
    "    corr, pval = stats.pearsonr(pred_expr.loc[individuals, gene].values, haplo_expr.loc[individuals, gene].values)\n",
    "    output_cors.loc[gene] = [corr, pval]\n",
    "# Plot a pearson_corr_by_gene[\"human\"]\n",
    "plt.hist(output_cors[\"r\"], bins=25, edgecolor='black', color=colors[0])  # 'bins' determines the number of bins or bars\n",
    "plt.title(f'Correlation between Fast Enformer and Enformer on {len(gene_list)} genes')\n",
    "plt.xlabel('Pearson Correlations')\n",
    "plt.ylabel('Frequency')\n",
    "mean = np.mean(output_cors[\"r\"])\n",
    "plt.axvline(mean, color='black', linestyle='dashed', linewidth=2, label=f'Mean: {mean:.3f}')\n",
    "plt.legend()\n",
    "\n",
    "# Display the plot\n",
    "plt.show()"
   ]
  }
 ],
 "metadata": {
  "kernelspec": {
   "display_name": "Python 3",
   "language": "python",
   "name": "python3"
  },
  "language_info": {
   "codemirror_mode": {
    "name": "ipython",
    "version": 3
   },
   "file_extension": ".py",
   "mimetype": "text/x-python",
   "name": "python",
   "nbconvert_exporter": "python",
   "pygments_lexer": "ipython3",
   "version": "3.10.11"
  }
 },
 "nbformat": 4,
 "nbformat_minor": 2
}
