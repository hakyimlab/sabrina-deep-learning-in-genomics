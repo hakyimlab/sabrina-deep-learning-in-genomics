{
 "cells": [
  {
   "cell_type": "markdown",
   "metadata": {},
   "source": [
    "---\n",
    "title: Comparing Uniform Haplotype Enformer gene expression prediction performance \n",
    "author: Sabrina Mi\n",
    "date: 1/24/2024\n",
    "---\n",
    "\n",
    "## Setup"
   ]
  },
  {
   "cell_type": "code",
   "execution_count": 10,
   "metadata": {},
   "outputs": [],
   "source": [
    "import pandas as pd\n",
    "import numpy as np\n",
    "import tensorflow as tf\n",
    "import h5py\n",
    "import os\n",
    "import time\n",
    "columns = ['POS', 'ACI', 'BN', 'BUF', 'F344', 'M520', 'MR', 'WKY', 'WN']"
   ]
  },
  {
   "cell_type": "code",
   "execution_count": 11,
   "metadata": {},
   "outputs": [],
   "source": [
    "pred_expr = pd.read_csv(\"/home/s1mi/enformer_rat_data/output/Br_human_predicted_expression.csv\", index_col=0)\n",
    "individuals = list(pred_expr.index)\n",
    "gene_annot = pd.read_csv(\"/eagle/AIHPC4Edu/sabrina/Br_predictions/HS_founder_epigenomes/gene_mapping.txt\")\n",
    "genes_df = gene_annot[gene_annot['gene'].isin(pred_expr.columns)]"
   ]
  },
  {
   "cell_type": "code",
   "execution_count": 1,
   "metadata": {},
   "outputs": [],
   "source": [
    "probabilities_dir = \"/home/s1mi/Br_genotype_probabilities\"\n",
    "reference_dir = \"/eagle/AIHPC4Edu/sabrina/Br_predictions/HS_founder_epigenomes/human\"\n",
    "output_dir = \"/eagle/AIHPC4Edu/sabrina/Br_prediction_from_founders_v2\"\n",
    "run_dir = \"/home/s1mi/Github/deep-learning-in-genomics/posts/2024-01-10-epigenomexcan-vs-enformer-significant-genes\""
   ]
  },
  {
   "cell_type": "code",
   "execution_count": 21,
   "metadata": {},
   "outputs": [],
   "source": [
    "def compute_epigenome(ref_matrix, start, end, prob):\n",
    "    pr = prob.drop(columns=['POS']).mean(axis=0)\n",
    "    pr_tensor = tf.cast(pr, dtype=tf.float16)\n",
    "    ref_tensor = tf.cast(ref_matrix, dtype=tf.float16)\n",
    "    output = tf.tensordot(pr_tensor, ref_tensor, axes=1)\n",
    "    return output\n",
    "def run_sample_predictions(prob, reference_file, gene_annot):\n",
    "    predictions = []\n",
    "    for index, row in gene_annot.iterrows():\n",
    "        gene = row['gene']\n",
    "        tss = row['tss']\n",
    "        start = tss - 57344\n",
    "        end = tss + 57344\n",
    "        with h5py.File(reference_file, \"r\") as hf:\n",
    "            ref_matrix = hf[gene][:]\n",
    "        output = compute_epigenome(ref_matrix, start, end, prob)\n",
    "        predictions.append(np.average(output[446:450, 4980]))\n",
    "    return predictions"
   ]
  },
  {
   "cell_type": "markdown",
   "metadata": {},
   "source": [
    "### Compute Haplotype-Combination Gene Expression"
   ]
  },
  {
   "cell_type": "code",
   "execution_count": 22,
   "metadata": {},
   "outputs": [],
   "source": [
    "for chr, group in genes_df.groupby(\"chromosome\"):\n",
    "    start_time = time.perf_counter()\n",
    "    reference_file = os.path.join(reference_dir, f\"{chr}_genes.h5\")\n",
    "    probabilities_file = os.path.join(probabilities_dir, f\"{chr}_probabilities.h5\")\n",
    "    output_file = os.path.join(output_dir, f\"{chr}_selected_genes.csv\")\n",
    "    if os.path.exists(output_file):\n",
    "        haplo_expr = pd.read_csv(output_file, index_col=0)\n",
    "        completed_individuals = haplo_expr.dropna().index\n",
    "        individuals = pred_expr.index.difference(completed_individuals)\n",
    "    else:\n",
    "        haplo_expr = pd.DataFrame(columns=group['gene'], index=pred_expr.index)\n",
    "        individuals = haplo_expr.index\n",
    "    with h5py.File(os.path.join(probabilities_dir, f\"{chr}_probabilities.h5\"), \"r\") as input:\n",
    "        for individual in individuals:\n",
    "            prob = pd.DataFrame(input[individual][:], columns=columns)\n",
    "            predictions = run_sample_predictions(prob, reference_file, group)\n",
    "            haplo_expr.loc[individual] = predictions\n",
    "    end_time = time.perf_counter()\n",
    "    print(len(group), (start_time - end_time) / 60, \"minutes\")\n",
    "    \n",
    "#    \n",
    "    haplo_expr.to_csv(output_file)"
   ]
  },
  {
   "cell_type": "code",
   "execution_count": null,
   "metadata": {},
   "outputs": [],
   "source": []
  }
 ],
 "metadata": {
  "kernelspec": {
   "display_name": "base",
   "language": "python",
   "name": "base"
  },
  "language_info": {
   "codemirror_mode": {
    "name": "ipython",
    "version": 3
   },
   "file_extension": ".py",
   "mimetype": "text/x-python",
   "name": "python",
   "nbconvert_exporter": "python",
   "pygments_lexer": "ipython3",
   "version": "3.8.13"
  }
 },
 "nbformat": 4,
 "nbformat_minor": 2
}
